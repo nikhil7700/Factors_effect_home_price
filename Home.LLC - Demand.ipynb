{
 "cells": [
  {
   "cell_type": "markdown",
   "id": "deb094bc",
   "metadata": {},
   "source": [
    "# Factors influence residential home prices across the USA - Demand"
   ]
  },
  {
   "cell_type": "markdown",
   "id": "16cdab79",
   "metadata": {},
   "source": [
    "* importing the basic libraries required in this notebook"
   ]
  },
  {
   "cell_type": "code",
   "execution_count": 49,
   "id": "c10bd00c",
   "metadata": {},
   "outputs": [],
   "source": [
    "import pandas as pd\n",
    "import numpy as np\n",
    "import seaborn as sns\n",
    "import matplotlib.pyplot as plt\n",
    "from scipy import stats\n",
    "from scipy.stats import zscore\n",
    "import missingno as msno\n",
    "import plotly.express as px\n",
    "from sklearn.preprocessing import MinMaxScaler\n",
    "from sklearn.linear_model import LinearRegression\n",
    "from sklearn.model_selection import train_test_split\n",
    "from sklearn.metrics import mean_squared_error, r2_score \n",
    "import statsmodels.api as sm\n",
    "from statsmodels.stats.outliers_influence import variance_inflation_factor"
   ]
  },
  {
   "cell_type": "markdown",
   "id": "3fa6f27f",
   "metadata": {},
   "source": [
    "# Section 1 - View of data"
   ]
  },
  {
   "cell_type": "code",
   "execution_count": 50,
   "id": "3ff3731e",
   "metadata": {},
   "outputs": [],
   "source": [
    "# Import the data\n",
    "df = pd.read_excel(\"Demands_1.xlsx\")"
   ]
  },
  {
   "cell_type": "code",
   "execution_count": 51,
   "id": "aca5d2f5",
   "metadata": {},
   "outputs": [
    {
     "data": {
      "text/html": [
       "<div>\n",
       "<style scoped>\n",
       "    .dataframe tbody tr th:only-of-type {\n",
       "        vertical-align: middle;\n",
       "    }\n",
       "\n",
       "    .dataframe tbody tr th {\n",
       "        vertical-align: top;\n",
       "    }\n",
       "\n",
       "    .dataframe thead th {\n",
       "        text-align: right;\n",
       "    }\n",
       "</style>\n",
       "<table border=\"1\" class=\"dataframe\">\n",
       "  <thead>\n",
       "    <tr style=\"text-align: right;\">\n",
       "      <th></th>\n",
       "      <th>Date</th>\n",
       "      <th>Unemployment_rate</th>\n",
       "      <th>GDP</th>\n",
       "      <th>CPI</th>\n",
       "      <th>Median_household_income</th>\n",
       "      <th>Mortgage_rate</th>\n",
       "      <th>Consumer_sentiment</th>\n",
       "      <th>Intrest_rates</th>\n",
       "      <th>Homeownership_rate</th>\n",
       "      <th>Housing_price</th>\n",
       "    </tr>\n",
       "  </thead>\n",
       "  <tbody>\n",
       "    <tr>\n",
       "      <th>0</th>\n",
       "      <td>2003-04-01</td>\n",
       "      <td>6.0</td>\n",
       "      <td>13741.107</td>\n",
       "      <td>2.459349</td>\n",
       "      <td></td>\n",
       "      <td>5.8125</td>\n",
       "      <td>86.0</td>\n",
       "      <td>1.26</td>\n",
       "      <td>68.2</td>\n",
       "      <td>130.884</td>\n",
       "    </tr>\n",
       "    <tr>\n",
       "      <th>1</th>\n",
       "      <td>2003-05-01</td>\n",
       "      <td>6.1</td>\n",
       "      <td></td>\n",
       "      <td>2.348341</td>\n",
       "      <td></td>\n",
       "      <td>5.4840</td>\n",
       "      <td>92.1</td>\n",
       "      <td>1.26</td>\n",
       "      <td></td>\n",
       "      <td>131.735</td>\n",
       "    </tr>\n",
       "    <tr>\n",
       "      <th>2</th>\n",
       "      <td>2003-06-01</td>\n",
       "      <td>6.3</td>\n",
       "      <td></td>\n",
       "      <td>2.271550</td>\n",
       "      <td></td>\n",
       "      <td>5.2300</td>\n",
       "      <td>89.7</td>\n",
       "      <td>1.22</td>\n",
       "      <td></td>\n",
       "      <td>132.649</td>\n",
       "    </tr>\n",
       "    <tr>\n",
       "      <th>...</th>\n",
       "      <td>...</td>\n",
       "      <td>...</td>\n",
       "      <td>...</td>\n",
       "      <td>...</td>\n",
       "      <td>...</td>\n",
       "      <td>...</td>\n",
       "      <td>...</td>\n",
       "      <td>...</td>\n",
       "      <td>...</td>\n",
       "      <td>...</td>\n",
       "    </tr>\n",
       "    <tr>\n",
       "      <th>247</th>\n",
       "      <td>2023-01-01</td>\n",
       "      <td>3.4</td>\n",
       "      <td>20246.439</td>\n",
       "      <td>6.554492</td>\n",
       "      <td></td>\n",
       "      <td>6.2725</td>\n",
       "      <td>64.9</td>\n",
       "      <td>4.33</td>\n",
       "      <td>66</td>\n",
       "      <td>296.064</td>\n",
       "    </tr>\n",
       "    <tr>\n",
       "      <th>248</th>\n",
       "      <td>2023-02-01</td>\n",
       "      <td>3.6</td>\n",
       "      <td></td>\n",
       "      <td>6.593750</td>\n",
       "      <td></td>\n",
       "      <td>6.2575</td>\n",
       "      <td>67.0</td>\n",
       "      <td>4.57</td>\n",
       "      <td></td>\n",
       "      <td>296.926</td>\n",
       "    </tr>\n",
       "    <tr>\n",
       "      <th>249</th>\n",
       "      <td>2023-03-01</td>\n",
       "      <td>3.5</td>\n",
       "      <td></td>\n",
       "      <td>6.451708</td>\n",
       "      <td>NaN</td>\n",
       "      <td>6.5440</td>\n",
       "      <td>62.0</td>\n",
       "      <td>4.65</td>\n",
       "      <td></td>\n",
       "      <td>298.166</td>\n",
       "    </tr>\n",
       "  </tbody>\n",
       "</table>\n",
       "<p>250 rows × 10 columns</p>\n",
       "</div>"
      ],
      "text/plain": [
       "          Date  Unemployment_rate        GDP       CPI  \\\n",
       "0   2003-04-01                6.0  13741.107  2.459349   \n",
       "1   2003-05-01                6.1             2.348341   \n",
       "2   2003-06-01                6.3             2.271550   \n",
       "..         ...                ...        ...       ...   \n",
       "247 2023-01-01                3.4  20246.439  6.554492   \n",
       "248 2023-02-01                3.6             6.593750   \n",
       "249 2023-03-01                3.5             6.451708   \n",
       "\n",
       "    Median_household_income  Mortgage_rate  Consumer_sentiment  Intrest_rates  \\\n",
       "0                                   5.8125                86.0           1.26   \n",
       "1                                   5.4840                92.1           1.26   \n",
       "2                                   5.2300                89.7           1.22   \n",
       "..                      ...            ...                 ...            ...   \n",
       "247                                 6.2725                64.9           4.33   \n",
       "248                                 6.2575                67.0           4.57   \n",
       "249                     NaN         6.5440                62.0           4.65   \n",
       "\n",
       "    Homeownership_rate   Housing_price  \n",
       "0                  68.2        130.884  \n",
       "1                              131.735  \n",
       "2                              132.649  \n",
       "..                  ...            ...  \n",
       "247                  66        296.064  \n",
       "248                            296.926  \n",
       "249                            298.166  \n",
       "\n",
       "[250 rows x 10 columns]"
      ]
     },
     "execution_count": 51,
     "metadata": {},
     "output_type": "execute_result"
    }
   ],
   "source": [
    "df"
   ]
  },
  {
   "cell_type": "markdown",
   "id": "3523316d",
   "metadata": {},
   "source": [
    "#  Lets, understand each column in the dataset"
   ]
  },
  {
   "cell_type": "markdown",
   "id": "051f551e",
   "metadata": {},
   "source": [
    "*unemployed individuals in the economy during a specific time period. It is a key economic indicator that can influence           household income and consumer behavior. (Unit: Percentage)\n",
    "\n",
    "*GDP: Gross Domestic Product (GDP) is a measure of the total value of goods and services produced within a country's borders       during a specific time period. It is a fundamental indicator of economic activity and is used to assess the overall health and    growth of an economy. (Unit: Monetary value - millions of dollors )\n",
    "\n",
    "*CPI: Consumer Price Index (CPI) is a measure of the average price change of a basket of goods and services over time. It is       used to track inflation and assess changes in the cost of living. (Unit: Percentage)\n",
    "\n",
    "*Median_household_income: This column represents the median income of households, which indicates the midpoint of the income       distribution. It is a measure of the typical or average household income and can provide insights into the economic well-being   of households. (Unit: Currency - Thousands of dollors)\n",
    "\n",
    "*Mortgage_rate: This column refers to the interest rate charged on mortgage loans. It is a crucial factor in determining the      affordability and accessibility of housing, as it affects the cost of borrowing for homeowners. (Unit: Percentage)\n",
    "\n",
    "*Consumer_sentiment: Consumer sentiment measures the overall confidence and optimism of consumers regarding the state of the economy. It is often assessed through surveys or indices and can influence consumer spending patterns. (Unit: Index)\n",
    "\n",
    "*Intrest_rates: This column likely represents general interest rates, which can impact various aspects of the economy, including borrowing costs, investment decisions, and consumer behavior. (Unit: Percentage)\n",
    "\n",
    "*Homeownership_rate: This column represents the percentage of households that own their homes without a mortgage. It reflects the level of homeownership in the population and can provide insights into housing demand and stability. (Unit: Percentage)\n",
    "\n",
    "*Housing_price: This column likely refers to the median or average housing prices. It provides information on the cost of housing and can indicate trends in the real estate market. (Unit: Index value)\n",
    "\n"
   ]
  },
  {
   "cell_type": "code",
   "execution_count": 52,
   "id": "22f48b4c",
   "metadata": {},
   "outputs": [
    {
     "data": {
      "text/plain": [
       "(250, 10)"
      ]
     },
     "execution_count": 52,
     "metadata": {},
     "output_type": "execute_result"
    }
   ],
   "source": [
    "# Check the data shape \n",
    "df.shape"
   ]
  },
  {
   "cell_type": "code",
   "execution_count": 53,
   "id": "1854ee8b",
   "metadata": {
    "scrolled": true
   },
   "outputs": [],
   "source": [
    "DF = df.drop(range(10)).reset_index(drop=True)"
   ]
  },
  {
   "cell_type": "code",
   "execution_count": 54,
   "id": "f834c5a8",
   "metadata": {},
   "outputs": [
    {
     "data": {
      "text/plain": [
       "(240, 10)"
      ]
     },
     "execution_count": 54,
     "metadata": {},
     "output_type": "execute_result"
    }
   ],
   "source": [
    "DF.shape"
   ]
  },
  {
   "cell_type": "markdown",
   "id": "2a96130b",
   "metadata": {},
   "source": [
    "* Perfect, Now we have 240 rows and 10 columns\n",
    "*  240 rows and 10 columns - small data set"
   ]
  },
  {
   "cell_type": "code",
   "execution_count": 55,
   "id": "60545d2d",
   "metadata": {},
   "outputs": [
    {
     "name": "stdout",
     "output_type": "stream",
     "text": [
      "<class 'pandas.core.frame.DataFrame'>\n",
      "RangeIndex: 240 entries, 0 to 239\n",
      "Data columns (total 10 columns):\n",
      " #   Column                   Non-Null Count  Dtype         \n",
      "---  ------                   --------------  -----         \n",
      " 0   Date                     240 non-null    datetime64[ns]\n",
      " 1   Unemployment_rate        240 non-null    float64       \n",
      " 2   GDP                      240 non-null    object        \n",
      " 3   CPI                      240 non-null    float64       \n",
      " 4   Median_household_income  239 non-null    object        \n",
      " 5   Mortgage_rate            240 non-null    float64       \n",
      " 6   Consumer_sentiment       240 non-null    float64       \n",
      " 7   Intrest_rates            240 non-null    float64       \n",
      " 8   Homeownership_rate       240 non-null    object        \n",
      " 9   Housing_price            239 non-null    float64       \n",
      "dtypes: datetime64[ns](1), float64(6), object(3)\n",
      "memory usage: 18.9+ KB\n"
     ]
    }
   ],
   "source": [
    "## Check the datatypes \n",
    "DF.info()"
   ]
  },
  {
   "cell_type": "code",
   "execution_count": 56,
   "id": "dd2d9dfa",
   "metadata": {},
   "outputs": [
    {
     "data": {
      "text/plain": [
       "<AxesSubplot: >"
      ]
     },
     "execution_count": 56,
     "metadata": {},
     "output_type": "execute_result"
    },
    {
     "data": {
      "image/png": "[encoded data removed]",
      "text/plain": [
       "<Figure size 2500x1000 with 2 Axes>"
      ]
     },
     "metadata": {},
     "output_type": "display_data"
    }
   ],
   "source": [
    "msno.matrix(DF)"
   ]
  },
  {
   "cell_type": "markdown",
   "id": "a29f71b6",
   "metadata": {},
   "source": [
    "* We cant find null values, But there were null values in excel sheet"
   ]
  },
  {
   "cell_type": "code",
   "execution_count": 57,
   "id": "c7eb990e",
   "metadata": {},
   "outputs": [],
   "source": [
    "# Replace empty strings with NaN\n",
    "df1 = DF.replace(' ', np.nan)"
   ]
  },
  {
   "cell_type": "code",
   "execution_count": 58,
   "id": "41c73374",
   "metadata": {},
   "outputs": [
    {
     "name": "stdout",
     "output_type": "stream",
     "text": [
      "<class 'pandas.core.frame.DataFrame'>\n",
      "RangeIndex: 240 entries, 0 to 239\n",
      "Data columns (total 10 columns):\n",
      " #   Column                   Non-Null Count  Dtype         \n",
      "---  ------                   --------------  -----         \n",
      " 0   Date                     240 non-null    datetime64[ns]\n",
      " 1   Unemployment_rate        240 non-null    float64       \n",
      " 2   GDP                      79 non-null     float64       \n",
      " 3   CPI                      240 non-null    float64       \n",
      " 4   Median_household_income  17 non-null     float64       \n",
      " 5   Mortgage_rate            240 non-null    float64       \n",
      " 6   Consumer_sentiment       240 non-null    float64       \n",
      " 7   Intrest_rates            240 non-null    float64       \n",
      " 8   Homeownership_rate       79 non-null     float64       \n",
      " 9   Housing_price            239 non-null    float64       \n",
      "dtypes: datetime64[ns](1), float64(9)\n",
      "memory usage: 18.9 KB\n"
     ]
    }
   ],
   "source": [
    "df1.info()"
   ]
  },
  {
   "cell_type": "code",
   "execution_count": 59,
   "id": "42c80932",
   "metadata": {},
   "outputs": [
    {
     "data": {
      "text/plain": [
       "<AxesSubplot: >"
      ]
     },
     "execution_count": 59,
     "metadata": {},
     "output_type": "execute_result"
    },
    {
     "data": {
      "image/png": "[encoded data removed]",
      "text/plain": [
       "<Figure size 2500x1000 with 2 Axes>"
      ]
     },
     "metadata": {},
     "output_type": "display_data"
    }
   ],
   "source": [
    "msno.matrix(df1)"
   ]
  },
  {
   "cell_type": "code",
   "execution_count": 60,
   "id": "c5253949",
   "metadata": {},
   "outputs": [
    {
     "data": {
      "text/html": [
       "<div>\n",
       "<style scoped>\n",
       "    .dataframe tbody tr th:only-of-type {\n",
       "        vertical-align: middle;\n",
       "    }\n",
       "\n",
       "    .dataframe tbody tr th {\n",
       "        vertical-align: top;\n",
       "    }\n",
       "\n",
       "    .dataframe thead th {\n",
       "        text-align: right;\n",
       "    }\n",
       "</style>\n",
       "<table border=\"1\" class=\"dataframe\">\n",
       "  <thead>\n",
       "    <tr style=\"text-align: right;\">\n",
       "      <th></th>\n",
       "      <th>Date</th>\n",
       "      <th>Unemployment_rate</th>\n",
       "      <th>GDP</th>\n",
       "      <th>CPI</th>\n",
       "      <th>Median_household_income</th>\n",
       "      <th>Mortgage_rate</th>\n",
       "      <th>Consumer_sentiment</th>\n",
       "      <th>Intrest_rates</th>\n",
       "      <th>Homeownership_rate</th>\n",
       "      <th>Housing_price</th>\n",
       "    </tr>\n",
       "  </thead>\n",
       "  <tbody>\n",
       "    <tr>\n",
       "      <th>0</th>\n",
       "      <td>2004-02-01</td>\n",
       "      <td>5.6</td>\n",
       "      <td>NaN</td>\n",
       "      <td>2.048137</td>\n",
       "      <td>NaN</td>\n",
       "      <td>5.6350</td>\n",
       "      <td>94.4</td>\n",
       "      <td>1.01</td>\n",
       "      <td>NaN</td>\n",
       "      <td>143.192</td>\n",
       "    </tr>\n",
       "    <tr>\n",
       "      <th>1</th>\n",
       "      <td>2004-03-01</td>\n",
       "      <td>5.8</td>\n",
       "      <td>NaN</td>\n",
       "      <td>2.137061</td>\n",
       "      <td>NaN</td>\n",
       "      <td>5.4450</td>\n",
       "      <td>95.8</td>\n",
       "      <td>1.00</td>\n",
       "      <td>NaN</td>\n",
       "      <td>145.058</td>\n",
       "    </tr>\n",
       "    <tr>\n",
       "      <th>2</th>\n",
       "      <td>2004-04-01</td>\n",
       "      <td>5.6</td>\n",
       "      <td>14323.017</td>\n",
       "      <td>2.257761</td>\n",
       "      <td>NaN</td>\n",
       "      <td>5.8300</td>\n",
       "      <td>94.2</td>\n",
       "      <td>1.00</td>\n",
       "      <td>69.4</td>\n",
       "      <td>146.592</td>\n",
       "    </tr>\n",
       "    <tr>\n",
       "      <th>...</th>\n",
       "      <td>...</td>\n",
       "      <td>...</td>\n",
       "      <td>...</td>\n",
       "      <td>...</td>\n",
       "      <td>...</td>\n",
       "      <td>...</td>\n",
       "      <td>...</td>\n",
       "      <td>...</td>\n",
       "      <td>...</td>\n",
       "      <td>...</td>\n",
       "    </tr>\n",
       "    <tr>\n",
       "      <th>237</th>\n",
       "      <td>2023-01-01</td>\n",
       "      <td>3.4</td>\n",
       "      <td>20246.439</td>\n",
       "      <td>6.554492</td>\n",
       "      <td>NaN</td>\n",
       "      <td>6.2725</td>\n",
       "      <td>64.9</td>\n",
       "      <td>4.33</td>\n",
       "      <td>66.0</td>\n",
       "      <td>296.064</td>\n",
       "    </tr>\n",
       "    <tr>\n",
       "      <th>238</th>\n",
       "      <td>2023-02-01</td>\n",
       "      <td>3.6</td>\n",
       "      <td>NaN</td>\n",
       "      <td>6.593750</td>\n",
       "      <td>NaN</td>\n",
       "      <td>6.2575</td>\n",
       "      <td>67.0</td>\n",
       "      <td>4.57</td>\n",
       "      <td>NaN</td>\n",
       "      <td>296.926</td>\n",
       "    </tr>\n",
       "    <tr>\n",
       "      <th>239</th>\n",
       "      <td>2023-03-01</td>\n",
       "      <td>3.5</td>\n",
       "      <td>NaN</td>\n",
       "      <td>6.451708</td>\n",
       "      <td>NaN</td>\n",
       "      <td>6.5440</td>\n",
       "      <td>62.0</td>\n",
       "      <td>4.65</td>\n",
       "      <td>NaN</td>\n",
       "      <td>298.166</td>\n",
       "    </tr>\n",
       "  </tbody>\n",
       "</table>\n",
       "<p>240 rows × 10 columns</p>\n",
       "</div>"
      ],
      "text/plain": [
       "          Date  Unemployment_rate        GDP       CPI  \\\n",
       "0   2004-02-01                5.6        NaN  2.048137   \n",
       "1   2004-03-01                5.8        NaN  2.137061   \n",
       "2   2004-04-01                5.6  14323.017  2.257761   \n",
       "..         ...                ...        ...       ...   \n",
       "237 2023-01-01                3.4  20246.439  6.554492   \n",
       "238 2023-02-01                3.6        NaN  6.593750   \n",
       "239 2023-03-01                3.5        NaN  6.451708   \n",
       "\n",
       "     Median_household_income  Mortgage_rate  Consumer_sentiment  \\\n",
       "0                        NaN         5.6350                94.4   \n",
       "1                        NaN         5.4450                95.8   \n",
       "2                        NaN         5.8300                94.2   \n",
       "..                       ...            ...                 ...   \n",
       "237                      NaN         6.2725                64.9   \n",
       "238                      NaN         6.2575                67.0   \n",
       "239                      NaN         6.5440                62.0   \n",
       "\n",
       "     Intrest_rates  Homeownership_rate   Housing_price  \n",
       "0             1.01                  NaN        143.192  \n",
       "1             1.00                  NaN        145.058  \n",
       "2             1.00                 69.4        146.592  \n",
       "..             ...                  ...            ...  \n",
       "237           4.33                 66.0        296.064  \n",
       "238           4.57                  NaN        296.926  \n",
       "239           4.65                  NaN        298.166  \n",
       "\n",
       "[240 rows x 10 columns]"
      ]
     },
     "execution_count": 60,
     "metadata": {},
     "output_type": "execute_result"
    }
   ],
   "source": [
    "df.drop(range(11))\n",
    "df1.reset_index(drop=True)"
   ]
  },
  {
   "cell_type": "markdown",
   "id": "7174ed12",
   "metadata": {},
   "source": [
    "* Now, we can see lot of null values\n",
    "* GDP and Homeownership_rate has quaterly data\n",
    "* Median_household_income is yearly data "
   ]
  },
  {
   "cell_type": "markdown",
   "id": "3e58a984",
   "metadata": {},
   "source": [
    "# Section 2 - stat description"
   ]
  },
  {
   "cell_type": "code",
   "execution_count": 61,
   "id": "cd4f458a",
   "metadata": {},
   "outputs": [
    {
     "data": {
      "text/html": [
       "<div>\n",
       "<style scoped>\n",
       "    .dataframe tbody tr th:only-of-type {\n",
       "        vertical-align: middle;\n",
       "    }\n",
       "\n",
       "    .dataframe tbody tr th {\n",
       "        vertical-align: top;\n",
       "    }\n",
       "\n",
       "    .dataframe thead th {\n",
       "        text-align: right;\n",
       "    }\n",
       "</style>\n",
       "<table border=\"1\" class=\"dataframe\">\n",
       "  <thead>\n",
       "    <tr style=\"text-align: right;\">\n",
       "      <th></th>\n",
       "      <th>Unemployment_rate</th>\n",
       "      <th>GDP</th>\n",
       "      <th>CPI</th>\n",
       "      <th>Median_household_income</th>\n",
       "      <th>Mortgage_rate</th>\n",
       "      <th>Consumer_sentiment</th>\n",
       "      <th>Intrest_rates</th>\n",
       "      <th>Homeownership_rate</th>\n",
       "      <th>Housing_price</th>\n",
       "    </tr>\n",
       "  </thead>\n",
       "  <tbody>\n",
       "    <tr>\n",
       "      <th>count</th>\n",
       "      <td>240.000000</td>\n",
       "      <td>79.000000</td>\n",
       "      <td>240.000000</td>\n",
       "      <td>17.000000</td>\n",
       "      <td>240.000000</td>\n",
       "      <td>240.000000</td>\n",
       "      <td>240.000000</td>\n",
       "      <td>79.000000</td>\n",
       "      <td>239.000000</td>\n",
       "    </tr>\n",
       "    <tr>\n",
       "      <th>mean</th>\n",
       "      <td>5.880000</td>\n",
       "      <td>17111.633165</td>\n",
       "      <td>2.612634</td>\n",
       "      <td>65260.411765</td>\n",
       "      <td>4.707306</td>\n",
       "      <td>80.871667</td>\n",
       "      <td>1.447167</td>\n",
       "      <td>66.048101</td>\n",
       "      <td>189.091515</td>\n",
       "    </tr>\n",
       "    <tr>\n",
       "      <th>std</th>\n",
       "      <td>2.110369</td>\n",
       "      <td>1754.901613</td>\n",
       "      <td>1.273935</td>\n",
       "      <td>3820.803434</td>\n",
       "      <td>1.142696</td>\n",
       "      <td>13.332931</td>\n",
       "      <td>1.692092</td>\n",
       "      <td>1.772645</td>\n",
       "      <td>47.110710</td>\n",
       "    </tr>\n",
       "    <tr>\n",
       "      <th>...</th>\n",
       "      <td>...</td>\n",
       "      <td>...</td>\n",
       "      <td>...</td>\n",
       "      <td>...</td>\n",
       "      <td>...</td>\n",
       "      <td>...</td>\n",
       "      <td>...</td>\n",
       "      <td>...</td>\n",
       "      <td>...</td>\n",
       "    </tr>\n",
       "    <tr>\n",
       "      <th>50%</th>\n",
       "      <td>5.100000</td>\n",
       "      <td>16712.760000</td>\n",
       "      <td>2.338570</td>\n",
       "      <td>64631.000000</td>\n",
       "      <td>4.456750</td>\n",
       "      <td>82.050000</td>\n",
       "      <td>0.400000</td>\n",
       "      <td>65.800000</td>\n",
       "      <td>177.277000</td>\n",
       "    </tr>\n",
       "    <tr>\n",
       "      <th>75%</th>\n",
       "      <td>7.350000</td>\n",
       "      <td>18716.744500</td>\n",
       "      <td>2.664786</td>\n",
       "      <td>67571.000000</td>\n",
       "      <td>5.785500</td>\n",
       "      <td>93.025000</td>\n",
       "      <td>2.342500</td>\n",
       "      <td>67.450000</td>\n",
       "      <td>206.296500</td>\n",
       "    </tr>\n",
       "    <tr>\n",
       "      <th>max</th>\n",
       "      <td>14.700000</td>\n",
       "      <td>20246.439000</td>\n",
       "      <td>6.617223</td>\n",
       "      <td>72808.000000</td>\n",
       "      <td>6.900000</td>\n",
       "      <td>101.400000</td>\n",
       "      <td>5.260000</td>\n",
       "      <td>69.400000</td>\n",
       "      <td>305.163000</td>\n",
       "    </tr>\n",
       "  </tbody>\n",
       "</table>\n",
       "<p>8 rows × 9 columns</p>\n",
       "</div>"
      ],
      "text/plain": [
       "       Unemployment_rate           GDP         CPI  Median_household_income  \\\n",
       "count         240.000000     79.000000  240.000000                17.000000   \n",
       "mean            5.880000  17111.633165    2.612634             65260.411765   \n",
       "std             2.110369   1754.901613    1.273935              3820.803434   \n",
       "...                  ...           ...         ...                      ...   \n",
       "50%             5.100000  16712.760000    2.338570             64631.000000   \n",
       "75%             7.350000  18716.744500    2.664786             67571.000000   \n",
       "max            14.700000  20246.439000    6.617223             72808.000000   \n",
       "\n",
       "       Mortgage_rate  Consumer_sentiment  Intrest_rates  Homeownership_rate   \\\n",
       "count     240.000000          240.000000     240.000000            79.000000   \n",
       "mean        4.707306           80.871667       1.447167            66.048101   \n",
       "std         1.142696           13.332931       1.692092             1.772645   \n",
       "...              ...                 ...            ...                  ...   \n",
       "50%         4.456750           82.050000       0.400000            65.800000   \n",
       "75%         5.785500           93.025000       2.342500            67.450000   \n",
       "max         6.900000          101.400000       5.260000            69.400000   \n",
       "\n",
       "       Housing_price  \n",
       "count     239.000000  \n",
       "mean      189.091515  \n",
       "std        47.110710  \n",
       "...              ...  \n",
       "50%       177.277000  \n",
       "75%       206.296500  \n",
       "max       305.163000  \n",
       "\n",
       "[8 rows x 9 columns]"
      ]
     },
     "execution_count": 61,
     "metadata": {},
     "output_type": "execute_result"
    }
   ],
   "source": [
    "df1.describe()"
   ]
  },
  {
   "cell_type": "markdown",
   "id": "9e8eb0c9",
   "metadata": {},
   "source": [
    "* The minimum and maximum values are 60,313 and 72,808 - Median_household_income\n",
    "* The minimum and maximum median housing prices are 136 and 305.\n",
    "* The standard deviation of the unemployment rate is around 2.12%\n",
    "* The minimum and maximum unemployment rates are 3.4% and 14.7%"
   ]
  },
  {
   "cell_type": "markdown",
   "id": "82032e45",
   "metadata": {},
   "source": [
    "# Section 3 - Pre Processing"
   ]
  },
  {
   "cell_type": "markdown",
   "id": "a5bd8e5d",
   "metadata": {},
   "source": [
    "### 3.a. Null value treatment"
   ]
  },
  {
   "cell_type": "markdown",
   "id": "f514a41a",
   "metadata": {},
   "source": [
    "* Fix null values, in three columns - GDP, Median_household_income, Homeownership_rate"
   ]
  },
  {
   "cell_type": "code",
   "execution_count": 62,
   "id": "a8e71dc7",
   "metadata": {},
   "outputs": [
    {
     "data": {
      "text/html": [
       "<div>\n",
       "<style scoped>\n",
       "    .dataframe tbody tr th:only-of-type {\n",
       "        vertical-align: middle;\n",
       "    }\n",
       "\n",
       "    .dataframe tbody tr th {\n",
       "        vertical-align: top;\n",
       "    }\n",
       "\n",
       "    .dataframe thead th {\n",
       "        text-align: right;\n",
       "    }\n",
       "</style>\n",
       "<table border=\"1\" class=\"dataframe\">\n",
       "  <thead>\n",
       "    <tr style=\"text-align: right;\">\n",
       "      <th></th>\n",
       "      <th>Date</th>\n",
       "      <th>Unemployment_rate</th>\n",
       "      <th>GDP</th>\n",
       "      <th>CPI</th>\n",
       "      <th>Median_household_income</th>\n",
       "      <th>Mortgage_rate</th>\n",
       "      <th>Consumer_sentiment</th>\n",
       "      <th>Intrest_rates</th>\n",
       "      <th>Homeownership_rate</th>\n",
       "      <th>Housing_price</th>\n",
       "    </tr>\n",
       "  </thead>\n",
       "  <tbody>\n",
       "    <tr>\n",
       "      <th>0</th>\n",
       "      <td>2004-02-01</td>\n",
       "      <td>5.6</td>\n",
       "      <td>NaN</td>\n",
       "      <td>2.048137</td>\n",
       "      <td>NaN</td>\n",
       "      <td>5.6350</td>\n",
       "      <td>94.4</td>\n",
       "      <td>1.01</td>\n",
       "      <td>NaN</td>\n",
       "      <td>143.192</td>\n",
       "    </tr>\n",
       "    <tr>\n",
       "      <th>1</th>\n",
       "      <td>2004-03-01</td>\n",
       "      <td>5.8</td>\n",
       "      <td>NaN</td>\n",
       "      <td>2.137061</td>\n",
       "      <td>NaN</td>\n",
       "      <td>5.4450</td>\n",
       "      <td>95.8</td>\n",
       "      <td>1.00</td>\n",
       "      <td>NaN</td>\n",
       "      <td>145.058</td>\n",
       "    </tr>\n",
       "    <tr>\n",
       "      <th>2</th>\n",
       "      <td>2004-04-01</td>\n",
       "      <td>5.6</td>\n",
       "      <td>14323.017</td>\n",
       "      <td>2.257761</td>\n",
       "      <td>NaN</td>\n",
       "      <td>5.8300</td>\n",
       "      <td>94.2</td>\n",
       "      <td>1.00</td>\n",
       "      <td>69.4</td>\n",
       "      <td>146.592</td>\n",
       "    </tr>\n",
       "    <tr>\n",
       "      <th>...</th>\n",
       "      <td>...</td>\n",
       "      <td>...</td>\n",
       "      <td>...</td>\n",
       "      <td>...</td>\n",
       "      <td>...</td>\n",
       "      <td>...</td>\n",
       "      <td>...</td>\n",
       "      <td>...</td>\n",
       "      <td>...</td>\n",
       "      <td>...</td>\n",
       "    </tr>\n",
       "    <tr>\n",
       "      <th>237</th>\n",
       "      <td>2023-01-01</td>\n",
       "      <td>3.4</td>\n",
       "      <td>20246.439</td>\n",
       "      <td>6.554492</td>\n",
       "      <td>NaN</td>\n",
       "      <td>6.2725</td>\n",
       "      <td>64.9</td>\n",
       "      <td>4.33</td>\n",
       "      <td>66.0</td>\n",
       "      <td>296.064</td>\n",
       "    </tr>\n",
       "    <tr>\n",
       "      <th>238</th>\n",
       "      <td>2023-02-01</td>\n",
       "      <td>3.6</td>\n",
       "      <td>NaN</td>\n",
       "      <td>6.593750</td>\n",
       "      <td>NaN</td>\n",
       "      <td>6.2575</td>\n",
       "      <td>67.0</td>\n",
       "      <td>4.57</td>\n",
       "      <td>NaN</td>\n",
       "      <td>296.926</td>\n",
       "    </tr>\n",
       "    <tr>\n",
       "      <th>239</th>\n",
       "      <td>2023-03-01</td>\n",
       "      <td>3.5</td>\n",
       "      <td>NaN</td>\n",
       "      <td>6.451708</td>\n",
       "      <td>NaN</td>\n",
       "      <td>6.5440</td>\n",
       "      <td>62.0</td>\n",
       "      <td>4.65</td>\n",
       "      <td>NaN</td>\n",
       "      <td>298.166</td>\n",
       "    </tr>\n",
       "  </tbody>\n",
       "</table>\n",
       "<p>240 rows × 10 columns</p>\n",
       "</div>"
      ],
      "text/plain": [
       "          Date  Unemployment_rate        GDP       CPI  \\\n",
       "0   2004-02-01                5.6        NaN  2.048137   \n",
       "1   2004-03-01                5.8        NaN  2.137061   \n",
       "2   2004-04-01                5.6  14323.017  2.257761   \n",
       "..         ...                ...        ...       ...   \n",
       "237 2023-01-01                3.4  20246.439  6.554492   \n",
       "238 2023-02-01                3.6        NaN  6.593750   \n",
       "239 2023-03-01                3.5        NaN  6.451708   \n",
       "\n",
       "     Median_household_income  Mortgage_rate  Consumer_sentiment  \\\n",
       "0                        NaN         5.6350                94.4   \n",
       "1                        NaN         5.4450                95.8   \n",
       "2                        NaN         5.8300                94.2   \n",
       "..                       ...            ...                 ...   \n",
       "237                      NaN         6.2725                64.9   \n",
       "238                      NaN         6.2575                67.0   \n",
       "239                      NaN         6.5440                62.0   \n",
       "\n",
       "     Intrest_rates  Homeownership_rate   Housing_price  \n",
       "0             1.01                  NaN        143.192  \n",
       "1             1.00                  NaN        145.058  \n",
       "2             1.00                 69.4        146.592  \n",
       "..             ...                  ...            ...  \n",
       "237           4.33                 66.0        296.064  \n",
       "238           4.57                  NaN        296.926  \n",
       "239           4.65                  NaN        298.166  \n",
       "\n",
       "[240 rows x 10 columns]"
      ]
     },
     "execution_count": 62,
     "metadata": {},
     "output_type": "execute_result"
    }
   ],
   "source": [
    "pd.set_option(\"display.max_rows\",6)\n",
    "df1"
   ]
  },
  {
   "cell_type": "code",
   "execution_count": 63,
   "id": "eaa1205d",
   "metadata": {},
   "outputs": [],
   "source": [
    "df1['GDP'] = df1['GDP'].fillna(method='ffill').fillna(method='bfill')"
   ]
  },
  {
   "cell_type": "code",
   "execution_count": 64,
   "id": "1a3e167f",
   "metadata": {},
   "outputs": [],
   "source": [
    "df1['Homeownership_rate '] = df1['Homeownership_rate '].fillna(method='ffill').fillna(method='bfill')\n"
   ]
  },
  {
   "cell_type": "code",
   "execution_count": 65,
   "id": "7fc1dff8",
   "metadata": {},
   "outputs": [
    {
     "data": {
      "text/html": [
       "<div>\n",
       "<style scoped>\n",
       "    .dataframe tbody tr th:only-of-type {\n",
       "        vertical-align: middle;\n",
       "    }\n",
       "\n",
       "    .dataframe tbody tr th {\n",
       "        vertical-align: top;\n",
       "    }\n",
       "\n",
       "    .dataframe thead th {\n",
       "        text-align: right;\n",
       "    }\n",
       "</style>\n",
       "<table border=\"1\" class=\"dataframe\">\n",
       "  <thead>\n",
       "    <tr style=\"text-align: right;\">\n",
       "      <th></th>\n",
       "      <th>Date</th>\n",
       "      <th>Unemployment_rate</th>\n",
       "      <th>GDP</th>\n",
       "      <th>CPI</th>\n",
       "      <th>Median_household_income</th>\n",
       "      <th>Mortgage_rate</th>\n",
       "      <th>Consumer_sentiment</th>\n",
       "      <th>Intrest_rates</th>\n",
       "      <th>Homeownership_rate</th>\n",
       "      <th>Housing_price</th>\n",
       "    </tr>\n",
       "  </thead>\n",
       "  <tbody>\n",
       "    <tr>\n",
       "      <th>0</th>\n",
       "      <td>2004-02-01</td>\n",
       "      <td>5.6</td>\n",
       "      <td>14323.017</td>\n",
       "      <td>2.048137</td>\n",
       "      <td>NaN</td>\n",
       "      <td>5.6350</td>\n",
       "      <td>94.4</td>\n",
       "      <td>1.01</td>\n",
       "      <td>69.4</td>\n",
       "      <td>143.192</td>\n",
       "    </tr>\n",
       "    <tr>\n",
       "      <th>1</th>\n",
       "      <td>2004-03-01</td>\n",
       "      <td>5.8</td>\n",
       "      <td>14323.017</td>\n",
       "      <td>2.137061</td>\n",
       "      <td>NaN</td>\n",
       "      <td>5.4450</td>\n",
       "      <td>95.8</td>\n",
       "      <td>1.00</td>\n",
       "      <td>69.4</td>\n",
       "      <td>145.058</td>\n",
       "    </tr>\n",
       "    <tr>\n",
       "      <th>2</th>\n",
       "      <td>2004-04-01</td>\n",
       "      <td>5.6</td>\n",
       "      <td>14323.017</td>\n",
       "      <td>2.257761</td>\n",
       "      <td>NaN</td>\n",
       "      <td>5.8300</td>\n",
       "      <td>94.2</td>\n",
       "      <td>1.00</td>\n",
       "      <td>69.4</td>\n",
       "      <td>146.592</td>\n",
       "    </tr>\n",
       "    <tr>\n",
       "      <th>...</th>\n",
       "      <td>...</td>\n",
       "      <td>...</td>\n",
       "      <td>...</td>\n",
       "      <td>...</td>\n",
       "      <td>...</td>\n",
       "      <td>...</td>\n",
       "      <td>...</td>\n",
       "      <td>...</td>\n",
       "      <td>...</td>\n",
       "      <td>...</td>\n",
       "    </tr>\n",
       "    <tr>\n",
       "      <th>237</th>\n",
       "      <td>2023-01-01</td>\n",
       "      <td>3.4</td>\n",
       "      <td>20246.439</td>\n",
       "      <td>6.554492</td>\n",
       "      <td>NaN</td>\n",
       "      <td>6.2725</td>\n",
       "      <td>64.9</td>\n",
       "      <td>4.33</td>\n",
       "      <td>66.0</td>\n",
       "      <td>296.064</td>\n",
       "    </tr>\n",
       "    <tr>\n",
       "      <th>238</th>\n",
       "      <td>2023-02-01</td>\n",
       "      <td>3.6</td>\n",
       "      <td>20246.439</td>\n",
       "      <td>6.593750</td>\n",
       "      <td>NaN</td>\n",
       "      <td>6.2575</td>\n",
       "      <td>67.0</td>\n",
       "      <td>4.57</td>\n",
       "      <td>66.0</td>\n",
       "      <td>296.926</td>\n",
       "    </tr>\n",
       "    <tr>\n",
       "      <th>239</th>\n",
       "      <td>2023-03-01</td>\n",
       "      <td>3.5</td>\n",
       "      <td>20246.439</td>\n",
       "      <td>6.451708</td>\n",
       "      <td>NaN</td>\n",
       "      <td>6.5440</td>\n",
       "      <td>62.0</td>\n",
       "      <td>4.65</td>\n",
       "      <td>66.0</td>\n",
       "      <td>298.166</td>\n",
       "    </tr>\n",
       "  </tbody>\n",
       "</table>\n",
       "<p>240 rows × 10 columns</p>\n",
       "</div>"
      ],
      "text/plain": [
       "          Date  Unemployment_rate        GDP       CPI  \\\n",
       "0   2004-02-01                5.6  14323.017  2.048137   \n",
       "1   2004-03-01                5.8  14323.017  2.137061   \n",
       "2   2004-04-01                5.6  14323.017  2.257761   \n",
       "..         ...                ...        ...       ...   \n",
       "237 2023-01-01                3.4  20246.439  6.554492   \n",
       "238 2023-02-01                3.6  20246.439  6.593750   \n",
       "239 2023-03-01                3.5  20246.439  6.451708   \n",
       "\n",
       "     Median_household_income  Mortgage_rate  Consumer_sentiment  \\\n",
       "0                        NaN         5.6350                94.4   \n",
       "1                        NaN         5.4450                95.8   \n",
       "2                        NaN         5.8300                94.2   \n",
       "..                       ...            ...                 ...   \n",
       "237                      NaN         6.2725                64.9   \n",
       "238                      NaN         6.2575                67.0   \n",
       "239                      NaN         6.5440                62.0   \n",
       "\n",
       "     Intrest_rates  Homeownership_rate   Housing_price  \n",
       "0             1.01                 69.4        143.192  \n",
       "1             1.00                 69.4        145.058  \n",
       "2             1.00                 69.4        146.592  \n",
       "..             ...                  ...            ...  \n",
       "237           4.33                 66.0        296.064  \n",
       "238           4.57                 66.0        296.926  \n",
       "239           4.65                 66.0        298.166  \n",
       "\n",
       "[240 rows x 10 columns]"
      ]
     },
     "execution_count": 65,
     "metadata": {},
     "output_type": "execute_result"
    }
   ],
   "source": [
    "df1"
   ]
  },
  {
   "cell_type": "code",
   "execution_count": 66,
   "id": "8c03ebfa",
   "metadata": {},
   "outputs": [
    {
     "data": {
      "text/html": [
       "<div>\n",
       "<style scoped>\n",
       "    .dataframe tbody tr th:only-of-type {\n",
       "        vertical-align: middle;\n",
       "    }\n",
       "\n",
       "    .dataframe tbody tr th {\n",
       "        vertical-align: top;\n",
       "    }\n",
       "\n",
       "    .dataframe thead th {\n",
       "        text-align: right;\n",
       "    }\n",
       "</style>\n",
       "<table border=\"1\" class=\"dataframe\">\n",
       "  <thead>\n",
       "    <tr style=\"text-align: right;\">\n",
       "      <th></th>\n",
       "      <th>Date</th>\n",
       "      <th>Unemployment_rate</th>\n",
       "      <th>GDP</th>\n",
       "      <th>CPI</th>\n",
       "      <th>Median_household_income</th>\n",
       "      <th>Mortgage_rate</th>\n",
       "      <th>Consumer_sentiment</th>\n",
       "      <th>Intrest_rates</th>\n",
       "      <th>Homeownership_rate</th>\n",
       "      <th>Housing_price</th>\n",
       "    </tr>\n",
       "  </thead>\n",
       "  <tbody>\n",
       "    <tr>\n",
       "      <th>0</th>\n",
       "      <td>2004-02-01</td>\n",
       "      <td>5.6</td>\n",
       "      <td>14323.017</td>\n",
       "      <td>2.048137</td>\n",
       "      <td>NaN</td>\n",
       "      <td>5.6350</td>\n",
       "      <td>94.4</td>\n",
       "      <td>1.01</td>\n",
       "      <td>69.4</td>\n",
       "      <td>143.192</td>\n",
       "    </tr>\n",
       "    <tr>\n",
       "      <th>1</th>\n",
       "      <td>2004-03-01</td>\n",
       "      <td>5.8</td>\n",
       "      <td>14323.017</td>\n",
       "      <td>2.137061</td>\n",
       "      <td>NaN</td>\n",
       "      <td>5.4450</td>\n",
       "      <td>95.8</td>\n",
       "      <td>1.00</td>\n",
       "      <td>69.4</td>\n",
       "      <td>145.058</td>\n",
       "    </tr>\n",
       "    <tr>\n",
       "      <th>2</th>\n",
       "      <td>2004-04-01</td>\n",
       "      <td>5.6</td>\n",
       "      <td>14323.017</td>\n",
       "      <td>2.257761</td>\n",
       "      <td>NaN</td>\n",
       "      <td>5.8300</td>\n",
       "      <td>94.2</td>\n",
       "      <td>1.00</td>\n",
       "      <td>69.4</td>\n",
       "      <td>146.592</td>\n",
       "    </tr>\n",
       "    <tr>\n",
       "      <th>...</th>\n",
       "      <td>...</td>\n",
       "      <td>...</td>\n",
       "      <td>...</td>\n",
       "      <td>...</td>\n",
       "      <td>...</td>\n",
       "      <td>...</td>\n",
       "      <td>...</td>\n",
       "      <td>...</td>\n",
       "      <td>...</td>\n",
       "      <td>...</td>\n",
       "    </tr>\n",
       "    <tr>\n",
       "      <th>237</th>\n",
       "      <td>2023-01-01</td>\n",
       "      <td>3.4</td>\n",
       "      <td>20246.439</td>\n",
       "      <td>6.554492</td>\n",
       "      <td>70784.0</td>\n",
       "      <td>6.2725</td>\n",
       "      <td>64.9</td>\n",
       "      <td>4.33</td>\n",
       "      <td>66.0</td>\n",
       "      <td>296.064</td>\n",
       "    </tr>\n",
       "    <tr>\n",
       "      <th>238</th>\n",
       "      <td>2023-02-01</td>\n",
       "      <td>3.6</td>\n",
       "      <td>20246.439</td>\n",
       "      <td>6.593750</td>\n",
       "      <td>70784.0</td>\n",
       "      <td>6.2575</td>\n",
       "      <td>67.0</td>\n",
       "      <td>4.57</td>\n",
       "      <td>66.0</td>\n",
       "      <td>296.926</td>\n",
       "    </tr>\n",
       "    <tr>\n",
       "      <th>239</th>\n",
       "      <td>2023-03-01</td>\n",
       "      <td>3.5</td>\n",
       "      <td>20246.439</td>\n",
       "      <td>6.451708</td>\n",
       "      <td>70784.0</td>\n",
       "      <td>6.5440</td>\n",
       "      <td>62.0</td>\n",
       "      <td>4.65</td>\n",
       "      <td>66.0</td>\n",
       "      <td>298.166</td>\n",
       "    </tr>\n",
       "  </tbody>\n",
       "</table>\n",
       "<p>240 rows × 10 columns</p>\n",
       "</div>"
      ],
      "text/plain": [
       "          Date  Unemployment_rate        GDP       CPI  \\\n",
       "0   2004-02-01                5.6  14323.017  2.048137   \n",
       "1   2004-03-01                5.8  14323.017  2.137061   \n",
       "2   2004-04-01                5.6  14323.017  2.257761   \n",
       "..         ...                ...        ...       ...   \n",
       "237 2023-01-01                3.4  20246.439  6.554492   \n",
       "238 2023-02-01                3.6  20246.439  6.593750   \n",
       "239 2023-03-01                3.5  20246.439  6.451708   \n",
       "\n",
       "     Median_household_income  Mortgage_rate  Consumer_sentiment  \\\n",
       "0                        NaN         5.6350                94.4   \n",
       "1                        NaN         5.4450                95.8   \n",
       "2                        NaN         5.8300                94.2   \n",
       "..                       ...            ...                 ...   \n",
       "237                  70784.0         6.2725                64.9   \n",
       "238                  70784.0         6.2575                67.0   \n",
       "239                  70784.0         6.5440                62.0   \n",
       "\n",
       "     Intrest_rates  Homeownership_rate   Housing_price  \n",
       "0             1.01                 69.4        143.192  \n",
       "1             1.00                 69.4        145.058  \n",
       "2             1.00                 69.4        146.592  \n",
       "..             ...                  ...            ...  \n",
       "237           4.33                 66.0        296.064  \n",
       "238           4.57                 66.0        296.926  \n",
       "239           4.65                 66.0        298.166  \n",
       "\n",
       "[240 rows x 10 columns]"
      ]
     },
     "execution_count": 66,
     "metadata": {},
     "output_type": "execute_result"
    }
   ],
   "source": [
    "df1['Median_household_income'].interpolate(method='linear', inplace=True)\n",
    "df['Median_household_income'].ffill(inplace=True)\n",
    "\n",
    "df1"
   ]
  },
  {
   "cell_type": "code",
   "execution_count": 67,
   "id": "451ad0ac",
   "metadata": {},
   "outputs": [
    {
     "data": {
      "text/html": [
       "<div>\n",
       "<style scoped>\n",
       "    .dataframe tbody tr th:only-of-type {\n",
       "        vertical-align: middle;\n",
       "    }\n",
       "\n",
       "    .dataframe tbody tr th {\n",
       "        vertical-align: top;\n",
       "    }\n",
       "\n",
       "    .dataframe thead th {\n",
       "        text-align: right;\n",
       "    }\n",
       "</style>\n",
       "<table border=\"1\" class=\"dataframe\">\n",
       "  <thead>\n",
       "    <tr style=\"text-align: right;\">\n",
       "      <th></th>\n",
       "      <th>Date</th>\n",
       "      <th>Unemployment_rate</th>\n",
       "      <th>GDP</th>\n",
       "      <th>CPI</th>\n",
       "      <th>Median_household_income</th>\n",
       "      <th>Mortgage_rate</th>\n",
       "      <th>Consumer_sentiment</th>\n",
       "      <th>Intrest_rates</th>\n",
       "      <th>Homeownership_rate</th>\n",
       "      <th>Housing_price</th>\n",
       "    </tr>\n",
       "  </thead>\n",
       "  <tbody>\n",
       "    <tr>\n",
       "      <th>0</th>\n",
       "      <td>2004-02-01</td>\n",
       "      <td>5.6</td>\n",
       "      <td>14323.017</td>\n",
       "      <td>2.048137</td>\n",
       "      <td>NaN</td>\n",
       "      <td>5.6350</td>\n",
       "      <td>94.4</td>\n",
       "      <td>1.01</td>\n",
       "      <td>69.4</td>\n",
       "      <td>143.192</td>\n",
       "    </tr>\n",
       "    <tr>\n",
       "      <th>1</th>\n",
       "      <td>2004-03-01</td>\n",
       "      <td>5.8</td>\n",
       "      <td>14323.017</td>\n",
       "      <td>2.137061</td>\n",
       "      <td>NaN</td>\n",
       "      <td>5.4450</td>\n",
       "      <td>95.8</td>\n",
       "      <td>1.00</td>\n",
       "      <td>69.4</td>\n",
       "      <td>145.058</td>\n",
       "    </tr>\n",
       "    <tr>\n",
       "      <th>2</th>\n",
       "      <td>2004-04-01</td>\n",
       "      <td>5.6</td>\n",
       "      <td>14323.017</td>\n",
       "      <td>2.257761</td>\n",
       "      <td>NaN</td>\n",
       "      <td>5.8300</td>\n",
       "      <td>94.2</td>\n",
       "      <td>1.00</td>\n",
       "      <td>69.4</td>\n",
       "      <td>146.592</td>\n",
       "    </tr>\n",
       "    <tr>\n",
       "      <th>...</th>\n",
       "      <td>...</td>\n",
       "      <td>...</td>\n",
       "      <td>...</td>\n",
       "      <td>...</td>\n",
       "      <td>...</td>\n",
       "      <td>...</td>\n",
       "      <td>...</td>\n",
       "      <td>...</td>\n",
       "      <td>...</td>\n",
       "      <td>...</td>\n",
       "    </tr>\n",
       "    <tr>\n",
       "      <th>237</th>\n",
       "      <td>2023-01-01</td>\n",
       "      <td>3.4</td>\n",
       "      <td>20246.439</td>\n",
       "      <td>6.554492</td>\n",
       "      <td>70784.0</td>\n",
       "      <td>6.2725</td>\n",
       "      <td>64.9</td>\n",
       "      <td>4.33</td>\n",
       "      <td>66.0</td>\n",
       "      <td>296.064</td>\n",
       "    </tr>\n",
       "    <tr>\n",
       "      <th>238</th>\n",
       "      <td>2023-02-01</td>\n",
       "      <td>3.6</td>\n",
       "      <td>20246.439</td>\n",
       "      <td>6.593750</td>\n",
       "      <td>70784.0</td>\n",
       "      <td>6.2575</td>\n",
       "      <td>67.0</td>\n",
       "      <td>4.57</td>\n",
       "      <td>66.0</td>\n",
       "      <td>296.926</td>\n",
       "    </tr>\n",
       "    <tr>\n",
       "      <th>239</th>\n",
       "      <td>2023-03-01</td>\n",
       "      <td>3.5</td>\n",
       "      <td>20246.439</td>\n",
       "      <td>6.451708</td>\n",
       "      <td>70784.0</td>\n",
       "      <td>6.5440</td>\n",
       "      <td>62.0</td>\n",
       "      <td>4.65</td>\n",
       "      <td>66.0</td>\n",
       "      <td>298.166</td>\n",
       "    </tr>\n",
       "  </tbody>\n",
       "</table>\n",
       "<p>240 rows × 10 columns</p>\n",
       "</div>"
      ],
      "text/plain": [
       "          Date  Unemployment_rate        GDP       CPI  \\\n",
       "0   2004-02-01                5.6  14323.017  2.048137   \n",
       "1   2004-03-01                5.8  14323.017  2.137061   \n",
       "2   2004-04-01                5.6  14323.017  2.257761   \n",
       "..         ...                ...        ...       ...   \n",
       "237 2023-01-01                3.4  20246.439  6.554492   \n",
       "238 2023-02-01                3.6  20246.439  6.593750   \n",
       "239 2023-03-01                3.5  20246.439  6.451708   \n",
       "\n",
       "     Median_household_income  Mortgage_rate  Consumer_sentiment  \\\n",
       "0                        NaN         5.6350                94.4   \n",
       "1                        NaN         5.4450                95.8   \n",
       "2                        NaN         5.8300                94.2   \n",
       "..                       ...            ...                 ...   \n",
       "237                  70784.0         6.2725                64.9   \n",
       "238                  70784.0         6.2575                67.0   \n",
       "239                  70784.0         6.5440                62.0   \n",
       "\n",
       "     Intrest_rates  Homeownership_rate   Housing_price  \n",
       "0             1.01                 69.4        143.192  \n",
       "1             1.00                 69.4        145.058  \n",
       "2             1.00                 69.4        146.592  \n",
       "..             ...                  ...            ...  \n",
       "237           4.33                 66.0        296.064  \n",
       "238           4.57                 66.0        296.926  \n",
       "239           4.65                 66.0        298.166  \n",
       "\n",
       "[240 rows x 10 columns]"
      ]
     },
     "execution_count": 67,
     "metadata": {},
     "output_type": "execute_result"
    }
   ],
   "source": [
    "df1"
   ]
  },
  {
   "cell_type": "code",
   "execution_count": 68,
   "id": "7ae5394f",
   "metadata": {},
   "outputs": [],
   "source": [
    "df1 = df1.drop(df1.index[:11])\n"
   ]
  },
  {
   "cell_type": "code",
   "execution_count": 69,
   "id": "b66fd529",
   "metadata": {},
   "outputs": [
    {
     "data": {
      "text/html": [
       "<div>\n",
       "<style scoped>\n",
       "    .dataframe tbody tr th:only-of-type {\n",
       "        vertical-align: middle;\n",
       "    }\n",
       "\n",
       "    .dataframe tbody tr th {\n",
       "        vertical-align: top;\n",
       "    }\n",
       "\n",
       "    .dataframe thead th {\n",
       "        text-align: right;\n",
       "    }\n",
       "</style>\n",
       "<table border=\"1\" class=\"dataframe\">\n",
       "  <thead>\n",
       "    <tr style=\"text-align: right;\">\n",
       "      <th></th>\n",
       "      <th>Date</th>\n",
       "      <th>Unemployment_rate</th>\n",
       "      <th>GDP</th>\n",
       "      <th>CPI</th>\n",
       "      <th>Median_household_income</th>\n",
       "      <th>Mortgage_rate</th>\n",
       "      <th>Consumer_sentiment</th>\n",
       "      <th>Intrest_rates</th>\n",
       "      <th>Homeownership_rate</th>\n",
       "      <th>Housing_price</th>\n",
       "    </tr>\n",
       "  </thead>\n",
       "  <tbody>\n",
       "    <tr>\n",
       "      <th>11</th>\n",
       "      <td>2005-01-01</td>\n",
       "      <td>5.3</td>\n",
       "      <td>14767.846</td>\n",
       "      <td>2.315890</td>\n",
       "      <td>64427.000000</td>\n",
       "      <td>5.7100</td>\n",
       "      <td>95.5</td>\n",
       "      <td>2.28</td>\n",
       "      <td>69.2</td>\n",
       "      <td>161.288</td>\n",
       "    </tr>\n",
       "    <tr>\n",
       "      <th>12</th>\n",
       "      <td>2005-02-01</td>\n",
       "      <td>5.4</td>\n",
       "      <td>14767.846</td>\n",
       "      <td>2.286245</td>\n",
       "      <td>64468.916667</td>\n",
       "      <td>5.6275</td>\n",
       "      <td>94.1</td>\n",
       "      <td>2.50</td>\n",
       "      <td>69.2</td>\n",
       "      <td>163.344</td>\n",
       "    </tr>\n",
       "    <tr>\n",
       "      <th>13</th>\n",
       "      <td>2005-03-01</td>\n",
       "      <td>5.2</td>\n",
       "      <td>14767.846</td>\n",
       "      <td>2.246153</td>\n",
       "      <td>64510.833333</td>\n",
       "      <td>5.9280</td>\n",
       "      <td>92.6</td>\n",
       "      <td>2.63</td>\n",
       "      <td>69.2</td>\n",
       "      <td>165.812</td>\n",
       "    </tr>\n",
       "    <tr>\n",
       "      <th>...</th>\n",
       "      <td>...</td>\n",
       "      <td>...</td>\n",
       "      <td>...</td>\n",
       "      <td>...</td>\n",
       "      <td>...</td>\n",
       "      <td>...</td>\n",
       "      <td>...</td>\n",
       "      <td>...</td>\n",
       "      <td>...</td>\n",
       "      <td>...</td>\n",
       "    </tr>\n",
       "    <tr>\n",
       "      <th>237</th>\n",
       "      <td>2023-01-01</td>\n",
       "      <td>3.4</td>\n",
       "      <td>20246.439</td>\n",
       "      <td>6.554492</td>\n",
       "      <td>70784.000000</td>\n",
       "      <td>6.2725</td>\n",
       "      <td>64.9</td>\n",
       "      <td>4.33</td>\n",
       "      <td>66.0</td>\n",
       "      <td>296.064</td>\n",
       "    </tr>\n",
       "    <tr>\n",
       "      <th>238</th>\n",
       "      <td>2023-02-01</td>\n",
       "      <td>3.6</td>\n",
       "      <td>20246.439</td>\n",
       "      <td>6.593750</td>\n",
       "      <td>70784.000000</td>\n",
       "      <td>6.2575</td>\n",
       "      <td>67.0</td>\n",
       "      <td>4.57</td>\n",
       "      <td>66.0</td>\n",
       "      <td>296.926</td>\n",
       "    </tr>\n",
       "    <tr>\n",
       "      <th>239</th>\n",
       "      <td>2023-03-01</td>\n",
       "      <td>3.5</td>\n",
       "      <td>20246.439</td>\n",
       "      <td>6.451708</td>\n",
       "      <td>70784.000000</td>\n",
       "      <td>6.5440</td>\n",
       "      <td>62.0</td>\n",
       "      <td>4.65</td>\n",
       "      <td>66.0</td>\n",
       "      <td>298.166</td>\n",
       "    </tr>\n",
       "  </tbody>\n",
       "</table>\n",
       "<p>229 rows × 10 columns</p>\n",
       "</div>"
      ],
      "text/plain": [
       "          Date  Unemployment_rate        GDP       CPI  \\\n",
       "11  2005-01-01                5.3  14767.846  2.315890   \n",
       "12  2005-02-01                5.4  14767.846  2.286245   \n",
       "13  2005-03-01                5.2  14767.846  2.246153   \n",
       "..         ...                ...        ...       ...   \n",
       "237 2023-01-01                3.4  20246.439  6.554492   \n",
       "238 2023-02-01                3.6  20246.439  6.593750   \n",
       "239 2023-03-01                3.5  20246.439  6.451708   \n",
       "\n",
       "     Median_household_income  Mortgage_rate  Consumer_sentiment  \\\n",
       "11              64427.000000         5.7100                95.5   \n",
       "12              64468.916667         5.6275                94.1   \n",
       "13              64510.833333         5.9280                92.6   \n",
       "..                       ...            ...                 ...   \n",
       "237             70784.000000         6.2725                64.9   \n",
       "238             70784.000000         6.2575                67.0   \n",
       "239             70784.000000         6.5440                62.0   \n",
       "\n",
       "     Intrest_rates  Homeownership_rate   Housing_price  \n",
       "11            2.28                 69.2        161.288  \n",
       "12            2.50                 69.2        163.344  \n",
       "13            2.63                 69.2        165.812  \n",
       "..             ...                  ...            ...  \n",
       "237           4.33                 66.0        296.064  \n",
       "238           4.57                 66.0        296.926  \n",
       "239           4.65                 66.0        298.166  \n",
       "\n",
       "[229 rows x 10 columns]"
      ]
     },
     "execution_count": 69,
     "metadata": {},
     "output_type": "execute_result"
    }
   ],
   "source": [
    "df1"
   ]
  },
  {
   "cell_type": "markdown",
   "id": "f6c821a2",
   "metadata": {},
   "source": [
    "### 3.b. Outlier treatment"
   ]
  },
  {
   "cell_type": "code",
   "execution_count": 70,
   "id": "bfc33596",
   "metadata": {},
   "outputs": [
    {
     "name": "stdout",
     "output_type": "stream",
     "text": [
      "          Date  Unemployment_rate        GDP       CPI  \\\n",
      "194 2020-04-01               14.7  17378.712  2.226352   \n",
      "195 2020-05-01               13.2  17378.712  2.084208   \n",
      "226 2022-12-01                3.5  20182.491  6.617223   \n",
      "..         ...                ...        ...       ...   \n",
      "236 2022-12-01                3.5  20182.491  6.617223   \n",
      "237 2023-01-01                3.4  20246.439  6.554492   \n",
      "238 2023-02-01                3.6  20246.439  6.593750   \n",
      "\n",
      "     Median_household_income  Mortgage_rate  Consumer_sentiment  \\\n",
      "194                  71085.5         3.3060                71.8   \n",
      "195                  71052.0         3.2325                72.3   \n",
      "226                  70784.0         6.3640                59.7   \n",
      "..                       ...            ...                 ...   \n",
      "236                  70784.0         6.3640                59.7   \n",
      "237                  70784.0         6.2725                64.9   \n",
      "238                  70784.0         6.2575                67.0   \n",
      "\n",
      "     Intrest_rates  Homeownership_rate   Housing_price  \n",
      "194           0.05                 68.0        216.870  \n",
      "195           0.05                 68.0        217.119  \n",
      "226           4.10                 65.9        296.952  \n",
      "..             ...                  ...            ...  \n",
      "236           4.10                 65.9        296.952  \n",
      "237           4.33                 66.0        296.064  \n",
      "238           4.57                 66.0        296.926  \n",
      "\n",
      "[8 rows x 10 columns]\n"
     ]
    }
   ],
   "source": [
    "columns_to_check = ['Unemployment_rate', 'GDP', 'CPI', 'Median_household_income', 'Mortgage_rate', 'Consumer_sentiment',\n",
    "                    'Intrest_rates', 'Homeownership_rate ', 'Housing_price']\n",
    "df1[columns_to_check] = df1[columns_to_check].apply(pd.to_numeric, errors='coerce')\n",
    "z_scores = np.abs(zscore(df1[columns_to_check]))\n",
    "outlier_threshold = 3\n",
    "outlier_rows = np.any(z_scores > outlier_threshold, axis=1)\n",
    "outliers = df1[outlier_rows]\n",
    "\n",
    "print(outliers)\n"
   ]
  },
  {
   "cell_type": "markdown",
   "id": "e8297d40",
   "metadata": {},
   "source": [
    "* Its not a appropriate option to drop outlier values here, Because with respect to the problem statement,   296.926 - Housing price index is not outlier its fact, so its not ideal to treat outliers"
   ]
  },
  {
   "cell_type": "markdown",
   "id": "256ccc3c",
   "metadata": {},
   "source": [
    "# Section 4 - Exploratory data analysis"
   ]
  },
  {
   "cell_type": "markdown",
   "id": "43305630",
   "metadata": {},
   "source": [
    "* Lets Answer the important question how Hosuing price index gets effected by other supply factors out there, For this we need to see the correlation"
   ]
  },
  {
   "cell_type": "code",
   "execution_count": 71,
   "id": "fa208dca",
   "metadata": {},
   "outputs": [
    {
     "name": "stdout",
     "output_type": "stream",
     "text": [
      "<class 'pandas.core.frame.DataFrame'>\n",
      "RangeIndex: 229 entries, 11 to 239\n",
      "Data columns (total 10 columns):\n",
      " #   Column                   Non-Null Count  Dtype         \n",
      "---  ------                   --------------  -----         \n",
      " 0   Date                     229 non-null    datetime64[ns]\n",
      " 1   Unemployment_rate        229 non-null    float64       \n",
      " 2   GDP                      229 non-null    float64       \n",
      " 3   CPI                      229 non-null    float64       \n",
      " 4   Median_household_income  229 non-null    float64       \n",
      " 5   Mortgage_rate            229 non-null    float64       \n",
      " 6   Consumer_sentiment       229 non-null    float64       \n",
      " 7   Intrest_rates            229 non-null    float64       \n",
      " 8   Homeownership_rate       229 non-null    float64       \n",
      " 9   Housing_price            228 non-null    float64       \n",
      "dtypes: datetime64[ns](1), float64(9)\n",
      "memory usage: 18.0 KB\n"
     ]
    }
   ],
   "source": [
    "df1.info()"
   ]
  },
  {
   "cell_type": "code",
   "execution_count": 72,
   "id": "abfe5f68",
   "metadata": {},
   "outputs": [
    {
     "data": {
      "text/html": [
       "<div>\n",
       "<style scoped>\n",
       "    .dataframe tbody tr th:only-of-type {\n",
       "        vertical-align: middle;\n",
       "    }\n",
       "\n",
       "    .dataframe tbody tr th {\n",
       "        vertical-align: top;\n",
       "    }\n",
       "\n",
       "    .dataframe thead th {\n",
       "        text-align: right;\n",
       "    }\n",
       "</style>\n",
       "<table border=\"1\" class=\"dataframe\">\n",
       "  <thead>\n",
       "    <tr style=\"text-align: right;\">\n",
       "      <th></th>\n",
       "      <th>Date</th>\n",
       "      <th>Unemployment_rate</th>\n",
       "      <th>GDP</th>\n",
       "      <th>CPI</th>\n",
       "      <th>Median_household_income</th>\n",
       "      <th>Mortgage_rate</th>\n",
       "      <th>Consumer_sentiment</th>\n",
       "      <th>Intrest_rates</th>\n",
       "      <th>Homeownership_rate</th>\n",
       "      <th>Housing_price</th>\n",
       "    </tr>\n",
       "  </thead>\n",
       "  <tbody>\n",
       "    <tr>\n",
       "      <th>11</th>\n",
       "      <td>2005-01-01</td>\n",
       "      <td>5.3</td>\n",
       "      <td>14767.846</td>\n",
       "      <td>2.315890</td>\n",
       "      <td>64427.000000</td>\n",
       "      <td>5.7100</td>\n",
       "      <td>95.5</td>\n",
       "      <td>2.28</td>\n",
       "      <td>69.2</td>\n",
       "      <td>161.288</td>\n",
       "    </tr>\n",
       "    <tr>\n",
       "      <th>12</th>\n",
       "      <td>2005-02-01</td>\n",
       "      <td>5.4</td>\n",
       "      <td>14767.846</td>\n",
       "      <td>2.286245</td>\n",
       "      <td>64468.916667</td>\n",
       "      <td>5.6275</td>\n",
       "      <td>94.1</td>\n",
       "      <td>2.50</td>\n",
       "      <td>69.2</td>\n",
       "      <td>163.344</td>\n",
       "    </tr>\n",
       "    <tr>\n",
       "      <th>13</th>\n",
       "      <td>2005-03-01</td>\n",
       "      <td>5.2</td>\n",
       "      <td>14767.846</td>\n",
       "      <td>2.246153</td>\n",
       "      <td>64510.833333</td>\n",
       "      <td>5.9280</td>\n",
       "      <td>92.6</td>\n",
       "      <td>2.63</td>\n",
       "      <td>69.2</td>\n",
       "      <td>165.812</td>\n",
       "    </tr>\n",
       "    <tr>\n",
       "      <th>...</th>\n",
       "      <td>...</td>\n",
       "      <td>...</td>\n",
       "      <td>...</td>\n",
       "      <td>...</td>\n",
       "      <td>...</td>\n",
       "      <td>...</td>\n",
       "      <td>...</td>\n",
       "      <td>...</td>\n",
       "      <td>...</td>\n",
       "      <td>...</td>\n",
       "    </tr>\n",
       "    <tr>\n",
       "      <th>237</th>\n",
       "      <td>2023-01-01</td>\n",
       "      <td>3.4</td>\n",
       "      <td>20246.439</td>\n",
       "      <td>6.554492</td>\n",
       "      <td>70784.000000</td>\n",
       "      <td>6.2725</td>\n",
       "      <td>64.9</td>\n",
       "      <td>4.33</td>\n",
       "      <td>66.0</td>\n",
       "      <td>296.064</td>\n",
       "    </tr>\n",
       "    <tr>\n",
       "      <th>238</th>\n",
       "      <td>2023-02-01</td>\n",
       "      <td>3.6</td>\n",
       "      <td>20246.439</td>\n",
       "      <td>6.593750</td>\n",
       "      <td>70784.000000</td>\n",
       "      <td>6.2575</td>\n",
       "      <td>67.0</td>\n",
       "      <td>4.57</td>\n",
       "      <td>66.0</td>\n",
       "      <td>296.926</td>\n",
       "    </tr>\n",
       "    <tr>\n",
       "      <th>239</th>\n",
       "      <td>2023-03-01</td>\n",
       "      <td>3.5</td>\n",
       "      <td>20246.439</td>\n",
       "      <td>6.451708</td>\n",
       "      <td>70784.000000</td>\n",
       "      <td>6.5440</td>\n",
       "      <td>62.0</td>\n",
       "      <td>4.65</td>\n",
       "      <td>66.0</td>\n",
       "      <td>298.166</td>\n",
       "    </tr>\n",
       "  </tbody>\n",
       "</table>\n",
       "<p>228 rows × 10 columns</p>\n",
       "</div>"
      ],
      "text/plain": [
       "          Date  Unemployment_rate        GDP       CPI  \\\n",
       "11  2005-01-01                5.3  14767.846  2.315890   \n",
       "12  2005-02-01                5.4  14767.846  2.286245   \n",
       "13  2005-03-01                5.2  14767.846  2.246153   \n",
       "..         ...                ...        ...       ...   \n",
       "237 2023-01-01                3.4  20246.439  6.554492   \n",
       "238 2023-02-01                3.6  20246.439  6.593750   \n",
       "239 2023-03-01                3.5  20246.439  6.451708   \n",
       "\n",
       "     Median_household_income  Mortgage_rate  Consumer_sentiment  \\\n",
       "11              64427.000000         5.7100                95.5   \n",
       "12              64468.916667         5.6275                94.1   \n",
       "13              64510.833333         5.9280                92.6   \n",
       "..                       ...            ...                 ...   \n",
       "237             70784.000000         6.2725                64.9   \n",
       "238             70784.000000         6.2575                67.0   \n",
       "239             70784.000000         6.5440                62.0   \n",
       "\n",
       "     Intrest_rates  Homeownership_rate   Housing_price  \n",
       "11            2.28                 69.2        161.288  \n",
       "12            2.50                 69.2        163.344  \n",
       "13            2.63                 69.2        165.812  \n",
       "..             ...                  ...            ...  \n",
       "237           4.33                 66.0        296.064  \n",
       "238           4.57                 66.0        296.926  \n",
       "239           4.65                 66.0        298.166  \n",
       "\n",
       "[228 rows x 10 columns]"
      ]
     },
     "execution_count": 72,
     "metadata": {},
     "output_type": "execute_result"
    }
   ],
   "source": [
    "df1.dropna(subset=['Housing_price'])"
   ]
  },
  {
   "cell_type": "code",
   "execution_count": 73,
   "id": "4dddd143",
   "metadata": {},
   "outputs": [
    {
     "name": "stdout",
     "output_type": "stream",
     "text": [
      "Correlation coefficient (Unemployment_rate vs. Housing_price): -0.5834279406569531\n",
      "Correlation coefficient (GDP vs. Housing_price): 0.8519928416718247\n",
      "Correlation coefficient (CPI vs. Housing_price): 0.805781454486465\n",
      "Correlation coefficient (Median_household_income vs. Housing_price): 0.8414162849524457\n",
      "Correlation coefficient (Mortgage_rate vs. Housing_price): 0.07759775332159355\n",
      "Correlation coefficient (Consumer_sentiment vs. Housing_price): -0.20768700673087553\n",
      "Correlation coefficient (Intrest_rates vs. Housing_price): 0.2743479190867946\n",
      "Correlation coefficient (Homeownership_rate  vs. Housing_price): -0.1180019732602069\n"
     ]
    }
   ],
   "source": [
    "for column in df1.columns:\n",
    "    if column != 'Housing_price' and df1[column].dtype in [np.float64, np.int64]:\n",
    "        # Calculate the correlation coefficient between the current column and Housing_price\n",
    "        corr = df1[column].corr(df1['Housing_price'].dropna())\n",
    "        print(f\"Correlation coefficient ({column} vs. Housing_price): {corr}\")\n",
    "\n",
    "\n"
   ]
  },
  {
   "cell_type": "code",
   "execution_count": 74,
   "id": "d7495318",
   "metadata": {},
   "outputs": [
    {
     "data": {
      "application/vnd.plotly.v1+json": {
       "config": {
        "plotlyServerURL": "https://plot.ly"
       },
       "data": [
        {
         "hovertemplate": "Date=%{x}<br>Housing_price=%{y}<extra></extra>",
         "legendgroup": "",
         "marker": {
          "color": "#636efa",
          "symbol": "circle"
         },
         "mode": "markers",
         "name": "",
         "orientation": "v",
         "showlegend": false,
         "type": "scatter",
         "x": [
          "2005-01-01T00:00:00",
          "2005-02-01T00:00:00",
          "2005-03-01T00:00:00",
          "2005-04-01T00:00:00",
          "2005-05-01T00:00:00",
          "2005-06-01T00:00:00",
          "2005-07-01T00:00:00",
          "2005-08-01T00:00:00",
          "2005-09-01T00:00:00",
          "2005-10-01T00:00:00",
          "2005-11-01T00:00:00",
          "2005-12-01T00:00:00",
          "2006-01-01T00:00:00",
          "2006-02-01T00:00:00",
          "2006-03-01T00:00:00",
          "2006-04-01T00:00:00",
          "2006-05-01T00:00:00",
          "2006-06-01T00:00:00",
          "2006-07-01T00:00:00",
          "2006-08-01T00:00:00",
          "2006-09-01T00:00:00",
          "2006-10-01T00:00:00",
          "2006-11-01T00:00:00",
          "2006-12-01T00:00:00",
          "2007-01-01T00:00:00",
          "2007-02-01T00:00:00",
          "2007-03-01T00:00:00",
          "2007-04-01T00:00:00",
          "2007-05-01T00:00:00",
          "2007-06-01T00:00:00",
          "2007-07-01T00:00:00",
          "2007-08-01T00:00:00",
          "2007-09-01T00:00:00",
          "2007-10-01T00:00:00",
          "2007-11-01T00:00:00",
          "2007-12-01T00:00:00",
          "2008-01-01T00:00:00",
          "2008-02-01T00:00:00",
          "2008-03-01T00:00:00",
          "2008-04-01T00:00:00",
          "2008-05-01T00:00:00",
          "2008-06-01T00:00:00",
          "2008-07-01T00:00:00",
          "2008-08-01T00:00:00",
          "2008-09-01T00:00:00",
          "2008-10-01T00:00:00",
          "2008-11-01T00:00:00",
          "2008-12-01T00:00:00",
          "2009-01-01T00:00:00",
          "2009-02-01T00:00:00",
          "2009-03-01T00:00:00",
          "2009-04-01T00:00:00",
          "2009-05-01T00:00:00",
          "2009-06-01T00:00:00",
          "2009-07-01T00:00:00",
          "2009-08-01T00:00:00",
          "2009-09-01T00:00:00",
          "2009-10-01T00:00:00",
          "2009-11-01T00:00:00",
          "2009-12-01T00:00:00",
          "2010-01-01T00:00:00",
          "2010-02-01T00:00:00",
          "2010-03-01T00:00:00",
          "2010-04-01T00:00:00",
          "2010-05-01T00:00:00",
          "2010-06-01T00:00:00",
          "2010-07-01T00:00:00",
          "2010-08-01T00:00:00",
          "2010-09-01T00:00:00",
          "2010-10-01T00:00:00",
          "2010-11-01T00:00:00",
          "2010-12-01T00:00:00",
          "2011-01-01T00:00:00",
          "2011-02-01T00:00:00",
          "2011-03-01T00:00:00",
          "2011-04-01T00:00:00",
          "2011-05-01T00:00:00",
          "2011-06-01T00:00:00",
          "2011-07-01T00:00:00",
          "2011-08-01T00:00:00",
          "2011-09-01T00:00:00",
          "2011-10-01T00:00:00",
          "2011-11-01T00:00:00",
          "2011-12-01T00:00:00",
          "2012-01-01T00:00:00",
          "2012-02-01T00:00:00",
          "2012-03-01T00:00:00",
          "2012-04-01T00:00:00",
          "2012-05-01T00:00:00",
          "2012-06-01T00:00:00",
          "2012-07-01T00:00:00",
          "2012-08-01T00:00:00",
          "2012-09-01T00:00:00",
          "2012-10-01T00:00:00",
          "2012-11-01T00:00:00",
          "2012-12-01T00:00:00",
          "2013-01-01T00:00:00",
          "2013-02-01T00:00:00",
          "2013-03-01T00:00:00",
          "2013-04-01T00:00:00",
          "2013-05-01T00:00:00",
          "2013-06-01T00:00:00",
          "2013-07-01T00:00:00",
          "2013-08-01T00:00:00",
          "2013-09-01T00:00:00",
          "2013-10-01T00:00:00",
          "2013-11-01T00:00:00",
          "2013-12-01T00:00:00",
          "2014-01-01T00:00:00",
          "2014-02-01T00:00:00",
          "2014-03-01T00:00:00",
          "2014-04-01T00:00:00",
          "2014-05-01T00:00:00",
          "2014-06-01T00:00:00",
          "2014-07-01T00:00:00",
          "2014-08-01T00:00:00",
          "2014-09-01T00:00:00",
          "2014-10-01T00:00:00",
          "2014-11-01T00:00:00",
          "2014-12-01T00:00:00",
          "2015-01-01T00:00:00",
          "2015-02-01T00:00:00",
          "2015-03-01T00:00:00",
          "2015-04-01T00:00:00",
          "2015-05-01T00:00:00",
          "2015-06-01T00:00:00",
          "2015-07-01T00:00:00",
          "2015-08-01T00:00:00",
          "2015-09-01T00:00:00",
          "2015-10-01T00:00:00",
          "2015-11-01T00:00:00",
          "2015-12-01T00:00:00",
          "2016-01-01T00:00:00",
          "2016-02-01T00:00:00",
          "2016-03-01T00:00:00",
          "2016-04-01T00:00:00",
          "2016-05-01T00:00:00",
          "2016-06-01T00:00:00",
          "2016-07-01T00:00:00",
          "2016-08-01T00:00:00",
          "2016-09-01T00:00:00",
          "2016-10-01T00:00:00",
          "2016-11-01T00:00:00",
          "2016-12-01T00:00:00",
          "2017-01-01T00:00:00",
          "2017-02-01T00:00:00",
          "2017-03-01T00:00:00",
          "2017-04-01T00:00:00",
          "2017-05-01T00:00:00",
          "2017-06-01T00:00:00",
          "2017-07-01T00:00:00",
          "2017-08-01T00:00:00",
          "2017-09-01T00:00:00",
          "2017-10-01T00:00:00",
          "2017-11-01T00:00:00",
          "2017-12-01T00:00:00",
          "2018-01-01T00:00:00",
          "2018-02-01T00:00:00",
          "2018-03-01T00:00:00",
          "2018-04-01T00:00:00",
          "2018-05-01T00:00:00",
          "2018-06-01T00:00:00",
          "2018-07-01T00:00:00",
          "2018-08-01T00:00:00",
          "2018-09-01T00:00:00",
          "2018-10-01T00:00:00",
          "2018-11-01T00:00:00",
          "2018-12-01T00:00:00",
          "2019-01-01T00:00:00",
          "2019-02-01T00:00:00",
          "2019-03-01T00:00:00",
          "2019-04-01T00:00:00",
          "2019-05-01T00:00:00",
          "2019-06-01T00:00:00",
          "2019-07-01T00:00:00",
          "2019-08-01T00:00:00",
          "2019-09-01T00:00:00",
          "2019-10-01T00:00:00",
          "2019-11-01T00:00:00",
          "2019-12-01T00:00:00",
          "2020-01-01T00:00:00",
          "2020-02-01T00:00:00",
          "2020-03-01T00:00:00",
          "2020-04-01T00:00:00",
          "2020-05-01T00:00:00",
          "2020-06-01T00:00:00",
          "2020-07-01T00:00:00",
          "2020-08-01T00:00:00",
          "2020-09-01T00:00:00",
          "2020-10-01T00:00:00",
          "2020-11-01T00:00:00",
          "2020-12-01T00:00:00",
          "2021-01-01T00:00:00",
          "2021-02-01T00:00:00",
          "2021-03-01T00:00:00",
          "2021-04-01T00:00:00",
          "2021-05-01T00:00:00",
          "2021-06-01T00:00:00",
          "2021-07-01T00:00:00",
          "2021-08-01T00:00:00",
          "2021-09-01T00:00:00",
          "2021-10-01T00:00:00",
          "2021-11-01T00:00:00",
          "2021-12-01T00:00:00",
          "2022-01-01T00:00:00",
          "2022-02-01T00:00:00",
          "2022-03-01T00:00:00",
          "2022-04-01T00:00:00",
          "2022-05-01T00:00:00",
          "2022-06-01T00:00:00",
          "2022-07-01T00:00:00",
          "2022-08-01T00:00:00",
          "2022-09-01T00:00:00",
          "2022-10-01T00:00:00",
          "2022-11-01T00:00:00",
          "2022-12-01T00:00:00",
          "2023-01-01T00:00:00",
          "2023-02-01T00:00:00",
          "2023-03-01T00:00:00",
          "2023-04-01T00:00:00",
          "2022-07-01T00:00:00",
          "2022-08-01T00:00:00",
          "2022-09-01T00:00:00",
          "2022-10-01T00:00:00",
          "2022-11-01T00:00:00",
          "2022-12-01T00:00:00",
          "2023-01-01T00:00:00",
          "2023-02-01T00:00:00",
          "2023-03-01T00:00:00"
         ],
         "xaxis": "x",
         "y": [
          161.28799999999998,
          163.344,
          165.812,
          167.50099999999998,
          169.351,
          171.19,
          172.86,
          174.442,
          176.438,
          178.02700000000002,
          179.68099999999998,
          180.91,
          182.321,
          183.287,
          184.365,
          184.329,
          184.15599999999998,
          183.507,
          183.067,
          182.593,
          182.798,
          183.199,
          183.61,
          184.139,
          184.517,
          184.59900000000002,
          184.15,
          183.01,
          181.6,
          180.25400000000002,
          179.111,
          178.11599999999999,
          177.55700000000002,
          176.623,
          175.146,
          174.34099999999998,
          173.132,
          171.541,
          170.054,
          168.33900000000003,
          166.66,
          165.018,
          163.567,
          161.988,
          160.308,
          158.327,
          156.141,
          153.618,
          151.506,
          150.014,
          148.66,
          147.94899999999998,
          147.695,
          148.09,
          148.41,
          148.27700000000002,
          148.024,
          147.849,
          148.13299999999998,
          147.928,
          147.395,
          145.631,
          145.859,
          146.40200000000002,
          146.393,
          145.719,
          144.989,
          143.91299999999998,
          143.017,
          142.53,
          142.173,
          142.059,
          141.52200000000002,
          140.35,
          139.982,
          140.009,
          139.904,
          139.86,
          139.72899999999998,
          139.30700000000002,
          138.668,
          137.952,
          137.15200000000002,
          136.675,
          136.607,
          136.532,
          137.904,
          139.155,
          140.155,
          141.03,
          141.67,
          142.28,
          142.909,
          143.601,
          144.585,
          145.502,
          146.827,
          147.783,
          149.963,
          151.518,
          152.849,
          154.197,
          155.602,
          156.965,
          158.227,
          159.241,
          160.07299999999998,
          160.993,
          161.928,
          162.52700000000002,
          163.088,
          163.39600000000002,
          163.66299999999998,
          164.05599999999998,
          164.574,
          165.218,
          165.907,
          166.644,
          167.33700000000002,
          168.053,
          168.637,
          169.132,
          169.80200000000002,
          170.301,
          170.88400000000001,
          171.457,
          172.125,
          172.938,
          173.83,
          174.794,
          175.74200000000002,
          176.548,
          177.27700000000002,
          177.65400000000002,
          178.168,
          178.77,
          179.43200000000002,
          180.065,
          180.826,
          181.854,
          182.827,
          183.75400000000002,
          184.762,
          185.72299999999998,
          186.80200000000002,
          187.31599999999997,
          187.997,
          188.733,
          189.62900000000002,
          190.50400000000002,
          191.452,
          192.683,
          193.775,
          194.81400000000002,
          195.953,
          197.15900000000002,
          198.291,
          199.21400000000003,
          199.96099999999998,
          200.668,
          201.447,
          202.245,
          202.929,
          203.734,
          204.39,
          205.13299999999998,
          205.666,
          206.114,
          206.479,
          206.803,
          207.043,
          207.53799999999998,
          208.19400000000002,
          208.701,
          209.31799999999998,
          210.183,
          210.972,
          211.81599999999997,
          212.762,
          213.843,
          214.84599999999998,
          215.722,
          216.345,
          216.87,
          217.11900000000003,
          217.739,
          219.437,
          222.537,
          225.933,
          229.782,
          233.162,
          236.345,
          239.3,
          242.111,
          245.364,
          249.18400000000003,
          253.68200000000002,
          258.592,
          262.907,
          267.069,
          270.498,
          273.748,
          277.122,
          281.127,
          285.493,
          290.736,
          296.296,
          300.829,
          304.29400000000004,
          305.163,
          304.04400000000004,
          301.712,
          299.41200000000003,
          298.793,
          297.985,
          296.952,
          296.064,
          296.926,
          298.166,
          null,
          304.04400000000004,
          301.712,
          299.41200000000003,
          298.793,
          297.985,
          296.952,
          296.064,
          296.926,
          298.166
         ],
         "yaxis": "y"
        }
       ],
       "layout": {
        "legend": {
         "tracegroupgap": 0
        },
        "template": {
         "data": {
          "bar": [
           {
            "error_x": {
             "color": "#2a3f5f"
            },
            "error_y": {
             "color": "#2a3f5f"
            },
            "marker": {
             "line": {
              "color": "#E5ECF6",
              "width": 0.5
             },
             "pattern": {
              "fillmode": "overlay",
              "size": 10,
              "solidity": 0.2
             }
            },
            "type": "bar"
           }
          ],
          "barpolar": [
           {
            "marker": {
             "line": {
              "color": "#E5ECF6",
              "width": 0.5
             },
             "pattern": {
              "fillmode": "overlay",
              "size": 10,
              "solidity": 0.2
             }
            },
            "type": "barpolar"
           }
          ],
          "carpet": [
           {
            "aaxis": {
             "endlinecolor": "#2a3f5f",
             "gridcolor": "white",
             "linecolor": "white",
             "minorgridcolor": "white",
             "startlinecolor": "#2a3f5f"
            },
            "baxis": {
             "endlinecolor": "#2a3f5f",
             "gridcolor": "white",
             "linecolor": "white",
             "minorgridcolor": "white",
             "startlinecolor": "#2a3f5f"
            },
            "type": "carpet"
           }
          ],
          "choropleth": [
           {
            "colorbar": {
             "outlinewidth": 0,
             "ticks": ""
            },
            "type": "choropleth"
           }
          ],
          "contour": [
           {
            "colorbar": {
             "outlinewidth": 0,
             "ticks": ""
            },
            "colorscale": [
             [
              0,
              "#0d0887"
             ],
             [
              0.1111111111111111,
              "#46039f"
             ],
             [
              0.2222222222222222,
              "#7201a8"
             ],
             [
              0.3333333333333333,
              "#9c179e"
             ],
             [
              0.4444444444444444,
              "#bd3786"
             ],
             [
              0.5555555555555556,
              "#d8576b"
             ],
             [
              0.6666666666666666,
              "#ed7953"
             ],
             [
              0.7777777777777778,
              "#fb9f3a"
             ],
             [
              0.8888888888888888,
              "#fdca26"
             ],
             [
              1,
              "#f0f921"
             ]
            ],
            "type": "contour"
           }
          ],
          "contourcarpet": [
           {
            "colorbar": {
             "outlinewidth": 0,
             "ticks": ""
            },
            "type": "contourcarpet"
           }
          ],
          "heatmap": [
           {
            "colorbar": {
             "outlinewidth": 0,
             "ticks": ""
            },
            "colorscale": [
             [
              0,
              "#0d0887"
             ],
             [
              0.1111111111111111,
              "#46039f"
             ],
             [
              0.2222222222222222,
              "#7201a8"
             ],
             [
              0.3333333333333333,
              "#9c179e"
             ],
             [
              0.4444444444444444,
              "#bd3786"
             ],
             [
              0.5555555555555556,
              "#d8576b"
             ],
             [
              0.6666666666666666,
              "#ed7953"
             ],
             [
              0.7777777777777778,
              "#fb9f3a"
             ],
             [
              0.8888888888888888,
              "#fdca26"
             ],
             [
              1,
              "#f0f921"
             ]
            ],
            "type": "heatmap"
           }
          ],
          "heatmapgl": [
           {
            "colorbar": {
             "outlinewidth": 0,
             "ticks": ""
            },
            "colorscale": [
             [
              0,
              "#0d0887"
             ],
             [
              0.1111111111111111,
              "#46039f"
             ],
             [
              0.2222222222222222,
              "#7201a8"
             ],
             [
              0.3333333333333333,
              "#9c179e"
             ],
             [
              0.4444444444444444,
              "#bd3786"
             ],
             [
              0.5555555555555556,
              "#d8576b"
             ],
             [
              0.6666666666666666,
              "#ed7953"
             ],
             [
              0.7777777777777778,
              "#fb9f3a"
             ],
             [
              0.8888888888888888,
              "#fdca26"
             ],
             [
              1,
              "#f0f921"
             ]
            ],
            "type": "heatmapgl"
           }
          ],
          "histogram": [
           {
            "marker": {
             "pattern": {
              "fillmode": "overlay",
              "size": 10,
              "solidity": 0.2
             }
            },
            "type": "histogram"
           }
          ],
          "histogram2d": [
           {
            "colorbar": {
             "outlinewidth": 0,
             "ticks": ""
            },
            "colorscale": [
             [
              0,
              "#0d0887"
             ],
             [
              0.1111111111111111,
              "#46039f"
             ],
             [
              0.2222222222222222,
              "#7201a8"
             ],
             [
              0.3333333333333333,
              "#9c179e"
             ],
             [
              0.4444444444444444,
              "#bd3786"
             ],
             [
              0.5555555555555556,
              "#d8576b"
             ],
             [
              0.6666666666666666,
              "#ed7953"
             ],
             [
              0.7777777777777778,
              "#fb9f3a"
             ],
             [
              0.8888888888888888,
              "#fdca26"
             ],
             [
              1,
              "#f0f921"
             ]
            ],
            "type": "histogram2d"
           }
          ],
          "histogram2dcontour": [
           {
            "colorbar": {
             "outlinewidth": 0,
             "ticks": ""
            },
            "colorscale": [
             [
              0,
              "#0d0887"
             ],
             [
              0.1111111111111111,
              "#46039f"
             ],
             [
              0.2222222222222222,
              "#7201a8"
             ],
             [
              0.3333333333333333,
              "#9c179e"
             ],
             [
              0.4444444444444444,
              "#bd3786"
             ],
             [
              0.5555555555555556,
              "#d8576b"
             ],
             [
              0.6666666666666666,
              "#ed7953"
             ],
             [
              0.7777777777777778,
              "#fb9f3a"
             ],
             [
              0.8888888888888888,
              "#fdca26"
             ],
             [
              1,
              "#f0f921"
             ]
            ],
            "type": "histogram2dcontour"
           }
          ],
          "mesh3d": [
           {
            "colorbar": {
             "outlinewidth": 0,
             "ticks": ""
            },
            "type": "mesh3d"
           }
          ],
          "parcoords": [
           {
            "line": {
             "colorbar": {
              "outlinewidth": 0,
              "ticks": ""
             }
            },
            "type": "parcoords"
           }
          ],
          "pie": [
           {
            "automargin": true,
            "type": "pie"
           }
          ],
          "scatter": [
           {
            "fillpattern": {
             "fillmode": "overlay",
             "size": 10,
             "solidity": 0.2
            },
            "type": "scatter"
           }
          ],
          "scatter3d": [
           {
            "line": {
             "colorbar": {
              "outlinewidth": 0,
              "ticks": ""
             }
            },
            "marker": {
             "colorbar": {
              "outlinewidth": 0,
              "ticks": ""
             }
            },
            "type": "scatter3d"
           }
          ],
          "scattercarpet": [
           {
            "marker": {
             "colorbar": {
              "outlinewidth": 0,
              "ticks": ""
             }
            },
            "type": "scattercarpet"
           }
          ],
          "scattergeo": [
           {
            "marker": {
             "colorbar": {
              "outlinewidth": 0,
              "ticks": ""
             }
            },
            "type": "scattergeo"
           }
          ],
          "scattergl": [
           {
            "marker": {
             "colorbar": {
              "outlinewidth": 0,
              "ticks": ""
             }
            },
            "type": "scattergl"
           }
          ],
          "scattermapbox": [
           {
            "marker": {
             "colorbar": {
              "outlinewidth": 0,
              "ticks": ""
             }
            },
            "type": "scattermapbox"
           }
          ],
          "scatterpolar": [
           {
            "marker": {
             "colorbar": {
              "outlinewidth": 0,
              "ticks": ""
             }
            },
            "type": "scatterpolar"
           }
          ],
          "scatterpolargl": [
           {
            "marker": {
             "colorbar": {
              "outlinewidth": 0,
              "ticks": ""
             }
            },
            "type": "scatterpolargl"
           }
          ],
          "scatterternary": [
           {
            "marker": {
             "colorbar": {
              "outlinewidth": 0,
              "ticks": ""
             }
            },
            "type": "scatterternary"
           }
          ],
          "surface": [
           {
            "colorbar": {
             "outlinewidth": 0,
             "ticks": ""
            },
            "colorscale": [
             [
              0,
              "#0d0887"
             ],
             [
              0.1111111111111111,
              "#46039f"
             ],
             [
              0.2222222222222222,
              "#7201a8"
             ],
             [
              0.3333333333333333,
              "#9c179e"
             ],
             [
              0.4444444444444444,
              "#bd3786"
             ],
             [
              0.5555555555555556,
              "#d8576b"
             ],
             [
              0.6666666666666666,
              "#ed7953"
             ],
             [
              0.7777777777777778,
              "#fb9f3a"
             ],
             [
              0.8888888888888888,
              "#fdca26"
             ],
             [
              1,
              "#f0f921"
             ]
            ],
            "type": "surface"
           }
          ],
          "table": [
           {
            "cells": {
             "fill": {
              "color": "#EBF0F8"
             },
             "line": {
              "color": "white"
             }
            },
            "header": {
             "fill": {
              "color": "#C8D4E3"
             },
             "line": {
              "color": "white"
             }
            },
            "type": "table"
           }
          ]
         },
         "layout": {
          "annotationdefaults": {
           "arrowcolor": "#2a3f5f",
           "arrowhead": 0,
           "arrowwidth": 1
          },
          "autotypenumbers": "strict",
          "coloraxis": {
           "colorbar": {
            "outlinewidth": 0,
            "ticks": ""
           }
          },
          "colorscale": {
           "diverging": [
            [
             0,
             "#8e0152"
            ],
            [
             0.1,
             "#c51b7d"
            ],
            [
             0.2,
             "#de77ae"
            ],
            [
             0.3,
             "#f1b6da"
            ],
            [
             0.4,
             "#fde0ef"
            ],
            [
             0.5,
             "#f7f7f7"
            ],
            [
             0.6,
             "#e6f5d0"
            ],
            [
             0.7,
             "#b8e186"
            ],
            [
             0.8,
             "#7fbc41"
            ],
            [
             0.9,
             "#4d9221"
            ],
            [
             1,
             "#276419"
            ]
           ],
           "sequential": [
            [
             0,
             "#0d0887"
            ],
            [
             0.1111111111111111,
             "#46039f"
            ],
            [
             0.2222222222222222,
             "#7201a8"
            ],
            [
             0.3333333333333333,
             "#9c179e"
            ],
            [
             0.4444444444444444,
             "#bd3786"
            ],
            [
             0.5555555555555556,
             "#d8576b"
            ],
            [
             0.6666666666666666,
             "#ed7953"
            ],
            [
             0.7777777777777778,
             "#fb9f3a"
            ],
            [
             0.8888888888888888,
             "#fdca26"
            ],
            [
             1,
             "#f0f921"
            ]
           ],
           "sequentialminus": [
            [
             0,
             "#0d0887"
            ],
            [
             0.1111111111111111,
             "#46039f"
            ],
            [
             0.2222222222222222,
             "#7201a8"
            ],
            [
             0.3333333333333333,
             "#9c179e"
            ],
            [
             0.4444444444444444,
             "#bd3786"
            ],
            [
             0.5555555555555556,
             "#d8576b"
            ],
            [
             0.6666666666666666,
             "#ed7953"
            ],
            [
             0.7777777777777778,
             "#fb9f3a"
            ],
            [
             0.8888888888888888,
             "#fdca26"
            ],
            [
             1,
             "#f0f921"
            ]
           ]
          },
          "colorway": [
           "#636efa",
           "#EF553B",
           "#00cc96",
           "#ab63fa",
           "#FFA15A",
           "#19d3f3",
           "#FF6692",
           "#B6E880",
           "#FF97FF",
           "#FECB52"
          ],
          "font": {
           "color": "#2a3f5f"
          },
          "geo": {
           "bgcolor": "white",
           "lakecolor": "white",
           "landcolor": "#E5ECF6",
           "showlakes": true,
           "showland": true,
           "subunitcolor": "white"
          },
          "hoverlabel": {
           "align": "left"
          },
          "hovermode": "closest",
          "mapbox": {
           "style": "light"
          },
          "paper_bgcolor": "white",
          "plot_bgcolor": "#E5ECF6",
          "polar": {
           "angularaxis": {
            "gridcolor": "white",
            "linecolor": "white",
            "ticks": ""
           },
           "bgcolor": "#E5ECF6",
           "radialaxis": {
            "gridcolor": "white",
            "linecolor": "white",
            "ticks": ""
           }
          },
          "scene": {
           "xaxis": {
            "backgroundcolor": "#E5ECF6",
            "gridcolor": "white",
            "gridwidth": 2,
            "linecolor": "white",
            "showbackground": true,
            "ticks": "",
            "zerolinecolor": "white"
           },
           "yaxis": {
            "backgroundcolor": "#E5ECF6",
            "gridcolor": "white",
            "gridwidth": 2,
            "linecolor": "white",
            "showbackground": true,
            "ticks": "",
            "zerolinecolor": "white"
           },
           "zaxis": {
            "backgroundcolor": "#E5ECF6",
            "gridcolor": "white",
            "gridwidth": 2,
            "linecolor": "white",
            "showbackground": true,
            "ticks": "",
            "zerolinecolor": "white"
           }
          },
          "shapedefaults": {
           "line": {
            "color": "#2a3f5f"
           }
          },
          "ternary": {
           "aaxis": {
            "gridcolor": "white",
            "linecolor": "white",
            "ticks": ""
           },
           "baxis": {
            "gridcolor": "white",
            "linecolor": "white",
            "ticks": ""
           },
           "bgcolor": "#E5ECF6",
           "caxis": {
            "gridcolor": "white",
            "linecolor": "white",
            "ticks": ""
           }
          },
          "title": {
           "x": 0.05
          },
          "xaxis": {
           "automargin": true,
           "gridcolor": "white",
           "linecolor": "white",
           "ticks": "",
           "title": {
            "standoff": 15
           },
           "zerolinecolor": "white",
           "zerolinewidth": 2
          },
          "yaxis": {
           "automargin": true,
           "gridcolor": "white",
           "linecolor": "white",
           "ticks": "",
           "title": {
            "standoff": 15
           },
           "zerolinecolor": "white",
           "zerolinewidth": 2
          }
         }
        },
        "title": {
         "text": "<b>Date vs. Housing Price</b>"
        },
        "xaxis": {
         "anchor": "y",
         "domain": [
          0,
          1
         ],
         "title": {
          "text": "Date"
         }
        },
        "yaxis": {
         "anchor": "x",
         "domain": [
          0,
          1
         ],
         "title": {
          "text": "Housing_price"
         }
        }
       }
      },
      "text/html": [
       "<div>                            <div id=\"7b256c20-bbc9-4eca-868d-679ebcd5b155\" class=\"plotly-graph-div\" style=\"height:525px; width:100%;\"></div>            <script type=\"text/javascript\">                require([\"plotly\"], function(Plotly) {                    window.PLOTLYENV=window.PLOTLYENV || {};                                    if (document.getElementById(\"7b256c20-bbc9-4eca-868d-679ebcd5b155\")) {                    Plotly.newPlot(                        \"7b256c20-bbc9-4eca-868d-679ebcd5b155\",                        [{\"hovertemplate\":\"Date=%{x}<br>Housing_price=%{y}<extra></extra>\",\"legendgroup\":\"\",\"marker\":{\"color\":\"#636efa\",\"symbol\":\"circle\"},\"mode\":\"markers\",\"name\":\"\",\"orientation\":\"v\",\"showlegend\":false,\"x\":[\"2005-01-01T00:00:00\",\"2005-02-01T00:00:00\",\"2005-03-01T00:00:00\",\"2005-04-01T00:00:00\",\"2005-05-01T00:00:00\",\"2005-06-01T00:00:00\",\"2005-07-01T00:00:00\",\"2005-08-01T00:00:00\",\"2005-09-01T00:00:00\",\"2005-10-01T00:00:00\",\"2005-11-01T00:00:00\",\"2005-12-01T00:00:00\",\"2006-01-01T00:00:00\",\"2006-02-01T00:00:00\",\"2006-03-01T00:00:00\",\"2006-04-01T00:00:00\",\"2006-05-01T00:00:00\",\"2006-06-01T00:00:00\",\"2006-07-01T00:00:00\",\"2006-08-01T00:00:00\",\"2006-09-01T00:00:00\",\"2006-10-01T00:00:00\",\"2006-11-01T00:00:00\",\"2006-12-01T00:00:00\",\"2007-01-01T00:00:00\",\"2007-02-01T00:00:00\",\"2007-03-01T00:00:00\",\"2007-04-01T00:00:00\",\"2007-05-01T00:00:00\",\"2007-06-01T00:00:00\",\"2007-07-01T00:00:00\",\"2007-08-01T00:00:00\",\"2007-09-01T00:00:00\",\"2007-10-01T00:00:00\",\"2007-11-01T00:00:00\",\"2007-12-01T00:00:00\",\"2008-01-01T00:00:00\",\"2008-02-01T00:00:00\",\"2008-03-01T00:00:00\",\"2008-04-01T00:00:00\",\"2008-05-01T00:00:00\",\"2008-06-01T00:00:00\",\"2008-07-01T00:00:00\",\"2008-08-01T00:00:00\",\"2008-09-01T00:00:00\",\"2008-10-01T00:00:00\",\"2008-11-01T00:00:00\",\"2008-12-01T00:00:00\",\"2009-01-01T00:00:00\",\"2009-02-01T00:00:00\",\"2009-03-01T00:00:00\",\"2009-04-01T00:00:00\",\"2009-05-01T00:00:00\",\"2009-06-01T00:00:00\",\"2009-07-01T00:00:00\",\"2009-08-01T00:00:00\",\"2009-09-01T00:00:00\",\"2009-10-01T00:00:00\",\"2009-11-01T00:00:00\",\"2009-12-01T00:00:00\",\"2010-01-01T00:00:00\",\"2010-02-01T00:00:00\",\"2010-03-01T00:00:00\",\"2010-04-01T00:00:00\",\"2010-05-01T00:00:00\",\"2010-06-01T00:00:00\",\"2010-07-01T00:00:00\",\"2010-08-01T00:00:00\",\"2010-09-01T00:00:00\",\"2010-10-01T00:00:00\",\"2010-11-01T00:00:00\",\"2010-12-01T00:00:00\",\"2011-01-01T00:00:00\",\"2011-02-01T00:00:00\",\"2011-03-01T00:00:00\",\"2011-04-01T00:00:00\",\"2011-05-01T00:00:00\",\"2011-06-01T00:00:00\",\"2011-07-01T00:00:00\",\"2011-08-01T00:00:00\",\"2011-09-01T00:00:00\",\"2011-10-01T00:00:00\",\"2011-11-01T00:00:00\",\"2011-12-01T00:00:00\",\"2012-01-01T00:00:00\",\"2012-02-01T00:00:00\",\"2012-03-01T00:00:00\",\"2012-04-01T00:00:00\",\"2012-05-01T00:00:00\",\"2012-06-01T00:00:00\",\"2012-07-01T00:00:00\",\"2012-08-01T00:00:00\",\"2012-09-01T00:00:00\",\"2012-10-01T00:00:00\",\"2012-11-01T00:00:00\",\"2012-12-01T00:00:00\",\"2013-01-01T00:00:00\",\"2013-02-01T00:00:00\",\"2013-03-01T00:00:00\",\"2013-04-01T00:00:00\",\"2013-05-01T00:00:00\",\"2013-06-01T00:00:00\",\"2013-07-01T00:00:00\",\"2013-08-01T00:00:00\",\"2013-09-01T00:00:00\",\"2013-10-01T00:00:00\",\"2013-11-01T00:00:00\",\"2013-12-01T00:00:00\",\"2014-01-01T00:00:00\",\"2014-02-01T00:00:00\",\"2014-03-01T00:00:00\",\"2014-04-01T00:00:00\",\"2014-05-01T00:00:00\",\"2014-06-01T00:00:00\",\"2014-07-01T00:00:00\",\"2014-08-01T00:00:00\",\"2014-09-01T00:00:00\",\"2014-10-01T00:00:00\",\"2014-11-01T00:00:00\",\"2014-12-01T00:00:00\",\"2015-01-01T00:00:00\",\"2015-02-01T00:00:00\",\"2015-03-01T00:00:00\",\"2015-04-01T00:00:00\",\"2015-05-01T00:00:00\",\"2015-06-01T00:00:00\",\"2015-07-01T00:00:00\",\"2015-08-01T00:00:00\",\"2015-09-01T00:00:00\",\"2015-10-01T00:00:00\",\"2015-11-01T00:00:00\",\"2015-12-01T00:00:00\",\"2016-01-01T00:00:00\",\"2016-02-01T00:00:00\",\"2016-03-01T00:00:00\",\"2016-04-01T00:00:00\",\"2016-05-01T00:00:00\",\"2016-06-01T00:00:00\",\"2016-07-01T00:00:00\",\"2016-08-01T00:00:00\",\"2016-09-01T00:00:00\",\"2016-10-01T00:00:00\",\"2016-11-01T00:00:00\",\"2016-12-01T00:00:00\",\"2017-01-01T00:00:00\",\"2017-02-01T00:00:00\",\"2017-03-01T00:00:00\",\"2017-04-01T00:00:00\",\"2017-05-01T00:00:00\",\"2017-06-01T00:00:00\",\"2017-07-01T00:00:00\",\"2017-08-01T00:00:00\",\"2017-09-01T00:00:00\",\"2017-10-01T00:00:00\",\"2017-11-01T00:00:00\",\"2017-12-01T00:00:00\",\"2018-01-01T00:00:00\",\"2018-02-01T00:00:00\",\"2018-03-01T00:00:00\",\"2018-04-01T00:00:00\",\"2018-05-01T00:00:00\",\"2018-06-01T00:00:00\",\"2018-07-01T00:00:00\",\"2018-08-01T00:00:00\",\"2018-09-01T00:00:00\",\"2018-10-01T00:00:00\",\"2018-11-01T00:00:00\",\"2018-12-01T00:00:00\",\"2019-01-01T00:00:00\",\"2019-02-01T00:00:00\",\"2019-03-01T00:00:00\",\"2019-04-01T00:00:00\",\"2019-05-01T00:00:00\",\"2019-06-01T00:00:00\",\"2019-07-01T00:00:00\",\"2019-08-01T00:00:00\",\"2019-09-01T00:00:00\",\"2019-10-01T00:00:00\",\"2019-11-01T00:00:00\",\"2019-12-01T00:00:00\",\"2020-01-01T00:00:00\",\"2020-02-01T00:00:00\",\"2020-03-01T00:00:00\",\"2020-04-01T00:00:00\",\"2020-05-01T00:00:00\",\"2020-06-01T00:00:00\",\"2020-07-01T00:00:00\",\"2020-08-01T00:00:00\",\"2020-09-01T00:00:00\",\"2020-10-01T00:00:00\",\"2020-11-01T00:00:00\",\"2020-12-01T00:00:00\",\"2021-01-01T00:00:00\",\"2021-02-01T00:00:00\",\"2021-03-01T00:00:00\",\"2021-04-01T00:00:00\",\"2021-05-01T00:00:00\",\"2021-06-01T00:00:00\",\"2021-07-01T00:00:00\",\"2021-08-01T00:00:00\",\"2021-09-01T00:00:00\",\"2021-10-01T00:00:00\",\"2021-11-01T00:00:00\",\"2021-12-01T00:00:00\",\"2022-01-01T00:00:00\",\"2022-02-01T00:00:00\",\"2022-03-01T00:00:00\",\"2022-04-01T00:00:00\",\"2022-05-01T00:00:00\",\"2022-06-01T00:00:00\",\"2022-07-01T00:00:00\",\"2022-08-01T00:00:00\",\"2022-09-01T00:00:00\",\"2022-10-01T00:00:00\",\"2022-11-01T00:00:00\",\"2022-12-01T00:00:00\",\"2023-01-01T00:00:00\",\"2023-02-01T00:00:00\",\"2023-03-01T00:00:00\",\"2023-04-01T00:00:00\",\"2022-07-01T00:00:00\",\"2022-08-01T00:00:00\",\"2022-09-01T00:00:00\",\"2022-10-01T00:00:00\",\"2022-11-01T00:00:00\",\"2022-12-01T00:00:00\",\"2023-01-01T00:00:00\",\"2023-02-01T00:00:00\",\"2023-03-01T00:00:00\"],\"xaxis\":\"x\",\"y\":[161.28799999999998,163.344,165.812,167.50099999999998,169.351,171.19,172.86,174.442,176.438,178.02700000000002,179.68099999999998,180.91,182.321,183.287,184.365,184.329,184.15599999999998,183.507,183.067,182.593,182.798,183.199,183.61,184.139,184.517,184.59900000000002,184.15,183.01,181.6,180.25400000000002,179.111,178.11599999999999,177.55700000000002,176.623,175.146,174.34099999999998,173.132,171.541,170.054,168.33900000000003,166.66,165.018,163.567,161.988,160.308,158.327,156.141,153.618,151.506,150.014,148.66,147.94899999999998,147.695,148.09,148.41,148.27700000000002,148.024,147.849,148.13299999999998,147.928,147.395,145.631,145.859,146.40200000000002,146.393,145.719,144.989,143.91299999999998,143.017,142.53,142.173,142.059,141.52200000000002,140.35,139.982,140.009,139.904,139.86,139.72899999999998,139.30700000000002,138.668,137.952,137.15200000000002,136.675,136.607,136.532,137.904,139.155,140.155,141.03,141.67,142.28,142.909,143.601,144.585,145.502,146.827,147.783,149.963,151.518,152.849,154.197,155.602,156.965,158.227,159.241,160.07299999999998,160.993,161.928,162.52700000000002,163.088,163.39600000000002,163.66299999999998,164.05599999999998,164.574,165.218,165.907,166.644,167.33700000000002,168.053,168.637,169.132,169.80200000000002,170.301,170.88400000000001,171.457,172.125,172.938,173.83,174.794,175.74200000000002,176.548,177.27700000000002,177.65400000000002,178.168,178.77,179.43200000000002,180.065,180.826,181.854,182.827,183.75400000000002,184.762,185.72299999999998,186.80200000000002,187.31599999999997,187.997,188.733,189.62900000000002,190.50400000000002,191.452,192.683,193.775,194.81400000000002,195.953,197.15900000000002,198.291,199.21400000000003,199.96099999999998,200.668,201.447,202.245,202.929,203.734,204.39,205.13299999999998,205.666,206.114,206.479,206.803,207.043,207.53799999999998,208.19400000000002,208.701,209.31799999999998,210.183,210.972,211.81599999999997,212.762,213.843,214.84599999999998,215.722,216.345,216.87,217.11900000000003,217.739,219.437,222.537,225.933,229.782,233.162,236.345,239.3,242.111,245.364,249.18400000000003,253.68200000000002,258.592,262.907,267.069,270.498,273.748,277.122,281.127,285.493,290.736,296.296,300.829,304.29400000000004,305.163,304.04400000000004,301.712,299.41200000000003,298.793,297.985,296.952,296.064,296.926,298.166,null,304.04400000000004,301.712,299.41200000000003,298.793,297.985,296.952,296.064,296.926,298.166],\"yaxis\":\"y\",\"type\":\"scatter\"}],                        {\"template\":{\"data\":{\"histogram2dcontour\":[{\"type\":\"histogram2dcontour\",\"colorbar\":{\"outlinewidth\":0,\"ticks\":\"\"},\"colorscale\":[[0.0,\"#0d0887\"],[0.1111111111111111,\"#46039f\"],[0.2222222222222222,\"#7201a8\"],[0.3333333333333333,\"#9c179e\"],[0.4444444444444444,\"#bd3786\"],[0.5555555555555556,\"#d8576b\"],[0.6666666666666666,\"#ed7953\"],[0.7777777777777778,\"#fb9f3a\"],[0.8888888888888888,\"#fdca26\"],[1.0,\"#f0f921\"]]}],\"choropleth\":[{\"type\":\"choropleth\",\"colorbar\":{\"outlinewidth\":0,\"ticks\":\"\"}}],\"histogram2d\":[{\"type\":\"histogram2d\",\"colorbar\":{\"outlinewidth\":0,\"ticks\":\"\"},\"colorscale\":[[0.0,\"#0d0887\"],[0.1111111111111111,\"#46039f\"],[0.2222222222222222,\"#7201a8\"],[0.3333333333333333,\"#9c179e\"],[0.4444444444444444,\"#bd3786\"],[0.5555555555555556,\"#d8576b\"],[0.6666666666666666,\"#ed7953\"],[0.7777777777777778,\"#fb9f3a\"],[0.8888888888888888,\"#fdca26\"],[1.0,\"#f0f921\"]]}],\"heatmap\":[{\"type\":\"heatmap\",\"colorbar\":{\"outlinewidth\":0,\"ticks\":\"\"},\"colorscale\":[[0.0,\"#0d0887\"],[0.1111111111111111,\"#46039f\"],[0.2222222222222222,\"#7201a8\"],[0.3333333333333333,\"#9c179e\"],[0.4444444444444444,\"#bd3786\"],[0.5555555555555556,\"#d8576b\"],[0.6666666666666666,\"#ed7953\"],[0.7777777777777778,\"#fb9f3a\"],[0.8888888888888888,\"#fdca26\"],[1.0,\"#f0f921\"]]}],\"heatmapgl\":[{\"type\":\"heatmapgl\",\"colorbar\":{\"outlinewidth\":0,\"ticks\":\"\"},\"colorscale\":[[0.0,\"#0d0887\"],[0.1111111111111111,\"#46039f\"],[0.2222222222222222,\"#7201a8\"],[0.3333333333333333,\"#9c179e\"],[0.4444444444444444,\"#bd3786\"],[0.5555555555555556,\"#d8576b\"],[0.6666666666666666,\"#ed7953\"],[0.7777777777777778,\"#fb9f3a\"],[0.8888888888888888,\"#fdca26\"],[1.0,\"#f0f921\"]]}],\"contourcarpet\":[{\"type\":\"contourcarpet\",\"colorbar\":{\"outlinewidth\":0,\"ticks\":\"\"}}],\"contour\":[{\"type\":\"contour\",\"colorbar\":{\"outlinewidth\":0,\"ticks\":\"\"},\"colorscale\":[[0.0,\"#0d0887\"],[0.1111111111111111,\"#46039f\"],[0.2222222222222222,\"#7201a8\"],[0.3333333333333333,\"#9c179e\"],[0.4444444444444444,\"#bd3786\"],[0.5555555555555556,\"#d8576b\"],[0.6666666666666666,\"#ed7953\"],[0.7777777777777778,\"#fb9f3a\"],[0.8888888888888888,\"#fdca26\"],[1.0,\"#f0f921\"]]}],\"surface\":[{\"type\":\"surface\",\"colorbar\":{\"outlinewidth\":0,\"ticks\":\"\"},\"colorscale\":[[0.0,\"#0d0887\"],[0.1111111111111111,\"#46039f\"],[0.2222222222222222,\"#7201a8\"],[0.3333333333333333,\"#9c179e\"],[0.4444444444444444,\"#bd3786\"],[0.5555555555555556,\"#d8576b\"],[0.6666666666666666,\"#ed7953\"],[0.7777777777777778,\"#fb9f3a\"],[0.8888888888888888,\"#fdca26\"],[1.0,\"#f0f921\"]]}],\"mesh3d\":[{\"type\":\"mesh3d\",\"colorbar\":{\"outlinewidth\":0,\"ticks\":\"\"}}],\"scatter\":[{\"fillpattern\":{\"fillmode\":\"overlay\",\"size\":10,\"solidity\":0.2},\"type\":\"scatter\"}],\"parcoords\":[{\"type\":\"parcoords\",\"line\":{\"colorbar\":{\"outlinewidth\":0,\"ticks\":\"\"}}}],\"scatterpolargl\":[{\"type\":\"scatterpolargl\",\"marker\":{\"colorbar\":{\"outlinewidth\":0,\"ticks\":\"\"}}}],\"bar\":[{\"error_x\":{\"color\":\"#2a3f5f\"},\"error_y\":{\"color\":\"#2a3f5f\"},\"marker\":{\"line\":{\"color\":\"#E5ECF6\",\"width\":0.5},\"pattern\":{\"fillmode\":\"overlay\",\"size\":10,\"solidity\":0.2}},\"type\":\"bar\"}],\"scattergeo\":[{\"type\":\"scattergeo\",\"marker\":{\"colorbar\":{\"outlinewidth\":0,\"ticks\":\"\"}}}],\"scatterpolar\":[{\"type\":\"scatterpolar\",\"marker\":{\"colorbar\":{\"outlinewidth\":0,\"ticks\":\"\"}}}],\"histogram\":[{\"marker\":{\"pattern\":{\"fillmode\":\"overlay\",\"size\":10,\"solidity\":0.2}},\"type\":\"histogram\"}],\"scattergl\":[{\"type\":\"scattergl\",\"marker\":{\"colorbar\":{\"outlinewidth\":0,\"ticks\":\"\"}}}],\"scatter3d\":[{\"type\":\"scatter3d\",\"line\":{\"colorbar\":{\"outlinewidth\":0,\"ticks\":\"\"}},\"marker\":{\"colorbar\":{\"outlinewidth\":0,\"ticks\":\"\"}}}],\"scattermapbox\":[{\"type\":\"scattermapbox\",\"marker\":{\"colorbar\":{\"outlinewidth\":0,\"ticks\":\"\"}}}],\"scatterternary\":[{\"type\":\"scatterternary\",\"marker\":{\"colorbar\":{\"outlinewidth\":0,\"ticks\":\"\"}}}],\"scattercarpet\":[{\"type\":\"scattercarpet\",\"marker\":{\"colorbar\":{\"outlinewidth\":0,\"ticks\":\"\"}}}],\"carpet\":[{\"aaxis\":{\"endlinecolor\":\"#2a3f5f\",\"gridcolor\":\"white\",\"linecolor\":\"white\",\"minorgridcolor\":\"white\",\"startlinecolor\":\"#2a3f5f\"},\"baxis\":{\"endlinecolor\":\"#2a3f5f\",\"gridcolor\":\"white\",\"linecolor\":\"white\",\"minorgridcolor\":\"white\",\"startlinecolor\":\"#2a3f5f\"},\"type\":\"carpet\"}],\"table\":[{\"cells\":{\"fill\":{\"color\":\"#EBF0F8\"},\"line\":{\"color\":\"white\"}},\"header\":{\"fill\":{\"color\":\"#C8D4E3\"},\"line\":{\"color\":\"white\"}},\"type\":\"table\"}],\"barpolar\":[{\"marker\":{\"line\":{\"color\":\"#E5ECF6\",\"width\":0.5},\"pattern\":{\"fillmode\":\"overlay\",\"size\":10,\"solidity\":0.2}},\"type\":\"barpolar\"}],\"pie\":[{\"automargin\":true,\"type\":\"pie\"}]},\"layout\":{\"autotypenumbers\":\"strict\",\"colorway\":[\"#636efa\",\"#EF553B\",\"#00cc96\",\"#ab63fa\",\"#FFA15A\",\"#19d3f3\",\"#FF6692\",\"#B6E880\",\"#FF97FF\",\"#FECB52\"],\"font\":{\"color\":\"#2a3f5f\"},\"hovermode\":\"closest\",\"hoverlabel\":{\"align\":\"left\"},\"paper_bgcolor\":\"white\",\"plot_bgcolor\":\"#E5ECF6\",\"polar\":{\"bgcolor\":\"#E5ECF6\",\"angularaxis\":{\"gridcolor\":\"white\",\"linecolor\":\"white\",\"ticks\":\"\"},\"radialaxis\":{\"gridcolor\":\"white\",\"linecolor\":\"white\",\"ticks\":\"\"}},\"ternary\":{\"bgcolor\":\"#E5ECF6\",\"aaxis\":{\"gridcolor\":\"white\",\"linecolor\":\"white\",\"ticks\":\"\"},\"baxis\":{\"gridcolor\":\"white\",\"linecolor\":\"white\",\"ticks\":\"\"},\"caxis\":{\"gridcolor\":\"white\",\"linecolor\":\"white\",\"ticks\":\"\"}},\"coloraxis\":{\"colorbar\":{\"outlinewidth\":0,\"ticks\":\"\"}},\"colorscale\":{\"sequential\":[[0.0,\"#0d0887\"],[0.1111111111111111,\"#46039f\"],[0.2222222222222222,\"#7201a8\"],[0.3333333333333333,\"#9c179e\"],[0.4444444444444444,\"#bd3786\"],[0.5555555555555556,\"#d8576b\"],[0.6666666666666666,\"#ed7953\"],[0.7777777777777778,\"#fb9f3a\"],[0.8888888888888888,\"#fdca26\"],[1.0,\"#f0f921\"]],\"sequentialminus\":[[0.0,\"#0d0887\"],[0.1111111111111111,\"#46039f\"],[0.2222222222222222,\"#7201a8\"],[0.3333333333333333,\"#9c179e\"],[0.4444444444444444,\"#bd3786\"],[0.5555555555555556,\"#d8576b\"],[0.6666666666666666,\"#ed7953\"],[0.7777777777777778,\"#fb9f3a\"],[0.8888888888888888,\"#fdca26\"],[1.0,\"#f0f921\"]],\"diverging\":[[0,\"#8e0152\"],[0.1,\"#c51b7d\"],[0.2,\"#de77ae\"],[0.3,\"#f1b6da\"],[0.4,\"#fde0ef\"],[0.5,\"#f7f7f7\"],[0.6,\"#e6f5d0\"],[0.7,\"#b8e186\"],[0.8,\"#7fbc41\"],[0.9,\"#4d9221\"],[1,\"#276419\"]]},\"xaxis\":{\"gridcolor\":\"white\",\"linecolor\":\"white\",\"ticks\":\"\",\"title\":{\"standoff\":15},\"zerolinecolor\":\"white\",\"automargin\":true,\"zerolinewidth\":2},\"yaxis\":{\"gridcolor\":\"white\",\"linecolor\":\"white\",\"ticks\":\"\",\"title\":{\"standoff\":15},\"zerolinecolor\":\"white\",\"automargin\":true,\"zerolinewidth\":2},\"scene\":{\"xaxis\":{\"backgroundcolor\":\"#E5ECF6\",\"gridcolor\":\"white\",\"linecolor\":\"white\",\"showbackground\":true,\"ticks\":\"\",\"zerolinecolor\":\"white\",\"gridwidth\":2},\"yaxis\":{\"backgroundcolor\":\"#E5ECF6\",\"gridcolor\":\"white\",\"linecolor\":\"white\",\"showbackground\":true,\"ticks\":\"\",\"zerolinecolor\":\"white\",\"gridwidth\":2},\"zaxis\":{\"backgroundcolor\":\"#E5ECF6\",\"gridcolor\":\"white\",\"linecolor\":\"white\",\"showbackground\":true,\"ticks\":\"\",\"zerolinecolor\":\"white\",\"gridwidth\":2}},\"shapedefaults\":{\"line\":{\"color\":\"#2a3f5f\"}},\"annotationdefaults\":{\"arrowcolor\":\"#2a3f5f\",\"arrowhead\":0,\"arrowwidth\":1},\"geo\":{\"bgcolor\":\"white\",\"landcolor\":\"#E5ECF6\",\"subunitcolor\":\"white\",\"showland\":true,\"showlakes\":true,\"lakecolor\":\"white\"},\"title\":{\"x\":0.05},\"mapbox\":{\"style\":\"light\"}}},\"xaxis\":{\"anchor\":\"y\",\"domain\":[0.0,1.0],\"title\":{\"text\":\"Date\"}},\"yaxis\":{\"anchor\":\"x\",\"domain\":[0.0,1.0],\"title\":{\"text\":\"Housing_price\"}},\"legend\":{\"tracegroupgap\":0},\"title\":{\"text\":\"<b>Date vs. Housing Price</b>\"}},                        {\"responsive\": true}                    ).then(function(){\n",
       "                            \n",
       "var gd = document.getElementById('7b256c20-bbc9-4eca-868d-679ebcd5b155');\n",
       "var x = new MutationObserver(function (mutations, observer) {{\n",
       "        var display = window.getComputedStyle(gd).display;\n",
       "        if (!display || display === 'none') {{\n",
       "            console.log([gd, 'removed!']);\n",
       "            Plotly.purge(gd);\n",
       "            observer.disconnect();\n",
       "        }}\n",
       "}});\n",
       "\n",
       "// Listen for the removal of the full notebook cells\n",
       "var notebookContainer = gd.closest('#notebook-container');\n",
       "if (notebookContainer) {{\n",
       "    x.observe(notebookContainer, {childList: true});\n",
       "}}\n",
       "\n",
       "// Listen for the clearing of the current output cell\n",
       "var outputEl = gd.closest('.output');\n",
       "if (outputEl) {{\n",
       "    x.observe(outputEl, {childList: true});\n",
       "}}\n",
       "\n",
       "                        })                };                });            </script>        </div>"
      ]
     },
     "metadata": {},
     "output_type": "display_data"
    },
    {
     "data": {
      "application/vnd.plotly.v1+json": {
       "config": {
        "plotlyServerURL": "https://plot.ly"
       },
       "data": [
        {
         "hovertemplate": "Unemployment_rate=%{x}<br>Housing_price=%{y}<extra></extra>",
         "legendgroup": "",
         "marker": {
          "color": "#636efa",
          "symbol": "circle"
         },
         "mode": "markers",
         "name": "",
         "orientation": "v",
         "showlegend": false,
         "type": "scatter",
         "x": [
          5.3,
          5.4,
          5.2,
          5.2,
          5.1,
          5,
          5,
          4.9,
          5,
          5,
          5,
          4.9,
          4.7,
          4.8,
          4.7,
          4.7,
          4.6,
          4.6,
          4.7,
          4.7,
          4.5,
          4.4,
          4.5,
          4.4,
          4.6,
          4.5,
          4.4,
          4.5,
          4.4,
          4.6,
          4.7,
          4.6,
          4.7,
          4.7,
          4.7,
          5,
          5,
          4.9,
          5.1,
          5,
          5.4,
          5.6,
          5.8,
          6.1,
          6.1,
          6.5,
          6.8,
          7.3,
          7.8,
          8.3,
          8.7,
          9,
          9.4,
          9.5,
          9.5,
          9.6,
          9.8,
          10,
          9.9,
          9.9,
          9.8,
          9.8,
          9.9,
          9.9,
          9.6,
          9.4,
          9.4,
          9.5,
          9.5,
          9.4,
          9.8,
          9.3,
          9.1,
          9,
          9,
          9.1,
          9,
          9.1,
          9,
          9,
          9,
          8.8,
          8.6,
          8.5,
          8.3,
          8.3,
          8.2,
          8.2,
          8.2,
          8.2,
          8.2,
          8.1,
          7.8,
          7.8,
          7.7,
          7.9,
          8,
          7.7,
          7.5,
          7.6,
          7.5,
          7.5,
          7.3,
          7.2,
          7.2,
          7.2,
          6.9,
          6.7,
          6.6,
          6.7,
          6.7,
          6.2,
          6.3,
          6.1,
          6.2,
          6.1,
          5.9,
          5.7,
          5.8,
          5.6,
          5.7,
          5.5,
          5.4,
          5.4,
          5.6,
          5.3,
          5.2,
          5.1,
          5,
          5,
          5.1,
          5,
          4.8,
          4.9,
          5,
          5.1,
          4.8,
          4.9,
          4.8,
          4.9,
          5,
          4.9,
          4.7,
          4.7,
          4.7,
          4.6,
          4.4,
          4.4,
          4.4,
          4.3,
          4.3,
          4.4,
          4.3,
          4.2,
          4.2,
          4.1,
          4,
          4.1,
          4,
          4,
          3.8,
          4,
          3.8,
          3.8,
          3.7,
          3.8,
          3.8,
          3.9,
          4,
          3.8,
          3.8,
          3.6,
          3.7,
          3.6,
          3.7,
          3.7,
          3.5,
          3.6,
          3.6,
          3.6,
          3.5,
          3.5,
          4.4,
          14.7,
          13.2,
          11,
          10.2,
          8.4,
          7.9,
          6.9,
          6.7,
          6.7,
          6.3,
          6.2,
          6.1,
          6.1,
          5.8,
          5.9,
          5.4,
          5.2,
          4.8,
          4.5,
          4.2,
          3.9,
          4,
          3.8,
          3.6,
          3.6,
          3.6,
          3.6,
          3.5,
          3.7,
          3.5,
          3.7,
          3.6,
          3.5,
          3.4,
          3.6,
          3.5,
          3.4,
          3.5,
          3.7,
          3.5,
          3.7,
          3.6,
          3.5,
          3.4,
          3.6,
          3.5
         ],
         "xaxis": "x",
         "y": [
          161.28799999999998,
          163.344,
          165.812,
          167.50099999999998,
          169.351,
          171.19,
          172.86,
          174.442,
          176.438,
          178.02700000000002,
          179.68099999999998,
          180.91,
          182.321,
          183.287,
          184.365,
          184.329,
          184.15599999999998,
          183.507,
          183.067,
          182.593,
          182.798,
          183.199,
          183.61,
          184.139,
          184.517,
          184.59900000000002,
          184.15,
          183.01,
          181.6,
          180.25400000000002,
          179.111,
          178.11599999999999,
          177.55700000000002,
          176.623,
          175.146,
          174.34099999999998,
          173.132,
          171.541,
          170.054,
          168.33900000000003,
          166.66,
          165.018,
          163.567,
          161.988,
          160.308,
          158.327,
          156.141,
          153.618,
          151.506,
          150.014,
          148.66,
          147.94899999999998,
          147.695,
          148.09,
          148.41,
          148.27700000000002,
          148.024,
          147.849,
          148.13299999999998,
          147.928,
          147.395,
          145.631,
          145.859,
          146.40200000000002,
          146.393,
          145.719,
          144.989,
          143.91299999999998,
          143.017,
          142.53,
          142.173,
          142.059,
          141.52200000000002,
          140.35,
          139.982,
          140.009,
          139.904,
          139.86,
          139.72899999999998,
          139.30700000000002,
          138.668,
          137.952,
          137.15200000000002,
          136.675,
          136.607,
          136.532,
          137.904,
          139.155,
          140.155,
          141.03,
          141.67,
          142.28,
          142.909,
          143.601,
          144.585,
          145.502,
          146.827,
          147.783,
          149.963,
          151.518,
          152.849,
          154.197,
          155.602,
          156.965,
          158.227,
          159.241,
          160.07299999999998,
          160.993,
          161.928,
          162.52700000000002,
          163.088,
          163.39600000000002,
          163.66299999999998,
          164.05599999999998,
          164.574,
          165.218,
          165.907,
          166.644,
          167.33700000000002,
          168.053,
          168.637,
          169.132,
          169.80200000000002,
          170.301,
          170.88400000000001,
          171.457,
          172.125,
          172.938,
          173.83,
          174.794,
          175.74200000000002,
          176.548,
          177.27700000000002,
          177.65400000000002,
          178.168,
          178.77,
          179.43200000000002,
          180.065,
          180.826,
          181.854,
          182.827,
          183.75400000000002,
          184.762,
          185.72299999999998,
          186.80200000000002,
          187.31599999999997,
          187.997,
          188.733,
          189.62900000000002,
          190.50400000000002,
          191.452,
          192.683,
          193.775,
          194.81400000000002,
          195.953,
          197.15900000000002,
          198.291,
          199.21400000000003,
          199.96099999999998,
          200.668,
          201.447,
          202.245,
          202.929,
          203.734,
          204.39,
          205.13299999999998,
          205.666,
          206.114,
          206.479,
          206.803,
          207.043,
          207.53799999999998,
          208.19400000000002,
          208.701,
          209.31799999999998,
          210.183,
          210.972,
          211.81599999999997,
          212.762,
          213.843,
          214.84599999999998,
          215.722,
          216.345,
          216.87,
          217.11900000000003,
          217.739,
          219.437,
          222.537,
          225.933,
          229.782,
          233.162,
          236.345,
          239.3,
          242.111,
          245.364,
          249.18400000000003,
          253.68200000000002,
          258.592,
          262.907,
          267.069,
          270.498,
          273.748,
          277.122,
          281.127,
          285.493,
          290.736,
          296.296,
          300.829,
          304.29400000000004,
          305.163,
          304.04400000000004,
          301.712,
          299.41200000000003,
          298.793,
          297.985,
          296.952,
          296.064,
          296.926,
          298.166,
          null,
          304.04400000000004,
          301.712,
          299.41200000000003,
          298.793,
          297.985,
          296.952,
          296.064,
          296.926,
          298.166
         ],
         "yaxis": "y"
        }
       ],
       "layout": {
        "legend": {
         "tracegroupgap": 0
        },
        "template": {
         "data": {
          "bar": [
           {
            "error_x": {
             "color": "#2a3f5f"
            },
            "error_y": {
             "color": "#2a3f5f"
            },
            "marker": {
             "line": {
              "color": "#E5ECF6",
              "width": 0.5
             },
             "pattern": {
              "fillmode": "overlay",
              "size": 10,
              "solidity": 0.2
             }
            },
            "type": "bar"
           }
          ],
          "barpolar": [
           {
            "marker": {
             "line": {
              "color": "#E5ECF6",
              "width": 0.5
             },
             "pattern": {
              "fillmode": "overlay",
              "size": 10,
              "solidity": 0.2
             }
            },
            "type": "barpolar"
           }
          ],
          "carpet": [
           {
            "aaxis": {
             "endlinecolor": "#2a3f5f",
             "gridcolor": "white",
             "linecolor": "white",
             "minorgridcolor": "white",
             "startlinecolor": "#2a3f5f"
            },
            "baxis": {
             "endlinecolor": "#2a3f5f",
             "gridcolor": "white",
             "linecolor": "white",
             "minorgridcolor": "white",
             "startlinecolor": "#2a3f5f"
            },
            "type": "carpet"
           }
          ],
          "choropleth": [
           {
            "colorbar": {
             "outlinewidth": 0,
             "ticks": ""
            },
            "type": "choropleth"
           }
          ],
          "contour": [
           {
            "colorbar": {
             "outlinewidth": 0,
             "ticks": ""
            },
            "colorscale": [
             [
              0,
              "#0d0887"
             ],
             [
              0.1111111111111111,
              "#46039f"
             ],
             [
              0.2222222222222222,
              "#7201a8"
             ],
             [
              0.3333333333333333,
              "#9c179e"
             ],
             [
              0.4444444444444444,
              "#bd3786"
             ],
             [
              0.5555555555555556,
              "#d8576b"
             ],
             [
              0.6666666666666666,
              "#ed7953"
             ],
             [
              0.7777777777777778,
              "#fb9f3a"
             ],
             [
              0.8888888888888888,
              "#fdca26"
             ],
             [
              1,
              "#f0f921"
             ]
            ],
            "type": "contour"
           }
          ],
          "contourcarpet": [
           {
            "colorbar": {
             "outlinewidth": 0,
             "ticks": ""
            },
            "type": "contourcarpet"
           }
          ],
          "heatmap": [
           {
            "colorbar": {
             "outlinewidth": 0,
             "ticks": ""
            },
            "colorscale": [
             [
              0,
              "#0d0887"
             ],
             [
              0.1111111111111111,
              "#46039f"
             ],
             [
              0.2222222222222222,
              "#7201a8"
             ],
             [
              0.3333333333333333,
              "#9c179e"
             ],
             [
              0.4444444444444444,
              "#bd3786"
             ],
             [
              0.5555555555555556,
              "#d8576b"
             ],
             [
              0.6666666666666666,
              "#ed7953"
             ],
             [
              0.7777777777777778,
              "#fb9f3a"
             ],
             [
              0.8888888888888888,
              "#fdca26"
             ],
             [
              1,
              "#f0f921"
             ]
            ],
            "type": "heatmap"
           }
          ],
          "heatmapgl": [
           {
            "colorbar": {
             "outlinewidth": 0,
             "ticks": ""
            },
            "colorscale": [
             [
              0,
              "#0d0887"
             ],
             [
              0.1111111111111111,
              "#46039f"
             ],
             [
              0.2222222222222222,
              "#7201a8"
             ],
             [
              0.3333333333333333,
              "#9c179e"
             ],
             [
              0.4444444444444444,
              "#bd3786"
             ],
             [
              0.5555555555555556,
              "#d8576b"
             ],
             [
              0.6666666666666666,
              "#ed7953"
             ],
             [
              0.7777777777777778,
              "#fb9f3a"
             ],
             [
              0.8888888888888888,
              "#fdca26"
             ],
             [
              1,
              "#f0f921"
             ]
            ],
            "type": "heatmapgl"
           }
          ],
          "histogram": [
           {
            "marker": {
             "pattern": {
              "fillmode": "overlay",
              "size": 10,
              "solidity": 0.2
             }
            },
            "type": "histogram"
           }
          ],
          "histogram2d": [
           {
            "colorbar": {
             "outlinewidth": 0,
             "ticks": ""
            },
            "colorscale": [
             [
              0,
              "#0d0887"
             ],
             [
              0.1111111111111111,
              "#46039f"
             ],
             [
              0.2222222222222222,
              "#7201a8"
             ],
             [
              0.3333333333333333,
              "#9c179e"
             ],
             [
              0.4444444444444444,
              "#bd3786"
             ],
             [
              0.5555555555555556,
              "#d8576b"
             ],
             [
              0.6666666666666666,
              "#ed7953"
             ],
             [
              0.7777777777777778,
              "#fb9f3a"
             ],
             [
              0.8888888888888888,
              "#fdca26"
             ],
             [
              1,
              "#f0f921"
             ]
            ],
            "type": "histogram2d"
           }
          ],
          "histogram2dcontour": [
           {
            "colorbar": {
             "outlinewidth": 0,
             "ticks": ""
            },
            "colorscale": [
             [
              0,
              "#0d0887"
             ],
             [
              0.1111111111111111,
              "#46039f"
             ],
             [
              0.2222222222222222,
              "#7201a8"
             ],
             [
              0.3333333333333333,
              "#9c179e"
             ],
             [
              0.4444444444444444,
              "#bd3786"
             ],
             [
              0.5555555555555556,
              "#d8576b"
             ],
             [
              0.6666666666666666,
              "#ed7953"
             ],
             [
              0.7777777777777778,
              "#fb9f3a"
             ],
             [
              0.8888888888888888,
              "#fdca26"
             ],
             [
              1,
              "#f0f921"
             ]
            ],
            "type": "histogram2dcontour"
           }
          ],
          "mesh3d": [
           {
            "colorbar": {
             "outlinewidth": 0,
             "ticks": ""
            },
            "type": "mesh3d"
           }
          ],
          "parcoords": [
           {
            "line": {
             "colorbar": {
              "outlinewidth": 0,
              "ticks": ""
             }
            },
            "type": "parcoords"
           }
          ],
          "pie": [
           {
            "automargin": true,
            "type": "pie"
           }
          ],
          "scatter": [
           {
            "fillpattern": {
             "fillmode": "overlay",
             "size": 10,
             "solidity": 0.2
            },
            "type": "scatter"
           }
          ],
          "scatter3d": [
           {
            "line": {
             "colorbar": {
              "outlinewidth": 0,
              "ticks": ""
             }
            },
            "marker": {
             "colorbar": {
              "outlinewidth": 0,
              "ticks": ""
             }
            },
            "type": "scatter3d"
           }
          ],
          "scattercarpet": [
           {
            "marker": {
             "colorbar": {
              "outlinewidth": 0,
              "ticks": ""
             }
            },
            "type": "scattercarpet"
           }
          ],
          "scattergeo": [
           {
            "marker": {
             "colorbar": {
              "outlinewidth": 0,
              "ticks": ""
             }
            },
            "type": "scattergeo"
           }
          ],
          "scattergl": [
           {
            "marker": {
             "colorbar": {
              "outlinewidth": 0,
              "ticks": ""
             }
            },
            "type": "scattergl"
           }
          ],
          "scattermapbox": [
           {
            "marker": {
             "colorbar": {
              "outlinewidth": 0,
              "ticks": ""
             }
            },
            "type": "scattermapbox"
           }
          ],
          "scatterpolar": [
           {
            "marker": {
             "colorbar": {
              "outlinewidth": 0,
              "ticks": ""
             }
            },
            "type": "scatterpolar"
           }
          ],
          "scatterpolargl": [
           {
            "marker": {
             "colorbar": {
              "outlinewidth": 0,
              "ticks": ""
             }
            },
            "type": "scatterpolargl"
           }
          ],
          "scatterternary": [
           {
            "marker": {
             "colorbar": {
              "outlinewidth": 0,
              "ticks": ""
             }
            },
            "type": "scatterternary"
           }
          ],
          "surface": [
           {
            "colorbar": {
             "outlinewidth": 0,
             "ticks": ""
            },
            "colorscale": [
             [
              0,
              "#0d0887"
             ],
             [
              0.1111111111111111,
              "#46039f"
             ],
             [
              0.2222222222222222,
              "#7201a8"
             ],
             [
              0.3333333333333333,
              "#9c179e"
             ],
             [
              0.4444444444444444,
              "#bd3786"
             ],
             [
              0.5555555555555556,
              "#d8576b"
             ],
             [
              0.6666666666666666,
              "#ed7953"
             ],
             [
              0.7777777777777778,
              "#fb9f3a"
             ],
             [
              0.8888888888888888,
              "#fdca26"
             ],
             [
              1,
              "#f0f921"
             ]
            ],
            "type": "surface"
           }
          ],
          "table": [
           {
            "cells": {
             "fill": {
              "color": "#EBF0F8"
             },
             "line": {
              "color": "white"
             }
            },
            "header": {
             "fill": {
              "color": "#C8D4E3"
             },
             "line": {
              "color": "white"
             }
            },
            "type": "table"
           }
          ]
         },
         "layout": {
          "annotationdefaults": {
           "arrowcolor": "#2a3f5f",
           "arrowhead": 0,
           "arrowwidth": 1
          },
          "autotypenumbers": "strict",
          "coloraxis": {
           "colorbar": {
            "outlinewidth": 0,
            "ticks": ""
           }
          },
          "colorscale": {
           "diverging": [
            [
             0,
             "#8e0152"
            ],
            [
             0.1,
             "#c51b7d"
            ],
            [
             0.2,
             "#de77ae"
            ],
            [
             0.3,
             "#f1b6da"
            ],
            [
             0.4,
             "#fde0ef"
            ],
            [
             0.5,
             "#f7f7f7"
            ],
            [
             0.6,
             "#e6f5d0"
            ],
            [
             0.7,
             "#b8e186"
            ],
            [
             0.8,
             "#7fbc41"
            ],
            [
             0.9,
             "#4d9221"
            ],
            [
             1,
             "#276419"
            ]
           ],
           "sequential": [
            [
             0,
             "#0d0887"
            ],
            [
             0.1111111111111111,
             "#46039f"
            ],
            [
             0.2222222222222222,
             "#7201a8"
            ],
            [
             0.3333333333333333,
             "#9c179e"
            ],
            [
             0.4444444444444444,
             "#bd3786"
            ],
            [
             0.5555555555555556,
             "#d8576b"
            ],
            [
             0.6666666666666666,
             "#ed7953"
            ],
            [
             0.7777777777777778,
             "#fb9f3a"
            ],
            [
             0.8888888888888888,
             "#fdca26"
            ],
            [
             1,
             "#f0f921"
            ]
           ],
           "sequentialminus": [
            [
             0,
             "#0d0887"
            ],
            [
             0.1111111111111111,
             "#46039f"
            ],
            [
             0.2222222222222222,
             "#7201a8"
            ],
            [
             0.3333333333333333,
             "#9c179e"
            ],
            [
             0.4444444444444444,
             "#bd3786"
            ],
            [
             0.5555555555555556,
             "#d8576b"
            ],
            [
             0.6666666666666666,
             "#ed7953"
            ],
            [
             0.7777777777777778,
             "#fb9f3a"
            ],
            [
             0.8888888888888888,
             "#fdca26"
            ],
            [
             1,
             "#f0f921"
            ]
           ]
          },
          "colorway": [
           "#636efa",
           "#EF553B",
           "#00cc96",
           "#ab63fa",
           "#FFA15A",
           "#19d3f3",
           "#FF6692",
           "#B6E880",
           "#FF97FF",
           "#FECB52"
          ],
          "font": {
           "color": "#2a3f5f"
          },
          "geo": {
           "bgcolor": "white",
           "lakecolor": "white",
           "landcolor": "#E5ECF6",
           "showlakes": true,
           "showland": true,
           "subunitcolor": "white"
          },
          "hoverlabel": {
           "align": "left"
          },
          "hovermode": "closest",
          "mapbox": {
           "style": "light"
          },
          "paper_bgcolor": "white",
          "plot_bgcolor": "#E5ECF6",
          "polar": {
           "angularaxis": {
            "gridcolor": "white",
            "linecolor": "white",
            "ticks": ""
           },
           "bgcolor": "#E5ECF6",
           "radialaxis": {
            "gridcolor": "white",
            "linecolor": "white",
            "ticks": ""
           }
          },
          "scene": {
           "xaxis": {
            "backgroundcolor": "#E5ECF6",
            "gridcolor": "white",
            "gridwidth": 2,
            "linecolor": "white",
            "showbackground": true,
            "ticks": "",
            "zerolinecolor": "white"
           },
           "yaxis": {
            "backgroundcolor": "#E5ECF6",
            "gridcolor": "white",
            "gridwidth": 2,
            "linecolor": "white",
            "showbackground": true,
            "ticks": "",
            "zerolinecolor": "white"
           },
           "zaxis": {
            "backgroundcolor": "#E5ECF6",
            "gridcolor": "white",
            "gridwidth": 2,
            "linecolor": "white",
            "showbackground": true,
            "ticks": "",
            "zerolinecolor": "white"
           }
          },
          "shapedefaults": {
           "line": {
            "color": "#2a3f5f"
           }
          },
          "ternary": {
           "aaxis": {
            "gridcolor": "white",
            "linecolor": "white",
            "ticks": ""
           },
           "baxis": {
            "gridcolor": "white",
            "linecolor": "white",
            "ticks": ""
           },
           "bgcolor": "#E5ECF6",
           "caxis": {
            "gridcolor": "white",
            "linecolor": "white",
            "ticks": ""
           }
          },
          "title": {
           "x": 0.05
          },
          "xaxis": {
           "automargin": true,
           "gridcolor": "white",
           "linecolor": "white",
           "ticks": "",
           "title": {
            "standoff": 15
           },
           "zerolinecolor": "white",
           "zerolinewidth": 2
          },
          "yaxis": {
           "automargin": true,
           "gridcolor": "white",
           "linecolor": "white",
           "ticks": "",
           "title": {
            "standoff": 15
           },
           "zerolinecolor": "white",
           "zerolinewidth": 2
          }
         }
        },
        "title": {
         "text": "<b>Unemployment_rate vs. Housing Price</b>"
        },
        "xaxis": {
         "anchor": "y",
         "domain": [
          0,
          1
         ],
         "title": {
          "text": "Unemployment_rate"
         }
        },
        "yaxis": {
         "anchor": "x",
         "domain": [
          0,
          1
         ],
         "title": {
          "text": "Housing_price"
         }
        }
       }
      },
      "text/html": [
       "<div>                            <div id=\"61b2140a-76a6-476c-9113-0992a6d4bf3d\" class=\"plotly-graph-div\" style=\"height:525px; width:100%;\"></div>            <script type=\"text/javascript\">                require([\"plotly\"], function(Plotly) {                    window.PLOTLYENV=window.PLOTLYENV || {};                                    if (document.getElementById(\"61b2140a-76a6-476c-9113-0992a6d4bf3d\")) {                    Plotly.newPlot(                        \"61b2140a-76a6-476c-9113-0992a6d4bf3d\",                        [{\"hovertemplate\":\"Unemployment_rate=%{x}<br>Housing_price=%{y}<extra></extra>\",\"legendgroup\":\"\",\"marker\":{\"color\":\"#636efa\",\"symbol\":\"circle\"},\"mode\":\"markers\",\"name\":\"\",\"orientation\":\"v\",\"showlegend\":false,\"x\":[5.3,5.4,5.2,5.2,5.1,5.0,5.0,4.9,5.0,5.0,5.0,4.9,4.7,4.8,4.7,4.7,4.6,4.6,4.7,4.7,4.5,4.4,4.5,4.4,4.6,4.5,4.4,4.5,4.4,4.6,4.7,4.6,4.7,4.7,4.7,5.0,5.0,4.9,5.1,5.0,5.4,5.6,5.8,6.1,6.1,6.5,6.8,7.3,7.8,8.3,8.7,9.0,9.4,9.5,9.5,9.6,9.8,10.0,9.9,9.9,9.8,9.8,9.9,9.9,9.6,9.4,9.4,9.5,9.5,9.4,9.8,9.3,9.1,9.0,9.0,9.1,9.0,9.1,9.0,9.0,9.0,8.8,8.6,8.5,8.3,8.3,8.2,8.2,8.2,8.2,8.2,8.1,7.8,7.8,7.7,7.9,8.0,7.7,7.5,7.6,7.5,7.5,7.3,7.2,7.2,7.2,6.9,6.7,6.6,6.7,6.7,6.2,6.3,6.1,6.2,6.1,5.9,5.7,5.8,5.6,5.7,5.5,5.4,5.4,5.6,5.3,5.2,5.1,5.0,5.0,5.1,5.0,4.8,4.9,5.0,5.1,4.8,4.9,4.8,4.9,5.0,4.9,4.7,4.7,4.7,4.6,4.4,4.4,4.4,4.3,4.3,4.4,4.3,4.2,4.2,4.1,4.0,4.1,4.0,4.0,3.8,4.0,3.8,3.8,3.7,3.8,3.8,3.9,4.0,3.8,3.8,3.6,3.7,3.6,3.7,3.7,3.5,3.6,3.6,3.6,3.5,3.5,4.4,14.7,13.2,11.0,10.2,8.4,7.9,6.9,6.7,6.7,6.3,6.2,6.1,6.1,5.8,5.9,5.4,5.2,4.8,4.5,4.2,3.9,4.0,3.8,3.6,3.6,3.6,3.6,3.5,3.7,3.5,3.7,3.6,3.5,3.4,3.6,3.5,3.4,3.5,3.7,3.5,3.7,3.6,3.5,3.4,3.6,3.5],\"xaxis\":\"x\",\"y\":[161.28799999999998,163.344,165.812,167.50099999999998,169.351,171.19,172.86,174.442,176.438,178.02700000000002,179.68099999999998,180.91,182.321,183.287,184.365,184.329,184.15599999999998,183.507,183.067,182.593,182.798,183.199,183.61,184.139,184.517,184.59900000000002,184.15,183.01,181.6,180.25400000000002,179.111,178.11599999999999,177.55700000000002,176.623,175.146,174.34099999999998,173.132,171.541,170.054,168.33900000000003,166.66,165.018,163.567,161.988,160.308,158.327,156.141,153.618,151.506,150.014,148.66,147.94899999999998,147.695,148.09,148.41,148.27700000000002,148.024,147.849,148.13299999999998,147.928,147.395,145.631,145.859,146.40200000000002,146.393,145.719,144.989,143.91299999999998,143.017,142.53,142.173,142.059,141.52200000000002,140.35,139.982,140.009,139.904,139.86,139.72899999999998,139.30700000000002,138.668,137.952,137.15200000000002,136.675,136.607,136.532,137.904,139.155,140.155,141.03,141.67,142.28,142.909,143.601,144.585,145.502,146.827,147.783,149.963,151.518,152.849,154.197,155.602,156.965,158.227,159.241,160.07299999999998,160.993,161.928,162.52700000000002,163.088,163.39600000000002,163.66299999999998,164.05599999999998,164.574,165.218,165.907,166.644,167.33700000000002,168.053,168.637,169.132,169.80200000000002,170.301,170.88400000000001,171.457,172.125,172.938,173.83,174.794,175.74200000000002,176.548,177.27700000000002,177.65400000000002,178.168,178.77,179.43200000000002,180.065,180.826,181.854,182.827,183.75400000000002,184.762,185.72299999999998,186.80200000000002,187.31599999999997,187.997,188.733,189.62900000000002,190.50400000000002,191.452,192.683,193.775,194.81400000000002,195.953,197.15900000000002,198.291,199.21400000000003,199.96099999999998,200.668,201.447,202.245,202.929,203.734,204.39,205.13299999999998,205.666,206.114,206.479,206.803,207.043,207.53799999999998,208.19400000000002,208.701,209.31799999999998,210.183,210.972,211.81599999999997,212.762,213.843,214.84599999999998,215.722,216.345,216.87,217.11900000000003,217.739,219.437,222.537,225.933,229.782,233.162,236.345,239.3,242.111,245.364,249.18400000000003,253.68200000000002,258.592,262.907,267.069,270.498,273.748,277.122,281.127,285.493,290.736,296.296,300.829,304.29400000000004,305.163,304.04400000000004,301.712,299.41200000000003,298.793,297.985,296.952,296.064,296.926,298.166,null,304.04400000000004,301.712,299.41200000000003,298.793,297.985,296.952,296.064,296.926,298.166],\"yaxis\":\"y\",\"type\":\"scatter\"}],                        {\"template\":{\"data\":{\"histogram2dcontour\":[{\"type\":\"histogram2dcontour\",\"colorbar\":{\"outlinewidth\":0,\"ticks\":\"\"},\"colorscale\":[[0.0,\"#0d0887\"],[0.1111111111111111,\"#46039f\"],[0.2222222222222222,\"#7201a8\"],[0.3333333333333333,\"#9c179e\"],[0.4444444444444444,\"#bd3786\"],[0.5555555555555556,\"#d8576b\"],[0.6666666666666666,\"#ed7953\"],[0.7777777777777778,\"#fb9f3a\"],[0.8888888888888888,\"#fdca26\"],[1.0,\"#f0f921\"]]}],\"choropleth\":[{\"type\":\"choropleth\",\"colorbar\":{\"outlinewidth\":0,\"ticks\":\"\"}}],\"histogram2d\":[{\"type\":\"histogram2d\",\"colorbar\":{\"outlinewidth\":0,\"ticks\":\"\"},\"colorscale\":[[0.0,\"#0d0887\"],[0.1111111111111111,\"#46039f\"],[0.2222222222222222,\"#7201a8\"],[0.3333333333333333,\"#9c179e\"],[0.4444444444444444,\"#bd3786\"],[0.5555555555555556,\"#d8576b\"],[0.6666666666666666,\"#ed7953\"],[0.7777777777777778,\"#fb9f3a\"],[0.8888888888888888,\"#fdca26\"],[1.0,\"#f0f921\"]]}],\"heatmap\":[{\"type\":\"heatmap\",\"colorbar\":{\"outlinewidth\":0,\"ticks\":\"\"},\"colorscale\":[[0.0,\"#0d0887\"],[0.1111111111111111,\"#46039f\"],[0.2222222222222222,\"#7201a8\"],[0.3333333333333333,\"#9c179e\"],[0.4444444444444444,\"#bd3786\"],[0.5555555555555556,\"#d8576b\"],[0.6666666666666666,\"#ed7953\"],[0.7777777777777778,\"#fb9f3a\"],[0.8888888888888888,\"#fdca26\"],[1.0,\"#f0f921\"]]}],\"heatmapgl\":[{\"type\":\"heatmapgl\",\"colorbar\":{\"outlinewidth\":0,\"ticks\":\"\"},\"colorscale\":[[0.0,\"#0d0887\"],[0.1111111111111111,\"#46039f\"],[0.2222222222222222,\"#7201a8\"],[0.3333333333333333,\"#9c179e\"],[0.4444444444444444,\"#bd3786\"],[0.5555555555555556,\"#d8576b\"],[0.6666666666666666,\"#ed7953\"],[0.7777777777777778,\"#fb9f3a\"],[0.8888888888888888,\"#fdca26\"],[1.0,\"#f0f921\"]]}],\"contourcarpet\":[{\"type\":\"contourcarpet\",\"colorbar\":{\"outlinewidth\":0,\"ticks\":\"\"}}],\"contour\":[{\"type\":\"contour\",\"colorbar\":{\"outlinewidth\":0,\"ticks\":\"\"},\"colorscale\":[[0.0,\"#0d0887\"],[0.1111111111111111,\"#46039f\"],[0.2222222222222222,\"#7201a8\"],[0.3333333333333333,\"#9c179e\"],[0.4444444444444444,\"#bd3786\"],[0.5555555555555556,\"#d8576b\"],[0.6666666666666666,\"#ed7953\"],[0.7777777777777778,\"#fb9f3a\"],[0.8888888888888888,\"#fdca26\"],[1.0,\"#f0f921\"]]}],\"surface\":[{\"type\":\"surface\",\"colorbar\":{\"outlinewidth\":0,\"ticks\":\"\"},\"colorscale\":[[0.0,\"#0d0887\"],[0.1111111111111111,\"#46039f\"],[0.2222222222222222,\"#7201a8\"],[0.3333333333333333,\"#9c179e\"],[0.4444444444444444,\"#bd3786\"],[0.5555555555555556,\"#d8576b\"],[0.6666666666666666,\"#ed7953\"],[0.7777777777777778,\"#fb9f3a\"],[0.8888888888888888,\"#fdca26\"],[1.0,\"#f0f921\"]]}],\"mesh3d\":[{\"type\":\"mesh3d\",\"colorbar\":{\"outlinewidth\":0,\"ticks\":\"\"}}],\"scatter\":[{\"fillpattern\":{\"fillmode\":\"overlay\",\"size\":10,\"solidity\":0.2},\"type\":\"scatter\"}],\"parcoords\":[{\"type\":\"parcoords\",\"line\":{\"colorbar\":{\"outlinewidth\":0,\"ticks\":\"\"}}}],\"scatterpolargl\":[{\"type\":\"scatterpolargl\",\"marker\":{\"colorbar\":{\"outlinewidth\":0,\"ticks\":\"\"}}}],\"bar\":[{\"error_x\":{\"color\":\"#2a3f5f\"},\"error_y\":{\"color\":\"#2a3f5f\"},\"marker\":{\"line\":{\"color\":\"#E5ECF6\",\"width\":0.5},\"pattern\":{\"fillmode\":\"overlay\",\"size\":10,\"solidity\":0.2}},\"type\":\"bar\"}],\"scattergeo\":[{\"type\":\"scattergeo\",\"marker\":{\"colorbar\":{\"outlinewidth\":0,\"ticks\":\"\"}}}],\"scatterpolar\":[{\"type\":\"scatterpolar\",\"marker\":{\"colorbar\":{\"outlinewidth\":0,\"ticks\":\"\"}}}],\"histogram\":[{\"marker\":{\"pattern\":{\"fillmode\":\"overlay\",\"size\":10,\"solidity\":0.2}},\"type\":\"histogram\"}],\"scattergl\":[{\"type\":\"scattergl\",\"marker\":{\"colorbar\":{\"outlinewidth\":0,\"ticks\":\"\"}}}],\"scatter3d\":[{\"type\":\"scatter3d\",\"line\":{\"colorbar\":{\"outlinewidth\":0,\"ticks\":\"\"}},\"marker\":{\"colorbar\":{\"outlinewidth\":0,\"ticks\":\"\"}}}],\"scattermapbox\":[{\"type\":\"scattermapbox\",\"marker\":{\"colorbar\":{\"outlinewidth\":0,\"ticks\":\"\"}}}],\"scatterternary\":[{\"type\":\"scatterternary\",\"marker\":{\"colorbar\":{\"outlinewidth\":0,\"ticks\":\"\"}}}],\"scattercarpet\":[{\"type\":\"scattercarpet\",\"marker\":{\"colorbar\":{\"outlinewidth\":0,\"ticks\":\"\"}}}],\"carpet\":[{\"aaxis\":{\"endlinecolor\":\"#2a3f5f\",\"gridcolor\":\"white\",\"linecolor\":\"white\",\"minorgridcolor\":\"white\",\"startlinecolor\":\"#2a3f5f\"},\"baxis\":{\"endlinecolor\":\"#2a3f5f\",\"gridcolor\":\"white\",\"linecolor\":\"white\",\"minorgridcolor\":\"white\",\"startlinecolor\":\"#2a3f5f\"},\"type\":\"carpet\"}],\"table\":[{\"cells\":{\"fill\":{\"color\":\"#EBF0F8\"},\"line\":{\"color\":\"white\"}},\"header\":{\"fill\":{\"color\":\"#C8D4E3\"},\"line\":{\"color\":\"white\"}},\"type\":\"table\"}],\"barpolar\":[{\"marker\":{\"line\":{\"color\":\"#E5ECF6\",\"width\":0.5},\"pattern\":{\"fillmode\":\"overlay\",\"size\":10,\"solidity\":0.2}},\"type\":\"barpolar\"}],\"pie\":[{\"automargin\":true,\"type\":\"pie\"}]},\"layout\":{\"autotypenumbers\":\"strict\",\"colorway\":[\"#636efa\",\"#EF553B\",\"#00cc96\",\"#ab63fa\",\"#FFA15A\",\"#19d3f3\",\"#FF6692\",\"#B6E880\",\"#FF97FF\",\"#FECB52\"],\"font\":{\"color\":\"#2a3f5f\"},\"hovermode\":\"closest\",\"hoverlabel\":{\"align\":\"left\"},\"paper_bgcolor\":\"white\",\"plot_bgcolor\":\"#E5ECF6\",\"polar\":{\"bgcolor\":\"#E5ECF6\",\"angularaxis\":{\"gridcolor\":\"white\",\"linecolor\":\"white\",\"ticks\":\"\"},\"radialaxis\":{\"gridcolor\":\"white\",\"linecolor\":\"white\",\"ticks\":\"\"}},\"ternary\":{\"bgcolor\":\"#E5ECF6\",\"aaxis\":{\"gridcolor\":\"white\",\"linecolor\":\"white\",\"ticks\":\"\"},\"baxis\":{\"gridcolor\":\"white\",\"linecolor\":\"white\",\"ticks\":\"\"},\"caxis\":{\"gridcolor\":\"white\",\"linecolor\":\"white\",\"ticks\":\"\"}},\"coloraxis\":{\"colorbar\":{\"outlinewidth\":0,\"ticks\":\"\"}},\"colorscale\":{\"sequential\":[[0.0,\"#0d0887\"],[0.1111111111111111,\"#46039f\"],[0.2222222222222222,\"#7201a8\"],[0.3333333333333333,\"#9c179e\"],[0.4444444444444444,\"#bd3786\"],[0.5555555555555556,\"#d8576b\"],[0.6666666666666666,\"#ed7953\"],[0.7777777777777778,\"#fb9f3a\"],[0.8888888888888888,\"#fdca26\"],[1.0,\"#f0f921\"]],\"sequentialminus\":[[0.0,\"#0d0887\"],[0.1111111111111111,\"#46039f\"],[0.2222222222222222,\"#7201a8\"],[0.3333333333333333,\"#9c179e\"],[0.4444444444444444,\"#bd3786\"],[0.5555555555555556,\"#d8576b\"],[0.6666666666666666,\"#ed7953\"],[0.7777777777777778,\"#fb9f3a\"],[0.8888888888888888,\"#fdca26\"],[1.0,\"#f0f921\"]],\"diverging\":[[0,\"#8e0152\"],[0.1,\"#c51b7d\"],[0.2,\"#de77ae\"],[0.3,\"#f1b6da\"],[0.4,\"#fde0ef\"],[0.5,\"#f7f7f7\"],[0.6,\"#e6f5d0\"],[0.7,\"#b8e186\"],[0.8,\"#7fbc41\"],[0.9,\"#4d9221\"],[1,\"#276419\"]]},\"xaxis\":{\"gridcolor\":\"white\",\"linecolor\":\"white\",\"ticks\":\"\",\"title\":{\"standoff\":15},\"zerolinecolor\":\"white\",\"automargin\":true,\"zerolinewidth\":2},\"yaxis\":{\"gridcolor\":\"white\",\"linecolor\":\"white\",\"ticks\":\"\",\"title\":{\"standoff\":15},\"zerolinecolor\":\"white\",\"automargin\":true,\"zerolinewidth\":2},\"scene\":{\"xaxis\":{\"backgroundcolor\":\"#E5ECF6\",\"gridcolor\":\"white\",\"linecolor\":\"white\",\"showbackground\":true,\"ticks\":\"\",\"zerolinecolor\":\"white\",\"gridwidth\":2},\"yaxis\":{\"backgroundcolor\":\"#E5ECF6\",\"gridcolor\":\"white\",\"linecolor\":\"white\",\"showbackground\":true,\"ticks\":\"\",\"zerolinecolor\":\"white\",\"gridwidth\":2},\"zaxis\":{\"backgroundcolor\":\"#E5ECF6\",\"gridcolor\":\"white\",\"linecolor\":\"white\",\"showbackground\":true,\"ticks\":\"\",\"zerolinecolor\":\"white\",\"gridwidth\":2}},\"shapedefaults\":{\"line\":{\"color\":\"#2a3f5f\"}},\"annotationdefaults\":{\"arrowcolor\":\"#2a3f5f\",\"arrowhead\":0,\"arrowwidth\":1},\"geo\":{\"bgcolor\":\"white\",\"landcolor\":\"#E5ECF6\",\"subunitcolor\":\"white\",\"showland\":true,\"showlakes\":true,\"lakecolor\":\"white\"},\"title\":{\"x\":0.05},\"mapbox\":{\"style\":\"light\"}}},\"xaxis\":{\"anchor\":\"y\",\"domain\":[0.0,1.0],\"title\":{\"text\":\"Unemployment_rate\"}},\"yaxis\":{\"anchor\":\"x\",\"domain\":[0.0,1.0],\"title\":{\"text\":\"Housing_price\"}},\"legend\":{\"tracegroupgap\":0},\"title\":{\"text\":\"<b>Unemployment_rate vs. Housing Price</b>\"}},                        {\"responsive\": true}                    ).then(function(){\n",
       "                            \n",
       "var gd = document.getElementById('61b2140a-76a6-476c-9113-0992a6d4bf3d');\n",
       "var x = new MutationObserver(function (mutations, observer) {{\n",
       "        var display = window.getComputedStyle(gd).display;\n",
       "        if (!display || display === 'none') {{\n",
       "            console.log([gd, 'removed!']);\n",
       "            Plotly.purge(gd);\n",
       "            observer.disconnect();\n",
       "        }}\n",
       "}});\n",
       "\n",
       "// Listen for the removal of the full notebook cells\n",
       "var notebookContainer = gd.closest('#notebook-container');\n",
       "if (notebookContainer) {{\n",
       "    x.observe(notebookContainer, {childList: true});\n",
       "}}\n",
       "\n",
       "// Listen for the clearing of the current output cell\n",
       "var outputEl = gd.closest('.output');\n",
       "if (outputEl) {{\n",
       "    x.observe(outputEl, {childList: true});\n",
       "}}\n",
       "\n",
       "                        })                };                });            </script>        </div>"
      ]
     },
     "metadata": {},
     "output_type": "display_data"
    },
    {
     "data": {
      "application/vnd.plotly.v1+json": {
       "config": {
        "plotlyServerURL": "https://plot.ly"
       },
       "data": [
        {
         "hovertemplate": "GDP=%{x}<br>Housing_price=%{y}<extra></extra>",
         "legendgroup": "",
         "marker": {
          "color": "#636efa",
          "symbol": "circle"
         },
         "mode": "markers",
         "name": "",
         "orientation": "v",
         "showlegend": false,
         "type": "scatter",
         "x": [
          14767.846,
          14767.846,
          14767.846,
          14839.707,
          14839.707,
          14839.707,
          14956.291,
          14956.291,
          14956.291,
          15041.232,
          15041.232,
          15041.232,
          15244.088,
          15244.088,
          15244.088,
          15281.525,
          15281.525,
          15281.525,
          15304.517,
          15304.517,
          15304.517,
          15433.643,
          15433.643,
          15433.643,
          15478.956,
          15478.956,
          15478.956,
          15577.779,
          15577.779,
          15577.779,
          15671.605,
          15671.605,
          15671.605,
          15767.146,
          15767.146,
          15767.146,
          15702.906,
          15702.906,
          15702.906,
          15792.773,
          15792.773,
          15792.773,
          15709.562,
          15709.562,
          15709.562,
          15366.607,
          15366.607,
          15366.607,
          15187.475,
          15187.475,
          15187.475,
          15161.772,
          15161.772,
          15161.772,
          15216.647,
          15216.647,
          15216.647,
          15379.155,
          15379.155,
          15379.155,
          15456.059,
          15456.059,
          15456.059,
          15605.628,
          15605.628,
          15605.628,
          15726.282,
          15726.282,
          15726.282,
          15807.995,
          15807.995,
          15807.995,
          15769.911,
          15769.911,
          15769.911,
          15876.839,
          15876.839,
          15876.839,
          15870.684,
          15870.684,
          15870.684,
          16048.702,
          16048.702,
          16048.702,
          16179.968,
          16179.968,
          16179.968,
          16253.726,
          16253.726,
          16253.726,
          16282.151,
          16282.151,
          16282.151,
          16300.035,
          16300.035,
          16300.035,
          16441.485,
          16441.485,
          16441.485,
          16464.402,
          16464.402,
          16464.402,
          16594.743,
          16594.743,
          16594.743,
          16712.76,
          16712.76,
          16712.76,
          16654.247,
          16654.247,
          16654.247,
          16868.109,
          16868.109,
          16868.109,
          17064.616,
          17064.616,
          17064.616,
          17141.235,
          17141.235,
          17141.235,
          17280.647,
          17280.647,
          17280.647,
          17380.875,
          17380.875,
          17380.875,
          17437.08,
          17437.08,
          17437.08,
          17462.579,
          17462.579,
          17462.579,
          17565.465,
          17565.465,
          17565.465,
          17618.581,
          17618.581,
          17618.581,
          17724.489,
          17724.489,
          17724.489,
          17812.56,
          17812.56,
          17812.56,
          17889.094,
          17889.094,
          17889.094,
          17979.218,
          17979.218,
          17979.218,
          18127.994,
          18127.994,
          18127.994,
          18310.3,
          18310.3,
          18310.3,
          18437.127,
          18437.127,
          18437.127,
          18565.697,
          18565.697,
          18565.697,
          18699.748,
          18699.748,
          18699.748,
          18733.741,
          18733.741,
          18733.741,
          18835.411,
          18835.411,
          18835.411,
          18962.175,
          18962.175,
          18962.175,
          19130.932,
          19130.932,
          19130.932,
          19215.691,
          19215.691,
          19215.691,
          18989.877,
          18989.877,
          18989.877,
          17378.712,
          17378.712,
          17378.712,
          18743.72,
          18743.72,
          18743.72,
          18924.262,
          18924.262,
          18924.262,
          19216.224,
          19216.224,
          19216.224,
          19544.248,
          19544.248,
          19544.248,
          19672.594,
          19672.594,
          19672.594,
          20006.181,
          20006.181,
          20006.181,
          19924.088,
          19924.088,
          19924.088,
          19895.271,
          19895.271,
          19895.271,
          20054.663,
          20054.663,
          20054.663,
          20182.491,
          20182.491,
          20182.491,
          20246.439,
          20246.439,
          20246.439,
          20246.439,
          20054.663,
          20054.663,
          20054.663,
          20182.491,
          20182.491,
          20182.491,
          20246.439,
          20246.439,
          20246.439
         ],
         "xaxis": "x",
         "y": [
          161.28799999999998,
          163.344,
          165.812,
          167.50099999999998,
          169.351,
          171.19,
          172.86,
          174.442,
          176.438,
          178.02700000000002,
          179.68099999999998,
          180.91,
          182.321,
          183.287,
          184.365,
          184.329,
          184.15599999999998,
          183.507,
          183.067,
          182.593,
          182.798,
          183.199,
          183.61,
          184.139,
          184.517,
          184.59900000000002,
          184.15,
          183.01,
          181.6,
          180.25400000000002,
          179.111,
          178.11599999999999,
          177.55700000000002,
          176.623,
          175.146,
          174.34099999999998,
          173.132,
          171.541,
          170.054,
          168.33900000000003,
          166.66,
          165.018,
          163.567,
          161.988,
          160.308,
          158.327,
          156.141,
          153.618,
          151.506,
          150.014,
          148.66,
          147.94899999999998,
          147.695,
          148.09,
          148.41,
          148.27700000000002,
          148.024,
          147.849,
          148.13299999999998,
          147.928,
          147.395,
          145.631,
          145.859,
          146.40200000000002,
          146.393,
          145.719,
          144.989,
          143.91299999999998,
          143.017,
          142.53,
          142.173,
          142.059,
          141.52200000000002,
          140.35,
          139.982,
          140.009,
          139.904,
          139.86,
          139.72899999999998,
          139.30700000000002,
          138.668,
          137.952,
          137.15200000000002,
          136.675,
          136.607,
          136.532,
          137.904,
          139.155,
          140.155,
          141.03,
          141.67,
          142.28,
          142.909,
          143.601,
          144.585,
          145.502,
          146.827,
          147.783,
          149.963,
          151.518,
          152.849,
          154.197,
          155.602,
          156.965,
          158.227,
          159.241,
          160.07299999999998,
          160.993,
          161.928,
          162.52700000000002,
          163.088,
          163.39600000000002,
          163.66299999999998,
          164.05599999999998,
          164.574,
          165.218,
          165.907,
          166.644,
          167.33700000000002,
          168.053,
          168.637,
          169.132,
          169.80200000000002,
          170.301,
          170.88400000000001,
          171.457,
          172.125,
          172.938,
          173.83,
          174.794,
          175.74200000000002,
          176.548,
          177.27700000000002,
          177.65400000000002,
          178.168,
          178.77,
          179.43200000000002,
          180.065,
          180.826,
          181.854,
          182.827,
          183.75400000000002,
          184.762,
          185.72299999999998,
          186.80200000000002,
          187.31599999999997,
          187.997,
          188.733,
          189.62900000000002,
          190.50400000000002,
          191.452,
          192.683,
          193.775,
          194.81400000000002,
          195.953,
          197.15900000000002,
          198.291,
          199.21400000000003,
          199.96099999999998,
          200.668,
          201.447,
          202.245,
          202.929,
          203.734,
          204.39,
          205.13299999999998,
          205.666,
          206.114,
          206.479,
          206.803,
          207.043,
          207.53799999999998,
          208.19400000000002,
          208.701,
          209.31799999999998,
          210.183,
          210.972,
          211.81599999999997,
          212.762,
          213.843,
          214.84599999999998,
          215.722,
          216.345,
          216.87,
          217.11900000000003,
          217.739,
          219.437,
          222.537,
          225.933,
          229.782,
          233.162,
          236.345,
          239.3,
          242.111,
          245.364,
          249.18400000000003,
          253.68200000000002,
          258.592,
          262.907,
          267.069,
          270.498,
          273.748,
          277.122,
          281.127,
          285.493,
          290.736,
          296.296,
          300.829,
          304.29400000000004,
          305.163,
          304.04400000000004,
          301.712,
          299.41200000000003,
          298.793,
          297.985,
          296.952,
          296.064,
          296.926,
          298.166,
          null,
          304.04400000000004,
          301.712,
          299.41200000000003,
          298.793,
          297.985,
          296.952,
          296.064,
          296.926,
          298.166
         ],
         "yaxis": "y"
        }
       ],
       "layout": {
        "legend": {
         "tracegroupgap": 0
        },
        "template": {
         "data": {
          "bar": [
           {
            "error_x": {
             "color": "#2a3f5f"
            },
            "error_y": {
             "color": "#2a3f5f"
            },
            "marker": {
             "line": {
              "color": "#E5ECF6",
              "width": 0.5
             },
             "pattern": {
              "fillmode": "overlay",
              "size": 10,
              "solidity": 0.2
             }
            },
            "type": "bar"
           }
          ],
          "barpolar": [
           {
            "marker": {
             "line": {
              "color": "#E5ECF6",
              "width": 0.5
             },
             "pattern": {
              "fillmode": "overlay",
              "size": 10,
              "solidity": 0.2
             }
            },
            "type": "barpolar"
           }
          ],
          "carpet": [
           {
            "aaxis": {
             "endlinecolor": "#2a3f5f",
             "gridcolor": "white",
             "linecolor": "white",
             "minorgridcolor": "white",
             "startlinecolor": "#2a3f5f"
            },
            "baxis": {
             "endlinecolor": "#2a3f5f",
             "gridcolor": "white",
             "linecolor": "white",
             "minorgridcolor": "white",
             "startlinecolor": "#2a3f5f"
            },
            "type": "carpet"
           }
          ],
          "choropleth": [
           {
            "colorbar": {
             "outlinewidth": 0,
             "ticks": ""
            },
            "type": "choropleth"
           }
          ],
          "contour": [
           {
            "colorbar": {
             "outlinewidth": 0,
             "ticks": ""
            },
            "colorscale": [
             [
              0,
              "#0d0887"
             ],
             [
              0.1111111111111111,
              "#46039f"
             ],
             [
              0.2222222222222222,
              "#7201a8"
             ],
             [
              0.3333333333333333,
              "#9c179e"
             ],
             [
              0.4444444444444444,
              "#bd3786"
             ],
             [
              0.5555555555555556,
              "#d8576b"
             ],
             [
              0.6666666666666666,
              "#ed7953"
             ],
             [
              0.7777777777777778,
              "#fb9f3a"
             ],
             [
              0.8888888888888888,
              "#fdca26"
             ],
             [
              1,
              "#f0f921"
             ]
            ],
            "type": "contour"
           }
          ],
          "contourcarpet": [
           {
            "colorbar": {
             "outlinewidth": 0,
             "ticks": ""
            },
            "type": "contourcarpet"
           }
          ],
          "heatmap": [
           {
            "colorbar": {
             "outlinewidth": 0,
             "ticks": ""
            },
            "colorscale": [
             [
              0,
              "#0d0887"
             ],
             [
              0.1111111111111111,
              "#46039f"
             ],
             [
              0.2222222222222222,
              "#7201a8"
             ],
             [
              0.3333333333333333,
              "#9c179e"
             ],
             [
              0.4444444444444444,
              "#bd3786"
             ],
             [
              0.5555555555555556,
              "#d8576b"
             ],
             [
              0.6666666666666666,
              "#ed7953"
             ],
             [
              0.7777777777777778,
              "#fb9f3a"
             ],
             [
              0.8888888888888888,
              "#fdca26"
             ],
             [
              1,
              "#f0f921"
             ]
            ],
            "type": "heatmap"
           }
          ],
          "heatmapgl": [
           {
            "colorbar": {
             "outlinewidth": 0,
             "ticks": ""
            },
            "colorscale": [
             [
              0,
              "#0d0887"
             ],
             [
              0.1111111111111111,
              "#46039f"
             ],
             [
              0.2222222222222222,
              "#7201a8"
             ],
             [
              0.3333333333333333,
              "#9c179e"
             ],
             [
              0.4444444444444444,
              "#bd3786"
             ],
             [
              0.5555555555555556,
              "#d8576b"
             ],
             [
              0.6666666666666666,
              "#ed7953"
             ],
             [
              0.7777777777777778,
              "#fb9f3a"
             ],
             [
              0.8888888888888888,
              "#fdca26"
             ],
             [
              1,
              "#f0f921"
             ]
            ],
            "type": "heatmapgl"
           }
          ],
          "histogram": [
           {
            "marker": {
             "pattern": {
              "fillmode": "overlay",
              "size": 10,
              "solidity": 0.2
             }
            },
            "type": "histogram"
           }
          ],
          "histogram2d": [
           {
            "colorbar": {
             "outlinewidth": 0,
             "ticks": ""
            },
            "colorscale": [
             [
              0,
              "#0d0887"
             ],
             [
              0.1111111111111111,
              "#46039f"
             ],
             [
              0.2222222222222222,
              "#7201a8"
             ],
             [
              0.3333333333333333,
              "#9c179e"
             ],
             [
              0.4444444444444444,
              "#bd3786"
             ],
             [
              0.5555555555555556,
              "#d8576b"
             ],
             [
              0.6666666666666666,
              "#ed7953"
             ],
             [
              0.7777777777777778,
              "#fb9f3a"
             ],
             [
              0.8888888888888888,
              "#fdca26"
             ],
             [
              1,
              "#f0f921"
             ]
            ],
            "type": "histogram2d"
           }
          ],
          "histogram2dcontour": [
           {
            "colorbar": {
             "outlinewidth": 0,
             "ticks": ""
            },
            "colorscale": [
             [
              0,
              "#0d0887"
             ],
             [
              0.1111111111111111,
              "#46039f"
             ],
             [
              0.2222222222222222,
              "#7201a8"
             ],
             [
              0.3333333333333333,
              "#9c179e"
             ],
             [
              0.4444444444444444,
              "#bd3786"
             ],
             [
              0.5555555555555556,
              "#d8576b"
             ],
             [
              0.6666666666666666,
              "#ed7953"
             ],
             [
              0.7777777777777778,
              "#fb9f3a"
             ],
             [
              0.8888888888888888,
              "#fdca26"
             ],
             [
              1,
              "#f0f921"
             ]
            ],
            "type": "histogram2dcontour"
           }
          ],
          "mesh3d": [
           {
            "colorbar": {
             "outlinewidth": 0,
             "ticks": ""
            },
            "type": "mesh3d"
           }
          ],
          "parcoords": [
           {
            "line": {
             "colorbar": {
              "outlinewidth": 0,
              "ticks": ""
             }
            },
            "type": "parcoords"
           }
          ],
          "pie": [
           {
            "automargin": true,
            "type": "pie"
           }
          ],
          "scatter": [
           {
            "fillpattern": {
             "fillmode": "overlay",
             "size": 10,
             "solidity": 0.2
            },
            "type": "scatter"
           }
          ],
          "scatter3d": [
           {
            "line": {
             "colorbar": {
              "outlinewidth": 0,
              "ticks": ""
             }
            },
            "marker": {
             "colorbar": {
              "outlinewidth": 0,
              "ticks": ""
             }
            },
            "type": "scatter3d"
           }
          ],
          "scattercarpet": [
           {
            "marker": {
             "colorbar": {
              "outlinewidth": 0,
              "ticks": ""
             }
            },
            "type": "scattercarpet"
           }
          ],
          "scattergeo": [
           {
            "marker": {
             "colorbar": {
              "outlinewidth": 0,
              "ticks": ""
             }
            },
            "type": "scattergeo"
           }
          ],
          "scattergl": [
           {
            "marker": {
             "colorbar": {
              "outlinewidth": 0,
              "ticks": ""
             }
            },
            "type": "scattergl"
           }
          ],
          "scattermapbox": [
           {
            "marker": {
             "colorbar": {
              "outlinewidth": 0,
              "ticks": ""
             }
            },
            "type": "scattermapbox"
           }
          ],
          "scatterpolar": [
           {
            "marker": {
             "colorbar": {
              "outlinewidth": 0,
              "ticks": ""
             }
            },
            "type": "scatterpolar"
           }
          ],
          "scatterpolargl": [
           {
            "marker": {
             "colorbar": {
              "outlinewidth": 0,
              "ticks": ""
             }
            },
            "type": "scatterpolargl"
           }
          ],
          "scatterternary": [
           {
            "marker": {
             "colorbar": {
              "outlinewidth": 0,
              "ticks": ""
             }
            },
            "type": "scatterternary"
           }
          ],
          "surface": [
           {
            "colorbar": {
             "outlinewidth": 0,
             "ticks": ""
            },
            "colorscale": [
             [
              0,
              "#0d0887"
             ],
             [
              0.1111111111111111,
              "#46039f"
             ],
             [
              0.2222222222222222,
              "#7201a8"
             ],
             [
              0.3333333333333333,
              "#9c179e"
             ],
             [
              0.4444444444444444,
              "#bd3786"
             ],
             [
              0.5555555555555556,
              "#d8576b"
             ],
             [
              0.6666666666666666,
              "#ed7953"
             ],
             [
              0.7777777777777778,
              "#fb9f3a"
             ],
             [
              0.8888888888888888,
              "#fdca26"
             ],
             [
              1,
              "#f0f921"
             ]
            ],
            "type": "surface"
           }
          ],
          "table": [
           {
            "cells": {
             "fill": {
              "color": "#EBF0F8"
             },
             "line": {
              "color": "white"
             }
            },
            "header": {
             "fill": {
              "color": "#C8D4E3"
             },
             "line": {
              "color": "white"
             }
            },
            "type": "table"
           }
          ]
         },
         "layout": {
          "annotationdefaults": {
           "arrowcolor": "#2a3f5f",
           "arrowhead": 0,
           "arrowwidth": 1
          },
          "autotypenumbers": "strict",
          "coloraxis": {
           "colorbar": {
            "outlinewidth": 0,
            "ticks": ""
           }
          },
          "colorscale": {
           "diverging": [
            [
             0,
             "#8e0152"
            ],
            [
             0.1,
             "#c51b7d"
            ],
            [
             0.2,
             "#de77ae"
            ],
            [
             0.3,
             "#f1b6da"
            ],
            [
             0.4,
             "#fde0ef"
            ],
            [
             0.5,
             "#f7f7f7"
            ],
            [
             0.6,
             "#e6f5d0"
            ],
            [
             0.7,
             "#b8e186"
            ],
            [
             0.8,
             "#7fbc41"
            ],
            [
             0.9,
             "#4d9221"
            ],
            [
             1,
             "#276419"
            ]
           ],
           "sequential": [
            [
             0,
             "#0d0887"
            ],
            [
             0.1111111111111111,
             "#46039f"
            ],
            [
             0.2222222222222222,
             "#7201a8"
            ],
            [
             0.3333333333333333,
             "#9c179e"
            ],
            [
             0.4444444444444444,
             "#bd3786"
            ],
            [
             0.5555555555555556,
             "#d8576b"
            ],
            [
             0.6666666666666666,
             "#ed7953"
            ],
            [
             0.7777777777777778,
             "#fb9f3a"
            ],
            [
             0.8888888888888888,
             "#fdca26"
            ],
            [
             1,
             "#f0f921"
            ]
           ],
           "sequentialminus": [
            [
             0,
             "#0d0887"
            ],
            [
             0.1111111111111111,
             "#46039f"
            ],
            [
             0.2222222222222222,
             "#7201a8"
            ],
            [
             0.3333333333333333,
             "#9c179e"
            ],
            [
             0.4444444444444444,
             "#bd3786"
            ],
            [
             0.5555555555555556,
             "#d8576b"
            ],
            [
             0.6666666666666666,
             "#ed7953"
            ],
            [
             0.7777777777777778,
             "#fb9f3a"
            ],
            [
             0.8888888888888888,
             "#fdca26"
            ],
            [
             1,
             "#f0f921"
            ]
           ]
          },
          "colorway": [
           "#636efa",
           "#EF553B",
           "#00cc96",
           "#ab63fa",
           "#FFA15A",
           "#19d3f3",
           "#FF6692",
           "#B6E880",
           "#FF97FF",
           "#FECB52"
          ],
          "font": {
           "color": "#2a3f5f"
          },
          "geo": {
           "bgcolor": "white",
           "lakecolor": "white",
           "landcolor": "#E5ECF6",
           "showlakes": true,
           "showland": true,
           "subunitcolor": "white"
          },
          "hoverlabel": {
           "align": "left"
          },
          "hovermode": "closest",
          "mapbox": {
           "style": "light"
          },
          "paper_bgcolor": "white",
          "plot_bgcolor": "#E5ECF6",
          "polar": {
           "angularaxis": {
            "gridcolor": "white",
            "linecolor": "white",
            "ticks": ""
           },
           "bgcolor": "#E5ECF6",
           "radialaxis": {
            "gridcolor": "white",
            "linecolor": "white",
            "ticks": ""
           }
          },
          "scene": {
           "xaxis": {
            "backgroundcolor": "#E5ECF6",
            "gridcolor": "white",
            "gridwidth": 2,
            "linecolor": "white",
            "showbackground": true,
            "ticks": "",
            "zerolinecolor": "white"
           },
           "yaxis": {
            "backgroundcolor": "#E5ECF6",
            "gridcolor": "white",
            "gridwidth": 2,
            "linecolor": "white",
            "showbackground": true,
            "ticks": "",
            "zerolinecolor": "white"
           },
           "zaxis": {
            "backgroundcolor": "#E5ECF6",
            "gridcolor": "white",
            "gridwidth": 2,
            "linecolor": "white",
            "showbackground": true,
            "ticks": "",
            "zerolinecolor": "white"
           }
          },
          "shapedefaults": {
           "line": {
            "color": "#2a3f5f"
           }
          },
          "ternary": {
           "aaxis": {
            "gridcolor": "white",
            "linecolor": "white",
            "ticks": ""
           },
           "baxis": {
            "gridcolor": "white",
            "linecolor": "white",
            "ticks": ""
           },
           "bgcolor": "#E5ECF6",
           "caxis": {
            "gridcolor": "white",
            "linecolor": "white",
            "ticks": ""
           }
          },
          "title": {
           "x": 0.05
          },
          "xaxis": {
           "automargin": true,
           "gridcolor": "white",
           "linecolor": "white",
           "ticks": "",
           "title": {
            "standoff": 15
           },
           "zerolinecolor": "white",
           "zerolinewidth": 2
          },
          "yaxis": {
           "automargin": true,
           "gridcolor": "white",
           "linecolor": "white",
           "ticks": "",
           "title": {
            "standoff": 15
           },
           "zerolinecolor": "white",
           "zerolinewidth": 2
          }
         }
        },
        "title": {
         "text": "<b>GDP vs. Housing Price</b>"
        },
        "xaxis": {
         "anchor": "y",
         "domain": [
          0,
          1
         ],
         "title": {
          "text": "GDP"
         }
        },
        "yaxis": {
         "anchor": "x",
         "domain": [
          0,
          1
         ],
         "title": {
          "text": "Housing_price"
         }
        }
       }
      },
      "text/html": [
       "<div>                            <div id=\"0b17f7dc-0846-401f-9257-24885c685116\" class=\"plotly-graph-div\" style=\"height:525px; width:100%;\"></div>            <script type=\"text/javascript\">                require([\"plotly\"], function(Plotly) {                    window.PLOTLYENV=window.PLOTLYENV || {};                                    if (document.getElementById(\"0b17f7dc-0846-401f-9257-24885c685116\")) {                    Plotly.newPlot(                        \"0b17f7dc-0846-401f-9257-24885c685116\",                        [{\"hovertemplate\":\"GDP=%{x}<br>Housing_price=%{y}<extra></extra>\",\"legendgroup\":\"\",\"marker\":{\"color\":\"#636efa\",\"symbol\":\"circle\"},\"mode\":\"markers\",\"name\":\"\",\"orientation\":\"v\",\"showlegend\":false,\"x\":[14767.846,14767.846,14767.846,14839.707,14839.707,14839.707,14956.291,14956.291,14956.291,15041.232,15041.232,15041.232,15244.088,15244.088,15244.088,15281.525,15281.525,15281.525,15304.517,15304.517,15304.517,15433.643,15433.643,15433.643,15478.956,15478.956,15478.956,15577.779,15577.779,15577.779,15671.605,15671.605,15671.605,15767.146,15767.146,15767.146,15702.906,15702.906,15702.906,15792.773,15792.773,15792.773,15709.562,15709.562,15709.562,15366.607,15366.607,15366.607,15187.475,15187.475,15187.475,15161.772,15161.772,15161.772,15216.647,15216.647,15216.647,15379.155,15379.155,15379.155,15456.059,15456.059,15456.059,15605.628,15605.628,15605.628,15726.282,15726.282,15726.282,15807.995,15807.995,15807.995,15769.911,15769.911,15769.911,15876.839,15876.839,15876.839,15870.684,15870.684,15870.684,16048.702,16048.702,16048.702,16179.968,16179.968,16179.968,16253.726,16253.726,16253.726,16282.151,16282.151,16282.151,16300.035,16300.035,16300.035,16441.485,16441.485,16441.485,16464.402,16464.402,16464.402,16594.743,16594.743,16594.743,16712.76,16712.76,16712.76,16654.247,16654.247,16654.247,16868.109,16868.109,16868.109,17064.616,17064.616,17064.616,17141.235,17141.235,17141.235,17280.647,17280.647,17280.647,17380.875,17380.875,17380.875,17437.08,17437.08,17437.08,17462.579,17462.579,17462.579,17565.465,17565.465,17565.465,17618.581,17618.581,17618.581,17724.489,17724.489,17724.489,17812.56,17812.56,17812.56,17889.094,17889.094,17889.094,17979.218,17979.218,17979.218,18127.994,18127.994,18127.994,18310.3,18310.3,18310.3,18437.127,18437.127,18437.127,18565.697,18565.697,18565.697,18699.748,18699.748,18699.748,18733.741,18733.741,18733.741,18835.411,18835.411,18835.411,18962.175,18962.175,18962.175,19130.932,19130.932,19130.932,19215.691,19215.691,19215.691,18989.877,18989.877,18989.877,17378.712,17378.712,17378.712,18743.72,18743.72,18743.72,18924.262,18924.262,18924.262,19216.224,19216.224,19216.224,19544.248,19544.248,19544.248,19672.594,19672.594,19672.594,20006.181,20006.181,20006.181,19924.088,19924.088,19924.088,19895.271,19895.271,19895.271,20054.663,20054.663,20054.663,20182.491,20182.491,20182.491,20246.439,20246.439,20246.439,20246.439,20054.663,20054.663,20054.663,20182.491,20182.491,20182.491,20246.439,20246.439,20246.439],\"xaxis\":\"x\",\"y\":[161.28799999999998,163.344,165.812,167.50099999999998,169.351,171.19,172.86,174.442,176.438,178.02700000000002,179.68099999999998,180.91,182.321,183.287,184.365,184.329,184.15599999999998,183.507,183.067,182.593,182.798,183.199,183.61,184.139,184.517,184.59900000000002,184.15,183.01,181.6,180.25400000000002,179.111,178.11599999999999,177.55700000000002,176.623,175.146,174.34099999999998,173.132,171.541,170.054,168.33900000000003,166.66,165.018,163.567,161.988,160.308,158.327,156.141,153.618,151.506,150.014,148.66,147.94899999999998,147.695,148.09,148.41,148.27700000000002,148.024,147.849,148.13299999999998,147.928,147.395,145.631,145.859,146.40200000000002,146.393,145.719,144.989,143.91299999999998,143.017,142.53,142.173,142.059,141.52200000000002,140.35,139.982,140.009,139.904,139.86,139.72899999999998,139.30700000000002,138.668,137.952,137.15200000000002,136.675,136.607,136.532,137.904,139.155,140.155,141.03,141.67,142.28,142.909,143.601,144.585,145.502,146.827,147.783,149.963,151.518,152.849,154.197,155.602,156.965,158.227,159.241,160.07299999999998,160.993,161.928,162.52700000000002,163.088,163.39600000000002,163.66299999999998,164.05599999999998,164.574,165.218,165.907,166.644,167.33700000000002,168.053,168.637,169.132,169.80200000000002,170.301,170.88400000000001,171.457,172.125,172.938,173.83,174.794,175.74200000000002,176.548,177.27700000000002,177.65400000000002,178.168,178.77,179.43200000000002,180.065,180.826,181.854,182.827,183.75400000000002,184.762,185.72299999999998,186.80200000000002,187.31599999999997,187.997,188.733,189.62900000000002,190.50400000000002,191.452,192.683,193.775,194.81400000000002,195.953,197.15900000000002,198.291,199.21400000000003,199.96099999999998,200.668,201.447,202.245,202.929,203.734,204.39,205.13299999999998,205.666,206.114,206.479,206.803,207.043,207.53799999999998,208.19400000000002,208.701,209.31799999999998,210.183,210.972,211.81599999999997,212.762,213.843,214.84599999999998,215.722,216.345,216.87,217.11900000000003,217.739,219.437,222.537,225.933,229.782,233.162,236.345,239.3,242.111,245.364,249.18400000000003,253.68200000000002,258.592,262.907,267.069,270.498,273.748,277.122,281.127,285.493,290.736,296.296,300.829,304.29400000000004,305.163,304.04400000000004,301.712,299.41200000000003,298.793,297.985,296.952,296.064,296.926,298.166,null,304.04400000000004,301.712,299.41200000000003,298.793,297.985,296.952,296.064,296.926,298.166],\"yaxis\":\"y\",\"type\":\"scatter\"}],                        {\"template\":{\"data\":{\"histogram2dcontour\":[{\"type\":\"histogram2dcontour\",\"colorbar\":{\"outlinewidth\":0,\"ticks\":\"\"},\"colorscale\":[[0.0,\"#0d0887\"],[0.1111111111111111,\"#46039f\"],[0.2222222222222222,\"#7201a8\"],[0.3333333333333333,\"#9c179e\"],[0.4444444444444444,\"#bd3786\"],[0.5555555555555556,\"#d8576b\"],[0.6666666666666666,\"#ed7953\"],[0.7777777777777778,\"#fb9f3a\"],[0.8888888888888888,\"#fdca26\"],[1.0,\"#f0f921\"]]}],\"choropleth\":[{\"type\":\"choropleth\",\"colorbar\":{\"outlinewidth\":0,\"ticks\":\"\"}}],\"histogram2d\":[{\"type\":\"histogram2d\",\"colorbar\":{\"outlinewidth\":0,\"ticks\":\"\"},\"colorscale\":[[0.0,\"#0d0887\"],[0.1111111111111111,\"#46039f\"],[0.2222222222222222,\"#7201a8\"],[0.3333333333333333,\"#9c179e\"],[0.4444444444444444,\"#bd3786\"],[0.5555555555555556,\"#d8576b\"],[0.6666666666666666,\"#ed7953\"],[0.7777777777777778,\"#fb9f3a\"],[0.8888888888888888,\"#fdca26\"],[1.0,\"#f0f921\"]]}],\"heatmap\":[{\"type\":\"heatmap\",\"colorbar\":{\"outlinewidth\":0,\"ticks\":\"\"},\"colorscale\":[[0.0,\"#0d0887\"],[0.1111111111111111,\"#46039f\"],[0.2222222222222222,\"#7201a8\"],[0.3333333333333333,\"#9c179e\"],[0.4444444444444444,\"#bd3786\"],[0.5555555555555556,\"#d8576b\"],[0.6666666666666666,\"#ed7953\"],[0.7777777777777778,\"#fb9f3a\"],[0.8888888888888888,\"#fdca26\"],[1.0,\"#f0f921\"]]}],\"heatmapgl\":[{\"type\":\"heatmapgl\",\"colorbar\":{\"outlinewidth\":0,\"ticks\":\"\"},\"colorscale\":[[0.0,\"#0d0887\"],[0.1111111111111111,\"#46039f\"],[0.2222222222222222,\"#7201a8\"],[0.3333333333333333,\"#9c179e\"],[0.4444444444444444,\"#bd3786\"],[0.5555555555555556,\"#d8576b\"],[0.6666666666666666,\"#ed7953\"],[0.7777777777777778,\"#fb9f3a\"],[0.8888888888888888,\"#fdca26\"],[1.0,\"#f0f921\"]]}],\"contourcarpet\":[{\"type\":\"contourcarpet\",\"colorbar\":{\"outlinewidth\":0,\"ticks\":\"\"}}],\"contour\":[{\"type\":\"contour\",\"colorbar\":{\"outlinewidth\":0,\"ticks\":\"\"},\"colorscale\":[[0.0,\"#0d0887\"],[0.1111111111111111,\"#46039f\"],[0.2222222222222222,\"#7201a8\"],[0.3333333333333333,\"#9c179e\"],[0.4444444444444444,\"#bd3786\"],[0.5555555555555556,\"#d8576b\"],[0.6666666666666666,\"#ed7953\"],[0.7777777777777778,\"#fb9f3a\"],[0.8888888888888888,\"#fdca26\"],[1.0,\"#f0f921\"]]}],\"surface\":[{\"type\":\"surface\",\"colorbar\":{\"outlinewidth\":0,\"ticks\":\"\"},\"colorscale\":[[0.0,\"#0d0887\"],[0.1111111111111111,\"#46039f\"],[0.2222222222222222,\"#7201a8\"],[0.3333333333333333,\"#9c179e\"],[0.4444444444444444,\"#bd3786\"],[0.5555555555555556,\"#d8576b\"],[0.6666666666666666,\"#ed7953\"],[0.7777777777777778,\"#fb9f3a\"],[0.8888888888888888,\"#fdca26\"],[1.0,\"#f0f921\"]]}],\"mesh3d\":[{\"type\":\"mesh3d\",\"colorbar\":{\"outlinewidth\":0,\"ticks\":\"\"}}],\"scatter\":[{\"fillpattern\":{\"fillmode\":\"overlay\",\"size\":10,\"solidity\":0.2},\"type\":\"scatter\"}],\"parcoords\":[{\"type\":\"parcoords\",\"line\":{\"colorbar\":{\"outlinewidth\":0,\"ticks\":\"\"}}}],\"scatterpolargl\":[{\"type\":\"scatterpolargl\",\"marker\":{\"colorbar\":{\"outlinewidth\":0,\"ticks\":\"\"}}}],\"bar\":[{\"error_x\":{\"color\":\"#2a3f5f\"},\"error_y\":{\"color\":\"#2a3f5f\"},\"marker\":{\"line\":{\"color\":\"#E5ECF6\",\"width\":0.5},\"pattern\":{\"fillmode\":\"overlay\",\"size\":10,\"solidity\":0.2}},\"type\":\"bar\"}],\"scattergeo\":[{\"type\":\"scattergeo\",\"marker\":{\"colorbar\":{\"outlinewidth\":0,\"ticks\":\"\"}}}],\"scatterpolar\":[{\"type\":\"scatterpolar\",\"marker\":{\"colorbar\":{\"outlinewidth\":0,\"ticks\":\"\"}}}],\"histogram\":[{\"marker\":{\"pattern\":{\"fillmode\":\"overlay\",\"size\":10,\"solidity\":0.2}},\"type\":\"histogram\"}],\"scattergl\":[{\"type\":\"scattergl\",\"marker\":{\"colorbar\":{\"outlinewidth\":0,\"ticks\":\"\"}}}],\"scatter3d\":[{\"type\":\"scatter3d\",\"line\":{\"colorbar\":{\"outlinewidth\":0,\"ticks\":\"\"}},\"marker\":{\"colorbar\":{\"outlinewidth\":0,\"ticks\":\"\"}}}],\"scattermapbox\":[{\"type\":\"scattermapbox\",\"marker\":{\"colorbar\":{\"outlinewidth\":0,\"ticks\":\"\"}}}],\"scatterternary\":[{\"type\":\"scatterternary\",\"marker\":{\"colorbar\":{\"outlinewidth\":0,\"ticks\":\"\"}}}],\"scattercarpet\":[{\"type\":\"scattercarpet\",\"marker\":{\"colorbar\":{\"outlinewidth\":0,\"ticks\":\"\"}}}],\"carpet\":[{\"aaxis\":{\"endlinecolor\":\"#2a3f5f\",\"gridcolor\":\"white\",\"linecolor\":\"white\",\"minorgridcolor\":\"white\",\"startlinecolor\":\"#2a3f5f\"},\"baxis\":{\"endlinecolor\":\"#2a3f5f\",\"gridcolor\":\"white\",\"linecolor\":\"white\",\"minorgridcolor\":\"white\",\"startlinecolor\":\"#2a3f5f\"},\"type\":\"carpet\"}],\"table\":[{\"cells\":{\"fill\":{\"color\":\"#EBF0F8\"},\"line\":{\"color\":\"white\"}},\"header\":{\"fill\":{\"color\":\"#C8D4E3\"},\"line\":{\"color\":\"white\"}},\"type\":\"table\"}],\"barpolar\":[{\"marker\":{\"line\":{\"color\":\"#E5ECF6\",\"width\":0.5},\"pattern\":{\"fillmode\":\"overlay\",\"size\":10,\"solidity\":0.2}},\"type\":\"barpolar\"}],\"pie\":[{\"automargin\":true,\"type\":\"pie\"}]},\"layout\":{\"autotypenumbers\":\"strict\",\"colorway\":[\"#636efa\",\"#EF553B\",\"#00cc96\",\"#ab63fa\",\"#FFA15A\",\"#19d3f3\",\"#FF6692\",\"#B6E880\",\"#FF97FF\",\"#FECB52\"],\"font\":{\"color\":\"#2a3f5f\"},\"hovermode\":\"closest\",\"hoverlabel\":{\"align\":\"left\"},\"paper_bgcolor\":\"white\",\"plot_bgcolor\":\"#E5ECF6\",\"polar\":{\"bgcolor\":\"#E5ECF6\",\"angularaxis\":{\"gridcolor\":\"white\",\"linecolor\":\"white\",\"ticks\":\"\"},\"radialaxis\":{\"gridcolor\":\"white\",\"linecolor\":\"white\",\"ticks\":\"\"}},\"ternary\":{\"bgcolor\":\"#E5ECF6\",\"aaxis\":{\"gridcolor\":\"white\",\"linecolor\":\"white\",\"ticks\":\"\"},\"baxis\":{\"gridcolor\":\"white\",\"linecolor\":\"white\",\"ticks\":\"\"},\"caxis\":{\"gridcolor\":\"white\",\"linecolor\":\"white\",\"ticks\":\"\"}},\"coloraxis\":{\"colorbar\":{\"outlinewidth\":0,\"ticks\":\"\"}},\"colorscale\":{\"sequential\":[[0.0,\"#0d0887\"],[0.1111111111111111,\"#46039f\"],[0.2222222222222222,\"#7201a8\"],[0.3333333333333333,\"#9c179e\"],[0.4444444444444444,\"#bd3786\"],[0.5555555555555556,\"#d8576b\"],[0.6666666666666666,\"#ed7953\"],[0.7777777777777778,\"#fb9f3a\"],[0.8888888888888888,\"#fdca26\"],[1.0,\"#f0f921\"]],\"sequentialminus\":[[0.0,\"#0d0887\"],[0.1111111111111111,\"#46039f\"],[0.2222222222222222,\"#7201a8\"],[0.3333333333333333,\"#9c179e\"],[0.4444444444444444,\"#bd3786\"],[0.5555555555555556,\"#d8576b\"],[0.6666666666666666,\"#ed7953\"],[0.7777777777777778,\"#fb9f3a\"],[0.8888888888888888,\"#fdca26\"],[1.0,\"#f0f921\"]],\"diverging\":[[0,\"#8e0152\"],[0.1,\"#c51b7d\"],[0.2,\"#de77ae\"],[0.3,\"#f1b6da\"],[0.4,\"#fde0ef\"],[0.5,\"#f7f7f7\"],[0.6,\"#e6f5d0\"],[0.7,\"#b8e186\"],[0.8,\"#7fbc41\"],[0.9,\"#4d9221\"],[1,\"#276419\"]]},\"xaxis\":{\"gridcolor\":\"white\",\"linecolor\":\"white\",\"ticks\":\"\",\"title\":{\"standoff\":15},\"zerolinecolor\":\"white\",\"automargin\":true,\"zerolinewidth\":2},\"yaxis\":{\"gridcolor\":\"white\",\"linecolor\":\"white\",\"ticks\":\"\",\"title\":{\"standoff\":15},\"zerolinecolor\":\"white\",\"automargin\":true,\"zerolinewidth\":2},\"scene\":{\"xaxis\":{\"backgroundcolor\":\"#E5ECF6\",\"gridcolor\":\"white\",\"linecolor\":\"white\",\"showbackground\":true,\"ticks\":\"\",\"zerolinecolor\":\"white\",\"gridwidth\":2},\"yaxis\":{\"backgroundcolor\":\"#E5ECF6\",\"gridcolor\":\"white\",\"linecolor\":\"white\",\"showbackground\":true,\"ticks\":\"\",\"zerolinecolor\":\"white\",\"gridwidth\":2},\"zaxis\":{\"backgroundcolor\":\"#E5ECF6\",\"gridcolor\":\"white\",\"linecolor\":\"white\",\"showbackground\":true,\"ticks\":\"\",\"zerolinecolor\":\"white\",\"gridwidth\":2}},\"shapedefaults\":{\"line\":{\"color\":\"#2a3f5f\"}},\"annotationdefaults\":{\"arrowcolor\":\"#2a3f5f\",\"arrowhead\":0,\"arrowwidth\":1},\"geo\":{\"bgcolor\":\"white\",\"landcolor\":\"#E5ECF6\",\"subunitcolor\":\"white\",\"showland\":true,\"showlakes\":true,\"lakecolor\":\"white\"},\"title\":{\"x\":0.05},\"mapbox\":{\"style\":\"light\"}}},\"xaxis\":{\"anchor\":\"y\",\"domain\":[0.0,1.0],\"title\":{\"text\":\"GDP\"}},\"yaxis\":{\"anchor\":\"x\",\"domain\":[0.0,1.0],\"title\":{\"text\":\"Housing_price\"}},\"legend\":{\"tracegroupgap\":0},\"title\":{\"text\":\"<b>GDP vs. Housing Price</b>\"}},                        {\"responsive\": true}                    ).then(function(){\n",
       "                            \n",
       "var gd = document.getElementById('0b17f7dc-0846-401f-9257-24885c685116');\n",
       "var x = new MutationObserver(function (mutations, observer) {{\n",
       "        var display = window.getComputedStyle(gd).display;\n",
       "        if (!display || display === 'none') {{\n",
       "            console.log([gd, 'removed!']);\n",
       "            Plotly.purge(gd);\n",
       "            observer.disconnect();\n",
       "        }}\n",
       "}});\n",
       "\n",
       "// Listen for the removal of the full notebook cells\n",
       "var notebookContainer = gd.closest('#notebook-container');\n",
       "if (notebookContainer) {{\n",
       "    x.observe(notebookContainer, {childList: true});\n",
       "}}\n",
       "\n",
       "// Listen for the clearing of the current output cell\n",
       "var outputEl = gd.closest('.output');\n",
       "if (outputEl) {{\n",
       "    x.observe(outputEl, {childList: true});\n",
       "}}\n",
       "\n",
       "                        })                };                });            </script>        </div>"
      ]
     },
     "metadata": {},
     "output_type": "display_data"
    },
    {
     "data": {
      "application/vnd.plotly.v1+json": {
       "config": {
        "plotlyServerURL": "https://plot.ly"
       },
       "data": [
        {
         "hovertemplate": "CPI=%{x}<br>Housing_price=%{y}<extra></extra>",
         "legendgroup": "",
         "marker": {
          "color": "#636efa",
          "symbol": "circle"
         },
         "mode": "markers",
         "name": "",
         "orientation": "v",
         "showlegend": false,
         "type": "scatter",
         "x": [
          2.3158903,
          2.2862449,
          2.2461526,
          2.2397223,
          2.3579552,
          2.1993552,
          2.3010794,
          2.2644059,
          2.3340762,
          2.3253024,
          2.4316658,
          2.4690335,
          2.4510191,
          2.4992554,
          2.581219,
          2.6806926,
          2.7839595,
          3.0344298,
          3.0939988,
          3.2251144,
          3.212012,
          3.2911246,
          3.1482614,
          3.1241583,
          3.1457342,
          3.161558,
          3.1090014,
          2.9667028,
          2.783324,
          2.6305791,
          2.5346411,
          2.4685402,
          2.4838823,
          2.5033248,
          2.6563697,
          2.7127336,
          2.7470404,
          2.6165653,
          2.6887664,
          2.7251103,
          2.7937419,
          2.9376962,
          3.0142542,
          3.0845059,
          3.0766785,
          2.9291949,
          2.7864624,
          2.6304305,
          2.5522481,
          2.5594949,
          2.4535819,
          2.3761457,
          2.2888288,
          2.0898948,
          1.9228669,
          1.7701932,
          1.6158958,
          1.5209969,
          1.3714917,
          1.3248615,
          1.1770019,
          1.0548474,
          0.93183853,
          0.87602978,
          0.7998678,
          0.78483473,
          0.74959322,
          0.69562861,
          0.6676136,
          0.67526624,
          0.82600201,
          0.83710132,
          0.96003713,
          1.1238816,
          1.1861014,
          1.21555,
          1.2613949,
          1.2990532,
          1.4236275,
          1.6569751,
          1.7268145,
          1.8413647,
          1.8407168,
          2.0478499,
          2.1159285,
          2.0181912,
          2.1247577,
          2.1937928,
          2.1896843,
          2.2407468,
          2.2616531,
          2.1718632,
          2.2199385,
          2.2070705,
          2.1959869,
          2.1097305,
          2.0682971,
          2.146017,
          2.0999025,
          1.9354319,
          1.907797,
          1.8766189,
          1.867879,
          1.9142202,
          1.8904211,
          1.8687356,
          1.8930866,
          1.8711904,
          1.8218145,
          1.7891863,
          1.8208567,
          2.0251612,
          2.1282345,
          2.1433409,
          2.1008094,
          1.9625042,
          1.954047,
          2.0060187,
          2.0043657,
          1.9711259,
          1.985653,
          1.9819969,
          1.9991371,
          2.0631236,
          2.0668869,
          2.1147326,
          2.1414477,
          2.1802398,
          2.279431,
          2.3462109,
          2.4052606,
          2.4436874,
          2.4667222,
          2.5442092,
          2.531878,
          2.537996,
          2.5711572,
          2.5689022,
          2.5758512,
          2.7228064,
          2.6321032,
          2.5095184,
          2.5258013,
          2.594944,
          2.661562,
          2.67446,
          2.453344,
          2.25217,
          2.155911,
          2.13853,
          2.146769,
          2.089832,
          2.106697,
          2.192819,
          2.115031,
          2.125472,
          2.166305,
          2.131896,
          2.369197,
          2.493423,
          2.544991,
          2.553219,
          2.519634,
          2.432878,
          2.461933,
          2.414988,
          2.476794,
          2.46437,
          2.385533,
          2.376648,
          2.399684,
          2.407927,
          2.39723,
          2.421751,
          2.460848,
          2.629246,
          2.606767,
          2.733341,
          2.768217,
          2.746361,
          2.797067,
          2.812936,
          2.647379,
          2.226352,
          2.084208,
          2.058146,
          2.348857,
          2.288978,
          2.077391,
          1.842159,
          1.798587,
          1.716599,
          1.517012,
          1.527009,
          1.706984,
          2.262331,
          2.623164,
          2.588579,
          2.315464,
          2.343064,
          2.638383,
          3.035619,
          3.21432,
          3.484143,
          3.988659,
          4.30707,
          4.558423,
          4.721803,
          4.985582,
          5.422337,
          5.625329,
          5.991705,
          6.392795,
          6.364809,
          6.471178,
          6.617223,
          6.554492474,
          6.59375,
          6.451708317,
          6.322748661,
          5.625329,
          5.991705,
          6.392795,
          6.364809,
          6.471178,
          6.617223,
          6.554492474,
          6.59375,
          6.451708317
         ],
         "xaxis": "x",
         "y": [
          161.28799999999998,
          163.344,
          165.812,
          167.50099999999998,
          169.351,
          171.19,
          172.86,
          174.442,
          176.438,
          178.02700000000002,
          179.68099999999998,
          180.91,
          182.321,
          183.287,
          184.365,
          184.329,
          184.15599999999998,
          183.507,
          183.067,
          182.593,
          182.798,
          183.199,
          183.61,
          184.139,
          184.517,
          184.59900000000002,
          184.15,
          183.01,
          181.6,
          180.25400000000002,
          179.111,
          178.11599999999999,
          177.55700000000002,
          176.623,
          175.146,
          174.34099999999998,
          173.132,
          171.541,
          170.054,
          168.33900000000003,
          166.66,
          165.018,
          163.567,
          161.988,
          160.308,
          158.327,
          156.141,
          153.618,
          151.506,
          150.014,
          148.66,
          147.94899999999998,
          147.695,
          148.09,
          148.41,
          148.27700000000002,
          148.024,
          147.849,
          148.13299999999998,
          147.928,
          147.395,
          145.631,
          145.859,
          146.40200000000002,
          146.393,
          145.719,
          144.989,
          143.91299999999998,
          143.017,
          142.53,
          142.173,
          142.059,
          141.52200000000002,
          140.35,
          139.982,
          140.009,
          139.904,
          139.86,
          139.72899999999998,
          139.30700000000002,
          138.668,
          137.952,
          137.15200000000002,
          136.675,
          136.607,
          136.532,
          137.904,
          139.155,
          140.155,
          141.03,
          141.67,
          142.28,
          142.909,
          143.601,
          144.585,
          145.502,
          146.827,
          147.783,
          149.963,
          151.518,
          152.849,
          154.197,
          155.602,
          156.965,
          158.227,
          159.241,
          160.07299999999998,
          160.993,
          161.928,
          162.52700000000002,
          163.088,
          163.39600000000002,
          163.66299999999998,
          164.05599999999998,
          164.574,
          165.218,
          165.907,
          166.644,
          167.33700000000002,
          168.053,
          168.637,
          169.132,
          169.80200000000002,
          170.301,
          170.88400000000001,
          171.457,
          172.125,
          172.938,
          173.83,
          174.794,
          175.74200000000002,
          176.548,
          177.27700000000002,
          177.65400000000002,
          178.168,
          178.77,
          179.43200000000002,
          180.065,
          180.826,
          181.854,
          182.827,
          183.75400000000002,
          184.762,
          185.72299999999998,
          186.80200000000002,
          187.31599999999997,
          187.997,
          188.733,
          189.62900000000002,
          190.50400000000002,
          191.452,
          192.683,
          193.775,
          194.81400000000002,
          195.953,
          197.15900000000002,
          198.291,
          199.21400000000003,
          199.96099999999998,
          200.668,
          201.447,
          202.245,
          202.929,
          203.734,
          204.39,
          205.13299999999998,
          205.666,
          206.114,
          206.479,
          206.803,
          207.043,
          207.53799999999998,
          208.19400000000002,
          208.701,
          209.31799999999998,
          210.183,
          210.972,
          211.81599999999997,
          212.762,
          213.843,
          214.84599999999998,
          215.722,
          216.345,
          216.87,
          217.11900000000003,
          217.739,
          219.437,
          222.537,
          225.933,
          229.782,
          233.162,
          236.345,
          239.3,
          242.111,
          245.364,
          249.18400000000003,
          253.68200000000002,
          258.592,
          262.907,
          267.069,
          270.498,
          273.748,
          277.122,
          281.127,
          285.493,
          290.736,
          296.296,
          300.829,
          304.29400000000004,
          305.163,
          304.04400000000004,
          301.712,
          299.41200000000003,
          298.793,
          297.985,
          296.952,
          296.064,
          296.926,
          298.166,
          null,
          304.04400000000004,
          301.712,
          299.41200000000003,
          298.793,
          297.985,
          296.952,
          296.064,
          296.926,
          298.166
         ],
         "yaxis": "y"
        }
       ],
       "layout": {
        "legend": {
         "tracegroupgap": 0
        },
        "template": {
         "data": {
          "bar": [
           {
            "error_x": {
             "color": "#2a3f5f"
            },
            "error_y": {
             "color": "#2a3f5f"
            },
            "marker": {
             "line": {
              "color": "#E5ECF6",
              "width": 0.5
             },
             "pattern": {
              "fillmode": "overlay",
              "size": 10,
              "solidity": 0.2
             }
            },
            "type": "bar"
           }
          ],
          "barpolar": [
           {
            "marker": {
             "line": {
              "color": "#E5ECF6",
              "width": 0.5
             },
             "pattern": {
              "fillmode": "overlay",
              "size": 10,
              "solidity": 0.2
             }
            },
            "type": "barpolar"
           }
          ],
          "carpet": [
           {
            "aaxis": {
             "endlinecolor": "#2a3f5f",
             "gridcolor": "white",
             "linecolor": "white",
             "minorgridcolor": "white",
             "startlinecolor": "#2a3f5f"
            },
            "baxis": {
             "endlinecolor": "#2a3f5f",
             "gridcolor": "white",
             "linecolor": "white",
             "minorgridcolor": "white",
             "startlinecolor": "#2a3f5f"
            },
            "type": "carpet"
           }
          ],
          "choropleth": [
           {
            "colorbar": {
             "outlinewidth": 0,
             "ticks": ""
            },
            "type": "choropleth"
           }
          ],
          "contour": [
           {
            "colorbar": {
             "outlinewidth": 0,
             "ticks": ""
            },
            "colorscale": [
             [
              0,
              "#0d0887"
             ],
             [
              0.1111111111111111,
              "#46039f"
             ],
             [
              0.2222222222222222,
              "#7201a8"
             ],
             [
              0.3333333333333333,
              "#9c179e"
             ],
             [
              0.4444444444444444,
              "#bd3786"
             ],
             [
              0.5555555555555556,
              "#d8576b"
             ],
             [
              0.6666666666666666,
              "#ed7953"
             ],
             [
              0.7777777777777778,
              "#fb9f3a"
             ],
             [
              0.8888888888888888,
              "#fdca26"
             ],
             [
              1,
              "#f0f921"
             ]
            ],
            "type": "contour"
           }
          ],
          "contourcarpet": [
           {
            "colorbar": {
             "outlinewidth": 0,
             "ticks": ""
            },
            "type": "contourcarpet"
           }
          ],
          "heatmap": [
           {
            "colorbar": {
             "outlinewidth": 0,
             "ticks": ""
            },
            "colorscale": [
             [
              0,
              "#0d0887"
             ],
             [
              0.1111111111111111,
              "#46039f"
             ],
             [
              0.2222222222222222,
              "#7201a8"
             ],
             [
              0.3333333333333333,
              "#9c179e"
             ],
             [
              0.4444444444444444,
              "#bd3786"
             ],
             [
              0.5555555555555556,
              "#d8576b"
             ],
             [
              0.6666666666666666,
              "#ed7953"
             ],
             [
              0.7777777777777778,
              "#fb9f3a"
             ],
             [
              0.8888888888888888,
              "#fdca26"
             ],
             [
              1,
              "#f0f921"
             ]
            ],
            "type": "heatmap"
           }
          ],
          "heatmapgl": [
           {
            "colorbar": {
             "outlinewidth": 0,
             "ticks": ""
            },
            "colorscale": [
             [
              0,
              "#0d0887"
             ],
             [
              0.1111111111111111,
              "#46039f"
             ],
             [
              0.2222222222222222,
              "#7201a8"
             ],
             [
              0.3333333333333333,
              "#9c179e"
             ],
             [
              0.4444444444444444,
              "#bd3786"
             ],
             [
              0.5555555555555556,
              "#d8576b"
             ],
             [
              0.6666666666666666,
              "#ed7953"
             ],
             [
              0.7777777777777778,
              "#fb9f3a"
             ],
             [
              0.8888888888888888,
              "#fdca26"
             ],
             [
              1,
              "#f0f921"
             ]
            ],
            "type": "heatmapgl"
           }
          ],
          "histogram": [
           {
            "marker": {
             "pattern": {
              "fillmode": "overlay",
              "size": 10,
              "solidity": 0.2
             }
            },
            "type": "histogram"
           }
          ],
          "histogram2d": [
           {
            "colorbar": {
             "outlinewidth": 0,
             "ticks": ""
            },
            "colorscale": [
             [
              0,
              "#0d0887"
             ],
             [
              0.1111111111111111,
              "#46039f"
             ],
             [
              0.2222222222222222,
              "#7201a8"
             ],
             [
              0.3333333333333333,
              "#9c179e"
             ],
             [
              0.4444444444444444,
              "#bd3786"
             ],
             [
              0.5555555555555556,
              "#d8576b"
             ],
             [
              0.6666666666666666,
              "#ed7953"
             ],
             [
              0.7777777777777778,
              "#fb9f3a"
             ],
             [
              0.8888888888888888,
              "#fdca26"
             ],
             [
              1,
              "#f0f921"
             ]
            ],
            "type": "histogram2d"
           }
          ],
          "histogram2dcontour": [
           {
            "colorbar": {
             "outlinewidth": 0,
             "ticks": ""
            },
            "colorscale": [
             [
              0,
              "#0d0887"
             ],
             [
              0.1111111111111111,
              "#46039f"
             ],
             [
              0.2222222222222222,
              "#7201a8"
             ],
             [
              0.3333333333333333,
              "#9c179e"
             ],
             [
              0.4444444444444444,
              "#bd3786"
             ],
             [
              0.5555555555555556,
              "#d8576b"
             ],
             [
              0.6666666666666666,
              "#ed7953"
             ],
             [
              0.7777777777777778,
              "#fb9f3a"
             ],
             [
              0.8888888888888888,
              "#fdca26"
             ],
             [
              1,
              "#f0f921"
             ]
            ],
            "type": "histogram2dcontour"
           }
          ],
          "mesh3d": [
           {
            "colorbar": {
             "outlinewidth": 0,
             "ticks": ""
            },
            "type": "mesh3d"
           }
          ],
          "parcoords": [
           {
            "line": {
             "colorbar": {
              "outlinewidth": 0,
              "ticks": ""
             }
            },
            "type": "parcoords"
           }
          ],
          "pie": [
           {
            "automargin": true,
            "type": "pie"
           }
          ],
          "scatter": [
           {
            "fillpattern": {
             "fillmode": "overlay",
             "size": 10,
             "solidity": 0.2
            },
            "type": "scatter"
           }
          ],
          "scatter3d": [
           {
            "line": {
             "colorbar": {
              "outlinewidth": 0,
              "ticks": ""
             }
            },
            "marker": {
             "colorbar": {
              "outlinewidth": 0,
              "ticks": ""
             }
            },
            "type": "scatter3d"
           }
          ],
          "scattercarpet": [
           {
            "marker": {
             "colorbar": {
              "outlinewidth": 0,
              "ticks": ""
             }
            },
            "type": "scattercarpet"
           }
          ],
          "scattergeo": [
           {
            "marker": {
             "colorbar": {
              "outlinewidth": 0,
              "ticks": ""
             }
            },
            "type": "scattergeo"
           }
          ],
          "scattergl": [
           {
            "marker": {
             "colorbar": {
              "outlinewidth": 0,
              "ticks": ""
             }
            },
            "type": "scattergl"
           }
          ],
          "scattermapbox": [
           {
            "marker": {
             "colorbar": {
              "outlinewidth": 0,
              "ticks": ""
             }
            },
            "type": "scattermapbox"
           }
          ],
          "scatterpolar": [
           {
            "marker": {
             "colorbar": {
              "outlinewidth": 0,
              "ticks": ""
             }
            },
            "type": "scatterpolar"
           }
          ],
          "scatterpolargl": [
           {
            "marker": {
             "colorbar": {
              "outlinewidth": 0,
              "ticks": ""
             }
            },
            "type": "scatterpolargl"
           }
          ],
          "scatterternary": [
           {
            "marker": {
             "colorbar": {
              "outlinewidth": 0,
              "ticks": ""
             }
            },
            "type": "scatterternary"
           }
          ],
          "surface": [
           {
            "colorbar": {
             "outlinewidth": 0,
             "ticks": ""
            },
            "colorscale": [
             [
              0,
              "#0d0887"
             ],
             [
              0.1111111111111111,
              "#46039f"
             ],
             [
              0.2222222222222222,
              "#7201a8"
             ],
             [
              0.3333333333333333,
              "#9c179e"
             ],
             [
              0.4444444444444444,
              "#bd3786"
             ],
             [
              0.5555555555555556,
              "#d8576b"
             ],
             [
              0.6666666666666666,
              "#ed7953"
             ],
             [
              0.7777777777777778,
              "#fb9f3a"
             ],
             [
              0.8888888888888888,
              "#fdca26"
             ],
             [
              1,
              "#f0f921"
             ]
            ],
            "type": "surface"
           }
          ],
          "table": [
           {
            "cells": {
             "fill": {
              "color": "#EBF0F8"
             },
             "line": {
              "color": "white"
             }
            },
            "header": {
             "fill": {
              "color": "#C8D4E3"
             },
             "line": {
              "color": "white"
             }
            },
            "type": "table"
           }
          ]
         },
         "layout": {
          "annotationdefaults": {
           "arrowcolor": "#2a3f5f",
           "arrowhead": 0,
           "arrowwidth": 1
          },
          "autotypenumbers": "strict",
          "coloraxis": {
           "colorbar": {
            "outlinewidth": 0,
            "ticks": ""
           }
          },
          "colorscale": {
           "diverging": [
            [
             0,
             "#8e0152"
            ],
            [
             0.1,
             "#c51b7d"
            ],
            [
             0.2,
             "#de77ae"
            ],
            [
             0.3,
             "#f1b6da"
            ],
            [
             0.4,
             "#fde0ef"
            ],
            [
             0.5,
             "#f7f7f7"
            ],
            [
             0.6,
             "#e6f5d0"
            ],
            [
             0.7,
             "#b8e186"
            ],
            [
             0.8,
             "#7fbc41"
            ],
            [
             0.9,
             "#4d9221"
            ],
            [
             1,
             "#276419"
            ]
           ],
           "sequential": [
            [
             0,
             "#0d0887"
            ],
            [
             0.1111111111111111,
             "#46039f"
            ],
            [
             0.2222222222222222,
             "#7201a8"
            ],
            [
             0.3333333333333333,
             "#9c179e"
            ],
            [
             0.4444444444444444,
             "#bd3786"
            ],
            [
             0.5555555555555556,
             "#d8576b"
            ],
            [
             0.6666666666666666,
             "#ed7953"
            ],
            [
             0.7777777777777778,
             "#fb9f3a"
            ],
            [
             0.8888888888888888,
             "#fdca26"
            ],
            [
             1,
             "#f0f921"
            ]
           ],
           "sequentialminus": [
            [
             0,
             "#0d0887"
            ],
            [
             0.1111111111111111,
             "#46039f"
            ],
            [
             0.2222222222222222,
             "#7201a8"
            ],
            [
             0.3333333333333333,
             "#9c179e"
            ],
            [
             0.4444444444444444,
             "#bd3786"
            ],
            [
             0.5555555555555556,
             "#d8576b"
            ],
            [
             0.6666666666666666,
             "#ed7953"
            ],
            [
             0.7777777777777778,
             "#fb9f3a"
            ],
            [
             0.8888888888888888,
             "#fdca26"
            ],
            [
             1,
             "#f0f921"
            ]
           ]
          },
          "colorway": [
           "#636efa",
           "#EF553B",
           "#00cc96",
           "#ab63fa",
           "#FFA15A",
           "#19d3f3",
           "#FF6692",
           "#B6E880",
           "#FF97FF",
           "#FECB52"
          ],
          "font": {
           "color": "#2a3f5f"
          },
          "geo": {
           "bgcolor": "white",
           "lakecolor": "white",
           "landcolor": "#E5ECF6",
           "showlakes": true,
           "showland": true,
           "subunitcolor": "white"
          },
          "hoverlabel": {
           "align": "left"
          },
          "hovermode": "closest",
          "mapbox": {
           "style": "light"
          },
          "paper_bgcolor": "white",
          "plot_bgcolor": "#E5ECF6",
          "polar": {
           "angularaxis": {
            "gridcolor": "white",
            "linecolor": "white",
            "ticks": ""
           },
           "bgcolor": "#E5ECF6",
           "radialaxis": {
            "gridcolor": "white",
            "linecolor": "white",
            "ticks": ""
           }
          },
          "scene": {
           "xaxis": {
            "backgroundcolor": "#E5ECF6",
            "gridcolor": "white",
            "gridwidth": 2,
            "linecolor": "white",
            "showbackground": true,
            "ticks": "",
            "zerolinecolor": "white"
           },
           "yaxis": {
            "backgroundcolor": "#E5ECF6",
            "gridcolor": "white",
            "gridwidth": 2,
            "linecolor": "white",
            "showbackground": true,
            "ticks": "",
            "zerolinecolor": "white"
           },
           "zaxis": {
            "backgroundcolor": "#E5ECF6",
            "gridcolor": "white",
            "gridwidth": 2,
            "linecolor": "white",
            "showbackground": true,
            "ticks": "",
            "zerolinecolor": "white"
           }
          },
          "shapedefaults": {
           "line": {
            "color": "#2a3f5f"
           }
          },
          "ternary": {
           "aaxis": {
            "gridcolor": "white",
            "linecolor": "white",
            "ticks": ""
           },
           "baxis": {
            "gridcolor": "white",
            "linecolor": "white",
            "ticks": ""
           },
           "bgcolor": "#E5ECF6",
           "caxis": {
            "gridcolor": "white",
            "linecolor": "white",
            "ticks": ""
           }
          },
          "title": {
           "x": 0.05
          },
          "xaxis": {
           "automargin": true,
           "gridcolor": "white",
           "linecolor": "white",
           "ticks": "",
           "title": {
            "standoff": 15
           },
           "zerolinecolor": "white",
           "zerolinewidth": 2
          },
          "yaxis": {
           "automargin": true,
           "gridcolor": "white",
           "linecolor": "white",
           "ticks": "",
           "title": {
            "standoff": 15
           },
           "zerolinecolor": "white",
           "zerolinewidth": 2
          }
         }
        },
        "title": {
         "text": "<b>CPI vs. Housing Price</b>"
        },
        "xaxis": {
         "anchor": "y",
         "domain": [
          0,
          1
         ],
         "title": {
          "text": "CPI"
         }
        },
        "yaxis": {
         "anchor": "x",
         "domain": [
          0,
          1
         ],
         "title": {
          "text": "Housing_price"
         }
        }
       }
      },
      "text/html": [
       "<div>                            <div id=\"08d09927-77d2-49e7-8537-c57506e55e8d\" class=\"plotly-graph-div\" style=\"height:525px; width:100%;\"></div>            <script type=\"text/javascript\">                require([\"plotly\"], function(Plotly) {                    window.PLOTLYENV=window.PLOTLYENV || {};                                    if (document.getElementById(\"08d09927-77d2-49e7-8537-c57506e55e8d\")) {                    Plotly.newPlot(                        \"08d09927-77d2-49e7-8537-c57506e55e8d\",                        [{\"hovertemplate\":\"CPI=%{x}<br>Housing_price=%{y}<extra></extra>\",\"legendgroup\":\"\",\"marker\":{\"color\":\"#636efa\",\"symbol\":\"circle\"},\"mode\":\"markers\",\"name\":\"\",\"orientation\":\"v\",\"showlegend\":false,\"x\":[2.3158903,2.2862449,2.2461526,2.2397223,2.3579552,2.1993552,2.3010794,2.2644059,2.3340762,2.3253024,2.4316658,2.4690335,2.4510191,2.4992554,2.581219,2.6806926,2.7839595,3.0344298,3.0939988,3.2251144,3.212012,3.2911246,3.1482614,3.1241583,3.1457342,3.161558,3.1090014,2.9667028,2.783324,2.6305791,2.5346411,2.4685402,2.4838823,2.5033248,2.6563697,2.7127336,2.7470404,2.6165653,2.6887664,2.7251103,2.7937419,2.9376962,3.0142542,3.0845059,3.0766785,2.9291949,2.7864624,2.6304305,2.5522481,2.5594949,2.4535819,2.3761457,2.2888288,2.0898948,1.9228669,1.7701932,1.6158958,1.5209969,1.3714917,1.3248615,1.1770019,1.0548474,0.93183853,0.87602978,0.7998678,0.78483473,0.74959322,0.69562861,0.6676136,0.67526624,0.82600201,0.83710132,0.96003713,1.1238816,1.1861014,1.21555,1.2613949,1.2990532,1.4236275,1.6569751,1.7268145,1.8413647,1.8407168,2.0478499,2.1159285,2.0181912,2.1247577,2.1937928,2.1896843,2.2407468,2.2616531,2.1718632,2.2199385,2.2070705,2.1959869,2.1097305,2.0682971,2.146017,2.0999025,1.9354319,1.907797,1.8766189,1.867879,1.9142202,1.8904211,1.8687356,1.8930866,1.8711904,1.8218145,1.7891863,1.8208567,2.0251612,2.1282345,2.1433409,2.1008094,1.9625042,1.954047,2.0060187,2.0043657,1.9711259,1.985653,1.9819969,1.9991371,2.0631236,2.0668869,2.1147326,2.1414477,2.1802398,2.279431,2.3462109,2.4052606,2.4436874,2.4667222,2.5442092,2.531878,2.537996,2.5711572,2.5689022,2.5758512,2.7228064,2.6321032,2.5095184,2.5258013,2.594944,2.661562,2.67446,2.453344,2.25217,2.155911,2.13853,2.146769,2.089832,2.106697,2.192819,2.115031,2.125472,2.166305,2.131896,2.369197,2.493423,2.544991,2.553219,2.519634,2.432878,2.461933,2.414988,2.476794,2.46437,2.385533,2.376648,2.399684,2.407927,2.39723,2.421751,2.460848,2.629246,2.606767,2.733341,2.768217,2.746361,2.797067,2.812936,2.647379,2.226352,2.084208,2.058146,2.348857,2.288978,2.077391,1.842159,1.798587,1.716599,1.517012,1.527009,1.706984,2.262331,2.623164,2.588579,2.315464,2.343064,2.638383,3.035619,3.21432,3.484143,3.988659,4.30707,4.558423,4.721803,4.985582,5.422337,5.625329,5.991705,6.392795,6.364809,6.471178,6.617223,6.554492474,6.59375,6.451708317,6.322748661,5.625329,5.991705,6.392795,6.364809,6.471178,6.617223,6.554492474,6.59375,6.451708317],\"xaxis\":\"x\",\"y\":[161.28799999999998,163.344,165.812,167.50099999999998,169.351,171.19,172.86,174.442,176.438,178.02700000000002,179.68099999999998,180.91,182.321,183.287,184.365,184.329,184.15599999999998,183.507,183.067,182.593,182.798,183.199,183.61,184.139,184.517,184.59900000000002,184.15,183.01,181.6,180.25400000000002,179.111,178.11599999999999,177.55700000000002,176.623,175.146,174.34099999999998,173.132,171.541,170.054,168.33900000000003,166.66,165.018,163.567,161.988,160.308,158.327,156.141,153.618,151.506,150.014,148.66,147.94899999999998,147.695,148.09,148.41,148.27700000000002,148.024,147.849,148.13299999999998,147.928,147.395,145.631,145.859,146.40200000000002,146.393,145.719,144.989,143.91299999999998,143.017,142.53,142.173,142.059,141.52200000000002,140.35,139.982,140.009,139.904,139.86,139.72899999999998,139.30700000000002,138.668,137.952,137.15200000000002,136.675,136.607,136.532,137.904,139.155,140.155,141.03,141.67,142.28,142.909,143.601,144.585,145.502,146.827,147.783,149.963,151.518,152.849,154.197,155.602,156.965,158.227,159.241,160.07299999999998,160.993,161.928,162.52700000000002,163.088,163.39600000000002,163.66299999999998,164.05599999999998,164.574,165.218,165.907,166.644,167.33700000000002,168.053,168.637,169.132,169.80200000000002,170.301,170.88400000000001,171.457,172.125,172.938,173.83,174.794,175.74200000000002,176.548,177.27700000000002,177.65400000000002,178.168,178.77,179.43200000000002,180.065,180.826,181.854,182.827,183.75400000000002,184.762,185.72299999999998,186.80200000000002,187.31599999999997,187.997,188.733,189.62900000000002,190.50400000000002,191.452,192.683,193.775,194.81400000000002,195.953,197.15900000000002,198.291,199.21400000000003,199.96099999999998,200.668,201.447,202.245,202.929,203.734,204.39,205.13299999999998,205.666,206.114,206.479,206.803,207.043,207.53799999999998,208.19400000000002,208.701,209.31799999999998,210.183,210.972,211.81599999999997,212.762,213.843,214.84599999999998,215.722,216.345,216.87,217.11900000000003,217.739,219.437,222.537,225.933,229.782,233.162,236.345,239.3,242.111,245.364,249.18400000000003,253.68200000000002,258.592,262.907,267.069,270.498,273.748,277.122,281.127,285.493,290.736,296.296,300.829,304.29400000000004,305.163,304.04400000000004,301.712,299.41200000000003,298.793,297.985,296.952,296.064,296.926,298.166,null,304.04400000000004,301.712,299.41200000000003,298.793,297.985,296.952,296.064,296.926,298.166],\"yaxis\":\"y\",\"type\":\"scatter\"}],                        {\"template\":{\"data\":{\"histogram2dcontour\":[{\"type\":\"histogram2dcontour\",\"colorbar\":{\"outlinewidth\":0,\"ticks\":\"\"},\"colorscale\":[[0.0,\"#0d0887\"],[0.1111111111111111,\"#46039f\"],[0.2222222222222222,\"#7201a8\"],[0.3333333333333333,\"#9c179e\"],[0.4444444444444444,\"#bd3786\"],[0.5555555555555556,\"#d8576b\"],[0.6666666666666666,\"#ed7953\"],[0.7777777777777778,\"#fb9f3a\"],[0.8888888888888888,\"#fdca26\"],[1.0,\"#f0f921\"]]}],\"choropleth\":[{\"type\":\"choropleth\",\"colorbar\":{\"outlinewidth\":0,\"ticks\":\"\"}}],\"histogram2d\":[{\"type\":\"histogram2d\",\"colorbar\":{\"outlinewidth\":0,\"ticks\":\"\"},\"colorscale\":[[0.0,\"#0d0887\"],[0.1111111111111111,\"#46039f\"],[0.2222222222222222,\"#7201a8\"],[0.3333333333333333,\"#9c179e\"],[0.4444444444444444,\"#bd3786\"],[0.5555555555555556,\"#d8576b\"],[0.6666666666666666,\"#ed7953\"],[0.7777777777777778,\"#fb9f3a\"],[0.8888888888888888,\"#fdca26\"],[1.0,\"#f0f921\"]]}],\"heatmap\":[{\"type\":\"heatmap\",\"colorbar\":{\"outlinewidth\":0,\"ticks\":\"\"},\"colorscale\":[[0.0,\"#0d0887\"],[0.1111111111111111,\"#46039f\"],[0.2222222222222222,\"#7201a8\"],[0.3333333333333333,\"#9c179e\"],[0.4444444444444444,\"#bd3786\"],[0.5555555555555556,\"#d8576b\"],[0.6666666666666666,\"#ed7953\"],[0.7777777777777778,\"#fb9f3a\"],[0.8888888888888888,\"#fdca26\"],[1.0,\"#f0f921\"]]}],\"heatmapgl\":[{\"type\":\"heatmapgl\",\"colorbar\":{\"outlinewidth\":0,\"ticks\":\"\"},\"colorscale\":[[0.0,\"#0d0887\"],[0.1111111111111111,\"#46039f\"],[0.2222222222222222,\"#7201a8\"],[0.3333333333333333,\"#9c179e\"],[0.4444444444444444,\"#bd3786\"],[0.5555555555555556,\"#d8576b\"],[0.6666666666666666,\"#ed7953\"],[0.7777777777777778,\"#fb9f3a\"],[0.8888888888888888,\"#fdca26\"],[1.0,\"#f0f921\"]]}],\"contourcarpet\":[{\"type\":\"contourcarpet\",\"colorbar\":{\"outlinewidth\":0,\"ticks\":\"\"}}],\"contour\":[{\"type\":\"contour\",\"colorbar\":{\"outlinewidth\":0,\"ticks\":\"\"},\"colorscale\":[[0.0,\"#0d0887\"],[0.1111111111111111,\"#46039f\"],[0.2222222222222222,\"#7201a8\"],[0.3333333333333333,\"#9c179e\"],[0.4444444444444444,\"#bd3786\"],[0.5555555555555556,\"#d8576b\"],[0.6666666666666666,\"#ed7953\"],[0.7777777777777778,\"#fb9f3a\"],[0.8888888888888888,\"#fdca26\"],[1.0,\"#f0f921\"]]}],\"surface\":[{\"type\":\"surface\",\"colorbar\":{\"outlinewidth\":0,\"ticks\":\"\"},\"colorscale\":[[0.0,\"#0d0887\"],[0.1111111111111111,\"#46039f\"],[0.2222222222222222,\"#7201a8\"],[0.3333333333333333,\"#9c179e\"],[0.4444444444444444,\"#bd3786\"],[0.5555555555555556,\"#d8576b\"],[0.6666666666666666,\"#ed7953\"],[0.7777777777777778,\"#fb9f3a\"],[0.8888888888888888,\"#fdca26\"],[1.0,\"#f0f921\"]]}],\"mesh3d\":[{\"type\":\"mesh3d\",\"colorbar\":{\"outlinewidth\":0,\"ticks\":\"\"}}],\"scatter\":[{\"fillpattern\":{\"fillmode\":\"overlay\",\"size\":10,\"solidity\":0.2},\"type\":\"scatter\"}],\"parcoords\":[{\"type\":\"parcoords\",\"line\":{\"colorbar\":{\"outlinewidth\":0,\"ticks\":\"\"}}}],\"scatterpolargl\":[{\"type\":\"scatterpolargl\",\"marker\":{\"colorbar\":{\"outlinewidth\":0,\"ticks\":\"\"}}}],\"bar\":[{\"error_x\":{\"color\":\"#2a3f5f\"},\"error_y\":{\"color\":\"#2a3f5f\"},\"marker\":{\"line\":{\"color\":\"#E5ECF6\",\"width\":0.5},\"pattern\":{\"fillmode\":\"overlay\",\"size\":10,\"solidity\":0.2}},\"type\":\"bar\"}],\"scattergeo\":[{\"type\":\"scattergeo\",\"marker\":{\"colorbar\":{\"outlinewidth\":0,\"ticks\":\"\"}}}],\"scatterpolar\":[{\"type\":\"scatterpolar\",\"marker\":{\"colorbar\":{\"outlinewidth\":0,\"ticks\":\"\"}}}],\"histogram\":[{\"marker\":{\"pattern\":{\"fillmode\":\"overlay\",\"size\":10,\"solidity\":0.2}},\"type\":\"histogram\"}],\"scattergl\":[{\"type\":\"scattergl\",\"marker\":{\"colorbar\":{\"outlinewidth\":0,\"ticks\":\"\"}}}],\"scatter3d\":[{\"type\":\"scatter3d\",\"line\":{\"colorbar\":{\"outlinewidth\":0,\"ticks\":\"\"}},\"marker\":{\"colorbar\":{\"outlinewidth\":0,\"ticks\":\"\"}}}],\"scattermapbox\":[{\"type\":\"scattermapbox\",\"marker\":{\"colorbar\":{\"outlinewidth\":0,\"ticks\":\"\"}}}],\"scatterternary\":[{\"type\":\"scatterternary\",\"marker\":{\"colorbar\":{\"outlinewidth\":0,\"ticks\":\"\"}}}],\"scattercarpet\":[{\"type\":\"scattercarpet\",\"marker\":{\"colorbar\":{\"outlinewidth\":0,\"ticks\":\"\"}}}],\"carpet\":[{\"aaxis\":{\"endlinecolor\":\"#2a3f5f\",\"gridcolor\":\"white\",\"linecolor\":\"white\",\"minorgridcolor\":\"white\",\"startlinecolor\":\"#2a3f5f\"},\"baxis\":{\"endlinecolor\":\"#2a3f5f\",\"gridcolor\":\"white\",\"linecolor\":\"white\",\"minorgridcolor\":\"white\",\"startlinecolor\":\"#2a3f5f\"},\"type\":\"carpet\"}],\"table\":[{\"cells\":{\"fill\":{\"color\":\"#EBF0F8\"},\"line\":{\"color\":\"white\"}},\"header\":{\"fill\":{\"color\":\"#C8D4E3\"},\"line\":{\"color\":\"white\"}},\"type\":\"table\"}],\"barpolar\":[{\"marker\":{\"line\":{\"color\":\"#E5ECF6\",\"width\":0.5},\"pattern\":{\"fillmode\":\"overlay\",\"size\":10,\"solidity\":0.2}},\"type\":\"barpolar\"}],\"pie\":[{\"automargin\":true,\"type\":\"pie\"}]},\"layout\":{\"autotypenumbers\":\"strict\",\"colorway\":[\"#636efa\",\"#EF553B\",\"#00cc96\",\"#ab63fa\",\"#FFA15A\",\"#19d3f3\",\"#FF6692\",\"#B6E880\",\"#FF97FF\",\"#FECB52\"],\"font\":{\"color\":\"#2a3f5f\"},\"hovermode\":\"closest\",\"hoverlabel\":{\"align\":\"left\"},\"paper_bgcolor\":\"white\",\"plot_bgcolor\":\"#E5ECF6\",\"polar\":{\"bgcolor\":\"#E5ECF6\",\"angularaxis\":{\"gridcolor\":\"white\",\"linecolor\":\"white\",\"ticks\":\"\"},\"radialaxis\":{\"gridcolor\":\"white\",\"linecolor\":\"white\",\"ticks\":\"\"}},\"ternary\":{\"bgcolor\":\"#E5ECF6\",\"aaxis\":{\"gridcolor\":\"white\",\"linecolor\":\"white\",\"ticks\":\"\"},\"baxis\":{\"gridcolor\":\"white\",\"linecolor\":\"white\",\"ticks\":\"\"},\"caxis\":{\"gridcolor\":\"white\",\"linecolor\":\"white\",\"ticks\":\"\"}},\"coloraxis\":{\"colorbar\":{\"outlinewidth\":0,\"ticks\":\"\"}},\"colorscale\":{\"sequential\":[[0.0,\"#0d0887\"],[0.1111111111111111,\"#46039f\"],[0.2222222222222222,\"#7201a8\"],[0.3333333333333333,\"#9c179e\"],[0.4444444444444444,\"#bd3786\"],[0.5555555555555556,\"#d8576b\"],[0.6666666666666666,\"#ed7953\"],[0.7777777777777778,\"#fb9f3a\"],[0.8888888888888888,\"#fdca26\"],[1.0,\"#f0f921\"]],\"sequentialminus\":[[0.0,\"#0d0887\"],[0.1111111111111111,\"#46039f\"],[0.2222222222222222,\"#7201a8\"],[0.3333333333333333,\"#9c179e\"],[0.4444444444444444,\"#bd3786\"],[0.5555555555555556,\"#d8576b\"],[0.6666666666666666,\"#ed7953\"],[0.7777777777777778,\"#fb9f3a\"],[0.8888888888888888,\"#fdca26\"],[1.0,\"#f0f921\"]],\"diverging\":[[0,\"#8e0152\"],[0.1,\"#c51b7d\"],[0.2,\"#de77ae\"],[0.3,\"#f1b6da\"],[0.4,\"#fde0ef\"],[0.5,\"#f7f7f7\"],[0.6,\"#e6f5d0\"],[0.7,\"#b8e186\"],[0.8,\"#7fbc41\"],[0.9,\"#4d9221\"],[1,\"#276419\"]]},\"xaxis\":{\"gridcolor\":\"white\",\"linecolor\":\"white\",\"ticks\":\"\",\"title\":{\"standoff\":15},\"zerolinecolor\":\"white\",\"automargin\":true,\"zerolinewidth\":2},\"yaxis\":{\"gridcolor\":\"white\",\"linecolor\":\"white\",\"ticks\":\"\",\"title\":{\"standoff\":15},\"zerolinecolor\":\"white\",\"automargin\":true,\"zerolinewidth\":2},\"scene\":{\"xaxis\":{\"backgroundcolor\":\"#E5ECF6\",\"gridcolor\":\"white\",\"linecolor\":\"white\",\"showbackground\":true,\"ticks\":\"\",\"zerolinecolor\":\"white\",\"gridwidth\":2},\"yaxis\":{\"backgroundcolor\":\"#E5ECF6\",\"gridcolor\":\"white\",\"linecolor\":\"white\",\"showbackground\":true,\"ticks\":\"\",\"zerolinecolor\":\"white\",\"gridwidth\":2},\"zaxis\":{\"backgroundcolor\":\"#E5ECF6\",\"gridcolor\":\"white\",\"linecolor\":\"white\",\"showbackground\":true,\"ticks\":\"\",\"zerolinecolor\":\"white\",\"gridwidth\":2}},\"shapedefaults\":{\"line\":{\"color\":\"#2a3f5f\"}},\"annotationdefaults\":{\"arrowcolor\":\"#2a3f5f\",\"arrowhead\":0,\"arrowwidth\":1},\"geo\":{\"bgcolor\":\"white\",\"landcolor\":\"#E5ECF6\",\"subunitcolor\":\"white\",\"showland\":true,\"showlakes\":true,\"lakecolor\":\"white\"},\"title\":{\"x\":0.05},\"mapbox\":{\"style\":\"light\"}}},\"xaxis\":{\"anchor\":\"y\",\"domain\":[0.0,1.0],\"title\":{\"text\":\"CPI\"}},\"yaxis\":{\"anchor\":\"x\",\"domain\":[0.0,1.0],\"title\":{\"text\":\"Housing_price\"}},\"legend\":{\"tracegroupgap\":0},\"title\":{\"text\":\"<b>CPI vs. Housing Price</b>\"}},                        {\"responsive\": true}                    ).then(function(){\n",
       "                            \n",
       "var gd = document.getElementById('08d09927-77d2-49e7-8537-c57506e55e8d');\n",
       "var x = new MutationObserver(function (mutations, observer) {{\n",
       "        var display = window.getComputedStyle(gd).display;\n",
       "        if (!display || display === 'none') {{\n",
       "            console.log([gd, 'removed!']);\n",
       "            Plotly.purge(gd);\n",
       "            observer.disconnect();\n",
       "        }}\n",
       "}});\n",
       "\n",
       "// Listen for the removal of the full notebook cells\n",
       "var notebookContainer = gd.closest('#notebook-container');\n",
       "if (notebookContainer) {{\n",
       "    x.observe(notebookContainer, {childList: true});\n",
       "}}\n",
       "\n",
       "// Listen for the clearing of the current output cell\n",
       "var outputEl = gd.closest('.output');\n",
       "if (outputEl) {{\n",
       "    x.observe(outputEl, {childList: true});\n",
       "}}\n",
       "\n",
       "                        })                };                });            </script>        </div>"
      ]
     },
     "metadata": {},
     "output_type": "display_data"
    },
    {
     "data": {
      "application/vnd.plotly.v1+json": {
       "config": {
        "plotlyServerURL": "https://plot.ly"
       },
       "data": [
        {
         "hovertemplate": "Median_household_income=%{x}<br>Housing_price=%{y}<extra></extra>",
         "legendgroup": "",
         "marker": {
          "color": "#636efa",
          "symbol": "circle"
         },
         "mode": "markers",
         "name": "",
         "orientation": "v",
         "showlegend": false,
         "type": "scatter",
         "x": [
          64427,
          64468.916666666664,
          64510.833333333336,
          64552.75,
          64594.666666666664,
          64636.583333333336,
          64678.5,
          64720.416666666664,
          64762.333333333336,
          64804.25,
          64846.166666666664,
          64888.083333333336,
          64930,
          65002.583333333336,
          65075.166666666664,
          65147.75,
          65220.333333333336,
          65292.916666666664,
          65365.5,
          65438.083333333336,
          65510.666666666664,
          65583.25,
          65655.83333333333,
          65728.41666666667,
          65801,
          65605.5,
          65410,
          65214.5,
          65019,
          64823.5,
          64628,
          64432.5,
          64237,
          64041.5,
          63846,
          63650.5,
          63455,
          63418,
          63381,
          63344,
          63307,
          63270,
          63233,
          63196,
          63159,
          63122,
          63085,
          63048,
          63011,
          62873.75,
          62736.5,
          62599.25,
          62462,
          62324.75,
          62187.5,
          62050.25,
          61913,
          61775.75,
          61638.5,
          61501.25,
          61364,
          61286,
          61208,
          61130,
          61052,
          60974,
          60896,
          60818,
          60740,
          60662,
          60584,
          60506,
          60428,
          60418.416666666664,
          60408.833333333336,
          60399.25,
          60389.666666666664,
          60380.083333333336,
          60370.5,
          60360.916666666664,
          60351.333333333336,
          60341.75,
          60332.166666666664,
          60322.583333333336,
          60313,
          60489,
          60665,
          60841,
          61017,
          61193,
          61369,
          61545,
          61721,
          61897,
          62073,
          62249,
          62425,
          62345.25,
          62265.5,
          62185.75,
          62106,
          62026.25,
          61946.5,
          61866.75,
          61787,
          61707.25,
          61627.5,
          61547.75,
          61468,
          61731.583333333336,
          61995.166666666664,
          62258.75,
          62522.333333333336,
          62785.916666666664,
          63049.5,
          63313.083333333336,
          63576.666666666664,
          63840.25,
          64103.833333333336,
          64367.416666666664,
          64631,
          64799.833333333336,
          64968.666666666664,
          65137.5,
          65306.333333333336,
          65475.166666666664,
          65644,
          65812.83333333333,
          65981.66666666667,
          66150.5,
          66319.33333333333,
          66488.16666666667,
          66657,
          66733.16666666667,
          66809.33333333333,
          66885.5,
          66961.66666666667,
          67037.83333333333,
          67114,
          67190.16666666667,
          67266.33333333333,
          67342.5,
          67418.66666666667,
          67494.83333333333,
          67571,
          67620.75,
          67670.5,
          67720.25,
          67770,
          67819.75,
          67869.5,
          67919.25,
          67969,
          68018.75,
          68068.5,
          68118.25,
          68168,
          68554.66666666667,
          68941.33333333333,
          69328,
          69714.66666666667,
          70101.33333333333,
          70488,
          70874.66666666667,
          71261.33333333333,
          71648,
          72034.66666666667,
          72421.33333333333,
          72808,
          72672.83333333333,
          72537.66666666667,
          72402.5,
          72267.33333333333,
          72132.16666666667,
          71997,
          71861.83333333333,
          71726.66666666667,
          71591.5,
          71456.33333333333,
          71321.16666666667,
          71186,
          71152.5,
          71119,
          71085.5,
          71052,
          71018.5,
          70985,
          70951.5,
          70918,
          70884.5,
          70851,
          70817.5,
          70784,
          70784,
          70784,
          70784,
          70784,
          70784,
          70784,
          70784,
          70784,
          70784,
          70784,
          70784,
          70784,
          70784,
          70784,
          70784,
          70784,
          70784,
          70784,
          70784,
          70784,
          70784,
          70784,
          70784,
          70784,
          70784,
          70784,
          70784,
          70784,
          70784,
          70784,
          70784,
          70784,
          70784,
          70784,
          70784,
          70784
         ],
         "xaxis": "x",
         "y": [
          161.28799999999998,
          163.344,
          165.812,
          167.50099999999998,
          169.351,
          171.19,
          172.86,
          174.442,
          176.438,
          178.02700000000002,
          179.68099999999998,
          180.91,
          182.321,
          183.287,
          184.365,
          184.329,
          184.15599999999998,
          183.507,
          183.067,
          182.593,
          182.798,
          183.199,
          183.61,
          184.139,
          184.517,
          184.59900000000002,
          184.15,
          183.01,
          181.6,
          180.25400000000002,
          179.111,
          178.11599999999999,
          177.55700000000002,
          176.623,
          175.146,
          174.34099999999998,
          173.132,
          171.541,
          170.054,
          168.33900000000003,
          166.66,
          165.018,
          163.567,
          161.988,
          160.308,
          158.327,
          156.141,
          153.618,
          151.506,
          150.014,
          148.66,
          147.94899999999998,
          147.695,
          148.09,
          148.41,
          148.27700000000002,
          148.024,
          147.849,
          148.13299999999998,
          147.928,
          147.395,
          145.631,
          145.859,
          146.40200000000002,
          146.393,
          145.719,
          144.989,
          143.91299999999998,
          143.017,
          142.53,
          142.173,
          142.059,
          141.52200000000002,
          140.35,
          139.982,
          140.009,
          139.904,
          139.86,
          139.72899999999998,
          139.30700000000002,
          138.668,
          137.952,
          137.15200000000002,
          136.675,
          136.607,
          136.532,
          137.904,
          139.155,
          140.155,
          141.03,
          141.67,
          142.28,
          142.909,
          143.601,
          144.585,
          145.502,
          146.827,
          147.783,
          149.963,
          151.518,
          152.849,
          154.197,
          155.602,
          156.965,
          158.227,
          159.241,
          160.07299999999998,
          160.993,
          161.928,
          162.52700000000002,
          163.088,
          163.39600000000002,
          163.66299999999998,
          164.05599999999998,
          164.574,
          165.218,
          165.907,
          166.644,
          167.33700000000002,
          168.053,
          168.637,
          169.132,
          169.80200000000002,
          170.301,
          170.88400000000001,
          171.457,
          172.125,
          172.938,
          173.83,
          174.794,
          175.74200000000002,
          176.548,
          177.27700000000002,
          177.65400000000002,
          178.168,
          178.77,
          179.43200000000002,
          180.065,
          180.826,
          181.854,
          182.827,
          183.75400000000002,
          184.762,
          185.72299999999998,
          186.80200000000002,
          187.31599999999997,
          187.997,
          188.733,
          189.62900000000002,
          190.50400000000002,
          191.452,
          192.683,
          193.775,
          194.81400000000002,
          195.953,
          197.15900000000002,
          198.291,
          199.21400000000003,
          199.96099999999998,
          200.668,
          201.447,
          202.245,
          202.929,
          203.734,
          204.39,
          205.13299999999998,
          205.666,
          206.114,
          206.479,
          206.803,
          207.043,
          207.53799999999998,
          208.19400000000002,
          208.701,
          209.31799999999998,
          210.183,
          210.972,
          211.81599999999997,
          212.762,
          213.843,
          214.84599999999998,
          215.722,
          216.345,
          216.87,
          217.11900000000003,
          217.739,
          219.437,
          222.537,
          225.933,
          229.782,
          233.162,
          236.345,
          239.3,
          242.111,
          245.364,
          249.18400000000003,
          253.68200000000002,
          258.592,
          262.907,
          267.069,
          270.498,
          273.748,
          277.122,
          281.127,
          285.493,
          290.736,
          296.296,
          300.829,
          304.29400000000004,
          305.163,
          304.04400000000004,
          301.712,
          299.41200000000003,
          298.793,
          297.985,
          296.952,
          296.064,
          296.926,
          298.166,
          null,
          304.04400000000004,
          301.712,
          299.41200000000003,
          298.793,
          297.985,
          296.952,
          296.064,
          296.926,
          298.166
         ],
         "yaxis": "y"
        }
       ],
       "layout": {
        "legend": {
         "tracegroupgap": 0
        },
        "template": {
         "data": {
          "bar": [
           {
            "error_x": {
             "color": "#2a3f5f"
            },
            "error_y": {
             "color": "#2a3f5f"
            },
            "marker": {
             "line": {
              "color": "#E5ECF6",
              "width": 0.5
             },
             "pattern": {
              "fillmode": "overlay",
              "size": 10,
              "solidity": 0.2
             }
            },
            "type": "bar"
           }
          ],
          "barpolar": [
           {
            "marker": {
             "line": {
              "color": "#E5ECF6",
              "width": 0.5
             },
             "pattern": {
              "fillmode": "overlay",
              "size": 10,
              "solidity": 0.2
             }
            },
            "type": "barpolar"
           }
          ],
          "carpet": [
           {
            "aaxis": {
             "endlinecolor": "#2a3f5f",
             "gridcolor": "white",
             "linecolor": "white",
             "minorgridcolor": "white",
             "startlinecolor": "#2a3f5f"
            },
            "baxis": {
             "endlinecolor": "#2a3f5f",
             "gridcolor": "white",
             "linecolor": "white",
             "minorgridcolor": "white",
             "startlinecolor": "#2a3f5f"
            },
            "type": "carpet"
           }
          ],
          "choropleth": [
           {
            "colorbar": {
             "outlinewidth": 0,
             "ticks": ""
            },
            "type": "choropleth"
           }
          ],
          "contour": [
           {
            "colorbar": {
             "outlinewidth": 0,
             "ticks": ""
            },
            "colorscale": [
             [
              0,
              "#0d0887"
             ],
             [
              0.1111111111111111,
              "#46039f"
             ],
             [
              0.2222222222222222,
              "#7201a8"
             ],
             [
              0.3333333333333333,
              "#9c179e"
             ],
             [
              0.4444444444444444,
              "#bd3786"
             ],
             [
              0.5555555555555556,
              "#d8576b"
             ],
             [
              0.6666666666666666,
              "#ed7953"
             ],
             [
              0.7777777777777778,
              "#fb9f3a"
             ],
             [
              0.8888888888888888,
              "#fdca26"
             ],
             [
              1,
              "#f0f921"
             ]
            ],
            "type": "contour"
           }
          ],
          "contourcarpet": [
           {
            "colorbar": {
             "outlinewidth": 0,
             "ticks": ""
            },
            "type": "contourcarpet"
           }
          ],
          "heatmap": [
           {
            "colorbar": {
             "outlinewidth": 0,
             "ticks": ""
            },
            "colorscale": [
             [
              0,
              "#0d0887"
             ],
             [
              0.1111111111111111,
              "#46039f"
             ],
             [
              0.2222222222222222,
              "#7201a8"
             ],
             [
              0.3333333333333333,
              "#9c179e"
             ],
             [
              0.4444444444444444,
              "#bd3786"
             ],
             [
              0.5555555555555556,
              "#d8576b"
             ],
             [
              0.6666666666666666,
              "#ed7953"
             ],
             [
              0.7777777777777778,
              "#fb9f3a"
             ],
             [
              0.8888888888888888,
              "#fdca26"
             ],
             [
              1,
              "#f0f921"
             ]
            ],
            "type": "heatmap"
           }
          ],
          "heatmapgl": [
           {
            "colorbar": {
             "outlinewidth": 0,
             "ticks": ""
            },
            "colorscale": [
             [
              0,
              "#0d0887"
             ],
             [
              0.1111111111111111,
              "#46039f"
             ],
             [
              0.2222222222222222,
              "#7201a8"
             ],
             [
              0.3333333333333333,
              "#9c179e"
             ],
             [
              0.4444444444444444,
              "#bd3786"
             ],
             [
              0.5555555555555556,
              "#d8576b"
             ],
             [
              0.6666666666666666,
              "#ed7953"
             ],
             [
              0.7777777777777778,
              "#fb9f3a"
             ],
             [
              0.8888888888888888,
              "#fdca26"
             ],
             [
              1,
              "#f0f921"
             ]
            ],
            "type": "heatmapgl"
           }
          ],
          "histogram": [
           {
            "marker": {
             "pattern": {
              "fillmode": "overlay",
              "size": 10,
              "solidity": 0.2
             }
            },
            "type": "histogram"
           }
          ],
          "histogram2d": [
           {
            "colorbar": {
             "outlinewidth": 0,
             "ticks": ""
            },
            "colorscale": [
             [
              0,
              "#0d0887"
             ],
             [
              0.1111111111111111,
              "#46039f"
             ],
             [
              0.2222222222222222,
              "#7201a8"
             ],
             [
              0.3333333333333333,
              "#9c179e"
             ],
             [
              0.4444444444444444,
              "#bd3786"
             ],
             [
              0.5555555555555556,
              "#d8576b"
             ],
             [
              0.6666666666666666,
              "#ed7953"
             ],
             [
              0.7777777777777778,
              "#fb9f3a"
             ],
             [
              0.8888888888888888,
              "#fdca26"
             ],
             [
              1,
              "#f0f921"
             ]
            ],
            "type": "histogram2d"
           }
          ],
          "histogram2dcontour": [
           {
            "colorbar": {
             "outlinewidth": 0,
             "ticks": ""
            },
            "colorscale": [
             [
              0,
              "#0d0887"
             ],
             [
              0.1111111111111111,
              "#46039f"
             ],
             [
              0.2222222222222222,
              "#7201a8"
             ],
             [
              0.3333333333333333,
              "#9c179e"
             ],
             [
              0.4444444444444444,
              "#bd3786"
             ],
             [
              0.5555555555555556,
              "#d8576b"
             ],
             [
              0.6666666666666666,
              "#ed7953"
             ],
             [
              0.7777777777777778,
              "#fb9f3a"
             ],
             [
              0.8888888888888888,
              "#fdca26"
             ],
             [
              1,
              "#f0f921"
             ]
            ],
            "type": "histogram2dcontour"
           }
          ],
          "mesh3d": [
           {
            "colorbar": {
             "outlinewidth": 0,
             "ticks": ""
            },
            "type": "mesh3d"
           }
          ],
          "parcoords": [
           {
            "line": {
             "colorbar": {
              "outlinewidth": 0,
              "ticks": ""
             }
            },
            "type": "parcoords"
           }
          ],
          "pie": [
           {
            "automargin": true,
            "type": "pie"
           }
          ],
          "scatter": [
           {
            "fillpattern": {
             "fillmode": "overlay",
             "size": 10,
             "solidity": 0.2
            },
            "type": "scatter"
           }
          ],
          "scatter3d": [
           {
            "line": {
             "colorbar": {
              "outlinewidth": 0,
              "ticks": ""
             }
            },
            "marker": {
             "colorbar": {
              "outlinewidth": 0,
              "ticks": ""
             }
            },
            "type": "scatter3d"
           }
          ],
          "scattercarpet": [
           {
            "marker": {
             "colorbar": {
              "outlinewidth": 0,
              "ticks": ""
             }
            },
            "type": "scattercarpet"
           }
          ],
          "scattergeo": [
           {
            "marker": {
             "colorbar": {
              "outlinewidth": 0,
              "ticks": ""
             }
            },
            "type": "scattergeo"
           }
          ],
          "scattergl": [
           {
            "marker": {
             "colorbar": {
              "outlinewidth": 0,
              "ticks": ""
             }
            },
            "type": "scattergl"
           }
          ],
          "scattermapbox": [
           {
            "marker": {
             "colorbar": {
              "outlinewidth": 0,
              "ticks": ""
             }
            },
            "type": "scattermapbox"
           }
          ],
          "scatterpolar": [
           {
            "marker": {
             "colorbar": {
              "outlinewidth": 0,
              "ticks": ""
             }
            },
            "type": "scatterpolar"
           }
          ],
          "scatterpolargl": [
           {
            "marker": {
             "colorbar": {
              "outlinewidth": 0,
              "ticks": ""
             }
            },
            "type": "scatterpolargl"
           }
          ],
          "scatterternary": [
           {
            "marker": {
             "colorbar": {
              "outlinewidth": 0,
              "ticks": ""
             }
            },
            "type": "scatterternary"
           }
          ],
          "surface": [
           {
            "colorbar": {
             "outlinewidth": 0,
             "ticks": ""
            },
            "colorscale": [
             [
              0,
              "#0d0887"
             ],
             [
              0.1111111111111111,
              "#46039f"
             ],
             [
              0.2222222222222222,
              "#7201a8"
             ],
             [
              0.3333333333333333,
              "#9c179e"
             ],
             [
              0.4444444444444444,
              "#bd3786"
             ],
             [
              0.5555555555555556,
              "#d8576b"
             ],
             [
              0.6666666666666666,
              "#ed7953"
             ],
             [
              0.7777777777777778,
              "#fb9f3a"
             ],
             [
              0.8888888888888888,
              "#fdca26"
             ],
             [
              1,
              "#f0f921"
             ]
            ],
            "type": "surface"
           }
          ],
          "table": [
           {
            "cells": {
             "fill": {
              "color": "#EBF0F8"
             },
             "line": {
              "color": "white"
             }
            },
            "header": {
             "fill": {
              "color": "#C8D4E3"
             },
             "line": {
              "color": "white"
             }
            },
            "type": "table"
           }
          ]
         },
         "layout": {
          "annotationdefaults": {
           "arrowcolor": "#2a3f5f",
           "arrowhead": 0,
           "arrowwidth": 1
          },
          "autotypenumbers": "strict",
          "coloraxis": {
           "colorbar": {
            "outlinewidth": 0,
            "ticks": ""
           }
          },
          "colorscale": {
           "diverging": [
            [
             0,
             "#8e0152"
            ],
            [
             0.1,
             "#c51b7d"
            ],
            [
             0.2,
             "#de77ae"
            ],
            [
             0.3,
             "#f1b6da"
            ],
            [
             0.4,
             "#fde0ef"
            ],
            [
             0.5,
             "#f7f7f7"
            ],
            [
             0.6,
             "#e6f5d0"
            ],
            [
             0.7,
             "#b8e186"
            ],
            [
             0.8,
             "#7fbc41"
            ],
            [
             0.9,
             "#4d9221"
            ],
            [
             1,
             "#276419"
            ]
           ],
           "sequential": [
            [
             0,
             "#0d0887"
            ],
            [
             0.1111111111111111,
             "#46039f"
            ],
            [
             0.2222222222222222,
             "#7201a8"
            ],
            [
             0.3333333333333333,
             "#9c179e"
            ],
            [
             0.4444444444444444,
             "#bd3786"
            ],
            [
             0.5555555555555556,
             "#d8576b"
            ],
            [
             0.6666666666666666,
             "#ed7953"
            ],
            [
             0.7777777777777778,
             "#fb9f3a"
            ],
            [
             0.8888888888888888,
             "#fdca26"
            ],
            [
             1,
             "#f0f921"
            ]
           ],
           "sequentialminus": [
            [
             0,
             "#0d0887"
            ],
            [
             0.1111111111111111,
             "#46039f"
            ],
            [
             0.2222222222222222,
             "#7201a8"
            ],
            [
             0.3333333333333333,
             "#9c179e"
            ],
            [
             0.4444444444444444,
             "#bd3786"
            ],
            [
             0.5555555555555556,
             "#d8576b"
            ],
            [
             0.6666666666666666,
             "#ed7953"
            ],
            [
             0.7777777777777778,
             "#fb9f3a"
            ],
            [
             0.8888888888888888,
             "#fdca26"
            ],
            [
             1,
             "#f0f921"
            ]
           ]
          },
          "colorway": [
           "#636efa",
           "#EF553B",
           "#00cc96",
           "#ab63fa",
           "#FFA15A",
           "#19d3f3",
           "#FF6692",
           "#B6E880",
           "#FF97FF",
           "#FECB52"
          ],
          "font": {
           "color": "#2a3f5f"
          },
          "geo": {
           "bgcolor": "white",
           "lakecolor": "white",
           "landcolor": "#E5ECF6",
           "showlakes": true,
           "showland": true,
           "subunitcolor": "white"
          },
          "hoverlabel": {
           "align": "left"
          },
          "hovermode": "closest",
          "mapbox": {
           "style": "light"
          },
          "paper_bgcolor": "white",
          "plot_bgcolor": "#E5ECF6",
          "polar": {
           "angularaxis": {
            "gridcolor": "white",
            "linecolor": "white",
            "ticks": ""
           },
           "bgcolor": "#E5ECF6",
           "radialaxis": {
            "gridcolor": "white",
            "linecolor": "white",
            "ticks": ""
           }
          },
          "scene": {
           "xaxis": {
            "backgroundcolor": "#E5ECF6",
            "gridcolor": "white",
            "gridwidth": 2,
            "linecolor": "white",
            "showbackground": true,
            "ticks": "",
            "zerolinecolor": "white"
           },
           "yaxis": {
            "backgroundcolor": "#E5ECF6",
            "gridcolor": "white",
            "gridwidth": 2,
            "linecolor": "white",
            "showbackground": true,
            "ticks": "",
            "zerolinecolor": "white"
           },
           "zaxis": {
            "backgroundcolor": "#E5ECF6",
            "gridcolor": "white",
            "gridwidth": 2,
            "linecolor": "white",
            "showbackground": true,
            "ticks": "",
            "zerolinecolor": "white"
           }
          },
          "shapedefaults": {
           "line": {
            "color": "#2a3f5f"
           }
          },
          "ternary": {
           "aaxis": {
            "gridcolor": "white",
            "linecolor": "white",
            "ticks": ""
           },
           "baxis": {
            "gridcolor": "white",
            "linecolor": "white",
            "ticks": ""
           },
           "bgcolor": "#E5ECF6",
           "caxis": {
            "gridcolor": "white",
            "linecolor": "white",
            "ticks": ""
           }
          },
          "title": {
           "x": 0.05
          },
          "xaxis": {
           "automargin": true,
           "gridcolor": "white",
           "linecolor": "white",
           "ticks": "",
           "title": {
            "standoff": 15
           },
           "zerolinecolor": "white",
           "zerolinewidth": 2
          },
          "yaxis": {
           "automargin": true,
           "gridcolor": "white",
           "linecolor": "white",
           "ticks": "",
           "title": {
            "standoff": 15
           },
           "zerolinecolor": "white",
           "zerolinewidth": 2
          }
         }
        },
        "title": {
         "text": "<b>Median_household_income vs. Housing Price</b>"
        },
        "xaxis": {
         "anchor": "y",
         "domain": [
          0,
          1
         ],
         "title": {
          "text": "Median_household_income"
         }
        },
        "yaxis": {
         "anchor": "x",
         "domain": [
          0,
          1
         ],
         "title": {
          "text": "Housing_price"
         }
        }
       }
      },
      "text/html": [
       "<div>                            <div id=\"e3db9d35-db0a-46df-be7b-ab4d3fcd406d\" class=\"plotly-graph-div\" style=\"height:525px; width:100%;\"></div>            <script type=\"text/javascript\">                require([\"plotly\"], function(Plotly) {                    window.PLOTLYENV=window.PLOTLYENV || {};                                    if (document.getElementById(\"e3db9d35-db0a-46df-be7b-ab4d3fcd406d\")) {                    Plotly.newPlot(                        \"e3db9d35-db0a-46df-be7b-ab4d3fcd406d\",                        [{\"hovertemplate\":\"Median_household_income=%{x}<br>Housing_price=%{y}<extra></extra>\",\"legendgroup\":\"\",\"marker\":{\"color\":\"#636efa\",\"symbol\":\"circle\"},\"mode\":\"markers\",\"name\":\"\",\"orientation\":\"v\",\"showlegend\":false,\"x\":[64427.0,64468.916666666664,64510.833333333336,64552.75,64594.666666666664,64636.583333333336,64678.5,64720.416666666664,64762.333333333336,64804.25,64846.166666666664,64888.083333333336,64930.0,65002.583333333336,65075.166666666664,65147.75,65220.333333333336,65292.916666666664,65365.5,65438.083333333336,65510.666666666664,65583.25,65655.83333333333,65728.41666666667,65801.0,65605.5,65410.0,65214.5,65019.0,64823.5,64628.0,64432.5,64237.0,64041.5,63846.0,63650.5,63455.0,63418.0,63381.0,63344.0,63307.0,63270.0,63233.0,63196.0,63159.0,63122.0,63085.0,63048.0,63011.0,62873.75,62736.5,62599.25,62462.0,62324.75,62187.5,62050.25,61913.0,61775.75,61638.5,61501.25,61364.0,61286.0,61208.0,61130.0,61052.0,60974.0,60896.0,60818.0,60740.0,60662.0,60584.0,60506.0,60428.0,60418.416666666664,60408.833333333336,60399.25,60389.666666666664,60380.083333333336,60370.5,60360.916666666664,60351.333333333336,60341.75,60332.166666666664,60322.583333333336,60313.0,60489.0,60665.0,60841.0,61017.0,61193.0,61369.0,61545.0,61721.0,61897.0,62073.0,62249.0,62425.0,62345.25,62265.5,62185.75,62106.0,62026.25,61946.5,61866.75,61787.0,61707.25,61627.5,61547.75,61468.0,61731.583333333336,61995.166666666664,62258.75,62522.333333333336,62785.916666666664,63049.5,63313.083333333336,63576.666666666664,63840.25,64103.833333333336,64367.416666666664,64631.0,64799.833333333336,64968.666666666664,65137.5,65306.333333333336,65475.166666666664,65644.0,65812.83333333333,65981.66666666667,66150.5,66319.33333333333,66488.16666666667,66657.0,66733.16666666667,66809.33333333333,66885.5,66961.66666666667,67037.83333333333,67114.0,67190.16666666667,67266.33333333333,67342.5,67418.66666666667,67494.83333333333,67571.0,67620.75,67670.5,67720.25,67770.0,67819.75,67869.5,67919.25,67969.0,68018.75,68068.5,68118.25,68168.0,68554.66666666667,68941.33333333333,69328.0,69714.66666666667,70101.33333333333,70488.0,70874.66666666667,71261.33333333333,71648.0,72034.66666666667,72421.33333333333,72808.0,72672.83333333333,72537.66666666667,72402.5,72267.33333333333,72132.16666666667,71997.0,71861.83333333333,71726.66666666667,71591.5,71456.33333333333,71321.16666666667,71186.0,71152.5,71119.0,71085.5,71052.0,71018.5,70985.0,70951.5,70918.0,70884.5,70851.0,70817.5,70784.0,70784.0,70784.0,70784.0,70784.0,70784.0,70784.0,70784.0,70784.0,70784.0,70784.0,70784.0,70784.0,70784.0,70784.0,70784.0,70784.0,70784.0,70784.0,70784.0,70784.0,70784.0,70784.0,70784.0,70784.0,70784.0,70784.0,70784.0,70784.0,70784.0,70784.0,70784.0,70784.0,70784.0,70784.0,70784.0,70784.0],\"xaxis\":\"x\",\"y\":[161.28799999999998,163.344,165.812,167.50099999999998,169.351,171.19,172.86,174.442,176.438,178.02700000000002,179.68099999999998,180.91,182.321,183.287,184.365,184.329,184.15599999999998,183.507,183.067,182.593,182.798,183.199,183.61,184.139,184.517,184.59900000000002,184.15,183.01,181.6,180.25400000000002,179.111,178.11599999999999,177.55700000000002,176.623,175.146,174.34099999999998,173.132,171.541,170.054,168.33900000000003,166.66,165.018,163.567,161.988,160.308,158.327,156.141,153.618,151.506,150.014,148.66,147.94899999999998,147.695,148.09,148.41,148.27700000000002,148.024,147.849,148.13299999999998,147.928,147.395,145.631,145.859,146.40200000000002,146.393,145.719,144.989,143.91299999999998,143.017,142.53,142.173,142.059,141.52200000000002,140.35,139.982,140.009,139.904,139.86,139.72899999999998,139.30700000000002,138.668,137.952,137.15200000000002,136.675,136.607,136.532,137.904,139.155,140.155,141.03,141.67,142.28,142.909,143.601,144.585,145.502,146.827,147.783,149.963,151.518,152.849,154.197,155.602,156.965,158.227,159.241,160.07299999999998,160.993,161.928,162.52700000000002,163.088,163.39600000000002,163.66299999999998,164.05599999999998,164.574,165.218,165.907,166.644,167.33700000000002,168.053,168.637,169.132,169.80200000000002,170.301,170.88400000000001,171.457,172.125,172.938,173.83,174.794,175.74200000000002,176.548,177.27700000000002,177.65400000000002,178.168,178.77,179.43200000000002,180.065,180.826,181.854,182.827,183.75400000000002,184.762,185.72299999999998,186.80200000000002,187.31599999999997,187.997,188.733,189.62900000000002,190.50400000000002,191.452,192.683,193.775,194.81400000000002,195.953,197.15900000000002,198.291,199.21400000000003,199.96099999999998,200.668,201.447,202.245,202.929,203.734,204.39,205.13299999999998,205.666,206.114,206.479,206.803,207.043,207.53799999999998,208.19400000000002,208.701,209.31799999999998,210.183,210.972,211.81599999999997,212.762,213.843,214.84599999999998,215.722,216.345,216.87,217.11900000000003,217.739,219.437,222.537,225.933,229.782,233.162,236.345,239.3,242.111,245.364,249.18400000000003,253.68200000000002,258.592,262.907,267.069,270.498,273.748,277.122,281.127,285.493,290.736,296.296,300.829,304.29400000000004,305.163,304.04400000000004,301.712,299.41200000000003,298.793,297.985,296.952,296.064,296.926,298.166,null,304.04400000000004,301.712,299.41200000000003,298.793,297.985,296.952,296.064,296.926,298.166],\"yaxis\":\"y\",\"type\":\"scatter\"}],                        {\"template\":{\"data\":{\"histogram2dcontour\":[{\"type\":\"histogram2dcontour\",\"colorbar\":{\"outlinewidth\":0,\"ticks\":\"\"},\"colorscale\":[[0.0,\"#0d0887\"],[0.1111111111111111,\"#46039f\"],[0.2222222222222222,\"#7201a8\"],[0.3333333333333333,\"#9c179e\"],[0.4444444444444444,\"#bd3786\"],[0.5555555555555556,\"#d8576b\"],[0.6666666666666666,\"#ed7953\"],[0.7777777777777778,\"#fb9f3a\"],[0.8888888888888888,\"#fdca26\"],[1.0,\"#f0f921\"]]}],\"choropleth\":[{\"type\":\"choropleth\",\"colorbar\":{\"outlinewidth\":0,\"ticks\":\"\"}}],\"histogram2d\":[{\"type\":\"histogram2d\",\"colorbar\":{\"outlinewidth\":0,\"ticks\":\"\"},\"colorscale\":[[0.0,\"#0d0887\"],[0.1111111111111111,\"#46039f\"],[0.2222222222222222,\"#7201a8\"],[0.3333333333333333,\"#9c179e\"],[0.4444444444444444,\"#bd3786\"],[0.5555555555555556,\"#d8576b\"],[0.6666666666666666,\"#ed7953\"],[0.7777777777777778,\"#fb9f3a\"],[0.8888888888888888,\"#fdca26\"],[1.0,\"#f0f921\"]]}],\"heatmap\":[{\"type\":\"heatmap\",\"colorbar\":{\"outlinewidth\":0,\"ticks\":\"\"},\"colorscale\":[[0.0,\"#0d0887\"],[0.1111111111111111,\"#46039f\"],[0.2222222222222222,\"#7201a8\"],[0.3333333333333333,\"#9c179e\"],[0.4444444444444444,\"#bd3786\"],[0.5555555555555556,\"#d8576b\"],[0.6666666666666666,\"#ed7953\"],[0.7777777777777778,\"#fb9f3a\"],[0.8888888888888888,\"#fdca26\"],[1.0,\"#f0f921\"]]}],\"heatmapgl\":[{\"type\":\"heatmapgl\",\"colorbar\":{\"outlinewidth\":0,\"ticks\":\"\"},\"colorscale\":[[0.0,\"#0d0887\"],[0.1111111111111111,\"#46039f\"],[0.2222222222222222,\"#7201a8\"],[0.3333333333333333,\"#9c179e\"],[0.4444444444444444,\"#bd3786\"],[0.5555555555555556,\"#d8576b\"],[0.6666666666666666,\"#ed7953\"],[0.7777777777777778,\"#fb9f3a\"],[0.8888888888888888,\"#fdca26\"],[1.0,\"#f0f921\"]]}],\"contourcarpet\":[{\"type\":\"contourcarpet\",\"colorbar\":{\"outlinewidth\":0,\"ticks\":\"\"}}],\"contour\":[{\"type\":\"contour\",\"colorbar\":{\"outlinewidth\":0,\"ticks\":\"\"},\"colorscale\":[[0.0,\"#0d0887\"],[0.1111111111111111,\"#46039f\"],[0.2222222222222222,\"#7201a8\"],[0.3333333333333333,\"#9c179e\"],[0.4444444444444444,\"#bd3786\"],[0.5555555555555556,\"#d8576b\"],[0.6666666666666666,\"#ed7953\"],[0.7777777777777778,\"#fb9f3a\"],[0.8888888888888888,\"#fdca26\"],[1.0,\"#f0f921\"]]}],\"surface\":[{\"type\":\"surface\",\"colorbar\":{\"outlinewidth\":0,\"ticks\":\"\"},\"colorscale\":[[0.0,\"#0d0887\"],[0.1111111111111111,\"#46039f\"],[0.2222222222222222,\"#7201a8\"],[0.3333333333333333,\"#9c179e\"],[0.4444444444444444,\"#bd3786\"],[0.5555555555555556,\"#d8576b\"],[0.6666666666666666,\"#ed7953\"],[0.7777777777777778,\"#fb9f3a\"],[0.8888888888888888,\"#fdca26\"],[1.0,\"#f0f921\"]]}],\"mesh3d\":[{\"type\":\"mesh3d\",\"colorbar\":{\"outlinewidth\":0,\"ticks\":\"\"}}],\"scatter\":[{\"fillpattern\":{\"fillmode\":\"overlay\",\"size\":10,\"solidity\":0.2},\"type\":\"scatter\"}],\"parcoords\":[{\"type\":\"parcoords\",\"line\":{\"colorbar\":{\"outlinewidth\":0,\"ticks\":\"\"}}}],\"scatterpolargl\":[{\"type\":\"scatterpolargl\",\"marker\":{\"colorbar\":{\"outlinewidth\":0,\"ticks\":\"\"}}}],\"bar\":[{\"error_x\":{\"color\":\"#2a3f5f\"},\"error_y\":{\"color\":\"#2a3f5f\"},\"marker\":{\"line\":{\"color\":\"#E5ECF6\",\"width\":0.5},\"pattern\":{\"fillmode\":\"overlay\",\"size\":10,\"solidity\":0.2}},\"type\":\"bar\"}],\"scattergeo\":[{\"type\":\"scattergeo\",\"marker\":{\"colorbar\":{\"outlinewidth\":0,\"ticks\":\"\"}}}],\"scatterpolar\":[{\"type\":\"scatterpolar\",\"marker\":{\"colorbar\":{\"outlinewidth\":0,\"ticks\":\"\"}}}],\"histogram\":[{\"marker\":{\"pattern\":{\"fillmode\":\"overlay\",\"size\":10,\"solidity\":0.2}},\"type\":\"histogram\"}],\"scattergl\":[{\"type\":\"scattergl\",\"marker\":{\"colorbar\":{\"outlinewidth\":0,\"ticks\":\"\"}}}],\"scatter3d\":[{\"type\":\"scatter3d\",\"line\":{\"colorbar\":{\"outlinewidth\":0,\"ticks\":\"\"}},\"marker\":{\"colorbar\":{\"outlinewidth\":0,\"ticks\":\"\"}}}],\"scattermapbox\":[{\"type\":\"scattermapbox\",\"marker\":{\"colorbar\":{\"outlinewidth\":0,\"ticks\":\"\"}}}],\"scatterternary\":[{\"type\":\"scatterternary\",\"marker\":{\"colorbar\":{\"outlinewidth\":0,\"ticks\":\"\"}}}],\"scattercarpet\":[{\"type\":\"scattercarpet\",\"marker\":{\"colorbar\":{\"outlinewidth\":0,\"ticks\":\"\"}}}],\"carpet\":[{\"aaxis\":{\"endlinecolor\":\"#2a3f5f\",\"gridcolor\":\"white\",\"linecolor\":\"white\",\"minorgridcolor\":\"white\",\"startlinecolor\":\"#2a3f5f\"},\"baxis\":{\"endlinecolor\":\"#2a3f5f\",\"gridcolor\":\"white\",\"linecolor\":\"white\",\"minorgridcolor\":\"white\",\"startlinecolor\":\"#2a3f5f\"},\"type\":\"carpet\"}],\"table\":[{\"cells\":{\"fill\":{\"color\":\"#EBF0F8\"},\"line\":{\"color\":\"white\"}},\"header\":{\"fill\":{\"color\":\"#C8D4E3\"},\"line\":{\"color\":\"white\"}},\"type\":\"table\"}],\"barpolar\":[{\"marker\":{\"line\":{\"color\":\"#E5ECF6\",\"width\":0.5},\"pattern\":{\"fillmode\":\"overlay\",\"size\":10,\"solidity\":0.2}},\"type\":\"barpolar\"}],\"pie\":[{\"automargin\":true,\"type\":\"pie\"}]},\"layout\":{\"autotypenumbers\":\"strict\",\"colorway\":[\"#636efa\",\"#EF553B\",\"#00cc96\",\"#ab63fa\",\"#FFA15A\",\"#19d3f3\",\"#FF6692\",\"#B6E880\",\"#FF97FF\",\"#FECB52\"],\"font\":{\"color\":\"#2a3f5f\"},\"hovermode\":\"closest\",\"hoverlabel\":{\"align\":\"left\"},\"paper_bgcolor\":\"white\",\"plot_bgcolor\":\"#E5ECF6\",\"polar\":{\"bgcolor\":\"#E5ECF6\",\"angularaxis\":{\"gridcolor\":\"white\",\"linecolor\":\"white\",\"ticks\":\"\"},\"radialaxis\":{\"gridcolor\":\"white\",\"linecolor\":\"white\",\"ticks\":\"\"}},\"ternary\":{\"bgcolor\":\"#E5ECF6\",\"aaxis\":{\"gridcolor\":\"white\",\"linecolor\":\"white\",\"ticks\":\"\"},\"baxis\":{\"gridcolor\":\"white\",\"linecolor\":\"white\",\"ticks\":\"\"},\"caxis\":{\"gridcolor\":\"white\",\"linecolor\":\"white\",\"ticks\":\"\"}},\"coloraxis\":{\"colorbar\":{\"outlinewidth\":0,\"ticks\":\"\"}},\"colorscale\":{\"sequential\":[[0.0,\"#0d0887\"],[0.1111111111111111,\"#46039f\"],[0.2222222222222222,\"#7201a8\"],[0.3333333333333333,\"#9c179e\"],[0.4444444444444444,\"#bd3786\"],[0.5555555555555556,\"#d8576b\"],[0.6666666666666666,\"#ed7953\"],[0.7777777777777778,\"#fb9f3a\"],[0.8888888888888888,\"#fdca26\"],[1.0,\"#f0f921\"]],\"sequentialminus\":[[0.0,\"#0d0887\"],[0.1111111111111111,\"#46039f\"],[0.2222222222222222,\"#7201a8\"],[0.3333333333333333,\"#9c179e\"],[0.4444444444444444,\"#bd3786\"],[0.5555555555555556,\"#d8576b\"],[0.6666666666666666,\"#ed7953\"],[0.7777777777777778,\"#fb9f3a\"],[0.8888888888888888,\"#fdca26\"],[1.0,\"#f0f921\"]],\"diverging\":[[0,\"#8e0152\"],[0.1,\"#c51b7d\"],[0.2,\"#de77ae\"],[0.3,\"#f1b6da\"],[0.4,\"#fde0ef\"],[0.5,\"#f7f7f7\"],[0.6,\"#e6f5d0\"],[0.7,\"#b8e186\"],[0.8,\"#7fbc41\"],[0.9,\"#4d9221\"],[1,\"#276419\"]]},\"xaxis\":{\"gridcolor\":\"white\",\"linecolor\":\"white\",\"ticks\":\"\",\"title\":{\"standoff\":15},\"zerolinecolor\":\"white\",\"automargin\":true,\"zerolinewidth\":2},\"yaxis\":{\"gridcolor\":\"white\",\"linecolor\":\"white\",\"ticks\":\"\",\"title\":{\"standoff\":15},\"zerolinecolor\":\"white\",\"automargin\":true,\"zerolinewidth\":2},\"scene\":{\"xaxis\":{\"backgroundcolor\":\"#E5ECF6\",\"gridcolor\":\"white\",\"linecolor\":\"white\",\"showbackground\":true,\"ticks\":\"\",\"zerolinecolor\":\"white\",\"gridwidth\":2},\"yaxis\":{\"backgroundcolor\":\"#E5ECF6\",\"gridcolor\":\"white\",\"linecolor\":\"white\",\"showbackground\":true,\"ticks\":\"\",\"zerolinecolor\":\"white\",\"gridwidth\":2},\"zaxis\":{\"backgroundcolor\":\"#E5ECF6\",\"gridcolor\":\"white\",\"linecolor\":\"white\",\"showbackground\":true,\"ticks\":\"\",\"zerolinecolor\":\"white\",\"gridwidth\":2}},\"shapedefaults\":{\"line\":{\"color\":\"#2a3f5f\"}},\"annotationdefaults\":{\"arrowcolor\":\"#2a3f5f\",\"arrowhead\":0,\"arrowwidth\":1},\"geo\":{\"bgcolor\":\"white\",\"landcolor\":\"#E5ECF6\",\"subunitcolor\":\"white\",\"showland\":true,\"showlakes\":true,\"lakecolor\":\"white\"},\"title\":{\"x\":0.05},\"mapbox\":{\"style\":\"light\"}}},\"xaxis\":{\"anchor\":\"y\",\"domain\":[0.0,1.0],\"title\":{\"text\":\"Median_household_income\"}},\"yaxis\":{\"anchor\":\"x\",\"domain\":[0.0,1.0],\"title\":{\"text\":\"Housing_price\"}},\"legend\":{\"tracegroupgap\":0},\"title\":{\"text\":\"<b>Median_household_income vs. Housing Price</b>\"}},                        {\"responsive\": true}                    ).then(function(){\n",
       "                            \n",
       "var gd = document.getElementById('e3db9d35-db0a-46df-be7b-ab4d3fcd406d');\n",
       "var x = new MutationObserver(function (mutations, observer) {{\n",
       "        var display = window.getComputedStyle(gd).display;\n",
       "        if (!display || display === 'none') {{\n",
       "            console.log([gd, 'removed!']);\n",
       "            Plotly.purge(gd);\n",
       "            observer.disconnect();\n",
       "        }}\n",
       "}});\n",
       "\n",
       "// Listen for the removal of the full notebook cells\n",
       "var notebookContainer = gd.closest('#notebook-container');\n",
       "if (notebookContainer) {{\n",
       "    x.observe(notebookContainer, {childList: true});\n",
       "}}\n",
       "\n",
       "// Listen for the clearing of the current output cell\n",
       "var outputEl = gd.closest('.output');\n",
       "if (outputEl) {{\n",
       "    x.observe(outputEl, {childList: true});\n",
       "}}\n",
       "\n",
       "                        })                };                });            </script>        </div>"
      ]
     },
     "metadata": {},
     "output_type": "display_data"
    },
    {
     "data": {
      "application/vnd.plotly.v1+json": {
       "config": {
        "plotlyServerURL": "https://plot.ly"
       },
       "data": [
        {
         "hovertemplate": "Mortgage_rate=%{x}<br>Housing_price=%{y}<extra></extra>",
         "legendgroup": "",
         "marker": {
          "color": "#636efa",
          "symbol": "circle"
         },
         "mode": "markers",
         "name": "",
         "orientation": "v",
         "showlegend": false,
         "type": "scatter",
         "x": [
          5.71,
          5.6275,
          5.928,
          5.855,
          5.72,
          5.582,
          5.695,
          5.82,
          5.774,
          6.065,
          6.33,
          6.272,
          6.145,
          6.2525,
          6.324,
          6.5075,
          6.5975,
          6.682,
          6.7625,
          6.524,
          6.4025,
          6.3575,
          6.24,
          6.135,
          6.2175,
          6.285,
          6.156,
          6.18,
          6.262,
          6.6575,
          6.695,
          6.572,
          6.3825,
          6.375,
          6.208,
          6.095,
          5.758,
          5.9175,
          5.97,
          5.9175,
          6.036,
          6.32,
          6.426,
          6.4775,
          6.0375,
          6.2,
          6.0875,
          5.286,
          5.0475,
          5.13,
          5.0025,
          4.81,
          4.8575,
          5.42,
          5.222,
          5.1925,
          5.0575,
          4.952,
          4.875,
          4.93,
          5.03,
          4.99,
          4.9675,
          5.098,
          4.8875,
          4.7375,
          4.564,
          4.4275,
          4.346,
          4.225,
          4.3,
          4.714,
          4.755,
          4.9525,
          4.836,
          4.84,
          4.6375,
          4.51,
          4.545,
          4.27,
          4.106,
          4.0675,
          3.9925,
          3.958,
          3.915,
          3.89,
          3.954,
          3.91,
          3.798,
          3.675,
          3.55,
          3.602,
          3.4975,
          3.3825,
          3.352,
          3.345,
          3.414,
          3.5325,
          3.565,
          3.445,
          3.536,
          4.07,
          4.37,
          4.456,
          4.49,
          4.192,
          4.255,
          4.4575,
          4.432,
          4.3025,
          4.3425,
          4.3375,
          4.192,
          4.1625,
          4.13,
          4.115,
          4.1625,
          4.036,
          3.9975,
          3.864,
          3.67,
          3.71,
          3.77,
          3.672,
          3.84,
          3.9825,
          4.046,
          3.905,
          3.89,
          3.796,
          3.9425,
          3.964,
          3.8725,
          3.66,
          3.694,
          3.605,
          3.6,
          3.568,
          3.44,
          3.435,
          3.46,
          3.47,
          3.77,
          4.198,
          4.15,
          4.1675,
          4.196,
          4.045,
          4.01,
          3.904,
          3.9675,
          3.88,
          3.805,
          3.895,
          3.922,
          3.95,
          4.0325,
          4.33,
          4.444,
          4.4675,
          4.586,
          4.57,
          4.5275,
          4.55,
          4.6275,
          4.83,
          4.866,
          4.6375,
          4.464,
          4.37,
          4.265,
          4.1425,
          4.072,
          3.8025,
          3.765,
          3.616,
          3.605,
          3.688,
          3.695,
          3.72,
          3.624,
          3.465,
          3.45,
          3.306,
          3.2325,
          3.1625,
          3.016,
          2.935,
          2.89,
          2.834,
          2.765,
          2.684,
          2.735,
          2.81,
          3.0825,
          3.06,
          2.9625,
          2.975,
          2.868,
          2.8425,
          2.9,
          3.0675,
          3.0675,
          3.098,
          3.445,
          3.7625,
          4.172,
          4.9825,
          5.23,
          5.522,
          5.4125,
          5.2225,
          6.112,
          6.9,
          6.805,
          6.364,
          6.2725,
          6.2575,
          6.544,
          6.3425,
          5.4125,
          5.2225,
          6.112,
          6.9,
          6.805,
          6.364,
          6.2725,
          6.2575,
          6.544
         ],
         "xaxis": "x",
         "y": [
          161.28799999999998,
          163.344,
          165.812,
          167.50099999999998,
          169.351,
          171.19,
          172.86,
          174.442,
          176.438,
          178.02700000000002,
          179.68099999999998,
          180.91,
          182.321,
          183.287,
          184.365,
          184.329,
          184.15599999999998,
          183.507,
          183.067,
          182.593,
          182.798,
          183.199,
          183.61,
          184.139,
          184.517,
          184.59900000000002,
          184.15,
          183.01,
          181.6,
          180.25400000000002,
          179.111,
          178.11599999999999,
          177.55700000000002,
          176.623,
          175.146,
          174.34099999999998,
          173.132,
          171.541,
          170.054,
          168.33900000000003,
          166.66,
          165.018,
          163.567,
          161.988,
          160.308,
          158.327,
          156.141,
          153.618,
          151.506,
          150.014,
          148.66,
          147.94899999999998,
          147.695,
          148.09,
          148.41,
          148.27700000000002,
          148.024,
          147.849,
          148.13299999999998,
          147.928,
          147.395,
          145.631,
          145.859,
          146.40200000000002,
          146.393,
          145.719,
          144.989,
          143.91299999999998,
          143.017,
          142.53,
          142.173,
          142.059,
          141.52200000000002,
          140.35,
          139.982,
          140.009,
          139.904,
          139.86,
          139.72899999999998,
          139.30700000000002,
          138.668,
          137.952,
          137.15200000000002,
          136.675,
          136.607,
          136.532,
          137.904,
          139.155,
          140.155,
          141.03,
          141.67,
          142.28,
          142.909,
          143.601,
          144.585,
          145.502,
          146.827,
          147.783,
          149.963,
          151.518,
          152.849,
          154.197,
          155.602,
          156.965,
          158.227,
          159.241,
          160.07299999999998,
          160.993,
          161.928,
          162.52700000000002,
          163.088,
          163.39600000000002,
          163.66299999999998,
          164.05599999999998,
          164.574,
          165.218,
          165.907,
          166.644,
          167.33700000000002,
          168.053,
          168.637,
          169.132,
          169.80200000000002,
          170.301,
          170.88400000000001,
          171.457,
          172.125,
          172.938,
          173.83,
          174.794,
          175.74200000000002,
          176.548,
          177.27700000000002,
          177.65400000000002,
          178.168,
          178.77,
          179.43200000000002,
          180.065,
          180.826,
          181.854,
          182.827,
          183.75400000000002,
          184.762,
          185.72299999999998,
          186.80200000000002,
          187.31599999999997,
          187.997,
          188.733,
          189.62900000000002,
          190.50400000000002,
          191.452,
          192.683,
          193.775,
          194.81400000000002,
          195.953,
          197.15900000000002,
          198.291,
          199.21400000000003,
          199.96099999999998,
          200.668,
          201.447,
          202.245,
          202.929,
          203.734,
          204.39,
          205.13299999999998,
          205.666,
          206.114,
          206.479,
          206.803,
          207.043,
          207.53799999999998,
          208.19400000000002,
          208.701,
          209.31799999999998,
          210.183,
          210.972,
          211.81599999999997,
          212.762,
          213.843,
          214.84599999999998,
          215.722,
          216.345,
          216.87,
          217.11900000000003,
          217.739,
          219.437,
          222.537,
          225.933,
          229.782,
          233.162,
          236.345,
          239.3,
          242.111,
          245.364,
          249.18400000000003,
          253.68200000000002,
          258.592,
          262.907,
          267.069,
          270.498,
          273.748,
          277.122,
          281.127,
          285.493,
          290.736,
          296.296,
          300.829,
          304.29400000000004,
          305.163,
          304.04400000000004,
          301.712,
          299.41200000000003,
          298.793,
          297.985,
          296.952,
          296.064,
          296.926,
          298.166,
          null,
          304.04400000000004,
          301.712,
          299.41200000000003,
          298.793,
          297.985,
          296.952,
          296.064,
          296.926,
          298.166
         ],
         "yaxis": "y"
        }
       ],
       "layout": {
        "legend": {
         "tracegroupgap": 0
        },
        "template": {
         "data": {
          "bar": [
           {
            "error_x": {
             "color": "#2a3f5f"
            },
            "error_y": {
             "color": "#2a3f5f"
            },
            "marker": {
             "line": {
              "color": "#E5ECF6",
              "width": 0.5
             },
             "pattern": {
              "fillmode": "overlay",
              "size": 10,
              "solidity": 0.2
             }
            },
            "type": "bar"
           }
          ],
          "barpolar": [
           {
            "marker": {
             "line": {
              "color": "#E5ECF6",
              "width": 0.5
             },
             "pattern": {
              "fillmode": "overlay",
              "size": 10,
              "solidity": 0.2
             }
            },
            "type": "barpolar"
           }
          ],
          "carpet": [
           {
            "aaxis": {
             "endlinecolor": "#2a3f5f",
             "gridcolor": "white",
             "linecolor": "white",
             "minorgridcolor": "white",
             "startlinecolor": "#2a3f5f"
            },
            "baxis": {
             "endlinecolor": "#2a3f5f",
             "gridcolor": "white",
             "linecolor": "white",
             "minorgridcolor": "white",
             "startlinecolor": "#2a3f5f"
            },
            "type": "carpet"
           }
          ],
          "choropleth": [
           {
            "colorbar": {
             "outlinewidth": 0,
             "ticks": ""
            },
            "type": "choropleth"
           }
          ],
          "contour": [
           {
            "colorbar": {
             "outlinewidth": 0,
             "ticks": ""
            },
            "colorscale": [
             [
              0,
              "#0d0887"
             ],
             [
              0.1111111111111111,
              "#46039f"
             ],
             [
              0.2222222222222222,
              "#7201a8"
             ],
             [
              0.3333333333333333,
              "#9c179e"
             ],
             [
              0.4444444444444444,
              "#bd3786"
             ],
             [
              0.5555555555555556,
              "#d8576b"
             ],
             [
              0.6666666666666666,
              "#ed7953"
             ],
             [
              0.7777777777777778,
              "#fb9f3a"
             ],
             [
              0.8888888888888888,
              "#fdca26"
             ],
             [
              1,
              "#f0f921"
             ]
            ],
            "type": "contour"
           }
          ],
          "contourcarpet": [
           {
            "colorbar": {
             "outlinewidth": 0,
             "ticks": ""
            },
            "type": "contourcarpet"
           }
          ],
          "heatmap": [
           {
            "colorbar": {
             "outlinewidth": 0,
             "ticks": ""
            },
            "colorscale": [
             [
              0,
              "#0d0887"
             ],
             [
              0.1111111111111111,
              "#46039f"
             ],
             [
              0.2222222222222222,
              "#7201a8"
             ],
             [
              0.3333333333333333,
              "#9c179e"
             ],
             [
              0.4444444444444444,
              "#bd3786"
             ],
             [
              0.5555555555555556,
              "#d8576b"
             ],
             [
              0.6666666666666666,
              "#ed7953"
             ],
             [
              0.7777777777777778,
              "#fb9f3a"
             ],
             [
              0.8888888888888888,
              "#fdca26"
             ],
             [
              1,
              "#f0f921"
             ]
            ],
            "type": "heatmap"
           }
          ],
          "heatmapgl": [
           {
            "colorbar": {
             "outlinewidth": 0,
             "ticks": ""
            },
            "colorscale": [
             [
              0,
              "#0d0887"
             ],
             [
              0.1111111111111111,
              "#46039f"
             ],
             [
              0.2222222222222222,
              "#7201a8"
             ],
             [
              0.3333333333333333,
              "#9c179e"
             ],
             [
              0.4444444444444444,
              "#bd3786"
             ],
             [
              0.5555555555555556,
              "#d8576b"
             ],
             [
              0.6666666666666666,
              "#ed7953"
             ],
             [
              0.7777777777777778,
              "#fb9f3a"
             ],
             [
              0.8888888888888888,
              "#fdca26"
             ],
             [
              1,
              "#f0f921"
             ]
            ],
            "type": "heatmapgl"
           }
          ],
          "histogram": [
           {
            "marker": {
             "pattern": {
              "fillmode": "overlay",
              "size": 10,
              "solidity": 0.2
             }
            },
            "type": "histogram"
           }
          ],
          "histogram2d": [
           {
            "colorbar": {
             "outlinewidth": 0,
             "ticks": ""
            },
            "colorscale": [
             [
              0,
              "#0d0887"
             ],
             [
              0.1111111111111111,
              "#46039f"
             ],
             [
              0.2222222222222222,
              "#7201a8"
             ],
             [
              0.3333333333333333,
              "#9c179e"
             ],
             [
              0.4444444444444444,
              "#bd3786"
             ],
             [
              0.5555555555555556,
              "#d8576b"
             ],
             [
              0.6666666666666666,
              "#ed7953"
             ],
             [
              0.7777777777777778,
              "#fb9f3a"
             ],
             [
              0.8888888888888888,
              "#fdca26"
             ],
             [
              1,
              "#f0f921"
             ]
            ],
            "type": "histogram2d"
           }
          ],
          "histogram2dcontour": [
           {
            "colorbar": {
             "outlinewidth": 0,
             "ticks": ""
            },
            "colorscale": [
             [
              0,
              "#0d0887"
             ],
             [
              0.1111111111111111,
              "#46039f"
             ],
             [
              0.2222222222222222,
              "#7201a8"
             ],
             [
              0.3333333333333333,
              "#9c179e"
             ],
             [
              0.4444444444444444,
              "#bd3786"
             ],
             [
              0.5555555555555556,
              "#d8576b"
             ],
             [
              0.6666666666666666,
              "#ed7953"
             ],
             [
              0.7777777777777778,
              "#fb9f3a"
             ],
             [
              0.8888888888888888,
              "#fdca26"
             ],
             [
              1,
              "#f0f921"
             ]
            ],
            "type": "histogram2dcontour"
           }
          ],
          "mesh3d": [
           {
            "colorbar": {
             "outlinewidth": 0,
             "ticks": ""
            },
            "type": "mesh3d"
           }
          ],
          "parcoords": [
           {
            "line": {
             "colorbar": {
              "outlinewidth": 0,
              "ticks": ""
             }
            },
            "type": "parcoords"
           }
          ],
          "pie": [
           {
            "automargin": true,
            "type": "pie"
           }
          ],
          "scatter": [
           {
            "fillpattern": {
             "fillmode": "overlay",
             "size": 10,
             "solidity": 0.2
            },
            "type": "scatter"
           }
          ],
          "scatter3d": [
           {
            "line": {
             "colorbar": {
              "outlinewidth": 0,
              "ticks": ""
             }
            },
            "marker": {
             "colorbar": {
              "outlinewidth": 0,
              "ticks": ""
             }
            },
            "type": "scatter3d"
           }
          ],
          "scattercarpet": [
           {
            "marker": {
             "colorbar": {
              "outlinewidth": 0,
              "ticks": ""
             }
            },
            "type": "scattercarpet"
           }
          ],
          "scattergeo": [
           {
            "marker": {
             "colorbar": {
              "outlinewidth": 0,
              "ticks": ""
             }
            },
            "type": "scattergeo"
           }
          ],
          "scattergl": [
           {
            "marker": {
             "colorbar": {
              "outlinewidth": 0,
              "ticks": ""
             }
            },
            "type": "scattergl"
           }
          ],
          "scattermapbox": [
           {
            "marker": {
             "colorbar": {
              "outlinewidth": 0,
              "ticks": ""
             }
            },
            "type": "scattermapbox"
           }
          ],
          "scatterpolar": [
           {
            "marker": {
             "colorbar": {
              "outlinewidth": 0,
              "ticks": ""
             }
            },
            "type": "scatterpolar"
           }
          ],
          "scatterpolargl": [
           {
            "marker": {
             "colorbar": {
              "outlinewidth": 0,
              "ticks": ""
             }
            },
            "type": "scatterpolargl"
           }
          ],
          "scatterternary": [
           {
            "marker": {
             "colorbar": {
              "outlinewidth": 0,
              "ticks": ""
             }
            },
            "type": "scatterternary"
           }
          ],
          "surface": [
           {
            "colorbar": {
             "outlinewidth": 0,
             "ticks": ""
            },
            "colorscale": [
             [
              0,
              "#0d0887"
             ],
             [
              0.1111111111111111,
              "#46039f"
             ],
             [
              0.2222222222222222,
              "#7201a8"
             ],
             [
              0.3333333333333333,
              "#9c179e"
             ],
             [
              0.4444444444444444,
              "#bd3786"
             ],
             [
              0.5555555555555556,
              "#d8576b"
             ],
             [
              0.6666666666666666,
              "#ed7953"
             ],
             [
              0.7777777777777778,
              "#fb9f3a"
             ],
             [
              0.8888888888888888,
              "#fdca26"
             ],
             [
              1,
              "#f0f921"
             ]
            ],
            "type": "surface"
           }
          ],
          "table": [
           {
            "cells": {
             "fill": {
              "color": "#EBF0F8"
             },
             "line": {
              "color": "white"
             }
            },
            "header": {
             "fill": {
              "color": "#C8D4E3"
             },
             "line": {
              "color": "white"
             }
            },
            "type": "table"
           }
          ]
         },
         "layout": {
          "annotationdefaults": {
           "arrowcolor": "#2a3f5f",
           "arrowhead": 0,
           "arrowwidth": 1
          },
          "autotypenumbers": "strict",
          "coloraxis": {
           "colorbar": {
            "outlinewidth": 0,
            "ticks": ""
           }
          },
          "colorscale": {
           "diverging": [
            [
             0,
             "#8e0152"
            ],
            [
             0.1,
             "#c51b7d"
            ],
            [
             0.2,
             "#de77ae"
            ],
            [
             0.3,
             "#f1b6da"
            ],
            [
             0.4,
             "#fde0ef"
            ],
            [
             0.5,
             "#f7f7f7"
            ],
            [
             0.6,
             "#e6f5d0"
            ],
            [
             0.7,
             "#b8e186"
            ],
            [
             0.8,
             "#7fbc41"
            ],
            [
             0.9,
             "#4d9221"
            ],
            [
             1,
             "#276419"
            ]
           ],
           "sequential": [
            [
             0,
             "#0d0887"
            ],
            [
             0.1111111111111111,
             "#46039f"
            ],
            [
             0.2222222222222222,
             "#7201a8"
            ],
            [
             0.3333333333333333,
             "#9c179e"
            ],
            [
             0.4444444444444444,
             "#bd3786"
            ],
            [
             0.5555555555555556,
             "#d8576b"
            ],
            [
             0.6666666666666666,
             "#ed7953"
            ],
            [
             0.7777777777777778,
             "#fb9f3a"
            ],
            [
             0.8888888888888888,
             "#fdca26"
            ],
            [
             1,
             "#f0f921"
            ]
           ],
           "sequentialminus": [
            [
             0,
             "#0d0887"
            ],
            [
             0.1111111111111111,
             "#46039f"
            ],
            [
             0.2222222222222222,
             "#7201a8"
            ],
            [
             0.3333333333333333,
             "#9c179e"
            ],
            [
             0.4444444444444444,
             "#bd3786"
            ],
            [
             0.5555555555555556,
             "#d8576b"
            ],
            [
             0.6666666666666666,
             "#ed7953"
            ],
            [
             0.7777777777777778,
             "#fb9f3a"
            ],
            [
             0.8888888888888888,
             "#fdca26"
            ],
            [
             1,
             "#f0f921"
            ]
           ]
          },
          "colorway": [
           "#636efa",
           "#EF553B",
           "#00cc96",
           "#ab63fa",
           "#FFA15A",
           "#19d3f3",
           "#FF6692",
           "#B6E880",
           "#FF97FF",
           "#FECB52"
          ],
          "font": {
           "color": "#2a3f5f"
          },
          "geo": {
           "bgcolor": "white",
           "lakecolor": "white",
           "landcolor": "#E5ECF6",
           "showlakes": true,
           "showland": true,
           "subunitcolor": "white"
          },
          "hoverlabel": {
           "align": "left"
          },
          "hovermode": "closest",
          "mapbox": {
           "style": "light"
          },
          "paper_bgcolor": "white",
          "plot_bgcolor": "#E5ECF6",
          "polar": {
           "angularaxis": {
            "gridcolor": "white",
            "linecolor": "white",
            "ticks": ""
           },
           "bgcolor": "#E5ECF6",
           "radialaxis": {
            "gridcolor": "white",
            "linecolor": "white",
            "ticks": ""
           }
          },
          "scene": {
           "xaxis": {
            "backgroundcolor": "#E5ECF6",
            "gridcolor": "white",
            "gridwidth": 2,
            "linecolor": "white",
            "showbackground": true,
            "ticks": "",
            "zerolinecolor": "white"
           },
           "yaxis": {
            "backgroundcolor": "#E5ECF6",
            "gridcolor": "white",
            "gridwidth": 2,
            "linecolor": "white",
            "showbackground": true,
            "ticks": "",
            "zerolinecolor": "white"
           },
           "zaxis": {
            "backgroundcolor": "#E5ECF6",
            "gridcolor": "white",
            "gridwidth": 2,
            "linecolor": "white",
            "showbackground": true,
            "ticks": "",
            "zerolinecolor": "white"
           }
          },
          "shapedefaults": {
           "line": {
            "color": "#2a3f5f"
           }
          },
          "ternary": {
           "aaxis": {
            "gridcolor": "white",
            "linecolor": "white",
            "ticks": ""
           },
           "baxis": {
            "gridcolor": "white",
            "linecolor": "white",
            "ticks": ""
           },
           "bgcolor": "#E5ECF6",
           "caxis": {
            "gridcolor": "white",
            "linecolor": "white",
            "ticks": ""
           }
          },
          "title": {
           "x": 0.05
          },
          "xaxis": {
           "automargin": true,
           "gridcolor": "white",
           "linecolor": "white",
           "ticks": "",
           "title": {
            "standoff": 15
           },
           "zerolinecolor": "white",
           "zerolinewidth": 2
          },
          "yaxis": {
           "automargin": true,
           "gridcolor": "white",
           "linecolor": "white",
           "ticks": "",
           "title": {
            "standoff": 15
           },
           "zerolinecolor": "white",
           "zerolinewidth": 2
          }
         }
        },
        "title": {
         "text": "<b>Mortgage_rate vs. Housing Price</b>"
        },
        "xaxis": {
         "anchor": "y",
         "domain": [
          0,
          1
         ],
         "title": {
          "text": "Mortgage_rate"
         }
        },
        "yaxis": {
         "anchor": "x",
         "domain": [
          0,
          1
         ],
         "title": {
          "text": "Housing_price"
         }
        }
       }
      },
      "text/html": [
       "<div>                            <div id=\"886d1292-009e-49a5-8428-eae29712ed6f\" class=\"plotly-graph-div\" style=\"height:525px; width:100%;\"></div>            <script type=\"text/javascript\">                require([\"plotly\"], function(Plotly) {                    window.PLOTLYENV=window.PLOTLYENV || {};                                    if (document.getElementById(\"886d1292-009e-49a5-8428-eae29712ed6f\")) {                    Plotly.newPlot(                        \"886d1292-009e-49a5-8428-eae29712ed6f\",                        [{\"hovertemplate\":\"Mortgage_rate=%{x}<br>Housing_price=%{y}<extra></extra>\",\"legendgroup\":\"\",\"marker\":{\"color\":\"#636efa\",\"symbol\":\"circle\"},\"mode\":\"markers\",\"name\":\"\",\"orientation\":\"v\",\"showlegend\":false,\"x\":[5.71,5.6275,5.928,5.855,5.72,5.582,5.695,5.82,5.774,6.065,6.33,6.272,6.145,6.2525,6.324,6.5075,6.5975,6.682,6.7625,6.524,6.4025,6.3575,6.24,6.135,6.2175,6.285,6.156,6.18,6.262,6.6575,6.695,6.572,6.3825,6.375,6.208,6.095,5.758,5.9175,5.97,5.9175,6.036,6.32,6.426,6.4775,6.0375,6.2,6.0875,5.286,5.0475,5.13,5.0025,4.81,4.8575,5.42,5.222,5.1925,5.0575,4.952,4.875,4.93,5.03,4.99,4.9675,5.098,4.8875,4.7375,4.564,4.4275,4.346,4.225,4.3,4.714,4.755,4.9525,4.836,4.84,4.6375,4.51,4.545,4.27,4.106,4.0675,3.9925,3.958,3.915,3.89,3.954,3.91,3.798,3.675,3.55,3.602,3.4975,3.3825,3.352,3.345,3.414,3.5325,3.565,3.445,3.536,4.07,4.37,4.456,4.49,4.192,4.255,4.4575,4.432,4.3025,4.3425,4.3375,4.192,4.1625,4.13,4.115,4.1625,4.036,3.9975,3.864,3.67,3.71,3.77,3.672,3.84,3.9825,4.046,3.905,3.89,3.796,3.9425,3.964,3.8725,3.66,3.694,3.605,3.6,3.568,3.44,3.435,3.46,3.47,3.77,4.198,4.15,4.1675,4.196,4.045,4.01,3.904,3.9675,3.88,3.805,3.895,3.922,3.95,4.0325,4.33,4.444,4.4675,4.586,4.57,4.5275,4.55,4.6275,4.83,4.866,4.6375,4.464,4.37,4.265,4.1425,4.072,3.8025,3.765,3.616,3.605,3.688,3.695,3.72,3.624,3.465,3.45,3.306,3.2325,3.1625,3.016,2.935,2.89,2.834,2.765,2.684,2.735,2.81,3.0825,3.06,2.9625,2.975,2.868,2.8425,2.9,3.0675,3.0675,3.098,3.445,3.7625,4.172,4.9825,5.23,5.522,5.4125,5.2225,6.112,6.9,6.805,6.364,6.2725,6.2575,6.544,6.3425,5.4125,5.2225,6.112,6.9,6.805,6.364,6.2725,6.2575,6.544],\"xaxis\":\"x\",\"y\":[161.28799999999998,163.344,165.812,167.50099999999998,169.351,171.19,172.86,174.442,176.438,178.02700000000002,179.68099999999998,180.91,182.321,183.287,184.365,184.329,184.15599999999998,183.507,183.067,182.593,182.798,183.199,183.61,184.139,184.517,184.59900000000002,184.15,183.01,181.6,180.25400000000002,179.111,178.11599999999999,177.55700000000002,176.623,175.146,174.34099999999998,173.132,171.541,170.054,168.33900000000003,166.66,165.018,163.567,161.988,160.308,158.327,156.141,153.618,151.506,150.014,148.66,147.94899999999998,147.695,148.09,148.41,148.27700000000002,148.024,147.849,148.13299999999998,147.928,147.395,145.631,145.859,146.40200000000002,146.393,145.719,144.989,143.91299999999998,143.017,142.53,142.173,142.059,141.52200000000002,140.35,139.982,140.009,139.904,139.86,139.72899999999998,139.30700000000002,138.668,137.952,137.15200000000002,136.675,136.607,136.532,137.904,139.155,140.155,141.03,141.67,142.28,142.909,143.601,144.585,145.502,146.827,147.783,149.963,151.518,152.849,154.197,155.602,156.965,158.227,159.241,160.07299999999998,160.993,161.928,162.52700000000002,163.088,163.39600000000002,163.66299999999998,164.05599999999998,164.574,165.218,165.907,166.644,167.33700000000002,168.053,168.637,169.132,169.80200000000002,170.301,170.88400000000001,171.457,172.125,172.938,173.83,174.794,175.74200000000002,176.548,177.27700000000002,177.65400000000002,178.168,178.77,179.43200000000002,180.065,180.826,181.854,182.827,183.75400000000002,184.762,185.72299999999998,186.80200000000002,187.31599999999997,187.997,188.733,189.62900000000002,190.50400000000002,191.452,192.683,193.775,194.81400000000002,195.953,197.15900000000002,198.291,199.21400000000003,199.96099999999998,200.668,201.447,202.245,202.929,203.734,204.39,205.13299999999998,205.666,206.114,206.479,206.803,207.043,207.53799999999998,208.19400000000002,208.701,209.31799999999998,210.183,210.972,211.81599999999997,212.762,213.843,214.84599999999998,215.722,216.345,216.87,217.11900000000003,217.739,219.437,222.537,225.933,229.782,233.162,236.345,239.3,242.111,245.364,249.18400000000003,253.68200000000002,258.592,262.907,267.069,270.498,273.748,277.122,281.127,285.493,290.736,296.296,300.829,304.29400000000004,305.163,304.04400000000004,301.712,299.41200000000003,298.793,297.985,296.952,296.064,296.926,298.166,null,304.04400000000004,301.712,299.41200000000003,298.793,297.985,296.952,296.064,296.926,298.166],\"yaxis\":\"y\",\"type\":\"scatter\"}],                        {\"template\":{\"data\":{\"histogram2dcontour\":[{\"type\":\"histogram2dcontour\",\"colorbar\":{\"outlinewidth\":0,\"ticks\":\"\"},\"colorscale\":[[0.0,\"#0d0887\"],[0.1111111111111111,\"#46039f\"],[0.2222222222222222,\"#7201a8\"],[0.3333333333333333,\"#9c179e\"],[0.4444444444444444,\"#bd3786\"],[0.5555555555555556,\"#d8576b\"],[0.6666666666666666,\"#ed7953\"],[0.7777777777777778,\"#fb9f3a\"],[0.8888888888888888,\"#fdca26\"],[1.0,\"#f0f921\"]]}],\"choropleth\":[{\"type\":\"choropleth\",\"colorbar\":{\"outlinewidth\":0,\"ticks\":\"\"}}],\"histogram2d\":[{\"type\":\"histogram2d\",\"colorbar\":{\"outlinewidth\":0,\"ticks\":\"\"},\"colorscale\":[[0.0,\"#0d0887\"],[0.1111111111111111,\"#46039f\"],[0.2222222222222222,\"#7201a8\"],[0.3333333333333333,\"#9c179e\"],[0.4444444444444444,\"#bd3786\"],[0.5555555555555556,\"#d8576b\"],[0.6666666666666666,\"#ed7953\"],[0.7777777777777778,\"#fb9f3a\"],[0.8888888888888888,\"#fdca26\"],[1.0,\"#f0f921\"]]}],\"heatmap\":[{\"type\":\"heatmap\",\"colorbar\":{\"outlinewidth\":0,\"ticks\":\"\"},\"colorscale\":[[0.0,\"#0d0887\"],[0.1111111111111111,\"#46039f\"],[0.2222222222222222,\"#7201a8\"],[0.3333333333333333,\"#9c179e\"],[0.4444444444444444,\"#bd3786\"],[0.5555555555555556,\"#d8576b\"],[0.6666666666666666,\"#ed7953\"],[0.7777777777777778,\"#fb9f3a\"],[0.8888888888888888,\"#fdca26\"],[1.0,\"#f0f921\"]]}],\"heatmapgl\":[{\"type\":\"heatmapgl\",\"colorbar\":{\"outlinewidth\":0,\"ticks\":\"\"},\"colorscale\":[[0.0,\"#0d0887\"],[0.1111111111111111,\"#46039f\"],[0.2222222222222222,\"#7201a8\"],[0.3333333333333333,\"#9c179e\"],[0.4444444444444444,\"#bd3786\"],[0.5555555555555556,\"#d8576b\"],[0.6666666666666666,\"#ed7953\"],[0.7777777777777778,\"#fb9f3a\"],[0.8888888888888888,\"#fdca26\"],[1.0,\"#f0f921\"]]}],\"contourcarpet\":[{\"type\":\"contourcarpet\",\"colorbar\":{\"outlinewidth\":0,\"ticks\":\"\"}}],\"contour\":[{\"type\":\"contour\",\"colorbar\":{\"outlinewidth\":0,\"ticks\":\"\"},\"colorscale\":[[0.0,\"#0d0887\"],[0.1111111111111111,\"#46039f\"],[0.2222222222222222,\"#7201a8\"],[0.3333333333333333,\"#9c179e\"],[0.4444444444444444,\"#bd3786\"],[0.5555555555555556,\"#d8576b\"],[0.6666666666666666,\"#ed7953\"],[0.7777777777777778,\"#fb9f3a\"],[0.8888888888888888,\"#fdca26\"],[1.0,\"#f0f921\"]]}],\"surface\":[{\"type\":\"surface\",\"colorbar\":{\"outlinewidth\":0,\"ticks\":\"\"},\"colorscale\":[[0.0,\"#0d0887\"],[0.1111111111111111,\"#46039f\"],[0.2222222222222222,\"#7201a8\"],[0.3333333333333333,\"#9c179e\"],[0.4444444444444444,\"#bd3786\"],[0.5555555555555556,\"#d8576b\"],[0.6666666666666666,\"#ed7953\"],[0.7777777777777778,\"#fb9f3a\"],[0.8888888888888888,\"#fdca26\"],[1.0,\"#f0f921\"]]}],\"mesh3d\":[{\"type\":\"mesh3d\",\"colorbar\":{\"outlinewidth\":0,\"ticks\":\"\"}}],\"scatter\":[{\"fillpattern\":{\"fillmode\":\"overlay\",\"size\":10,\"solidity\":0.2},\"type\":\"scatter\"}],\"parcoords\":[{\"type\":\"parcoords\",\"line\":{\"colorbar\":{\"outlinewidth\":0,\"ticks\":\"\"}}}],\"scatterpolargl\":[{\"type\":\"scatterpolargl\",\"marker\":{\"colorbar\":{\"outlinewidth\":0,\"ticks\":\"\"}}}],\"bar\":[{\"error_x\":{\"color\":\"#2a3f5f\"},\"error_y\":{\"color\":\"#2a3f5f\"},\"marker\":{\"line\":{\"color\":\"#E5ECF6\",\"width\":0.5},\"pattern\":{\"fillmode\":\"overlay\",\"size\":10,\"solidity\":0.2}},\"type\":\"bar\"}],\"scattergeo\":[{\"type\":\"scattergeo\",\"marker\":{\"colorbar\":{\"outlinewidth\":0,\"ticks\":\"\"}}}],\"scatterpolar\":[{\"type\":\"scatterpolar\",\"marker\":{\"colorbar\":{\"outlinewidth\":0,\"ticks\":\"\"}}}],\"histogram\":[{\"marker\":{\"pattern\":{\"fillmode\":\"overlay\",\"size\":10,\"solidity\":0.2}},\"type\":\"histogram\"}],\"scattergl\":[{\"type\":\"scattergl\",\"marker\":{\"colorbar\":{\"outlinewidth\":0,\"ticks\":\"\"}}}],\"scatter3d\":[{\"type\":\"scatter3d\",\"line\":{\"colorbar\":{\"outlinewidth\":0,\"ticks\":\"\"}},\"marker\":{\"colorbar\":{\"outlinewidth\":0,\"ticks\":\"\"}}}],\"scattermapbox\":[{\"type\":\"scattermapbox\",\"marker\":{\"colorbar\":{\"outlinewidth\":0,\"ticks\":\"\"}}}],\"scatterternary\":[{\"type\":\"scatterternary\",\"marker\":{\"colorbar\":{\"outlinewidth\":0,\"ticks\":\"\"}}}],\"scattercarpet\":[{\"type\":\"scattercarpet\",\"marker\":{\"colorbar\":{\"outlinewidth\":0,\"ticks\":\"\"}}}],\"carpet\":[{\"aaxis\":{\"endlinecolor\":\"#2a3f5f\",\"gridcolor\":\"white\",\"linecolor\":\"white\",\"minorgridcolor\":\"white\",\"startlinecolor\":\"#2a3f5f\"},\"baxis\":{\"endlinecolor\":\"#2a3f5f\",\"gridcolor\":\"white\",\"linecolor\":\"white\",\"minorgridcolor\":\"white\",\"startlinecolor\":\"#2a3f5f\"},\"type\":\"carpet\"}],\"table\":[{\"cells\":{\"fill\":{\"color\":\"#EBF0F8\"},\"line\":{\"color\":\"white\"}},\"header\":{\"fill\":{\"color\":\"#C8D4E3\"},\"line\":{\"color\":\"white\"}},\"type\":\"table\"}],\"barpolar\":[{\"marker\":{\"line\":{\"color\":\"#E5ECF6\",\"width\":0.5},\"pattern\":{\"fillmode\":\"overlay\",\"size\":10,\"solidity\":0.2}},\"type\":\"barpolar\"}],\"pie\":[{\"automargin\":true,\"type\":\"pie\"}]},\"layout\":{\"autotypenumbers\":\"strict\",\"colorway\":[\"#636efa\",\"#EF553B\",\"#00cc96\",\"#ab63fa\",\"#FFA15A\",\"#19d3f3\",\"#FF6692\",\"#B6E880\",\"#FF97FF\",\"#FECB52\"],\"font\":{\"color\":\"#2a3f5f\"},\"hovermode\":\"closest\",\"hoverlabel\":{\"align\":\"left\"},\"paper_bgcolor\":\"white\",\"plot_bgcolor\":\"#E5ECF6\",\"polar\":{\"bgcolor\":\"#E5ECF6\",\"angularaxis\":{\"gridcolor\":\"white\",\"linecolor\":\"white\",\"ticks\":\"\"},\"radialaxis\":{\"gridcolor\":\"white\",\"linecolor\":\"white\",\"ticks\":\"\"}},\"ternary\":{\"bgcolor\":\"#E5ECF6\",\"aaxis\":{\"gridcolor\":\"white\",\"linecolor\":\"white\",\"ticks\":\"\"},\"baxis\":{\"gridcolor\":\"white\",\"linecolor\":\"white\",\"ticks\":\"\"},\"caxis\":{\"gridcolor\":\"white\",\"linecolor\":\"white\",\"ticks\":\"\"}},\"coloraxis\":{\"colorbar\":{\"outlinewidth\":0,\"ticks\":\"\"}},\"colorscale\":{\"sequential\":[[0.0,\"#0d0887\"],[0.1111111111111111,\"#46039f\"],[0.2222222222222222,\"#7201a8\"],[0.3333333333333333,\"#9c179e\"],[0.4444444444444444,\"#bd3786\"],[0.5555555555555556,\"#d8576b\"],[0.6666666666666666,\"#ed7953\"],[0.7777777777777778,\"#fb9f3a\"],[0.8888888888888888,\"#fdca26\"],[1.0,\"#f0f921\"]],\"sequentialminus\":[[0.0,\"#0d0887\"],[0.1111111111111111,\"#46039f\"],[0.2222222222222222,\"#7201a8\"],[0.3333333333333333,\"#9c179e\"],[0.4444444444444444,\"#bd3786\"],[0.5555555555555556,\"#d8576b\"],[0.6666666666666666,\"#ed7953\"],[0.7777777777777778,\"#fb9f3a\"],[0.8888888888888888,\"#fdca26\"],[1.0,\"#f0f921\"]],\"diverging\":[[0,\"#8e0152\"],[0.1,\"#c51b7d\"],[0.2,\"#de77ae\"],[0.3,\"#f1b6da\"],[0.4,\"#fde0ef\"],[0.5,\"#f7f7f7\"],[0.6,\"#e6f5d0\"],[0.7,\"#b8e186\"],[0.8,\"#7fbc41\"],[0.9,\"#4d9221\"],[1,\"#276419\"]]},\"xaxis\":{\"gridcolor\":\"white\",\"linecolor\":\"white\",\"ticks\":\"\",\"title\":{\"standoff\":15},\"zerolinecolor\":\"white\",\"automargin\":true,\"zerolinewidth\":2},\"yaxis\":{\"gridcolor\":\"white\",\"linecolor\":\"white\",\"ticks\":\"\",\"title\":{\"standoff\":15},\"zerolinecolor\":\"white\",\"automargin\":true,\"zerolinewidth\":2},\"scene\":{\"xaxis\":{\"backgroundcolor\":\"#E5ECF6\",\"gridcolor\":\"white\",\"linecolor\":\"white\",\"showbackground\":true,\"ticks\":\"\",\"zerolinecolor\":\"white\",\"gridwidth\":2},\"yaxis\":{\"backgroundcolor\":\"#E5ECF6\",\"gridcolor\":\"white\",\"linecolor\":\"white\",\"showbackground\":true,\"ticks\":\"\",\"zerolinecolor\":\"white\",\"gridwidth\":2},\"zaxis\":{\"backgroundcolor\":\"#E5ECF6\",\"gridcolor\":\"white\",\"linecolor\":\"white\",\"showbackground\":true,\"ticks\":\"\",\"zerolinecolor\":\"white\",\"gridwidth\":2}},\"shapedefaults\":{\"line\":{\"color\":\"#2a3f5f\"}},\"annotationdefaults\":{\"arrowcolor\":\"#2a3f5f\",\"arrowhead\":0,\"arrowwidth\":1},\"geo\":{\"bgcolor\":\"white\",\"landcolor\":\"#E5ECF6\",\"subunitcolor\":\"white\",\"showland\":true,\"showlakes\":true,\"lakecolor\":\"white\"},\"title\":{\"x\":0.05},\"mapbox\":{\"style\":\"light\"}}},\"xaxis\":{\"anchor\":\"y\",\"domain\":[0.0,1.0],\"title\":{\"text\":\"Mortgage_rate\"}},\"yaxis\":{\"anchor\":\"x\",\"domain\":[0.0,1.0],\"title\":{\"text\":\"Housing_price\"}},\"legend\":{\"tracegroupgap\":0},\"title\":{\"text\":\"<b>Mortgage_rate vs. Housing Price</b>\"}},                        {\"responsive\": true}                    ).then(function(){\n",
       "                            \n",
       "var gd = document.getElementById('886d1292-009e-49a5-8428-eae29712ed6f');\n",
       "var x = new MutationObserver(function (mutations, observer) {{\n",
       "        var display = window.getComputedStyle(gd).display;\n",
       "        if (!display || display === 'none') {{\n",
       "            console.log([gd, 'removed!']);\n",
       "            Plotly.purge(gd);\n",
       "            observer.disconnect();\n",
       "        }}\n",
       "}});\n",
       "\n",
       "// Listen for the removal of the full notebook cells\n",
       "var notebookContainer = gd.closest('#notebook-container');\n",
       "if (notebookContainer) {{\n",
       "    x.observe(notebookContainer, {childList: true});\n",
       "}}\n",
       "\n",
       "// Listen for the clearing of the current output cell\n",
       "var outputEl = gd.closest('.output');\n",
       "if (outputEl) {{\n",
       "    x.observe(outputEl, {childList: true});\n",
       "}}\n",
       "\n",
       "                        })                };                });            </script>        </div>"
      ]
     },
     "metadata": {},
     "output_type": "display_data"
    },
    {
     "data": {
      "application/vnd.plotly.v1+json": {
       "config": {
        "plotlyServerURL": "https://plot.ly"
       },
       "data": [
        {
         "hovertemplate": "Consumer_sentiment=%{x}<br>Housing_price=%{y}<extra></extra>",
         "legendgroup": "",
         "marker": {
          "color": "#636efa",
          "symbol": "circle"
         },
         "mode": "markers",
         "name": "",
         "orientation": "v",
         "showlegend": false,
         "type": "scatter",
         "x": [
          95.5,
          94.1,
          92.6,
          87.7,
          86.9,
          96,
          96.5,
          89.1,
          76.9,
          74.2,
          81.6,
          91.5,
          91.2,
          86.7,
          88.9,
          87.4,
          79.1,
          84.9,
          84.7,
          82,
          85.4,
          93.6,
          92.1,
          91.7,
          96.9,
          91.3,
          88.4,
          87.1,
          88.3,
          85.3,
          90.4,
          83.4,
          83.4,
          80.9,
          76.1,
          75.5,
          78.4,
          70.8,
          69.5,
          62.6,
          59.8,
          56.4,
          61.2,
          63,
          70.3,
          57.6,
          55.3,
          60.1,
          61.2,
          56.3,
          57.3,
          65.1,
          68.7,
          70.8,
          66,
          65.7,
          73.5,
          70.6,
          67.4,
          72.5,
          74.4,
          73.6,
          73.6,
          72.2,
          73.6,
          76,
          67.8,
          68.9,
          68.2,
          67.7,
          71.6,
          74.5,
          74.2,
          77.5,
          67.5,
          69.8,
          74.3,
          71.5,
          63.7,
          55.8,
          59.5,
          60.8,
          63.7,
          69.9,
          75,
          75.3,
          76.2,
          76.4,
          79.3,
          73.2,
          72.3,
          74.3,
          78.3,
          82.6,
          82.7,
          72.9,
          73.8,
          77.6,
          78.6,
          76.4,
          84.5,
          84.1,
          85.1,
          82.1,
          77.5,
          73.2,
          75.1,
          82.5,
          81.2,
          81.6,
          80,
          84.1,
          81.9,
          82.5,
          81.8,
          82.5,
          84.6,
          86.9,
          88.8,
          93.6,
          98.1,
          95.4,
          93,
          95.9,
          90.7,
          96.1,
          93.1,
          91.9,
          87.2,
          90,
          91.3,
          92.6,
          92,
          91.7,
          91,
          89,
          94.7,
          93.5,
          90,
          89.8,
          91.2,
          87.2,
          93.8,
          98.2,
          98.5,
          96.3,
          96.9,
          97,
          97.1,
          95,
          93.4,
          96.8,
          95.1,
          100.7,
          98.5,
          95.9,
          95.7,
          99.7,
          101.4,
          98.8,
          98,
          98.2,
          97.9,
          96.2,
          100.1,
          98.6,
          97.5,
          98.3,
          91.2,
          93.8,
          98.4,
          97.2,
          100,
          98.2,
          98.4,
          89.8,
          93.2,
          95.5,
          96.8,
          99.3,
          99.8,
          101,
          89.1,
          71.8,
          72.3,
          78.1,
          72.5,
          74.1,
          80.4,
          81.8,
          76.9,
          80.7,
          79,
          76.8,
          84.9,
          88.3,
          82.9,
          85.5,
          81.2,
          70.3,
          72.8,
          71.7,
          67.4,
          70.6,
          67.2,
          62.8,
          59.4,
          65.2,
          58.4,
          50,
          51.5,
          58.2,
          58.6,
          59.9,
          56.8,
          59.7,
          64.9,
          67,
          62,
          63.5,
          51.5,
          58.2,
          58.6,
          59.9,
          56.8,
          59.7,
          64.9,
          67,
          62
         ],
         "xaxis": "x",
         "y": [
          161.28799999999998,
          163.344,
          165.812,
          167.50099999999998,
          169.351,
          171.19,
          172.86,
          174.442,
          176.438,
          178.02700000000002,
          179.68099999999998,
          180.91,
          182.321,
          183.287,
          184.365,
          184.329,
          184.15599999999998,
          183.507,
          183.067,
          182.593,
          182.798,
          183.199,
          183.61,
          184.139,
          184.517,
          184.59900000000002,
          184.15,
          183.01,
          181.6,
          180.25400000000002,
          179.111,
          178.11599999999999,
          177.55700000000002,
          176.623,
          175.146,
          174.34099999999998,
          173.132,
          171.541,
          170.054,
          168.33900000000003,
          166.66,
          165.018,
          163.567,
          161.988,
          160.308,
          158.327,
          156.141,
          153.618,
          151.506,
          150.014,
          148.66,
          147.94899999999998,
          147.695,
          148.09,
          148.41,
          148.27700000000002,
          148.024,
          147.849,
          148.13299999999998,
          147.928,
          147.395,
          145.631,
          145.859,
          146.40200000000002,
          146.393,
          145.719,
          144.989,
          143.91299999999998,
          143.017,
          142.53,
          142.173,
          142.059,
          141.52200000000002,
          140.35,
          139.982,
          140.009,
          139.904,
          139.86,
          139.72899999999998,
          139.30700000000002,
          138.668,
          137.952,
          137.15200000000002,
          136.675,
          136.607,
          136.532,
          137.904,
          139.155,
          140.155,
          141.03,
          141.67,
          142.28,
          142.909,
          143.601,
          144.585,
          145.502,
          146.827,
          147.783,
          149.963,
          151.518,
          152.849,
          154.197,
          155.602,
          156.965,
          158.227,
          159.241,
          160.07299999999998,
          160.993,
          161.928,
          162.52700000000002,
          163.088,
          163.39600000000002,
          163.66299999999998,
          164.05599999999998,
          164.574,
          165.218,
          165.907,
          166.644,
          167.33700000000002,
          168.053,
          168.637,
          169.132,
          169.80200000000002,
          170.301,
          170.88400000000001,
          171.457,
          172.125,
          172.938,
          173.83,
          174.794,
          175.74200000000002,
          176.548,
          177.27700000000002,
          177.65400000000002,
          178.168,
          178.77,
          179.43200000000002,
          180.065,
          180.826,
          181.854,
          182.827,
          183.75400000000002,
          184.762,
          185.72299999999998,
          186.80200000000002,
          187.31599999999997,
          187.997,
          188.733,
          189.62900000000002,
          190.50400000000002,
          191.452,
          192.683,
          193.775,
          194.81400000000002,
          195.953,
          197.15900000000002,
          198.291,
          199.21400000000003,
          199.96099999999998,
          200.668,
          201.447,
          202.245,
          202.929,
          203.734,
          204.39,
          205.13299999999998,
          205.666,
          206.114,
          206.479,
          206.803,
          207.043,
          207.53799999999998,
          208.19400000000002,
          208.701,
          209.31799999999998,
          210.183,
          210.972,
          211.81599999999997,
          212.762,
          213.843,
          214.84599999999998,
          215.722,
          216.345,
          216.87,
          217.11900000000003,
          217.739,
          219.437,
          222.537,
          225.933,
          229.782,
          233.162,
          236.345,
          239.3,
          242.111,
          245.364,
          249.18400000000003,
          253.68200000000002,
          258.592,
          262.907,
          267.069,
          270.498,
          273.748,
          277.122,
          281.127,
          285.493,
          290.736,
          296.296,
          300.829,
          304.29400000000004,
          305.163,
          304.04400000000004,
          301.712,
          299.41200000000003,
          298.793,
          297.985,
          296.952,
          296.064,
          296.926,
          298.166,
          null,
          304.04400000000004,
          301.712,
          299.41200000000003,
          298.793,
          297.985,
          296.952,
          296.064,
          296.926,
          298.166
         ],
         "yaxis": "y"
        }
       ],
       "layout": {
        "legend": {
         "tracegroupgap": 0
        },
        "template": {
         "data": {
          "bar": [
           {
            "error_x": {
             "color": "#2a3f5f"
            },
            "error_y": {
             "color": "#2a3f5f"
            },
            "marker": {
             "line": {
              "color": "#E5ECF6",
              "width": 0.5
             },
             "pattern": {
              "fillmode": "overlay",
              "size": 10,
              "solidity": 0.2
             }
            },
            "type": "bar"
           }
          ],
          "barpolar": [
           {
            "marker": {
             "line": {
              "color": "#E5ECF6",
              "width": 0.5
             },
             "pattern": {
              "fillmode": "overlay",
              "size": 10,
              "solidity": 0.2
             }
            },
            "type": "barpolar"
           }
          ],
          "carpet": [
           {
            "aaxis": {
             "endlinecolor": "#2a3f5f",
             "gridcolor": "white",
             "linecolor": "white",
             "minorgridcolor": "white",
             "startlinecolor": "#2a3f5f"
            },
            "baxis": {
             "endlinecolor": "#2a3f5f",
             "gridcolor": "white",
             "linecolor": "white",
             "minorgridcolor": "white",
             "startlinecolor": "#2a3f5f"
            },
            "type": "carpet"
           }
          ],
          "choropleth": [
           {
            "colorbar": {
             "outlinewidth": 0,
             "ticks": ""
            },
            "type": "choropleth"
           }
          ],
          "contour": [
           {
            "colorbar": {
             "outlinewidth": 0,
             "ticks": ""
            },
            "colorscale": [
             [
              0,
              "#0d0887"
             ],
             [
              0.1111111111111111,
              "#46039f"
             ],
             [
              0.2222222222222222,
              "#7201a8"
             ],
             [
              0.3333333333333333,
              "#9c179e"
             ],
             [
              0.4444444444444444,
              "#bd3786"
             ],
             [
              0.5555555555555556,
              "#d8576b"
             ],
             [
              0.6666666666666666,
              "#ed7953"
             ],
             [
              0.7777777777777778,
              "#fb9f3a"
             ],
             [
              0.8888888888888888,
              "#fdca26"
             ],
             [
              1,
              "#f0f921"
             ]
            ],
            "type": "contour"
           }
          ],
          "contourcarpet": [
           {
            "colorbar": {
             "outlinewidth": 0,
             "ticks": ""
            },
            "type": "contourcarpet"
           }
          ],
          "heatmap": [
           {
            "colorbar": {
             "outlinewidth": 0,
             "ticks": ""
            },
            "colorscale": [
             [
              0,
              "#0d0887"
             ],
             [
              0.1111111111111111,
              "#46039f"
             ],
             [
              0.2222222222222222,
              "#7201a8"
             ],
             [
              0.3333333333333333,
              "#9c179e"
             ],
             [
              0.4444444444444444,
              "#bd3786"
             ],
             [
              0.5555555555555556,
              "#d8576b"
             ],
             [
              0.6666666666666666,
              "#ed7953"
             ],
             [
              0.7777777777777778,
              "#fb9f3a"
             ],
             [
              0.8888888888888888,
              "#fdca26"
             ],
             [
              1,
              "#f0f921"
             ]
            ],
            "type": "heatmap"
           }
          ],
          "heatmapgl": [
           {
            "colorbar": {
             "outlinewidth": 0,
             "ticks": ""
            },
            "colorscale": [
             [
              0,
              "#0d0887"
             ],
             [
              0.1111111111111111,
              "#46039f"
             ],
             [
              0.2222222222222222,
              "#7201a8"
             ],
             [
              0.3333333333333333,
              "#9c179e"
             ],
             [
              0.4444444444444444,
              "#bd3786"
             ],
             [
              0.5555555555555556,
              "#d8576b"
             ],
             [
              0.6666666666666666,
              "#ed7953"
             ],
             [
              0.7777777777777778,
              "#fb9f3a"
             ],
             [
              0.8888888888888888,
              "#fdca26"
             ],
             [
              1,
              "#f0f921"
             ]
            ],
            "type": "heatmapgl"
           }
          ],
          "histogram": [
           {
            "marker": {
             "pattern": {
              "fillmode": "overlay",
              "size": 10,
              "solidity": 0.2
             }
            },
            "type": "histogram"
           }
          ],
          "histogram2d": [
           {
            "colorbar": {
             "outlinewidth": 0,
             "ticks": ""
            },
            "colorscale": [
             [
              0,
              "#0d0887"
             ],
             [
              0.1111111111111111,
              "#46039f"
             ],
             [
              0.2222222222222222,
              "#7201a8"
             ],
             [
              0.3333333333333333,
              "#9c179e"
             ],
             [
              0.4444444444444444,
              "#bd3786"
             ],
             [
              0.5555555555555556,
              "#d8576b"
             ],
             [
              0.6666666666666666,
              "#ed7953"
             ],
             [
              0.7777777777777778,
              "#fb9f3a"
             ],
             [
              0.8888888888888888,
              "#fdca26"
             ],
             [
              1,
              "#f0f921"
             ]
            ],
            "type": "histogram2d"
           }
          ],
          "histogram2dcontour": [
           {
            "colorbar": {
             "outlinewidth": 0,
             "ticks": ""
            },
            "colorscale": [
             [
              0,
              "#0d0887"
             ],
             [
              0.1111111111111111,
              "#46039f"
             ],
             [
              0.2222222222222222,
              "#7201a8"
             ],
             [
              0.3333333333333333,
              "#9c179e"
             ],
             [
              0.4444444444444444,
              "#bd3786"
             ],
             [
              0.5555555555555556,
              "#d8576b"
             ],
             [
              0.6666666666666666,
              "#ed7953"
             ],
             [
              0.7777777777777778,
              "#fb9f3a"
             ],
             [
              0.8888888888888888,
              "#fdca26"
             ],
             [
              1,
              "#f0f921"
             ]
            ],
            "type": "histogram2dcontour"
           }
          ],
          "mesh3d": [
           {
            "colorbar": {
             "outlinewidth": 0,
             "ticks": ""
            },
            "type": "mesh3d"
           }
          ],
          "parcoords": [
           {
            "line": {
             "colorbar": {
              "outlinewidth": 0,
              "ticks": ""
             }
            },
            "type": "parcoords"
           }
          ],
          "pie": [
           {
            "automargin": true,
            "type": "pie"
           }
          ],
          "scatter": [
           {
            "fillpattern": {
             "fillmode": "overlay",
             "size": 10,
             "solidity": 0.2
            },
            "type": "scatter"
           }
          ],
          "scatter3d": [
           {
            "line": {
             "colorbar": {
              "outlinewidth": 0,
              "ticks": ""
             }
            },
            "marker": {
             "colorbar": {
              "outlinewidth": 0,
              "ticks": ""
             }
            },
            "type": "scatter3d"
           }
          ],
          "scattercarpet": [
           {
            "marker": {
             "colorbar": {
              "outlinewidth": 0,
              "ticks": ""
             }
            },
            "type": "scattercarpet"
           }
          ],
          "scattergeo": [
           {
            "marker": {
             "colorbar": {
              "outlinewidth": 0,
              "ticks": ""
             }
            },
            "type": "scattergeo"
           }
          ],
          "scattergl": [
           {
            "marker": {
             "colorbar": {
              "outlinewidth": 0,
              "ticks": ""
             }
            },
            "type": "scattergl"
           }
          ],
          "scattermapbox": [
           {
            "marker": {
             "colorbar": {
              "outlinewidth": 0,
              "ticks": ""
             }
            },
            "type": "scattermapbox"
           }
          ],
          "scatterpolar": [
           {
            "marker": {
             "colorbar": {
              "outlinewidth": 0,
              "ticks": ""
             }
            },
            "type": "scatterpolar"
           }
          ],
          "scatterpolargl": [
           {
            "marker": {
             "colorbar": {
              "outlinewidth": 0,
              "ticks": ""
             }
            },
            "type": "scatterpolargl"
           }
          ],
          "scatterternary": [
           {
            "marker": {
             "colorbar": {
              "outlinewidth": 0,
              "ticks": ""
             }
            },
            "type": "scatterternary"
           }
          ],
          "surface": [
           {
            "colorbar": {
             "outlinewidth": 0,
             "ticks": ""
            },
            "colorscale": [
             [
              0,
              "#0d0887"
             ],
             [
              0.1111111111111111,
              "#46039f"
             ],
             [
              0.2222222222222222,
              "#7201a8"
             ],
             [
              0.3333333333333333,
              "#9c179e"
             ],
             [
              0.4444444444444444,
              "#bd3786"
             ],
             [
              0.5555555555555556,
              "#d8576b"
             ],
             [
              0.6666666666666666,
              "#ed7953"
             ],
             [
              0.7777777777777778,
              "#fb9f3a"
             ],
             [
              0.8888888888888888,
              "#fdca26"
             ],
             [
              1,
              "#f0f921"
             ]
            ],
            "type": "surface"
           }
          ],
          "table": [
           {
            "cells": {
             "fill": {
              "color": "#EBF0F8"
             },
             "line": {
              "color": "white"
             }
            },
            "header": {
             "fill": {
              "color": "#C8D4E3"
             },
             "line": {
              "color": "white"
             }
            },
            "type": "table"
           }
          ]
         },
         "layout": {
          "annotationdefaults": {
           "arrowcolor": "#2a3f5f",
           "arrowhead": 0,
           "arrowwidth": 1
          },
          "autotypenumbers": "strict",
          "coloraxis": {
           "colorbar": {
            "outlinewidth": 0,
            "ticks": ""
           }
          },
          "colorscale": {
           "diverging": [
            [
             0,
             "#8e0152"
            ],
            [
             0.1,
             "#c51b7d"
            ],
            [
             0.2,
             "#de77ae"
            ],
            [
             0.3,
             "#f1b6da"
            ],
            [
             0.4,
             "#fde0ef"
            ],
            [
             0.5,
             "#f7f7f7"
            ],
            [
             0.6,
             "#e6f5d0"
            ],
            [
             0.7,
             "#b8e186"
            ],
            [
             0.8,
             "#7fbc41"
            ],
            [
             0.9,
             "#4d9221"
            ],
            [
             1,
             "#276419"
            ]
           ],
           "sequential": [
            [
             0,
             "#0d0887"
            ],
            [
             0.1111111111111111,
             "#46039f"
            ],
            [
             0.2222222222222222,
             "#7201a8"
            ],
            [
             0.3333333333333333,
             "#9c179e"
            ],
            [
             0.4444444444444444,
             "#bd3786"
            ],
            [
             0.5555555555555556,
             "#d8576b"
            ],
            [
             0.6666666666666666,
             "#ed7953"
            ],
            [
             0.7777777777777778,
             "#fb9f3a"
            ],
            [
             0.8888888888888888,
             "#fdca26"
            ],
            [
             1,
             "#f0f921"
            ]
           ],
           "sequentialminus": [
            [
             0,
             "#0d0887"
            ],
            [
             0.1111111111111111,
             "#46039f"
            ],
            [
             0.2222222222222222,
             "#7201a8"
            ],
            [
             0.3333333333333333,
             "#9c179e"
            ],
            [
             0.4444444444444444,
             "#bd3786"
            ],
            [
             0.5555555555555556,
             "#d8576b"
            ],
            [
             0.6666666666666666,
             "#ed7953"
            ],
            [
             0.7777777777777778,
             "#fb9f3a"
            ],
            [
             0.8888888888888888,
             "#fdca26"
            ],
            [
             1,
             "#f0f921"
            ]
           ]
          },
          "colorway": [
           "#636efa",
           "#EF553B",
           "#00cc96",
           "#ab63fa",
           "#FFA15A",
           "#19d3f3",
           "#FF6692",
           "#B6E880",
           "#FF97FF",
           "#FECB52"
          ],
          "font": {
           "color": "#2a3f5f"
          },
          "geo": {
           "bgcolor": "white",
           "lakecolor": "white",
           "landcolor": "#E5ECF6",
           "showlakes": true,
           "showland": true,
           "subunitcolor": "white"
          },
          "hoverlabel": {
           "align": "left"
          },
          "hovermode": "closest",
          "mapbox": {
           "style": "light"
          },
          "paper_bgcolor": "white",
          "plot_bgcolor": "#E5ECF6",
          "polar": {
           "angularaxis": {
            "gridcolor": "white",
            "linecolor": "white",
            "ticks": ""
           },
           "bgcolor": "#E5ECF6",
           "radialaxis": {
            "gridcolor": "white",
            "linecolor": "white",
            "ticks": ""
           }
          },
          "scene": {
           "xaxis": {
            "backgroundcolor": "#E5ECF6",
            "gridcolor": "white",
            "gridwidth": 2,
            "linecolor": "white",
            "showbackground": true,
            "ticks": "",
            "zerolinecolor": "white"
           },
           "yaxis": {
            "backgroundcolor": "#E5ECF6",
            "gridcolor": "white",
            "gridwidth": 2,
            "linecolor": "white",
            "showbackground": true,
            "ticks": "",
            "zerolinecolor": "white"
           },
           "zaxis": {
            "backgroundcolor": "#E5ECF6",
            "gridcolor": "white",
            "gridwidth": 2,
            "linecolor": "white",
            "showbackground": true,
            "ticks": "",
            "zerolinecolor": "white"
           }
          },
          "shapedefaults": {
           "line": {
            "color": "#2a3f5f"
           }
          },
          "ternary": {
           "aaxis": {
            "gridcolor": "white",
            "linecolor": "white",
            "ticks": ""
           },
           "baxis": {
            "gridcolor": "white",
            "linecolor": "white",
            "ticks": ""
           },
           "bgcolor": "#E5ECF6",
           "caxis": {
            "gridcolor": "white",
            "linecolor": "white",
            "ticks": ""
           }
          },
          "title": {
           "x": 0.05
          },
          "xaxis": {
           "automargin": true,
           "gridcolor": "white",
           "linecolor": "white",
           "ticks": "",
           "title": {
            "standoff": 15
           },
           "zerolinecolor": "white",
           "zerolinewidth": 2
          },
          "yaxis": {
           "automargin": true,
           "gridcolor": "white",
           "linecolor": "white",
           "ticks": "",
           "title": {
            "standoff": 15
           },
           "zerolinecolor": "white",
           "zerolinewidth": 2
          }
         }
        },
        "title": {
         "text": "<b>Consumer_sentiment vs. Housing Price</b>"
        },
        "xaxis": {
         "anchor": "y",
         "domain": [
          0,
          1
         ],
         "title": {
          "text": "Consumer_sentiment"
         }
        },
        "yaxis": {
         "anchor": "x",
         "domain": [
          0,
          1
         ],
         "title": {
          "text": "Housing_price"
         }
        }
       }
      },
      "text/html": [
       "<div>                            <div id=\"1a9f72c4-5afa-4d42-9eb4-39db67778dbf\" class=\"plotly-graph-div\" style=\"height:525px; width:100%;\"></div>            <script type=\"text/javascript\">                require([\"plotly\"], function(Plotly) {                    window.PLOTLYENV=window.PLOTLYENV || {};                                    if (document.getElementById(\"1a9f72c4-5afa-4d42-9eb4-39db67778dbf\")) {                    Plotly.newPlot(                        \"1a9f72c4-5afa-4d42-9eb4-39db67778dbf\",                        [{\"hovertemplate\":\"Consumer_sentiment=%{x}<br>Housing_price=%{y}<extra></extra>\",\"legendgroup\":\"\",\"marker\":{\"color\":\"#636efa\",\"symbol\":\"circle\"},\"mode\":\"markers\",\"name\":\"\",\"orientation\":\"v\",\"showlegend\":false,\"x\":[95.5,94.1,92.6,87.7,86.9,96.0,96.5,89.1,76.9,74.2,81.6,91.5,91.2,86.7,88.9,87.4,79.1,84.9,84.7,82.0,85.4,93.6,92.1,91.7,96.9,91.3,88.4,87.1,88.3,85.3,90.4,83.4,83.4,80.9,76.1,75.5,78.4,70.8,69.5,62.6,59.8,56.4,61.2,63.0,70.3,57.6,55.3,60.1,61.2,56.3,57.3,65.1,68.7,70.8,66.0,65.7,73.5,70.6,67.4,72.5,74.4,73.6,73.6,72.2,73.6,76.0,67.8,68.9,68.2,67.7,71.6,74.5,74.2,77.5,67.5,69.8,74.3,71.5,63.7,55.8,59.5,60.8,63.7,69.9,75.0,75.3,76.2,76.4,79.3,73.2,72.3,74.3,78.3,82.6,82.7,72.9,73.8,77.6,78.6,76.4,84.5,84.1,85.1,82.1,77.5,73.2,75.1,82.5,81.2,81.6,80.0,84.1,81.9,82.5,81.8,82.5,84.6,86.9,88.8,93.6,98.1,95.4,93.0,95.9,90.7,96.1,93.1,91.9,87.2,90.0,91.3,92.6,92.0,91.7,91.0,89.0,94.7,93.5,90.0,89.8,91.2,87.2,93.8,98.2,98.5,96.3,96.9,97.0,97.1,95.0,93.4,96.8,95.1,100.7,98.5,95.9,95.7,99.7,101.4,98.8,98.0,98.2,97.9,96.2,100.1,98.6,97.5,98.3,91.2,93.8,98.4,97.2,100.0,98.2,98.4,89.8,93.2,95.5,96.8,99.3,99.8,101.0,89.1,71.8,72.3,78.1,72.5,74.1,80.4,81.8,76.9,80.7,79.0,76.8,84.9,88.3,82.9,85.5,81.2,70.3,72.8,71.7,67.4,70.6,67.2,62.8,59.4,65.2,58.4,50.0,51.5,58.2,58.6,59.9,56.8,59.7,64.9,67.0,62.0,63.5,51.5,58.2,58.6,59.9,56.8,59.7,64.9,67.0,62.0],\"xaxis\":\"x\",\"y\":[161.28799999999998,163.344,165.812,167.50099999999998,169.351,171.19,172.86,174.442,176.438,178.02700000000002,179.68099999999998,180.91,182.321,183.287,184.365,184.329,184.15599999999998,183.507,183.067,182.593,182.798,183.199,183.61,184.139,184.517,184.59900000000002,184.15,183.01,181.6,180.25400000000002,179.111,178.11599999999999,177.55700000000002,176.623,175.146,174.34099999999998,173.132,171.541,170.054,168.33900000000003,166.66,165.018,163.567,161.988,160.308,158.327,156.141,153.618,151.506,150.014,148.66,147.94899999999998,147.695,148.09,148.41,148.27700000000002,148.024,147.849,148.13299999999998,147.928,147.395,145.631,145.859,146.40200000000002,146.393,145.719,144.989,143.91299999999998,143.017,142.53,142.173,142.059,141.52200000000002,140.35,139.982,140.009,139.904,139.86,139.72899999999998,139.30700000000002,138.668,137.952,137.15200000000002,136.675,136.607,136.532,137.904,139.155,140.155,141.03,141.67,142.28,142.909,143.601,144.585,145.502,146.827,147.783,149.963,151.518,152.849,154.197,155.602,156.965,158.227,159.241,160.07299999999998,160.993,161.928,162.52700000000002,163.088,163.39600000000002,163.66299999999998,164.05599999999998,164.574,165.218,165.907,166.644,167.33700000000002,168.053,168.637,169.132,169.80200000000002,170.301,170.88400000000001,171.457,172.125,172.938,173.83,174.794,175.74200000000002,176.548,177.27700000000002,177.65400000000002,178.168,178.77,179.43200000000002,180.065,180.826,181.854,182.827,183.75400000000002,184.762,185.72299999999998,186.80200000000002,187.31599999999997,187.997,188.733,189.62900000000002,190.50400000000002,191.452,192.683,193.775,194.81400000000002,195.953,197.15900000000002,198.291,199.21400000000003,199.96099999999998,200.668,201.447,202.245,202.929,203.734,204.39,205.13299999999998,205.666,206.114,206.479,206.803,207.043,207.53799999999998,208.19400000000002,208.701,209.31799999999998,210.183,210.972,211.81599999999997,212.762,213.843,214.84599999999998,215.722,216.345,216.87,217.11900000000003,217.739,219.437,222.537,225.933,229.782,233.162,236.345,239.3,242.111,245.364,249.18400000000003,253.68200000000002,258.592,262.907,267.069,270.498,273.748,277.122,281.127,285.493,290.736,296.296,300.829,304.29400000000004,305.163,304.04400000000004,301.712,299.41200000000003,298.793,297.985,296.952,296.064,296.926,298.166,null,304.04400000000004,301.712,299.41200000000003,298.793,297.985,296.952,296.064,296.926,298.166],\"yaxis\":\"y\",\"type\":\"scatter\"}],                        {\"template\":{\"data\":{\"histogram2dcontour\":[{\"type\":\"histogram2dcontour\",\"colorbar\":{\"outlinewidth\":0,\"ticks\":\"\"},\"colorscale\":[[0.0,\"#0d0887\"],[0.1111111111111111,\"#46039f\"],[0.2222222222222222,\"#7201a8\"],[0.3333333333333333,\"#9c179e\"],[0.4444444444444444,\"#bd3786\"],[0.5555555555555556,\"#d8576b\"],[0.6666666666666666,\"#ed7953\"],[0.7777777777777778,\"#fb9f3a\"],[0.8888888888888888,\"#fdca26\"],[1.0,\"#f0f921\"]]}],\"choropleth\":[{\"type\":\"choropleth\",\"colorbar\":{\"outlinewidth\":0,\"ticks\":\"\"}}],\"histogram2d\":[{\"type\":\"histogram2d\",\"colorbar\":{\"outlinewidth\":0,\"ticks\":\"\"},\"colorscale\":[[0.0,\"#0d0887\"],[0.1111111111111111,\"#46039f\"],[0.2222222222222222,\"#7201a8\"],[0.3333333333333333,\"#9c179e\"],[0.4444444444444444,\"#bd3786\"],[0.5555555555555556,\"#d8576b\"],[0.6666666666666666,\"#ed7953\"],[0.7777777777777778,\"#fb9f3a\"],[0.8888888888888888,\"#fdca26\"],[1.0,\"#f0f921\"]]}],\"heatmap\":[{\"type\":\"heatmap\",\"colorbar\":{\"outlinewidth\":0,\"ticks\":\"\"},\"colorscale\":[[0.0,\"#0d0887\"],[0.1111111111111111,\"#46039f\"],[0.2222222222222222,\"#7201a8\"],[0.3333333333333333,\"#9c179e\"],[0.4444444444444444,\"#bd3786\"],[0.5555555555555556,\"#d8576b\"],[0.6666666666666666,\"#ed7953\"],[0.7777777777777778,\"#fb9f3a\"],[0.8888888888888888,\"#fdca26\"],[1.0,\"#f0f921\"]]}],\"heatmapgl\":[{\"type\":\"heatmapgl\",\"colorbar\":{\"outlinewidth\":0,\"ticks\":\"\"},\"colorscale\":[[0.0,\"#0d0887\"],[0.1111111111111111,\"#46039f\"],[0.2222222222222222,\"#7201a8\"],[0.3333333333333333,\"#9c179e\"],[0.4444444444444444,\"#bd3786\"],[0.5555555555555556,\"#d8576b\"],[0.6666666666666666,\"#ed7953\"],[0.7777777777777778,\"#fb9f3a\"],[0.8888888888888888,\"#fdca26\"],[1.0,\"#f0f921\"]]}],\"contourcarpet\":[{\"type\":\"contourcarpet\",\"colorbar\":{\"outlinewidth\":0,\"ticks\":\"\"}}],\"contour\":[{\"type\":\"contour\",\"colorbar\":{\"outlinewidth\":0,\"ticks\":\"\"},\"colorscale\":[[0.0,\"#0d0887\"],[0.1111111111111111,\"#46039f\"],[0.2222222222222222,\"#7201a8\"],[0.3333333333333333,\"#9c179e\"],[0.4444444444444444,\"#bd3786\"],[0.5555555555555556,\"#d8576b\"],[0.6666666666666666,\"#ed7953\"],[0.7777777777777778,\"#fb9f3a\"],[0.8888888888888888,\"#fdca26\"],[1.0,\"#f0f921\"]]}],\"surface\":[{\"type\":\"surface\",\"colorbar\":{\"outlinewidth\":0,\"ticks\":\"\"},\"colorscale\":[[0.0,\"#0d0887\"],[0.1111111111111111,\"#46039f\"],[0.2222222222222222,\"#7201a8\"],[0.3333333333333333,\"#9c179e\"],[0.4444444444444444,\"#bd3786\"],[0.5555555555555556,\"#d8576b\"],[0.6666666666666666,\"#ed7953\"],[0.7777777777777778,\"#fb9f3a\"],[0.8888888888888888,\"#fdca26\"],[1.0,\"#f0f921\"]]}],\"mesh3d\":[{\"type\":\"mesh3d\",\"colorbar\":{\"outlinewidth\":0,\"ticks\":\"\"}}],\"scatter\":[{\"fillpattern\":{\"fillmode\":\"overlay\",\"size\":10,\"solidity\":0.2},\"type\":\"scatter\"}],\"parcoords\":[{\"type\":\"parcoords\",\"line\":{\"colorbar\":{\"outlinewidth\":0,\"ticks\":\"\"}}}],\"scatterpolargl\":[{\"type\":\"scatterpolargl\",\"marker\":{\"colorbar\":{\"outlinewidth\":0,\"ticks\":\"\"}}}],\"bar\":[{\"error_x\":{\"color\":\"#2a3f5f\"},\"error_y\":{\"color\":\"#2a3f5f\"},\"marker\":{\"line\":{\"color\":\"#E5ECF6\",\"width\":0.5},\"pattern\":{\"fillmode\":\"overlay\",\"size\":10,\"solidity\":0.2}},\"type\":\"bar\"}],\"scattergeo\":[{\"type\":\"scattergeo\",\"marker\":{\"colorbar\":{\"outlinewidth\":0,\"ticks\":\"\"}}}],\"scatterpolar\":[{\"type\":\"scatterpolar\",\"marker\":{\"colorbar\":{\"outlinewidth\":0,\"ticks\":\"\"}}}],\"histogram\":[{\"marker\":{\"pattern\":{\"fillmode\":\"overlay\",\"size\":10,\"solidity\":0.2}},\"type\":\"histogram\"}],\"scattergl\":[{\"type\":\"scattergl\",\"marker\":{\"colorbar\":{\"outlinewidth\":0,\"ticks\":\"\"}}}],\"scatter3d\":[{\"type\":\"scatter3d\",\"line\":{\"colorbar\":{\"outlinewidth\":0,\"ticks\":\"\"}},\"marker\":{\"colorbar\":{\"outlinewidth\":0,\"ticks\":\"\"}}}],\"scattermapbox\":[{\"type\":\"scattermapbox\",\"marker\":{\"colorbar\":{\"outlinewidth\":0,\"ticks\":\"\"}}}],\"scatterternary\":[{\"type\":\"scatterternary\",\"marker\":{\"colorbar\":{\"outlinewidth\":0,\"ticks\":\"\"}}}],\"scattercarpet\":[{\"type\":\"scattercarpet\",\"marker\":{\"colorbar\":{\"outlinewidth\":0,\"ticks\":\"\"}}}],\"carpet\":[{\"aaxis\":{\"endlinecolor\":\"#2a3f5f\",\"gridcolor\":\"white\",\"linecolor\":\"white\",\"minorgridcolor\":\"white\",\"startlinecolor\":\"#2a3f5f\"},\"baxis\":{\"endlinecolor\":\"#2a3f5f\",\"gridcolor\":\"white\",\"linecolor\":\"white\",\"minorgridcolor\":\"white\",\"startlinecolor\":\"#2a3f5f\"},\"type\":\"carpet\"}],\"table\":[{\"cells\":{\"fill\":{\"color\":\"#EBF0F8\"},\"line\":{\"color\":\"white\"}},\"header\":{\"fill\":{\"color\":\"#C8D4E3\"},\"line\":{\"color\":\"white\"}},\"type\":\"table\"}],\"barpolar\":[{\"marker\":{\"line\":{\"color\":\"#E5ECF6\",\"width\":0.5},\"pattern\":{\"fillmode\":\"overlay\",\"size\":10,\"solidity\":0.2}},\"type\":\"barpolar\"}],\"pie\":[{\"automargin\":true,\"type\":\"pie\"}]},\"layout\":{\"autotypenumbers\":\"strict\",\"colorway\":[\"#636efa\",\"#EF553B\",\"#00cc96\",\"#ab63fa\",\"#FFA15A\",\"#19d3f3\",\"#FF6692\",\"#B6E880\",\"#FF97FF\",\"#FECB52\"],\"font\":{\"color\":\"#2a3f5f\"},\"hovermode\":\"closest\",\"hoverlabel\":{\"align\":\"left\"},\"paper_bgcolor\":\"white\",\"plot_bgcolor\":\"#E5ECF6\",\"polar\":{\"bgcolor\":\"#E5ECF6\",\"angularaxis\":{\"gridcolor\":\"white\",\"linecolor\":\"white\",\"ticks\":\"\"},\"radialaxis\":{\"gridcolor\":\"white\",\"linecolor\":\"white\",\"ticks\":\"\"}},\"ternary\":{\"bgcolor\":\"#E5ECF6\",\"aaxis\":{\"gridcolor\":\"white\",\"linecolor\":\"white\",\"ticks\":\"\"},\"baxis\":{\"gridcolor\":\"white\",\"linecolor\":\"white\",\"ticks\":\"\"},\"caxis\":{\"gridcolor\":\"white\",\"linecolor\":\"white\",\"ticks\":\"\"}},\"coloraxis\":{\"colorbar\":{\"outlinewidth\":0,\"ticks\":\"\"}},\"colorscale\":{\"sequential\":[[0.0,\"#0d0887\"],[0.1111111111111111,\"#46039f\"],[0.2222222222222222,\"#7201a8\"],[0.3333333333333333,\"#9c179e\"],[0.4444444444444444,\"#bd3786\"],[0.5555555555555556,\"#d8576b\"],[0.6666666666666666,\"#ed7953\"],[0.7777777777777778,\"#fb9f3a\"],[0.8888888888888888,\"#fdca26\"],[1.0,\"#f0f921\"]],\"sequentialminus\":[[0.0,\"#0d0887\"],[0.1111111111111111,\"#46039f\"],[0.2222222222222222,\"#7201a8\"],[0.3333333333333333,\"#9c179e\"],[0.4444444444444444,\"#bd3786\"],[0.5555555555555556,\"#d8576b\"],[0.6666666666666666,\"#ed7953\"],[0.7777777777777778,\"#fb9f3a\"],[0.8888888888888888,\"#fdca26\"],[1.0,\"#f0f921\"]],\"diverging\":[[0,\"#8e0152\"],[0.1,\"#c51b7d\"],[0.2,\"#de77ae\"],[0.3,\"#f1b6da\"],[0.4,\"#fde0ef\"],[0.5,\"#f7f7f7\"],[0.6,\"#e6f5d0\"],[0.7,\"#b8e186\"],[0.8,\"#7fbc41\"],[0.9,\"#4d9221\"],[1,\"#276419\"]]},\"xaxis\":{\"gridcolor\":\"white\",\"linecolor\":\"white\",\"ticks\":\"\",\"title\":{\"standoff\":15},\"zerolinecolor\":\"white\",\"automargin\":true,\"zerolinewidth\":2},\"yaxis\":{\"gridcolor\":\"white\",\"linecolor\":\"white\",\"ticks\":\"\",\"title\":{\"standoff\":15},\"zerolinecolor\":\"white\",\"automargin\":true,\"zerolinewidth\":2},\"scene\":{\"xaxis\":{\"backgroundcolor\":\"#E5ECF6\",\"gridcolor\":\"white\",\"linecolor\":\"white\",\"showbackground\":true,\"ticks\":\"\",\"zerolinecolor\":\"white\",\"gridwidth\":2},\"yaxis\":{\"backgroundcolor\":\"#E5ECF6\",\"gridcolor\":\"white\",\"linecolor\":\"white\",\"showbackground\":true,\"ticks\":\"\",\"zerolinecolor\":\"white\",\"gridwidth\":2},\"zaxis\":{\"backgroundcolor\":\"#E5ECF6\",\"gridcolor\":\"white\",\"linecolor\":\"white\",\"showbackground\":true,\"ticks\":\"\",\"zerolinecolor\":\"white\",\"gridwidth\":2}},\"shapedefaults\":{\"line\":{\"color\":\"#2a3f5f\"}},\"annotationdefaults\":{\"arrowcolor\":\"#2a3f5f\",\"arrowhead\":0,\"arrowwidth\":1},\"geo\":{\"bgcolor\":\"white\",\"landcolor\":\"#E5ECF6\",\"subunitcolor\":\"white\",\"showland\":true,\"showlakes\":true,\"lakecolor\":\"white\"},\"title\":{\"x\":0.05},\"mapbox\":{\"style\":\"light\"}}},\"xaxis\":{\"anchor\":\"y\",\"domain\":[0.0,1.0],\"title\":{\"text\":\"Consumer_sentiment\"}},\"yaxis\":{\"anchor\":\"x\",\"domain\":[0.0,1.0],\"title\":{\"text\":\"Housing_price\"}},\"legend\":{\"tracegroupgap\":0},\"title\":{\"text\":\"<b>Consumer_sentiment vs. Housing Price</b>\"}},                        {\"responsive\": true}                    ).then(function(){\n",
       "                            \n",
       "var gd = document.getElementById('1a9f72c4-5afa-4d42-9eb4-39db67778dbf');\n",
       "var x = new MutationObserver(function (mutations, observer) {{\n",
       "        var display = window.getComputedStyle(gd).display;\n",
       "        if (!display || display === 'none') {{\n",
       "            console.log([gd, 'removed!']);\n",
       "            Plotly.purge(gd);\n",
       "            observer.disconnect();\n",
       "        }}\n",
       "}});\n",
       "\n",
       "// Listen for the removal of the full notebook cells\n",
       "var notebookContainer = gd.closest('#notebook-container');\n",
       "if (notebookContainer) {{\n",
       "    x.observe(notebookContainer, {childList: true});\n",
       "}}\n",
       "\n",
       "// Listen for the clearing of the current output cell\n",
       "var outputEl = gd.closest('.output');\n",
       "if (outputEl) {{\n",
       "    x.observe(outputEl, {childList: true});\n",
       "}}\n",
       "\n",
       "                        })                };                });            </script>        </div>"
      ]
     },
     "metadata": {},
     "output_type": "display_data"
    },
    {
     "data": {
      "application/vnd.plotly.v1+json": {
       "config": {
        "plotlyServerURL": "https://plot.ly"
       },
       "data": [
        {
         "hovertemplate": "Intrest_rates=%{x}<br>Housing_price=%{y}<extra></extra>",
         "legendgroup": "",
         "marker": {
          "color": "#636efa",
          "symbol": "circle"
         },
         "mode": "markers",
         "name": "",
         "orientation": "v",
         "showlegend": false,
         "type": "scatter",
         "x": [
          2.28,
          2.5,
          2.63,
          2.79,
          3,
          3.04,
          3.26,
          3.5,
          3.62,
          3.78,
          4,
          4.16,
          4.29,
          4.49,
          4.59,
          4.79,
          4.94,
          4.99,
          5.24,
          5.25,
          5.25,
          5.25,
          5.25,
          5.24,
          5.25,
          5.26,
          5.26,
          5.25,
          5.25,
          5.25,
          5.26,
          5.02,
          4.94,
          4.76,
          4.49,
          4.24,
          3.94,
          2.98,
          2.61,
          2.28,
          1.98,
          2,
          2.01,
          2,
          1.81,
          0.97,
          0.39,
          0.16,
          0.15,
          0.22,
          0.18,
          0.15,
          0.18,
          0.21,
          0.16,
          0.16,
          0.15,
          0.12,
          0.12,
          0.12,
          0.11,
          0.13,
          0.16,
          0.2,
          0.2,
          0.18,
          0.18,
          0.19,
          0.19,
          0.19,
          0.19,
          0.18,
          0.17,
          0.16,
          0.14,
          0.1,
          0.09,
          0.09,
          0.07,
          0.1,
          0.08,
          0.07,
          0.08,
          0.07,
          0.08,
          0.1,
          0.13,
          0.14,
          0.16,
          0.16,
          0.16,
          0.13,
          0.14,
          0.16,
          0.16,
          0.16,
          0.14,
          0.15,
          0.14,
          0.15,
          0.11,
          0.09,
          0.09,
          0.08,
          0.08,
          0.09,
          0.08,
          0.09,
          0.07,
          0.07,
          0.08,
          0.09,
          0.09,
          0.1,
          0.09,
          0.09,
          0.09,
          0.09,
          0.09,
          0.12,
          0.11,
          0.11,
          0.11,
          0.12,
          0.12,
          0.13,
          0.13,
          0.14,
          0.14,
          0.12,
          0.12,
          0.24,
          0.34,
          0.38,
          0.36,
          0.37,
          0.37,
          0.38,
          0.39,
          0.4,
          0.4,
          0.4,
          0.41,
          0.54,
          0.65,
          0.66,
          0.79,
          0.9,
          0.91,
          1.04,
          1.15,
          1.16,
          1.15,
          1.15,
          1.16,
          1.3,
          1.41,
          1.42,
          1.51,
          1.69,
          1.7,
          1.82,
          1.91,
          1.91,
          1.95,
          2.19,
          2.2,
          2.27,
          2.4,
          2.4,
          2.41,
          2.42,
          2.39,
          2.38,
          2.4,
          2.13,
          2.04,
          1.83,
          1.55,
          1.55,
          1.55,
          1.58,
          0.65,
          0.05,
          0.05,
          0.08,
          0.09,
          0.1,
          0.09,
          0.09,
          0.09,
          0.09,
          0.09,
          0.08,
          0.07,
          0.07,
          0.06,
          0.08,
          0.1,
          0.09,
          0.08,
          0.08,
          0.08,
          0.08,
          0.08,
          0.08,
          0.2,
          0.33,
          0.77,
          1.21,
          1.68,
          2.33,
          2.56,
          3.08,
          3.78,
          4.1,
          4.33,
          4.57,
          4.65,
          4.83,
          1.68,
          2.33,
          2.56,
          3.08,
          3.78,
          4.1,
          4.33,
          4.57,
          4.65
         ],
         "xaxis": "x",
         "y": [
          161.28799999999998,
          163.344,
          165.812,
          167.50099999999998,
          169.351,
          171.19,
          172.86,
          174.442,
          176.438,
          178.02700000000002,
          179.68099999999998,
          180.91,
          182.321,
          183.287,
          184.365,
          184.329,
          184.15599999999998,
          183.507,
          183.067,
          182.593,
          182.798,
          183.199,
          183.61,
          184.139,
          184.517,
          184.59900000000002,
          184.15,
          183.01,
          181.6,
          180.25400000000002,
          179.111,
          178.11599999999999,
          177.55700000000002,
          176.623,
          175.146,
          174.34099999999998,
          173.132,
          171.541,
          170.054,
          168.33900000000003,
          166.66,
          165.018,
          163.567,
          161.988,
          160.308,
          158.327,
          156.141,
          153.618,
          151.506,
          150.014,
          148.66,
          147.94899999999998,
          147.695,
          148.09,
          148.41,
          148.27700000000002,
          148.024,
          147.849,
          148.13299999999998,
          147.928,
          147.395,
          145.631,
          145.859,
          146.40200000000002,
          146.393,
          145.719,
          144.989,
          143.91299999999998,
          143.017,
          142.53,
          142.173,
          142.059,
          141.52200000000002,
          140.35,
          139.982,
          140.009,
          139.904,
          139.86,
          139.72899999999998,
          139.30700000000002,
          138.668,
          137.952,
          137.15200000000002,
          136.675,
          136.607,
          136.532,
          137.904,
          139.155,
          140.155,
          141.03,
          141.67,
          142.28,
          142.909,
          143.601,
          144.585,
          145.502,
          146.827,
          147.783,
          149.963,
          151.518,
          152.849,
          154.197,
          155.602,
          156.965,
          158.227,
          159.241,
          160.07299999999998,
          160.993,
          161.928,
          162.52700000000002,
          163.088,
          163.39600000000002,
          163.66299999999998,
          164.05599999999998,
          164.574,
          165.218,
          165.907,
          166.644,
          167.33700000000002,
          168.053,
          168.637,
          169.132,
          169.80200000000002,
          170.301,
          170.88400000000001,
          171.457,
          172.125,
          172.938,
          173.83,
          174.794,
          175.74200000000002,
          176.548,
          177.27700000000002,
          177.65400000000002,
          178.168,
          178.77,
          179.43200000000002,
          180.065,
          180.826,
          181.854,
          182.827,
          183.75400000000002,
          184.762,
          185.72299999999998,
          186.80200000000002,
          187.31599999999997,
          187.997,
          188.733,
          189.62900000000002,
          190.50400000000002,
          191.452,
          192.683,
          193.775,
          194.81400000000002,
          195.953,
          197.15900000000002,
          198.291,
          199.21400000000003,
          199.96099999999998,
          200.668,
          201.447,
          202.245,
          202.929,
          203.734,
          204.39,
          205.13299999999998,
          205.666,
          206.114,
          206.479,
          206.803,
          207.043,
          207.53799999999998,
          208.19400000000002,
          208.701,
          209.31799999999998,
          210.183,
          210.972,
          211.81599999999997,
          212.762,
          213.843,
          214.84599999999998,
          215.722,
          216.345,
          216.87,
          217.11900000000003,
          217.739,
          219.437,
          222.537,
          225.933,
          229.782,
          233.162,
          236.345,
          239.3,
          242.111,
          245.364,
          249.18400000000003,
          253.68200000000002,
          258.592,
          262.907,
          267.069,
          270.498,
          273.748,
          277.122,
          281.127,
          285.493,
          290.736,
          296.296,
          300.829,
          304.29400000000004,
          305.163,
          304.04400000000004,
          301.712,
          299.41200000000003,
          298.793,
          297.985,
          296.952,
          296.064,
          296.926,
          298.166,
          null,
          304.04400000000004,
          301.712,
          299.41200000000003,
          298.793,
          297.985,
          296.952,
          296.064,
          296.926,
          298.166
         ],
         "yaxis": "y"
        }
       ],
       "layout": {
        "legend": {
         "tracegroupgap": 0
        },
        "template": {
         "data": {
          "bar": [
           {
            "error_x": {
             "color": "#2a3f5f"
            },
            "error_y": {
             "color": "#2a3f5f"
            },
            "marker": {
             "line": {
              "color": "#E5ECF6",
              "width": 0.5
             },
             "pattern": {
              "fillmode": "overlay",
              "size": 10,
              "solidity": 0.2
             }
            },
            "type": "bar"
           }
          ],
          "barpolar": [
           {
            "marker": {
             "line": {
              "color": "#E5ECF6",
              "width": 0.5
             },
             "pattern": {
              "fillmode": "overlay",
              "size": 10,
              "solidity": 0.2
             }
            },
            "type": "barpolar"
           }
          ],
          "carpet": [
           {
            "aaxis": {
             "endlinecolor": "#2a3f5f",
             "gridcolor": "white",
             "linecolor": "white",
             "minorgridcolor": "white",
             "startlinecolor": "#2a3f5f"
            },
            "baxis": {
             "endlinecolor": "#2a3f5f",
             "gridcolor": "white",
             "linecolor": "white",
             "minorgridcolor": "white",
             "startlinecolor": "#2a3f5f"
            },
            "type": "carpet"
           }
          ],
          "choropleth": [
           {
            "colorbar": {
             "outlinewidth": 0,
             "ticks": ""
            },
            "type": "choropleth"
           }
          ],
          "contour": [
           {
            "colorbar": {
             "outlinewidth": 0,
             "ticks": ""
            },
            "colorscale": [
             [
              0,
              "#0d0887"
             ],
             [
              0.1111111111111111,
              "#46039f"
             ],
             [
              0.2222222222222222,
              "#7201a8"
             ],
             [
              0.3333333333333333,
              "#9c179e"
             ],
             [
              0.4444444444444444,
              "#bd3786"
             ],
             [
              0.5555555555555556,
              "#d8576b"
             ],
             [
              0.6666666666666666,
              "#ed7953"
             ],
             [
              0.7777777777777778,
              "#fb9f3a"
             ],
             [
              0.8888888888888888,
              "#fdca26"
             ],
             [
              1,
              "#f0f921"
             ]
            ],
            "type": "contour"
           }
          ],
          "contourcarpet": [
           {
            "colorbar": {
             "outlinewidth": 0,
             "ticks": ""
            },
            "type": "contourcarpet"
           }
          ],
          "heatmap": [
           {
            "colorbar": {
             "outlinewidth": 0,
             "ticks": ""
            },
            "colorscale": [
             [
              0,
              "#0d0887"
             ],
             [
              0.1111111111111111,
              "#46039f"
             ],
             [
              0.2222222222222222,
              "#7201a8"
             ],
             [
              0.3333333333333333,
              "#9c179e"
             ],
             [
              0.4444444444444444,
              "#bd3786"
             ],
             [
              0.5555555555555556,
              "#d8576b"
             ],
             [
              0.6666666666666666,
              "#ed7953"
             ],
             [
              0.7777777777777778,
              "#fb9f3a"
             ],
             [
              0.8888888888888888,
              "#fdca26"
             ],
             [
              1,
              "#f0f921"
             ]
            ],
            "type": "heatmap"
           }
          ],
          "heatmapgl": [
           {
            "colorbar": {
             "outlinewidth": 0,
             "ticks": ""
            },
            "colorscale": [
             [
              0,
              "#0d0887"
             ],
             [
              0.1111111111111111,
              "#46039f"
             ],
             [
              0.2222222222222222,
              "#7201a8"
             ],
             [
              0.3333333333333333,
              "#9c179e"
             ],
             [
              0.4444444444444444,
              "#bd3786"
             ],
             [
              0.5555555555555556,
              "#d8576b"
             ],
             [
              0.6666666666666666,
              "#ed7953"
             ],
             [
              0.7777777777777778,
              "#fb9f3a"
             ],
             [
              0.8888888888888888,
              "#fdca26"
             ],
             [
              1,
              "#f0f921"
             ]
            ],
            "type": "heatmapgl"
           }
          ],
          "histogram": [
           {
            "marker": {
             "pattern": {
              "fillmode": "overlay",
              "size": 10,
              "solidity": 0.2
             }
            },
            "type": "histogram"
           }
          ],
          "histogram2d": [
           {
            "colorbar": {
             "outlinewidth": 0,
             "ticks": ""
            },
            "colorscale": [
             [
              0,
              "#0d0887"
             ],
             [
              0.1111111111111111,
              "#46039f"
             ],
             [
              0.2222222222222222,
              "#7201a8"
             ],
             [
              0.3333333333333333,
              "#9c179e"
             ],
             [
              0.4444444444444444,
              "#bd3786"
             ],
             [
              0.5555555555555556,
              "#d8576b"
             ],
             [
              0.6666666666666666,
              "#ed7953"
             ],
             [
              0.7777777777777778,
              "#fb9f3a"
             ],
             [
              0.8888888888888888,
              "#fdca26"
             ],
             [
              1,
              "#f0f921"
             ]
            ],
            "type": "histogram2d"
           }
          ],
          "histogram2dcontour": [
           {
            "colorbar": {
             "outlinewidth": 0,
             "ticks": ""
            },
            "colorscale": [
             [
              0,
              "#0d0887"
             ],
             [
              0.1111111111111111,
              "#46039f"
             ],
             [
              0.2222222222222222,
              "#7201a8"
             ],
             [
              0.3333333333333333,
              "#9c179e"
             ],
             [
              0.4444444444444444,
              "#bd3786"
             ],
             [
              0.5555555555555556,
              "#d8576b"
             ],
             [
              0.6666666666666666,
              "#ed7953"
             ],
             [
              0.7777777777777778,
              "#fb9f3a"
             ],
             [
              0.8888888888888888,
              "#fdca26"
             ],
             [
              1,
              "#f0f921"
             ]
            ],
            "type": "histogram2dcontour"
           }
          ],
          "mesh3d": [
           {
            "colorbar": {
             "outlinewidth": 0,
             "ticks": ""
            },
            "type": "mesh3d"
           }
          ],
          "parcoords": [
           {
            "line": {
             "colorbar": {
              "outlinewidth": 0,
              "ticks": ""
             }
            },
            "type": "parcoords"
           }
          ],
          "pie": [
           {
            "automargin": true,
            "type": "pie"
           }
          ],
          "scatter": [
           {
            "fillpattern": {
             "fillmode": "overlay",
             "size": 10,
             "solidity": 0.2
            },
            "type": "scatter"
           }
          ],
          "scatter3d": [
           {
            "line": {
             "colorbar": {
              "outlinewidth": 0,
              "ticks": ""
             }
            },
            "marker": {
             "colorbar": {
              "outlinewidth": 0,
              "ticks": ""
             }
            },
            "type": "scatter3d"
           }
          ],
          "scattercarpet": [
           {
            "marker": {
             "colorbar": {
              "outlinewidth": 0,
              "ticks": ""
             }
            },
            "type": "scattercarpet"
           }
          ],
          "scattergeo": [
           {
            "marker": {
             "colorbar": {
              "outlinewidth": 0,
              "ticks": ""
             }
            },
            "type": "scattergeo"
           }
          ],
          "scattergl": [
           {
            "marker": {
             "colorbar": {
              "outlinewidth": 0,
              "ticks": ""
             }
            },
            "type": "scattergl"
           }
          ],
          "scattermapbox": [
           {
            "marker": {
             "colorbar": {
              "outlinewidth": 0,
              "ticks": ""
             }
            },
            "type": "scattermapbox"
           }
          ],
          "scatterpolar": [
           {
            "marker": {
             "colorbar": {
              "outlinewidth": 0,
              "ticks": ""
             }
            },
            "type": "scatterpolar"
           }
          ],
          "scatterpolargl": [
           {
            "marker": {
             "colorbar": {
              "outlinewidth": 0,
              "ticks": ""
             }
            },
            "type": "scatterpolargl"
           }
          ],
          "scatterternary": [
           {
            "marker": {
             "colorbar": {
              "outlinewidth": 0,
              "ticks": ""
             }
            },
            "type": "scatterternary"
           }
          ],
          "surface": [
           {
            "colorbar": {
             "outlinewidth": 0,
             "ticks": ""
            },
            "colorscale": [
             [
              0,
              "#0d0887"
             ],
             [
              0.1111111111111111,
              "#46039f"
             ],
             [
              0.2222222222222222,
              "#7201a8"
             ],
             [
              0.3333333333333333,
              "#9c179e"
             ],
             [
              0.4444444444444444,
              "#bd3786"
             ],
             [
              0.5555555555555556,
              "#d8576b"
             ],
             [
              0.6666666666666666,
              "#ed7953"
             ],
             [
              0.7777777777777778,
              "#fb9f3a"
             ],
             [
              0.8888888888888888,
              "#fdca26"
             ],
             [
              1,
              "#f0f921"
             ]
            ],
            "type": "surface"
           }
          ],
          "table": [
           {
            "cells": {
             "fill": {
              "color": "#EBF0F8"
             },
             "line": {
              "color": "white"
             }
            },
            "header": {
             "fill": {
              "color": "#C8D4E3"
             },
             "line": {
              "color": "white"
             }
            },
            "type": "table"
           }
          ]
         },
         "layout": {
          "annotationdefaults": {
           "arrowcolor": "#2a3f5f",
           "arrowhead": 0,
           "arrowwidth": 1
          },
          "autotypenumbers": "strict",
          "coloraxis": {
           "colorbar": {
            "outlinewidth": 0,
            "ticks": ""
           }
          },
          "colorscale": {
           "diverging": [
            [
             0,
             "#8e0152"
            ],
            [
             0.1,
             "#c51b7d"
            ],
            [
             0.2,
             "#de77ae"
            ],
            [
             0.3,
             "#f1b6da"
            ],
            [
             0.4,
             "#fde0ef"
            ],
            [
             0.5,
             "#f7f7f7"
            ],
            [
             0.6,
             "#e6f5d0"
            ],
            [
             0.7,
             "#b8e186"
            ],
            [
             0.8,
             "#7fbc41"
            ],
            [
             0.9,
             "#4d9221"
            ],
            [
             1,
             "#276419"
            ]
           ],
           "sequential": [
            [
             0,
             "#0d0887"
            ],
            [
             0.1111111111111111,
             "#46039f"
            ],
            [
             0.2222222222222222,
             "#7201a8"
            ],
            [
             0.3333333333333333,
             "#9c179e"
            ],
            [
             0.4444444444444444,
             "#bd3786"
            ],
            [
             0.5555555555555556,
             "#d8576b"
            ],
            [
             0.6666666666666666,
             "#ed7953"
            ],
            [
             0.7777777777777778,
             "#fb9f3a"
            ],
            [
             0.8888888888888888,
             "#fdca26"
            ],
            [
             1,
             "#f0f921"
            ]
           ],
           "sequentialminus": [
            [
             0,
             "#0d0887"
            ],
            [
             0.1111111111111111,
             "#46039f"
            ],
            [
             0.2222222222222222,
             "#7201a8"
            ],
            [
             0.3333333333333333,
             "#9c179e"
            ],
            [
             0.4444444444444444,
             "#bd3786"
            ],
            [
             0.5555555555555556,
             "#d8576b"
            ],
            [
             0.6666666666666666,
             "#ed7953"
            ],
            [
             0.7777777777777778,
             "#fb9f3a"
            ],
            [
             0.8888888888888888,
             "#fdca26"
            ],
            [
             1,
             "#f0f921"
            ]
           ]
          },
          "colorway": [
           "#636efa",
           "#EF553B",
           "#00cc96",
           "#ab63fa",
           "#FFA15A",
           "#19d3f3",
           "#FF6692",
           "#B6E880",
           "#FF97FF",
           "#FECB52"
          ],
          "font": {
           "color": "#2a3f5f"
          },
          "geo": {
           "bgcolor": "white",
           "lakecolor": "white",
           "landcolor": "#E5ECF6",
           "showlakes": true,
           "showland": true,
           "subunitcolor": "white"
          },
          "hoverlabel": {
           "align": "left"
          },
          "hovermode": "closest",
          "mapbox": {
           "style": "light"
          },
          "paper_bgcolor": "white",
          "plot_bgcolor": "#E5ECF6",
          "polar": {
           "angularaxis": {
            "gridcolor": "white",
            "linecolor": "white",
            "ticks": ""
           },
           "bgcolor": "#E5ECF6",
           "radialaxis": {
            "gridcolor": "white",
            "linecolor": "white",
            "ticks": ""
           }
          },
          "scene": {
           "xaxis": {
            "backgroundcolor": "#E5ECF6",
            "gridcolor": "white",
            "gridwidth": 2,
            "linecolor": "white",
            "showbackground": true,
            "ticks": "",
            "zerolinecolor": "white"
           },
           "yaxis": {
            "backgroundcolor": "#E5ECF6",
            "gridcolor": "white",
            "gridwidth": 2,
            "linecolor": "white",
            "showbackground": true,
            "ticks": "",
            "zerolinecolor": "white"
           },
           "zaxis": {
            "backgroundcolor": "#E5ECF6",
            "gridcolor": "white",
            "gridwidth": 2,
            "linecolor": "white",
            "showbackground": true,
            "ticks": "",
            "zerolinecolor": "white"
           }
          },
          "shapedefaults": {
           "line": {
            "color": "#2a3f5f"
           }
          },
          "ternary": {
           "aaxis": {
            "gridcolor": "white",
            "linecolor": "white",
            "ticks": ""
           },
           "baxis": {
            "gridcolor": "white",
            "linecolor": "white",
            "ticks": ""
           },
           "bgcolor": "#E5ECF6",
           "caxis": {
            "gridcolor": "white",
            "linecolor": "white",
            "ticks": ""
           }
          },
          "title": {
           "x": 0.05
          },
          "xaxis": {
           "automargin": true,
           "gridcolor": "white",
           "linecolor": "white",
           "ticks": "",
           "title": {
            "standoff": 15
           },
           "zerolinecolor": "white",
           "zerolinewidth": 2
          },
          "yaxis": {
           "automargin": true,
           "gridcolor": "white",
           "linecolor": "white",
           "ticks": "",
           "title": {
            "standoff": 15
           },
           "zerolinecolor": "white",
           "zerolinewidth": 2
          }
         }
        },
        "title": {
         "text": "<b>Intrest_rates vs. Housing Price</b>"
        },
        "xaxis": {
         "anchor": "y",
         "domain": [
          0,
          1
         ],
         "title": {
          "text": "Intrest_rates"
         }
        },
        "yaxis": {
         "anchor": "x",
         "domain": [
          0,
          1
         ],
         "title": {
          "text": "Housing_price"
         }
        }
       }
      },
      "text/html": [
       "<div>                            <div id=\"5aaebeeb-75c6-444d-9af2-14b324f73190\" class=\"plotly-graph-div\" style=\"height:525px; width:100%;\"></div>            <script type=\"text/javascript\">                require([\"plotly\"], function(Plotly) {                    window.PLOTLYENV=window.PLOTLYENV || {};                                    if (document.getElementById(\"5aaebeeb-75c6-444d-9af2-14b324f73190\")) {                    Plotly.newPlot(                        \"5aaebeeb-75c6-444d-9af2-14b324f73190\",                        [{\"hovertemplate\":\"Intrest_rates=%{x}<br>Housing_price=%{y}<extra></extra>\",\"legendgroup\":\"\",\"marker\":{\"color\":\"#636efa\",\"symbol\":\"circle\"},\"mode\":\"markers\",\"name\":\"\",\"orientation\":\"v\",\"showlegend\":false,\"x\":[2.28,2.5,2.63,2.79,3.0,3.04,3.26,3.5,3.62,3.78,4.0,4.16,4.29,4.49,4.59,4.79,4.94,4.99,5.24,5.25,5.25,5.25,5.25,5.24,5.25,5.26,5.26,5.25,5.25,5.25,5.26,5.02,4.94,4.76,4.49,4.24,3.94,2.98,2.61,2.28,1.98,2.0,2.01,2.0,1.81,0.97,0.39,0.16,0.15,0.22,0.18,0.15,0.18,0.21,0.16,0.16,0.15,0.12,0.12,0.12,0.11,0.13,0.16,0.2,0.2,0.18,0.18,0.19,0.19,0.19,0.19,0.18,0.17,0.16,0.14,0.1,0.09,0.09,0.07,0.1,0.08,0.07,0.08,0.07,0.08,0.1,0.13,0.14,0.16,0.16,0.16,0.13,0.14,0.16,0.16,0.16,0.14,0.15,0.14,0.15,0.11,0.09,0.09,0.08,0.08,0.09,0.08,0.09,0.07,0.07,0.08,0.09,0.09,0.1,0.09,0.09,0.09,0.09,0.09,0.12,0.11,0.11,0.11,0.12,0.12,0.13,0.13,0.14,0.14,0.12,0.12,0.24,0.34,0.38,0.36,0.37,0.37,0.38,0.39,0.4,0.4,0.4,0.41,0.54,0.65,0.66,0.79,0.9,0.91,1.04,1.15,1.16,1.15,1.15,1.16,1.3,1.41,1.42,1.51,1.69,1.7,1.82,1.91,1.91,1.95,2.19,2.2,2.27,2.4,2.4,2.41,2.42,2.39,2.38,2.4,2.13,2.04,1.83,1.55,1.55,1.55,1.58,0.65,0.05,0.05,0.08,0.09,0.1,0.09,0.09,0.09,0.09,0.09,0.08,0.07,0.07,0.06,0.08,0.1,0.09,0.08,0.08,0.08,0.08,0.08,0.08,0.2,0.33,0.77,1.21,1.68,2.33,2.56,3.08,3.78,4.1,4.33,4.57,4.65,4.83,1.68,2.33,2.56,3.08,3.78,4.1,4.33,4.57,4.65],\"xaxis\":\"x\",\"y\":[161.28799999999998,163.344,165.812,167.50099999999998,169.351,171.19,172.86,174.442,176.438,178.02700000000002,179.68099999999998,180.91,182.321,183.287,184.365,184.329,184.15599999999998,183.507,183.067,182.593,182.798,183.199,183.61,184.139,184.517,184.59900000000002,184.15,183.01,181.6,180.25400000000002,179.111,178.11599999999999,177.55700000000002,176.623,175.146,174.34099999999998,173.132,171.541,170.054,168.33900000000003,166.66,165.018,163.567,161.988,160.308,158.327,156.141,153.618,151.506,150.014,148.66,147.94899999999998,147.695,148.09,148.41,148.27700000000002,148.024,147.849,148.13299999999998,147.928,147.395,145.631,145.859,146.40200000000002,146.393,145.719,144.989,143.91299999999998,143.017,142.53,142.173,142.059,141.52200000000002,140.35,139.982,140.009,139.904,139.86,139.72899999999998,139.30700000000002,138.668,137.952,137.15200000000002,136.675,136.607,136.532,137.904,139.155,140.155,141.03,141.67,142.28,142.909,143.601,144.585,145.502,146.827,147.783,149.963,151.518,152.849,154.197,155.602,156.965,158.227,159.241,160.07299999999998,160.993,161.928,162.52700000000002,163.088,163.39600000000002,163.66299999999998,164.05599999999998,164.574,165.218,165.907,166.644,167.33700000000002,168.053,168.637,169.132,169.80200000000002,170.301,170.88400000000001,171.457,172.125,172.938,173.83,174.794,175.74200000000002,176.548,177.27700000000002,177.65400000000002,178.168,178.77,179.43200000000002,180.065,180.826,181.854,182.827,183.75400000000002,184.762,185.72299999999998,186.80200000000002,187.31599999999997,187.997,188.733,189.62900000000002,190.50400000000002,191.452,192.683,193.775,194.81400000000002,195.953,197.15900000000002,198.291,199.21400000000003,199.96099999999998,200.668,201.447,202.245,202.929,203.734,204.39,205.13299999999998,205.666,206.114,206.479,206.803,207.043,207.53799999999998,208.19400000000002,208.701,209.31799999999998,210.183,210.972,211.81599999999997,212.762,213.843,214.84599999999998,215.722,216.345,216.87,217.11900000000003,217.739,219.437,222.537,225.933,229.782,233.162,236.345,239.3,242.111,245.364,249.18400000000003,253.68200000000002,258.592,262.907,267.069,270.498,273.748,277.122,281.127,285.493,290.736,296.296,300.829,304.29400000000004,305.163,304.04400000000004,301.712,299.41200000000003,298.793,297.985,296.952,296.064,296.926,298.166,null,304.04400000000004,301.712,299.41200000000003,298.793,297.985,296.952,296.064,296.926,298.166],\"yaxis\":\"y\",\"type\":\"scatter\"}],                        {\"template\":{\"data\":{\"histogram2dcontour\":[{\"type\":\"histogram2dcontour\",\"colorbar\":{\"outlinewidth\":0,\"ticks\":\"\"},\"colorscale\":[[0.0,\"#0d0887\"],[0.1111111111111111,\"#46039f\"],[0.2222222222222222,\"#7201a8\"],[0.3333333333333333,\"#9c179e\"],[0.4444444444444444,\"#bd3786\"],[0.5555555555555556,\"#d8576b\"],[0.6666666666666666,\"#ed7953\"],[0.7777777777777778,\"#fb9f3a\"],[0.8888888888888888,\"#fdca26\"],[1.0,\"#f0f921\"]]}],\"choropleth\":[{\"type\":\"choropleth\",\"colorbar\":{\"outlinewidth\":0,\"ticks\":\"\"}}],\"histogram2d\":[{\"type\":\"histogram2d\",\"colorbar\":{\"outlinewidth\":0,\"ticks\":\"\"},\"colorscale\":[[0.0,\"#0d0887\"],[0.1111111111111111,\"#46039f\"],[0.2222222222222222,\"#7201a8\"],[0.3333333333333333,\"#9c179e\"],[0.4444444444444444,\"#bd3786\"],[0.5555555555555556,\"#d8576b\"],[0.6666666666666666,\"#ed7953\"],[0.7777777777777778,\"#fb9f3a\"],[0.8888888888888888,\"#fdca26\"],[1.0,\"#f0f921\"]]}],\"heatmap\":[{\"type\":\"heatmap\",\"colorbar\":{\"outlinewidth\":0,\"ticks\":\"\"},\"colorscale\":[[0.0,\"#0d0887\"],[0.1111111111111111,\"#46039f\"],[0.2222222222222222,\"#7201a8\"],[0.3333333333333333,\"#9c179e\"],[0.4444444444444444,\"#bd3786\"],[0.5555555555555556,\"#d8576b\"],[0.6666666666666666,\"#ed7953\"],[0.7777777777777778,\"#fb9f3a\"],[0.8888888888888888,\"#fdca26\"],[1.0,\"#f0f921\"]]}],\"heatmapgl\":[{\"type\":\"heatmapgl\",\"colorbar\":{\"outlinewidth\":0,\"ticks\":\"\"},\"colorscale\":[[0.0,\"#0d0887\"],[0.1111111111111111,\"#46039f\"],[0.2222222222222222,\"#7201a8\"],[0.3333333333333333,\"#9c179e\"],[0.4444444444444444,\"#bd3786\"],[0.5555555555555556,\"#d8576b\"],[0.6666666666666666,\"#ed7953\"],[0.7777777777777778,\"#fb9f3a\"],[0.8888888888888888,\"#fdca26\"],[1.0,\"#f0f921\"]]}],\"contourcarpet\":[{\"type\":\"contourcarpet\",\"colorbar\":{\"outlinewidth\":0,\"ticks\":\"\"}}],\"contour\":[{\"type\":\"contour\",\"colorbar\":{\"outlinewidth\":0,\"ticks\":\"\"},\"colorscale\":[[0.0,\"#0d0887\"],[0.1111111111111111,\"#46039f\"],[0.2222222222222222,\"#7201a8\"],[0.3333333333333333,\"#9c179e\"],[0.4444444444444444,\"#bd3786\"],[0.5555555555555556,\"#d8576b\"],[0.6666666666666666,\"#ed7953\"],[0.7777777777777778,\"#fb9f3a\"],[0.8888888888888888,\"#fdca26\"],[1.0,\"#f0f921\"]]}],\"surface\":[{\"type\":\"surface\",\"colorbar\":{\"outlinewidth\":0,\"ticks\":\"\"},\"colorscale\":[[0.0,\"#0d0887\"],[0.1111111111111111,\"#46039f\"],[0.2222222222222222,\"#7201a8\"],[0.3333333333333333,\"#9c179e\"],[0.4444444444444444,\"#bd3786\"],[0.5555555555555556,\"#d8576b\"],[0.6666666666666666,\"#ed7953\"],[0.7777777777777778,\"#fb9f3a\"],[0.8888888888888888,\"#fdca26\"],[1.0,\"#f0f921\"]]}],\"mesh3d\":[{\"type\":\"mesh3d\",\"colorbar\":{\"outlinewidth\":0,\"ticks\":\"\"}}],\"scatter\":[{\"fillpattern\":{\"fillmode\":\"overlay\",\"size\":10,\"solidity\":0.2},\"type\":\"scatter\"}],\"parcoords\":[{\"type\":\"parcoords\",\"line\":{\"colorbar\":{\"outlinewidth\":0,\"ticks\":\"\"}}}],\"scatterpolargl\":[{\"type\":\"scatterpolargl\",\"marker\":{\"colorbar\":{\"outlinewidth\":0,\"ticks\":\"\"}}}],\"bar\":[{\"error_x\":{\"color\":\"#2a3f5f\"},\"error_y\":{\"color\":\"#2a3f5f\"},\"marker\":{\"line\":{\"color\":\"#E5ECF6\",\"width\":0.5},\"pattern\":{\"fillmode\":\"overlay\",\"size\":10,\"solidity\":0.2}},\"type\":\"bar\"}],\"scattergeo\":[{\"type\":\"scattergeo\",\"marker\":{\"colorbar\":{\"outlinewidth\":0,\"ticks\":\"\"}}}],\"scatterpolar\":[{\"type\":\"scatterpolar\",\"marker\":{\"colorbar\":{\"outlinewidth\":0,\"ticks\":\"\"}}}],\"histogram\":[{\"marker\":{\"pattern\":{\"fillmode\":\"overlay\",\"size\":10,\"solidity\":0.2}},\"type\":\"histogram\"}],\"scattergl\":[{\"type\":\"scattergl\",\"marker\":{\"colorbar\":{\"outlinewidth\":0,\"ticks\":\"\"}}}],\"scatter3d\":[{\"type\":\"scatter3d\",\"line\":{\"colorbar\":{\"outlinewidth\":0,\"ticks\":\"\"}},\"marker\":{\"colorbar\":{\"outlinewidth\":0,\"ticks\":\"\"}}}],\"scattermapbox\":[{\"type\":\"scattermapbox\",\"marker\":{\"colorbar\":{\"outlinewidth\":0,\"ticks\":\"\"}}}],\"scatterternary\":[{\"type\":\"scatterternary\",\"marker\":{\"colorbar\":{\"outlinewidth\":0,\"ticks\":\"\"}}}],\"scattercarpet\":[{\"type\":\"scattercarpet\",\"marker\":{\"colorbar\":{\"outlinewidth\":0,\"ticks\":\"\"}}}],\"carpet\":[{\"aaxis\":{\"endlinecolor\":\"#2a3f5f\",\"gridcolor\":\"white\",\"linecolor\":\"white\",\"minorgridcolor\":\"white\",\"startlinecolor\":\"#2a3f5f\"},\"baxis\":{\"endlinecolor\":\"#2a3f5f\",\"gridcolor\":\"white\",\"linecolor\":\"white\",\"minorgridcolor\":\"white\",\"startlinecolor\":\"#2a3f5f\"},\"type\":\"carpet\"}],\"table\":[{\"cells\":{\"fill\":{\"color\":\"#EBF0F8\"},\"line\":{\"color\":\"white\"}},\"header\":{\"fill\":{\"color\":\"#C8D4E3\"},\"line\":{\"color\":\"white\"}},\"type\":\"table\"}],\"barpolar\":[{\"marker\":{\"line\":{\"color\":\"#E5ECF6\",\"width\":0.5},\"pattern\":{\"fillmode\":\"overlay\",\"size\":10,\"solidity\":0.2}},\"type\":\"barpolar\"}],\"pie\":[{\"automargin\":true,\"type\":\"pie\"}]},\"layout\":{\"autotypenumbers\":\"strict\",\"colorway\":[\"#636efa\",\"#EF553B\",\"#00cc96\",\"#ab63fa\",\"#FFA15A\",\"#19d3f3\",\"#FF6692\",\"#B6E880\",\"#FF97FF\",\"#FECB52\"],\"font\":{\"color\":\"#2a3f5f\"},\"hovermode\":\"closest\",\"hoverlabel\":{\"align\":\"left\"},\"paper_bgcolor\":\"white\",\"plot_bgcolor\":\"#E5ECF6\",\"polar\":{\"bgcolor\":\"#E5ECF6\",\"angularaxis\":{\"gridcolor\":\"white\",\"linecolor\":\"white\",\"ticks\":\"\"},\"radialaxis\":{\"gridcolor\":\"white\",\"linecolor\":\"white\",\"ticks\":\"\"}},\"ternary\":{\"bgcolor\":\"#E5ECF6\",\"aaxis\":{\"gridcolor\":\"white\",\"linecolor\":\"white\",\"ticks\":\"\"},\"baxis\":{\"gridcolor\":\"white\",\"linecolor\":\"white\",\"ticks\":\"\"},\"caxis\":{\"gridcolor\":\"white\",\"linecolor\":\"white\",\"ticks\":\"\"}},\"coloraxis\":{\"colorbar\":{\"outlinewidth\":0,\"ticks\":\"\"}},\"colorscale\":{\"sequential\":[[0.0,\"#0d0887\"],[0.1111111111111111,\"#46039f\"],[0.2222222222222222,\"#7201a8\"],[0.3333333333333333,\"#9c179e\"],[0.4444444444444444,\"#bd3786\"],[0.5555555555555556,\"#d8576b\"],[0.6666666666666666,\"#ed7953\"],[0.7777777777777778,\"#fb9f3a\"],[0.8888888888888888,\"#fdca26\"],[1.0,\"#f0f921\"]],\"sequentialminus\":[[0.0,\"#0d0887\"],[0.1111111111111111,\"#46039f\"],[0.2222222222222222,\"#7201a8\"],[0.3333333333333333,\"#9c179e\"],[0.4444444444444444,\"#bd3786\"],[0.5555555555555556,\"#d8576b\"],[0.6666666666666666,\"#ed7953\"],[0.7777777777777778,\"#fb9f3a\"],[0.8888888888888888,\"#fdca26\"],[1.0,\"#f0f921\"]],\"diverging\":[[0,\"#8e0152\"],[0.1,\"#c51b7d\"],[0.2,\"#de77ae\"],[0.3,\"#f1b6da\"],[0.4,\"#fde0ef\"],[0.5,\"#f7f7f7\"],[0.6,\"#e6f5d0\"],[0.7,\"#b8e186\"],[0.8,\"#7fbc41\"],[0.9,\"#4d9221\"],[1,\"#276419\"]]},\"xaxis\":{\"gridcolor\":\"white\",\"linecolor\":\"white\",\"ticks\":\"\",\"title\":{\"standoff\":15},\"zerolinecolor\":\"white\",\"automargin\":true,\"zerolinewidth\":2},\"yaxis\":{\"gridcolor\":\"white\",\"linecolor\":\"white\",\"ticks\":\"\",\"title\":{\"standoff\":15},\"zerolinecolor\":\"white\",\"automargin\":true,\"zerolinewidth\":2},\"scene\":{\"xaxis\":{\"backgroundcolor\":\"#E5ECF6\",\"gridcolor\":\"white\",\"linecolor\":\"white\",\"showbackground\":true,\"ticks\":\"\",\"zerolinecolor\":\"white\",\"gridwidth\":2},\"yaxis\":{\"backgroundcolor\":\"#E5ECF6\",\"gridcolor\":\"white\",\"linecolor\":\"white\",\"showbackground\":true,\"ticks\":\"\",\"zerolinecolor\":\"white\",\"gridwidth\":2},\"zaxis\":{\"backgroundcolor\":\"#E5ECF6\",\"gridcolor\":\"white\",\"linecolor\":\"white\",\"showbackground\":true,\"ticks\":\"\",\"zerolinecolor\":\"white\",\"gridwidth\":2}},\"shapedefaults\":{\"line\":{\"color\":\"#2a3f5f\"}},\"annotationdefaults\":{\"arrowcolor\":\"#2a3f5f\",\"arrowhead\":0,\"arrowwidth\":1},\"geo\":{\"bgcolor\":\"white\",\"landcolor\":\"#E5ECF6\",\"subunitcolor\":\"white\",\"showland\":true,\"showlakes\":true,\"lakecolor\":\"white\"},\"title\":{\"x\":0.05},\"mapbox\":{\"style\":\"light\"}}},\"xaxis\":{\"anchor\":\"y\",\"domain\":[0.0,1.0],\"title\":{\"text\":\"Intrest_rates\"}},\"yaxis\":{\"anchor\":\"x\",\"domain\":[0.0,1.0],\"title\":{\"text\":\"Housing_price\"}},\"legend\":{\"tracegroupgap\":0},\"title\":{\"text\":\"<b>Intrest_rates vs. Housing Price</b>\"}},                        {\"responsive\": true}                    ).then(function(){\n",
       "                            \n",
       "var gd = document.getElementById('5aaebeeb-75c6-444d-9af2-14b324f73190');\n",
       "var x = new MutationObserver(function (mutations, observer) {{\n",
       "        var display = window.getComputedStyle(gd).display;\n",
       "        if (!display || display === 'none') {{\n",
       "            console.log([gd, 'removed!']);\n",
       "            Plotly.purge(gd);\n",
       "            observer.disconnect();\n",
       "        }}\n",
       "}});\n",
       "\n",
       "// Listen for the removal of the full notebook cells\n",
       "var notebookContainer = gd.closest('#notebook-container');\n",
       "if (notebookContainer) {{\n",
       "    x.observe(notebookContainer, {childList: true});\n",
       "}}\n",
       "\n",
       "// Listen for the clearing of the current output cell\n",
       "var outputEl = gd.closest('.output');\n",
       "if (outputEl) {{\n",
       "    x.observe(outputEl, {childList: true});\n",
       "}}\n",
       "\n",
       "                        })                };                });            </script>        </div>"
      ]
     },
     "metadata": {},
     "output_type": "display_data"
    },
    {
     "data": {
      "application/vnd.plotly.v1+json": {
       "config": {
        "plotlyServerURL": "https://plot.ly"
       },
       "data": [
        {
         "hovertemplate": "Homeownership_rate =%{x}<br>Housing_price=%{y}<extra></extra>",
         "legendgroup": "",
         "marker": {
          "color": "#636efa",
          "symbol": "circle"
         },
         "mode": "markers",
         "name": "",
         "orientation": "v",
         "showlegend": false,
         "type": "scatter",
         "x": [
          69.2,
          69.2,
          69.2,
          68.7,
          68.7,
          68.7,
          68.7,
          68.7,
          68.7,
          68.9,
          68.9,
          68.9,
          68.6,
          68.6,
          68.6,
          68.8,
          68.8,
          68.8,
          68.9,
          68.9,
          68.9,
          68.8,
          68.8,
          68.8,
          68.5,
          68.5,
          68.5,
          68.3,
          68.3,
          68.3,
          68,
          68,
          68,
          67.8,
          67.8,
          67.8,
          67.9,
          67.9,
          67.9,
          68.1,
          68.1,
          68.1,
          67.7,
          67.7,
          67.7,
          67.5,
          67.5,
          67.5,
          67.4,
          67.4,
          67.4,
          67.4,
          67.4,
          67.4,
          67.4,
          67.4,
          67.4,
          67.2,
          67.2,
          67.2,
          67.2,
          67.2,
          67.2,
          66.9,
          66.9,
          66.9,
          66.7,
          66.7,
          66.7,
          66.5,
          66.5,
          66.5,
          66.5,
          66.5,
          66.5,
          66,
          66,
          66,
          66.1,
          66.1,
          66.1,
          65.9,
          65.9,
          65.9,
          65.6,
          65.6,
          65.6,
          65.6,
          65.6,
          65.6,
          65.4,
          65.4,
          65.4,
          65.3,
          65.3,
          65.3,
          65.2,
          65.2,
          65.2,
          65.1,
          65.1,
          65.1,
          65.2,
          65.2,
          65.2,
          65.1,
          65.1,
          65.1,
          64.9,
          64.9,
          64.9,
          64.8,
          64.8,
          64.8,
          64.3,
          64.3,
          64.3,
          63.9,
          63.9,
          63.9,
          63.8,
          63.8,
          63.8,
          63.5,
          63.5,
          63.5,
          63.6,
          63.6,
          63.6,
          63.7,
          63.7,
          63.7,
          63.5,
          63.5,
          63.5,
          63.1,
          63.1,
          63.1,
          63.4,
          63.4,
          63.4,
          63.5,
          63.5,
          63.5,
          63.6,
          63.6,
          63.6,
          63.9,
          63.9,
          63.9,
          63.9,
          63.9,
          63.9,
          64,
          64,
          64,
          64.2,
          64.2,
          64.2,
          64.5,
          64.5,
          64.5,
          64.4,
          64.4,
          64.4,
          64.6,
          64.6,
          64.6,
          64.2,
          64.2,
          64.2,
          64.3,
          64.3,
          64.3,
          64.7,
          64.7,
          64.7,
          65,
          65,
          65,
          65.3,
          65.3,
          65.3,
          68,
          68,
          68,
          67.3,
          67.3,
          67.3,
          65.7,
          65.7,
          65.7,
          65.6,
          65.6,
          65.6,
          65.5,
          65.5,
          65.5,
          65.3,
          65.3,
          65.3,
          65.5,
          65.5,
          65.5,
          65.4,
          65.4,
          65.4,
          65.8,
          65.8,
          65.8,
          65.9,
          65.9,
          65.9,
          65.9,
          65.9,
          65.9,
          66,
          66,
          66,
          66,
          65.9,
          65.9,
          65.9,
          65.9,
          65.9,
          65.9,
          66,
          66,
          66
         ],
         "xaxis": "x",
         "y": [
          161.28799999999998,
          163.344,
          165.812,
          167.50099999999998,
          169.351,
          171.19,
          172.86,
          174.442,
          176.438,
          178.02700000000002,
          179.68099999999998,
          180.91,
          182.321,
          183.287,
          184.365,
          184.329,
          184.15599999999998,
          183.507,
          183.067,
          182.593,
          182.798,
          183.199,
          183.61,
          184.139,
          184.517,
          184.59900000000002,
          184.15,
          183.01,
          181.6,
          180.25400000000002,
          179.111,
          178.11599999999999,
          177.55700000000002,
          176.623,
          175.146,
          174.34099999999998,
          173.132,
          171.541,
          170.054,
          168.33900000000003,
          166.66,
          165.018,
          163.567,
          161.988,
          160.308,
          158.327,
          156.141,
          153.618,
          151.506,
          150.014,
          148.66,
          147.94899999999998,
          147.695,
          148.09,
          148.41,
          148.27700000000002,
          148.024,
          147.849,
          148.13299999999998,
          147.928,
          147.395,
          145.631,
          145.859,
          146.40200000000002,
          146.393,
          145.719,
          144.989,
          143.91299999999998,
          143.017,
          142.53,
          142.173,
          142.059,
          141.52200000000002,
          140.35,
          139.982,
          140.009,
          139.904,
          139.86,
          139.72899999999998,
          139.30700000000002,
          138.668,
          137.952,
          137.15200000000002,
          136.675,
          136.607,
          136.532,
          137.904,
          139.155,
          140.155,
          141.03,
          141.67,
          142.28,
          142.909,
          143.601,
          144.585,
          145.502,
          146.827,
          147.783,
          149.963,
          151.518,
          152.849,
          154.197,
          155.602,
          156.965,
          158.227,
          159.241,
          160.07299999999998,
          160.993,
          161.928,
          162.52700000000002,
          163.088,
          163.39600000000002,
          163.66299999999998,
          164.05599999999998,
          164.574,
          165.218,
          165.907,
          166.644,
          167.33700000000002,
          168.053,
          168.637,
          169.132,
          169.80200000000002,
          170.301,
          170.88400000000001,
          171.457,
          172.125,
          172.938,
          173.83,
          174.794,
          175.74200000000002,
          176.548,
          177.27700000000002,
          177.65400000000002,
          178.168,
          178.77,
          179.43200000000002,
          180.065,
          180.826,
          181.854,
          182.827,
          183.75400000000002,
          184.762,
          185.72299999999998,
          186.80200000000002,
          187.31599999999997,
          187.997,
          188.733,
          189.62900000000002,
          190.50400000000002,
          191.452,
          192.683,
          193.775,
          194.81400000000002,
          195.953,
          197.15900000000002,
          198.291,
          199.21400000000003,
          199.96099999999998,
          200.668,
          201.447,
          202.245,
          202.929,
          203.734,
          204.39,
          205.13299999999998,
          205.666,
          206.114,
          206.479,
          206.803,
          207.043,
          207.53799999999998,
          208.19400000000002,
          208.701,
          209.31799999999998,
          210.183,
          210.972,
          211.81599999999997,
          212.762,
          213.843,
          214.84599999999998,
          215.722,
          216.345,
          216.87,
          217.11900000000003,
          217.739,
          219.437,
          222.537,
          225.933,
          229.782,
          233.162,
          236.345,
          239.3,
          242.111,
          245.364,
          249.18400000000003,
          253.68200000000002,
          258.592,
          262.907,
          267.069,
          270.498,
          273.748,
          277.122,
          281.127,
          285.493,
          290.736,
          296.296,
          300.829,
          304.29400000000004,
          305.163,
          304.04400000000004,
          301.712,
          299.41200000000003,
          298.793,
          297.985,
          296.952,
          296.064,
          296.926,
          298.166,
          null,
          304.04400000000004,
          301.712,
          299.41200000000003,
          298.793,
          297.985,
          296.952,
          296.064,
          296.926,
          298.166
         ],
         "yaxis": "y"
        }
       ],
       "layout": {
        "legend": {
         "tracegroupgap": 0
        },
        "template": {
         "data": {
          "bar": [
           {
            "error_x": {
             "color": "#2a3f5f"
            },
            "error_y": {
             "color": "#2a3f5f"
            },
            "marker": {
             "line": {
              "color": "#E5ECF6",
              "width": 0.5
             },
             "pattern": {
              "fillmode": "overlay",
              "size": 10,
              "solidity": 0.2
             }
            },
            "type": "bar"
           }
          ],
          "barpolar": [
           {
            "marker": {
             "line": {
              "color": "#E5ECF6",
              "width": 0.5
             },
             "pattern": {
              "fillmode": "overlay",
              "size": 10,
              "solidity": 0.2
             }
            },
            "type": "barpolar"
           }
          ],
          "carpet": [
           {
            "aaxis": {
             "endlinecolor": "#2a3f5f",
             "gridcolor": "white",
             "linecolor": "white",
             "minorgridcolor": "white",
             "startlinecolor": "#2a3f5f"
            },
            "baxis": {
             "endlinecolor": "#2a3f5f",
             "gridcolor": "white",
             "linecolor": "white",
             "minorgridcolor": "white",
             "startlinecolor": "#2a3f5f"
            },
            "type": "carpet"
           }
          ],
          "choropleth": [
           {
            "colorbar": {
             "outlinewidth": 0,
             "ticks": ""
            },
            "type": "choropleth"
           }
          ],
          "contour": [
           {
            "colorbar": {
             "outlinewidth": 0,
             "ticks": ""
            },
            "colorscale": [
             [
              0,
              "#0d0887"
             ],
             [
              0.1111111111111111,
              "#46039f"
             ],
             [
              0.2222222222222222,
              "#7201a8"
             ],
             [
              0.3333333333333333,
              "#9c179e"
             ],
             [
              0.4444444444444444,
              "#bd3786"
             ],
             [
              0.5555555555555556,
              "#d8576b"
             ],
             [
              0.6666666666666666,
              "#ed7953"
             ],
             [
              0.7777777777777778,
              "#fb9f3a"
             ],
             [
              0.8888888888888888,
              "#fdca26"
             ],
             [
              1,
              "#f0f921"
             ]
            ],
            "type": "contour"
           }
          ],
          "contourcarpet": [
           {
            "colorbar": {
             "outlinewidth": 0,
             "ticks": ""
            },
            "type": "contourcarpet"
           }
          ],
          "heatmap": [
           {
            "colorbar": {
             "outlinewidth": 0,
             "ticks": ""
            },
            "colorscale": [
             [
              0,
              "#0d0887"
             ],
             [
              0.1111111111111111,
              "#46039f"
             ],
             [
              0.2222222222222222,
              "#7201a8"
             ],
             [
              0.3333333333333333,
              "#9c179e"
             ],
             [
              0.4444444444444444,
              "#bd3786"
             ],
             [
              0.5555555555555556,
              "#d8576b"
             ],
             [
              0.6666666666666666,
              "#ed7953"
             ],
             [
              0.7777777777777778,
              "#fb9f3a"
             ],
             [
              0.8888888888888888,
              "#fdca26"
             ],
             [
              1,
              "#f0f921"
             ]
            ],
            "type": "heatmap"
           }
          ],
          "heatmapgl": [
           {
            "colorbar": {
             "outlinewidth": 0,
             "ticks": ""
            },
            "colorscale": [
             [
              0,
              "#0d0887"
             ],
             [
              0.1111111111111111,
              "#46039f"
             ],
             [
              0.2222222222222222,
              "#7201a8"
             ],
             [
              0.3333333333333333,
              "#9c179e"
             ],
             [
              0.4444444444444444,
              "#bd3786"
             ],
             [
              0.5555555555555556,
              "#d8576b"
             ],
             [
              0.6666666666666666,
              "#ed7953"
             ],
             [
              0.7777777777777778,
              "#fb9f3a"
             ],
             [
              0.8888888888888888,
              "#fdca26"
             ],
             [
              1,
              "#f0f921"
             ]
            ],
            "type": "heatmapgl"
           }
          ],
          "histogram": [
           {
            "marker": {
             "pattern": {
              "fillmode": "overlay",
              "size": 10,
              "solidity": 0.2
             }
            },
            "type": "histogram"
           }
          ],
          "histogram2d": [
           {
            "colorbar": {
             "outlinewidth": 0,
             "ticks": ""
            },
            "colorscale": [
             [
              0,
              "#0d0887"
             ],
             [
              0.1111111111111111,
              "#46039f"
             ],
             [
              0.2222222222222222,
              "#7201a8"
             ],
             [
              0.3333333333333333,
              "#9c179e"
             ],
             [
              0.4444444444444444,
              "#bd3786"
             ],
             [
              0.5555555555555556,
              "#d8576b"
             ],
             [
              0.6666666666666666,
              "#ed7953"
             ],
             [
              0.7777777777777778,
              "#fb9f3a"
             ],
             [
              0.8888888888888888,
              "#fdca26"
             ],
             [
              1,
              "#f0f921"
             ]
            ],
            "type": "histogram2d"
           }
          ],
          "histogram2dcontour": [
           {
            "colorbar": {
             "outlinewidth": 0,
             "ticks": ""
            },
            "colorscale": [
             [
              0,
              "#0d0887"
             ],
             [
              0.1111111111111111,
              "#46039f"
             ],
             [
              0.2222222222222222,
              "#7201a8"
             ],
             [
              0.3333333333333333,
              "#9c179e"
             ],
             [
              0.4444444444444444,
              "#bd3786"
             ],
             [
              0.5555555555555556,
              "#d8576b"
             ],
             [
              0.6666666666666666,
              "#ed7953"
             ],
             [
              0.7777777777777778,
              "#fb9f3a"
             ],
             [
              0.8888888888888888,
              "#fdca26"
             ],
             [
              1,
              "#f0f921"
             ]
            ],
            "type": "histogram2dcontour"
           }
          ],
          "mesh3d": [
           {
            "colorbar": {
             "outlinewidth": 0,
             "ticks": ""
            },
            "type": "mesh3d"
           }
          ],
          "parcoords": [
           {
            "line": {
             "colorbar": {
              "outlinewidth": 0,
              "ticks": ""
             }
            },
            "type": "parcoords"
           }
          ],
          "pie": [
           {
            "automargin": true,
            "type": "pie"
           }
          ],
          "scatter": [
           {
            "fillpattern": {
             "fillmode": "overlay",
             "size": 10,
             "solidity": 0.2
            },
            "type": "scatter"
           }
          ],
          "scatter3d": [
           {
            "line": {
             "colorbar": {
              "outlinewidth": 0,
              "ticks": ""
             }
            },
            "marker": {
             "colorbar": {
              "outlinewidth": 0,
              "ticks": ""
             }
            },
            "type": "scatter3d"
           }
          ],
          "scattercarpet": [
           {
            "marker": {
             "colorbar": {
              "outlinewidth": 0,
              "ticks": ""
             }
            },
            "type": "scattercarpet"
           }
          ],
          "scattergeo": [
           {
            "marker": {
             "colorbar": {
              "outlinewidth": 0,
              "ticks": ""
             }
            },
            "type": "scattergeo"
           }
          ],
          "scattergl": [
           {
            "marker": {
             "colorbar": {
              "outlinewidth": 0,
              "ticks": ""
             }
            },
            "type": "scattergl"
           }
          ],
          "scattermapbox": [
           {
            "marker": {
             "colorbar": {
              "outlinewidth": 0,
              "ticks": ""
             }
            },
            "type": "scattermapbox"
           }
          ],
          "scatterpolar": [
           {
            "marker": {
             "colorbar": {
              "outlinewidth": 0,
              "ticks": ""
             }
            },
            "type": "scatterpolar"
           }
          ],
          "scatterpolargl": [
           {
            "marker": {
             "colorbar": {
              "outlinewidth": 0,
              "ticks": ""
             }
            },
            "type": "scatterpolargl"
           }
          ],
          "scatterternary": [
           {
            "marker": {
             "colorbar": {
              "outlinewidth": 0,
              "ticks": ""
             }
            },
            "type": "scatterternary"
           }
          ],
          "surface": [
           {
            "colorbar": {
             "outlinewidth": 0,
             "ticks": ""
            },
            "colorscale": [
             [
              0,
              "#0d0887"
             ],
             [
              0.1111111111111111,
              "#46039f"
             ],
             [
              0.2222222222222222,
              "#7201a8"
             ],
             [
              0.3333333333333333,
              "#9c179e"
             ],
             [
              0.4444444444444444,
              "#bd3786"
             ],
             [
              0.5555555555555556,
              "#d8576b"
             ],
             [
              0.6666666666666666,
              "#ed7953"
             ],
             [
              0.7777777777777778,
              "#fb9f3a"
             ],
             [
              0.8888888888888888,
              "#fdca26"
             ],
             [
              1,
              "#f0f921"
             ]
            ],
            "type": "surface"
           }
          ],
          "table": [
           {
            "cells": {
             "fill": {
              "color": "#EBF0F8"
             },
             "line": {
              "color": "white"
             }
            },
            "header": {
             "fill": {
              "color": "#C8D4E3"
             },
             "line": {
              "color": "white"
             }
            },
            "type": "table"
           }
          ]
         },
         "layout": {
          "annotationdefaults": {
           "arrowcolor": "#2a3f5f",
           "arrowhead": 0,
           "arrowwidth": 1
          },
          "autotypenumbers": "strict",
          "coloraxis": {
           "colorbar": {
            "outlinewidth": 0,
            "ticks": ""
           }
          },
          "colorscale": {
           "diverging": [
            [
             0,
             "#8e0152"
            ],
            [
             0.1,
             "#c51b7d"
            ],
            [
             0.2,
             "#de77ae"
            ],
            [
             0.3,
             "#f1b6da"
            ],
            [
             0.4,
             "#fde0ef"
            ],
            [
             0.5,
             "#f7f7f7"
            ],
            [
             0.6,
             "#e6f5d0"
            ],
            [
             0.7,
             "#b8e186"
            ],
            [
             0.8,
             "#7fbc41"
            ],
            [
             0.9,
             "#4d9221"
            ],
            [
             1,
             "#276419"
            ]
           ],
           "sequential": [
            [
             0,
             "#0d0887"
            ],
            [
             0.1111111111111111,
             "#46039f"
            ],
            [
             0.2222222222222222,
             "#7201a8"
            ],
            [
             0.3333333333333333,
             "#9c179e"
            ],
            [
             0.4444444444444444,
             "#bd3786"
            ],
            [
             0.5555555555555556,
             "#d8576b"
            ],
            [
             0.6666666666666666,
             "#ed7953"
            ],
            [
             0.7777777777777778,
             "#fb9f3a"
            ],
            [
             0.8888888888888888,
             "#fdca26"
            ],
            [
             1,
             "#f0f921"
            ]
           ],
           "sequentialminus": [
            [
             0,
             "#0d0887"
            ],
            [
             0.1111111111111111,
             "#46039f"
            ],
            [
             0.2222222222222222,
             "#7201a8"
            ],
            [
             0.3333333333333333,
             "#9c179e"
            ],
            [
             0.4444444444444444,
             "#bd3786"
            ],
            [
             0.5555555555555556,
             "#d8576b"
            ],
            [
             0.6666666666666666,
             "#ed7953"
            ],
            [
             0.7777777777777778,
             "#fb9f3a"
            ],
            [
             0.8888888888888888,
             "#fdca26"
            ],
            [
             1,
             "#f0f921"
            ]
           ]
          },
          "colorway": [
           "#636efa",
           "#EF553B",
           "#00cc96",
           "#ab63fa",
           "#FFA15A",
           "#19d3f3",
           "#FF6692",
           "#B6E880",
           "#FF97FF",
           "#FECB52"
          ],
          "font": {
           "color": "#2a3f5f"
          },
          "geo": {
           "bgcolor": "white",
           "lakecolor": "white",
           "landcolor": "#E5ECF6",
           "showlakes": true,
           "showland": true,
           "subunitcolor": "white"
          },
          "hoverlabel": {
           "align": "left"
          },
          "hovermode": "closest",
          "mapbox": {
           "style": "light"
          },
          "paper_bgcolor": "white",
          "plot_bgcolor": "#E5ECF6",
          "polar": {
           "angularaxis": {
            "gridcolor": "white",
            "linecolor": "white",
            "ticks": ""
           },
           "bgcolor": "#E5ECF6",
           "radialaxis": {
            "gridcolor": "white",
            "linecolor": "white",
            "ticks": ""
           }
          },
          "scene": {
           "xaxis": {
            "backgroundcolor": "#E5ECF6",
            "gridcolor": "white",
            "gridwidth": 2,
            "linecolor": "white",
            "showbackground": true,
            "ticks": "",
            "zerolinecolor": "white"
           },
           "yaxis": {
            "backgroundcolor": "#E5ECF6",
            "gridcolor": "white",
            "gridwidth": 2,
            "linecolor": "white",
            "showbackground": true,
            "ticks": "",
            "zerolinecolor": "white"
           },
           "zaxis": {
            "backgroundcolor": "#E5ECF6",
            "gridcolor": "white",
            "gridwidth": 2,
            "linecolor": "white",
            "showbackground": true,
            "ticks": "",
            "zerolinecolor": "white"
           }
          },
          "shapedefaults": {
           "line": {
            "color": "#2a3f5f"
           }
          },
          "ternary": {
           "aaxis": {
            "gridcolor": "white",
            "linecolor": "white",
            "ticks": ""
           },
           "baxis": {
            "gridcolor": "white",
            "linecolor": "white",
            "ticks": ""
           },
           "bgcolor": "#E5ECF6",
           "caxis": {
            "gridcolor": "white",
            "linecolor": "white",
            "ticks": ""
           }
          },
          "title": {
           "x": 0.05
          },
          "xaxis": {
           "automargin": true,
           "gridcolor": "white",
           "linecolor": "white",
           "ticks": "",
           "title": {
            "standoff": 15
           },
           "zerolinecolor": "white",
           "zerolinewidth": 2
          },
          "yaxis": {
           "automargin": true,
           "gridcolor": "white",
           "linecolor": "white",
           "ticks": "",
           "title": {
            "standoff": 15
           },
           "zerolinecolor": "white",
           "zerolinewidth": 2
          }
         }
        },
        "title": {
         "text": "<b>Homeownership_rate  vs. Housing Price</b>"
        },
        "xaxis": {
         "anchor": "y",
         "domain": [
          0,
          1
         ],
         "title": {
          "text": "Homeownership_rate "
         }
        },
        "yaxis": {
         "anchor": "x",
         "domain": [
          0,
          1
         ],
         "title": {
          "text": "Housing_price"
         }
        }
       }
      },
      "text/html": [
       "<div>                            <div id=\"25d25b4f-d2b4-4740-a9fd-1e7c2e6e533e\" class=\"plotly-graph-div\" style=\"height:525px; width:100%;\"></div>            <script type=\"text/javascript\">                require([\"plotly\"], function(Plotly) {                    window.PLOTLYENV=window.PLOTLYENV || {};                                    if (document.getElementById(\"25d25b4f-d2b4-4740-a9fd-1e7c2e6e533e\")) {                    Plotly.newPlot(                        \"25d25b4f-d2b4-4740-a9fd-1e7c2e6e533e\",                        [{\"hovertemplate\":\"Homeownership_rate =%{x}<br>Housing_price=%{y}<extra></extra>\",\"legendgroup\":\"\",\"marker\":{\"color\":\"#636efa\",\"symbol\":\"circle\"},\"mode\":\"markers\",\"name\":\"\",\"orientation\":\"v\",\"showlegend\":false,\"x\":[69.2,69.2,69.2,68.7,68.7,68.7,68.7,68.7,68.7,68.9,68.9,68.9,68.6,68.6,68.6,68.8,68.8,68.8,68.9,68.9,68.9,68.8,68.8,68.8,68.5,68.5,68.5,68.3,68.3,68.3,68.0,68.0,68.0,67.8,67.8,67.8,67.9,67.9,67.9,68.1,68.1,68.1,67.7,67.7,67.7,67.5,67.5,67.5,67.4,67.4,67.4,67.4,67.4,67.4,67.4,67.4,67.4,67.2,67.2,67.2,67.2,67.2,67.2,66.9,66.9,66.9,66.7,66.7,66.7,66.5,66.5,66.5,66.5,66.5,66.5,66.0,66.0,66.0,66.1,66.1,66.1,65.9,65.9,65.9,65.6,65.6,65.6,65.6,65.6,65.6,65.4,65.4,65.4,65.3,65.3,65.3,65.2,65.2,65.2,65.1,65.1,65.1,65.2,65.2,65.2,65.1,65.1,65.1,64.9,64.9,64.9,64.8,64.8,64.8,64.3,64.3,64.3,63.9,63.9,63.9,63.8,63.8,63.8,63.5,63.5,63.5,63.6,63.6,63.6,63.7,63.7,63.7,63.5,63.5,63.5,63.1,63.1,63.1,63.4,63.4,63.4,63.5,63.5,63.5,63.6,63.6,63.6,63.9,63.9,63.9,63.9,63.9,63.9,64.0,64.0,64.0,64.2,64.2,64.2,64.5,64.5,64.5,64.4,64.4,64.4,64.6,64.6,64.6,64.2,64.2,64.2,64.3,64.3,64.3,64.7,64.7,64.7,65.0,65.0,65.0,65.3,65.3,65.3,68.0,68.0,68.0,67.3,67.3,67.3,65.7,65.7,65.7,65.6,65.6,65.6,65.5,65.5,65.5,65.3,65.3,65.3,65.5,65.5,65.5,65.4,65.4,65.4,65.8,65.8,65.8,65.9,65.9,65.9,65.9,65.9,65.9,66.0,66.0,66.0,66.0,65.9,65.9,65.9,65.9,65.9,65.9,66.0,66.0,66.0],\"xaxis\":\"x\",\"y\":[161.28799999999998,163.344,165.812,167.50099999999998,169.351,171.19,172.86,174.442,176.438,178.02700000000002,179.68099999999998,180.91,182.321,183.287,184.365,184.329,184.15599999999998,183.507,183.067,182.593,182.798,183.199,183.61,184.139,184.517,184.59900000000002,184.15,183.01,181.6,180.25400000000002,179.111,178.11599999999999,177.55700000000002,176.623,175.146,174.34099999999998,173.132,171.541,170.054,168.33900000000003,166.66,165.018,163.567,161.988,160.308,158.327,156.141,153.618,151.506,150.014,148.66,147.94899999999998,147.695,148.09,148.41,148.27700000000002,148.024,147.849,148.13299999999998,147.928,147.395,145.631,145.859,146.40200000000002,146.393,145.719,144.989,143.91299999999998,143.017,142.53,142.173,142.059,141.52200000000002,140.35,139.982,140.009,139.904,139.86,139.72899999999998,139.30700000000002,138.668,137.952,137.15200000000002,136.675,136.607,136.532,137.904,139.155,140.155,141.03,141.67,142.28,142.909,143.601,144.585,145.502,146.827,147.783,149.963,151.518,152.849,154.197,155.602,156.965,158.227,159.241,160.07299999999998,160.993,161.928,162.52700000000002,163.088,163.39600000000002,163.66299999999998,164.05599999999998,164.574,165.218,165.907,166.644,167.33700000000002,168.053,168.637,169.132,169.80200000000002,170.301,170.88400000000001,171.457,172.125,172.938,173.83,174.794,175.74200000000002,176.548,177.27700000000002,177.65400000000002,178.168,178.77,179.43200000000002,180.065,180.826,181.854,182.827,183.75400000000002,184.762,185.72299999999998,186.80200000000002,187.31599999999997,187.997,188.733,189.62900000000002,190.50400000000002,191.452,192.683,193.775,194.81400000000002,195.953,197.15900000000002,198.291,199.21400000000003,199.96099999999998,200.668,201.447,202.245,202.929,203.734,204.39,205.13299999999998,205.666,206.114,206.479,206.803,207.043,207.53799999999998,208.19400000000002,208.701,209.31799999999998,210.183,210.972,211.81599999999997,212.762,213.843,214.84599999999998,215.722,216.345,216.87,217.11900000000003,217.739,219.437,222.537,225.933,229.782,233.162,236.345,239.3,242.111,245.364,249.18400000000003,253.68200000000002,258.592,262.907,267.069,270.498,273.748,277.122,281.127,285.493,290.736,296.296,300.829,304.29400000000004,305.163,304.04400000000004,301.712,299.41200000000003,298.793,297.985,296.952,296.064,296.926,298.166,null,304.04400000000004,301.712,299.41200000000003,298.793,297.985,296.952,296.064,296.926,298.166],\"yaxis\":\"y\",\"type\":\"scatter\"}],                        {\"template\":{\"data\":{\"histogram2dcontour\":[{\"type\":\"histogram2dcontour\",\"colorbar\":{\"outlinewidth\":0,\"ticks\":\"\"},\"colorscale\":[[0.0,\"#0d0887\"],[0.1111111111111111,\"#46039f\"],[0.2222222222222222,\"#7201a8\"],[0.3333333333333333,\"#9c179e\"],[0.4444444444444444,\"#bd3786\"],[0.5555555555555556,\"#d8576b\"],[0.6666666666666666,\"#ed7953\"],[0.7777777777777778,\"#fb9f3a\"],[0.8888888888888888,\"#fdca26\"],[1.0,\"#f0f921\"]]}],\"choropleth\":[{\"type\":\"choropleth\",\"colorbar\":{\"outlinewidth\":0,\"ticks\":\"\"}}],\"histogram2d\":[{\"type\":\"histogram2d\",\"colorbar\":{\"outlinewidth\":0,\"ticks\":\"\"},\"colorscale\":[[0.0,\"#0d0887\"],[0.1111111111111111,\"#46039f\"],[0.2222222222222222,\"#7201a8\"],[0.3333333333333333,\"#9c179e\"],[0.4444444444444444,\"#bd3786\"],[0.5555555555555556,\"#d8576b\"],[0.6666666666666666,\"#ed7953\"],[0.7777777777777778,\"#fb9f3a\"],[0.8888888888888888,\"#fdca26\"],[1.0,\"#f0f921\"]]}],\"heatmap\":[{\"type\":\"heatmap\",\"colorbar\":{\"outlinewidth\":0,\"ticks\":\"\"},\"colorscale\":[[0.0,\"#0d0887\"],[0.1111111111111111,\"#46039f\"],[0.2222222222222222,\"#7201a8\"],[0.3333333333333333,\"#9c179e\"],[0.4444444444444444,\"#bd3786\"],[0.5555555555555556,\"#d8576b\"],[0.6666666666666666,\"#ed7953\"],[0.7777777777777778,\"#fb9f3a\"],[0.8888888888888888,\"#fdca26\"],[1.0,\"#f0f921\"]]}],\"heatmapgl\":[{\"type\":\"heatmapgl\",\"colorbar\":{\"outlinewidth\":0,\"ticks\":\"\"},\"colorscale\":[[0.0,\"#0d0887\"],[0.1111111111111111,\"#46039f\"],[0.2222222222222222,\"#7201a8\"],[0.3333333333333333,\"#9c179e\"],[0.4444444444444444,\"#bd3786\"],[0.5555555555555556,\"#d8576b\"],[0.6666666666666666,\"#ed7953\"],[0.7777777777777778,\"#fb9f3a\"],[0.8888888888888888,\"#fdca26\"],[1.0,\"#f0f921\"]]}],\"contourcarpet\":[{\"type\":\"contourcarpet\",\"colorbar\":{\"outlinewidth\":0,\"ticks\":\"\"}}],\"contour\":[{\"type\":\"contour\",\"colorbar\":{\"outlinewidth\":0,\"ticks\":\"\"},\"colorscale\":[[0.0,\"#0d0887\"],[0.1111111111111111,\"#46039f\"],[0.2222222222222222,\"#7201a8\"],[0.3333333333333333,\"#9c179e\"],[0.4444444444444444,\"#bd3786\"],[0.5555555555555556,\"#d8576b\"],[0.6666666666666666,\"#ed7953\"],[0.7777777777777778,\"#fb9f3a\"],[0.8888888888888888,\"#fdca26\"],[1.0,\"#f0f921\"]]}],\"surface\":[{\"type\":\"surface\",\"colorbar\":{\"outlinewidth\":0,\"ticks\":\"\"},\"colorscale\":[[0.0,\"#0d0887\"],[0.1111111111111111,\"#46039f\"],[0.2222222222222222,\"#7201a8\"],[0.3333333333333333,\"#9c179e\"],[0.4444444444444444,\"#bd3786\"],[0.5555555555555556,\"#d8576b\"],[0.6666666666666666,\"#ed7953\"],[0.7777777777777778,\"#fb9f3a\"],[0.8888888888888888,\"#fdca26\"],[1.0,\"#f0f921\"]]}],\"mesh3d\":[{\"type\":\"mesh3d\",\"colorbar\":{\"outlinewidth\":0,\"ticks\":\"\"}}],\"scatter\":[{\"fillpattern\":{\"fillmode\":\"overlay\",\"size\":10,\"solidity\":0.2},\"type\":\"scatter\"}],\"parcoords\":[{\"type\":\"parcoords\",\"line\":{\"colorbar\":{\"outlinewidth\":0,\"ticks\":\"\"}}}],\"scatterpolargl\":[{\"type\":\"scatterpolargl\",\"marker\":{\"colorbar\":{\"outlinewidth\":0,\"ticks\":\"\"}}}],\"bar\":[{\"error_x\":{\"color\":\"#2a3f5f\"},\"error_y\":{\"color\":\"#2a3f5f\"},\"marker\":{\"line\":{\"color\":\"#E5ECF6\",\"width\":0.5},\"pattern\":{\"fillmode\":\"overlay\",\"size\":10,\"solidity\":0.2}},\"type\":\"bar\"}],\"scattergeo\":[{\"type\":\"scattergeo\",\"marker\":{\"colorbar\":{\"outlinewidth\":0,\"ticks\":\"\"}}}],\"scatterpolar\":[{\"type\":\"scatterpolar\",\"marker\":{\"colorbar\":{\"outlinewidth\":0,\"ticks\":\"\"}}}],\"histogram\":[{\"marker\":{\"pattern\":{\"fillmode\":\"overlay\",\"size\":10,\"solidity\":0.2}},\"type\":\"histogram\"}],\"scattergl\":[{\"type\":\"scattergl\",\"marker\":{\"colorbar\":{\"outlinewidth\":0,\"ticks\":\"\"}}}],\"scatter3d\":[{\"type\":\"scatter3d\",\"line\":{\"colorbar\":{\"outlinewidth\":0,\"ticks\":\"\"}},\"marker\":{\"colorbar\":{\"outlinewidth\":0,\"ticks\":\"\"}}}],\"scattermapbox\":[{\"type\":\"scattermapbox\",\"marker\":{\"colorbar\":{\"outlinewidth\":0,\"ticks\":\"\"}}}],\"scatterternary\":[{\"type\":\"scatterternary\",\"marker\":{\"colorbar\":{\"outlinewidth\":0,\"ticks\":\"\"}}}],\"scattercarpet\":[{\"type\":\"scattercarpet\",\"marker\":{\"colorbar\":{\"outlinewidth\":0,\"ticks\":\"\"}}}],\"carpet\":[{\"aaxis\":{\"endlinecolor\":\"#2a3f5f\",\"gridcolor\":\"white\",\"linecolor\":\"white\",\"minorgridcolor\":\"white\",\"startlinecolor\":\"#2a3f5f\"},\"baxis\":{\"endlinecolor\":\"#2a3f5f\",\"gridcolor\":\"white\",\"linecolor\":\"white\",\"minorgridcolor\":\"white\",\"startlinecolor\":\"#2a3f5f\"},\"type\":\"carpet\"}],\"table\":[{\"cells\":{\"fill\":{\"color\":\"#EBF0F8\"},\"line\":{\"color\":\"white\"}},\"header\":{\"fill\":{\"color\":\"#C8D4E3\"},\"line\":{\"color\":\"white\"}},\"type\":\"table\"}],\"barpolar\":[{\"marker\":{\"line\":{\"color\":\"#E5ECF6\",\"width\":0.5},\"pattern\":{\"fillmode\":\"overlay\",\"size\":10,\"solidity\":0.2}},\"type\":\"barpolar\"}],\"pie\":[{\"automargin\":true,\"type\":\"pie\"}]},\"layout\":{\"autotypenumbers\":\"strict\",\"colorway\":[\"#636efa\",\"#EF553B\",\"#00cc96\",\"#ab63fa\",\"#FFA15A\",\"#19d3f3\",\"#FF6692\",\"#B6E880\",\"#FF97FF\",\"#FECB52\"],\"font\":{\"color\":\"#2a3f5f\"},\"hovermode\":\"closest\",\"hoverlabel\":{\"align\":\"left\"},\"paper_bgcolor\":\"white\",\"plot_bgcolor\":\"#E5ECF6\",\"polar\":{\"bgcolor\":\"#E5ECF6\",\"angularaxis\":{\"gridcolor\":\"white\",\"linecolor\":\"white\",\"ticks\":\"\"},\"radialaxis\":{\"gridcolor\":\"white\",\"linecolor\":\"white\",\"ticks\":\"\"}},\"ternary\":{\"bgcolor\":\"#E5ECF6\",\"aaxis\":{\"gridcolor\":\"white\",\"linecolor\":\"white\",\"ticks\":\"\"},\"baxis\":{\"gridcolor\":\"white\",\"linecolor\":\"white\",\"ticks\":\"\"},\"caxis\":{\"gridcolor\":\"white\",\"linecolor\":\"white\",\"ticks\":\"\"}},\"coloraxis\":{\"colorbar\":{\"outlinewidth\":0,\"ticks\":\"\"}},\"colorscale\":{\"sequential\":[[0.0,\"#0d0887\"],[0.1111111111111111,\"#46039f\"],[0.2222222222222222,\"#7201a8\"],[0.3333333333333333,\"#9c179e\"],[0.4444444444444444,\"#bd3786\"],[0.5555555555555556,\"#d8576b\"],[0.6666666666666666,\"#ed7953\"],[0.7777777777777778,\"#fb9f3a\"],[0.8888888888888888,\"#fdca26\"],[1.0,\"#f0f921\"]],\"sequentialminus\":[[0.0,\"#0d0887\"],[0.1111111111111111,\"#46039f\"],[0.2222222222222222,\"#7201a8\"],[0.3333333333333333,\"#9c179e\"],[0.4444444444444444,\"#bd3786\"],[0.5555555555555556,\"#d8576b\"],[0.6666666666666666,\"#ed7953\"],[0.7777777777777778,\"#fb9f3a\"],[0.8888888888888888,\"#fdca26\"],[1.0,\"#f0f921\"]],\"diverging\":[[0,\"#8e0152\"],[0.1,\"#c51b7d\"],[0.2,\"#de77ae\"],[0.3,\"#f1b6da\"],[0.4,\"#fde0ef\"],[0.5,\"#f7f7f7\"],[0.6,\"#e6f5d0\"],[0.7,\"#b8e186\"],[0.8,\"#7fbc41\"],[0.9,\"#4d9221\"],[1,\"#276419\"]]},\"xaxis\":{\"gridcolor\":\"white\",\"linecolor\":\"white\",\"ticks\":\"\",\"title\":{\"standoff\":15},\"zerolinecolor\":\"white\",\"automargin\":true,\"zerolinewidth\":2},\"yaxis\":{\"gridcolor\":\"white\",\"linecolor\":\"white\",\"ticks\":\"\",\"title\":{\"standoff\":15},\"zerolinecolor\":\"white\",\"automargin\":true,\"zerolinewidth\":2},\"scene\":{\"xaxis\":{\"backgroundcolor\":\"#E5ECF6\",\"gridcolor\":\"white\",\"linecolor\":\"white\",\"showbackground\":true,\"ticks\":\"\",\"zerolinecolor\":\"white\",\"gridwidth\":2},\"yaxis\":{\"backgroundcolor\":\"#E5ECF6\",\"gridcolor\":\"white\",\"linecolor\":\"white\",\"showbackground\":true,\"ticks\":\"\",\"zerolinecolor\":\"white\",\"gridwidth\":2},\"zaxis\":{\"backgroundcolor\":\"#E5ECF6\",\"gridcolor\":\"white\",\"linecolor\":\"white\",\"showbackground\":true,\"ticks\":\"\",\"zerolinecolor\":\"white\",\"gridwidth\":2}},\"shapedefaults\":{\"line\":{\"color\":\"#2a3f5f\"}},\"annotationdefaults\":{\"arrowcolor\":\"#2a3f5f\",\"arrowhead\":0,\"arrowwidth\":1},\"geo\":{\"bgcolor\":\"white\",\"landcolor\":\"#E5ECF6\",\"subunitcolor\":\"white\",\"showland\":true,\"showlakes\":true,\"lakecolor\":\"white\"},\"title\":{\"x\":0.05},\"mapbox\":{\"style\":\"light\"}}},\"xaxis\":{\"anchor\":\"y\",\"domain\":[0.0,1.0],\"title\":{\"text\":\"Homeownership_rate \"}},\"yaxis\":{\"anchor\":\"x\",\"domain\":[0.0,1.0],\"title\":{\"text\":\"Housing_price\"}},\"legend\":{\"tracegroupgap\":0},\"title\":{\"text\":\"<b>Homeownership_rate  vs. Housing Price</b>\"}},                        {\"responsive\": true}                    ).then(function(){\n",
       "                            \n",
       "var gd = document.getElementById('25d25b4f-d2b4-4740-a9fd-1e7c2e6e533e');\n",
       "var x = new MutationObserver(function (mutations, observer) {{\n",
       "        var display = window.getComputedStyle(gd).display;\n",
       "        if (!display || display === 'none') {{\n",
       "            console.log([gd, 'removed!']);\n",
       "            Plotly.purge(gd);\n",
       "            observer.disconnect();\n",
       "        }}\n",
       "}});\n",
       "\n",
       "// Listen for the removal of the full notebook cells\n",
       "var notebookContainer = gd.closest('#notebook-container');\n",
       "if (notebookContainer) {{\n",
       "    x.observe(notebookContainer, {childList: true});\n",
       "}}\n",
       "\n",
       "// Listen for the clearing of the current output cell\n",
       "var outputEl = gd.closest('.output');\n",
       "if (outputEl) {{\n",
       "    x.observe(outputEl, {childList: true});\n",
       "}}\n",
       "\n",
       "                        })                };                });            </script>        </div>"
      ]
     },
     "metadata": {},
     "output_type": "display_data"
    }
   ],
   "source": [
    "for column in df1.columns:\n",
    "    if column != 'Housing_price':\n",
    "       \n",
    "        fig = px.scatter(df1, x=column, y='Housing_price', title=f\"<b>{column} vs. Housing Price</b>\")\n",
    "        fig.show()\n"
   ]
  },
  {
   "cell_type": "code",
   "execution_count": 75,
   "id": "e745f327",
   "metadata": {
    "scrolled": true
   },
   "outputs": [
    {
     "data": {
      "text/html": [
       "<div>\n",
       "<style scoped>\n",
       "    .dataframe tbody tr th:only-of-type {\n",
       "        vertical-align: middle;\n",
       "    }\n",
       "\n",
       "    .dataframe tbody tr th {\n",
       "        vertical-align: top;\n",
       "    }\n",
       "\n",
       "    .dataframe thead th {\n",
       "        text-align: right;\n",
       "    }\n",
       "</style>\n",
       "<table border=\"1\" class=\"dataframe\">\n",
       "  <thead>\n",
       "    <tr style=\"text-align: right;\">\n",
       "      <th></th>\n",
       "      <th>Date</th>\n",
       "      <th>Unemployment_rate</th>\n",
       "      <th>GDP</th>\n",
       "      <th>CPI</th>\n",
       "      <th>Median_household_income</th>\n",
       "      <th>Mortgage_rate</th>\n",
       "      <th>Consumer_sentiment</th>\n",
       "      <th>Intrest_rates</th>\n",
       "      <th>Homeownership_rate</th>\n",
       "      <th>Housing_price</th>\n",
       "    </tr>\n",
       "  </thead>\n",
       "  <tbody>\n",
       "    <tr>\n",
       "      <th>11</th>\n",
       "      <td>2005-01-01</td>\n",
       "      <td>5.3</td>\n",
       "      <td>14767.846</td>\n",
       "      <td>2.315890</td>\n",
       "      <td>64427.000000</td>\n",
       "      <td>5.7100</td>\n",
       "      <td>95.5</td>\n",
       "      <td>2.28</td>\n",
       "      <td>69.2</td>\n",
       "      <td>161.288</td>\n",
       "    </tr>\n",
       "    <tr>\n",
       "      <th>12</th>\n",
       "      <td>2005-02-01</td>\n",
       "      <td>5.4</td>\n",
       "      <td>14767.846</td>\n",
       "      <td>2.286245</td>\n",
       "      <td>64468.916667</td>\n",
       "      <td>5.6275</td>\n",
       "      <td>94.1</td>\n",
       "      <td>2.50</td>\n",
       "      <td>69.2</td>\n",
       "      <td>163.344</td>\n",
       "    </tr>\n",
       "    <tr>\n",
       "      <th>13</th>\n",
       "      <td>2005-03-01</td>\n",
       "      <td>5.2</td>\n",
       "      <td>14767.846</td>\n",
       "      <td>2.246153</td>\n",
       "      <td>64510.833333</td>\n",
       "      <td>5.9280</td>\n",
       "      <td>92.6</td>\n",
       "      <td>2.63</td>\n",
       "      <td>69.2</td>\n",
       "      <td>165.812</td>\n",
       "    </tr>\n",
       "    <tr>\n",
       "      <th>...</th>\n",
       "      <td>...</td>\n",
       "      <td>...</td>\n",
       "      <td>...</td>\n",
       "      <td>...</td>\n",
       "      <td>...</td>\n",
       "      <td>...</td>\n",
       "      <td>...</td>\n",
       "      <td>...</td>\n",
       "      <td>...</td>\n",
       "      <td>...</td>\n",
       "    </tr>\n",
       "    <tr>\n",
       "      <th>237</th>\n",
       "      <td>2023-01-01</td>\n",
       "      <td>3.4</td>\n",
       "      <td>20246.439</td>\n",
       "      <td>6.554492</td>\n",
       "      <td>70784.000000</td>\n",
       "      <td>6.2725</td>\n",
       "      <td>64.9</td>\n",
       "      <td>4.33</td>\n",
       "      <td>66.0</td>\n",
       "      <td>296.064</td>\n",
       "    </tr>\n",
       "    <tr>\n",
       "      <th>238</th>\n",
       "      <td>2023-02-01</td>\n",
       "      <td>3.6</td>\n",
       "      <td>20246.439</td>\n",
       "      <td>6.593750</td>\n",
       "      <td>70784.000000</td>\n",
       "      <td>6.2575</td>\n",
       "      <td>67.0</td>\n",
       "      <td>4.57</td>\n",
       "      <td>66.0</td>\n",
       "      <td>296.926</td>\n",
       "    </tr>\n",
       "    <tr>\n",
       "      <th>239</th>\n",
       "      <td>2023-03-01</td>\n",
       "      <td>3.5</td>\n",
       "      <td>20246.439</td>\n",
       "      <td>6.451708</td>\n",
       "      <td>70784.000000</td>\n",
       "      <td>6.5440</td>\n",
       "      <td>62.0</td>\n",
       "      <td>4.65</td>\n",
       "      <td>66.0</td>\n",
       "      <td>298.166</td>\n",
       "    </tr>\n",
       "  </tbody>\n",
       "</table>\n",
       "<p>229 rows × 10 columns</p>\n",
       "</div>"
      ],
      "text/plain": [
       "          Date  Unemployment_rate        GDP       CPI  \\\n",
       "11  2005-01-01                5.3  14767.846  2.315890   \n",
       "12  2005-02-01                5.4  14767.846  2.286245   \n",
       "13  2005-03-01                5.2  14767.846  2.246153   \n",
       "..         ...                ...        ...       ...   \n",
       "237 2023-01-01                3.4  20246.439  6.554492   \n",
       "238 2023-02-01                3.6  20246.439  6.593750   \n",
       "239 2023-03-01                3.5  20246.439  6.451708   \n",
       "\n",
       "     Median_household_income  Mortgage_rate  Consumer_sentiment  \\\n",
       "11              64427.000000         5.7100                95.5   \n",
       "12              64468.916667         5.6275                94.1   \n",
       "13              64510.833333         5.9280                92.6   \n",
       "..                       ...            ...                 ...   \n",
       "237             70784.000000         6.2725                64.9   \n",
       "238             70784.000000         6.2575                67.0   \n",
       "239             70784.000000         6.5440                62.0   \n",
       "\n",
       "     Intrest_rates  Homeownership_rate   Housing_price  \n",
       "11            2.28                 69.2        161.288  \n",
       "12            2.50                 69.2        163.344  \n",
       "13            2.63                 69.2        165.812  \n",
       "..             ...                  ...            ...  \n",
       "237           4.33                 66.0        296.064  \n",
       "238           4.57                 66.0        296.926  \n",
       "239           4.65                 66.0        298.166  \n",
       "\n",
       "[229 rows x 10 columns]"
      ]
     },
     "execution_count": 75,
     "metadata": {},
     "output_type": "execute_result"
    }
   ],
   "source": [
    "df1"
   ]
  },
  {
   "cell_type": "code",
   "execution_count": 76,
   "id": "4bce15ea",
   "metadata": {},
   "outputs": [],
   "source": [
    "df1 = df1.dropna(subset=['Housing_price'])"
   ]
  },
  {
   "cell_type": "markdown",
   "id": "08624a60",
   "metadata": {},
   "source": [
    "# Section 5 - Scaling"
   ]
  },
  {
   "cell_type": "code",
   "execution_count": 77,
   "id": "ba756fdd",
   "metadata": {},
   "outputs": [],
   "source": [
    "from sklearn.preprocessing import StandardScaler\n",
    "\n",
    "features = df1.drop(['Date','Housing_price'], axis=1)\n",
    "target = df1['Housing_price']  \n",
    "\n",
    "scaler = StandardScaler()\n",
    "\n",
    "scaled_features = scaler.fit_transform(features)\n"
   ]
  },
  {
   "cell_type": "code",
   "execution_count": 78,
   "id": "ed170c1b",
   "metadata": {},
   "outputs": [
    {
     "data": {
      "text/plain": [
       "array([[-0.28238884, -1.44468383, -0.23336543, ...,  1.1473721 ,\n",
       "         0.49227261,  1.94506583],\n",
       "       [-0.23593527, -1.44468383, -0.25655771, ...,  1.04173271,\n",
       "         0.62051814,  1.94506583],\n",
       "       [-0.32884242, -1.44468383, -0.28792285, ...,  0.92854766,\n",
       "         0.69629958,  1.94506583],\n",
       "       ...,\n",
       "       [-1.16500679,  1.78800891,  3.08259154, ..., -1.16160296,\n",
       "         1.68728776,  0.04377962],\n",
       "       [-1.07209963,  1.78800891,  3.11330362, ..., -1.00314389,\n",
       "         1.82719197,  0.04377962],\n",
       "       [-1.11855321,  1.78800891,  3.00218111, ..., -1.3804274 ,\n",
       "         1.87382671,  0.04377962]])"
      ]
     },
     "execution_count": 78,
     "metadata": {},
     "output_type": "execute_result"
    }
   ],
   "source": [
    "scaled_features"
   ]
  },
  {
   "cell_type": "code",
   "execution_count": 79,
   "id": "77fe4bae",
   "metadata": {},
   "outputs": [],
   "source": [
    "scaled_features = pd.DataFrame(scaled_features, columns=features.columns)"
   ]
  },
  {
   "cell_type": "code",
   "execution_count": 80,
   "id": "97100a10",
   "metadata": {},
   "outputs": [
    {
     "data": {
      "text/html": [
       "<div>\n",
       "<style scoped>\n",
       "    .dataframe tbody tr th:only-of-type {\n",
       "        vertical-align: middle;\n",
       "    }\n",
       "\n",
       "    .dataframe tbody tr th {\n",
       "        vertical-align: top;\n",
       "    }\n",
       "\n",
       "    .dataframe thead th {\n",
       "        text-align: right;\n",
       "    }\n",
       "</style>\n",
       "<table border=\"1\" class=\"dataframe\">\n",
       "  <thead>\n",
       "    <tr style=\"text-align: right;\">\n",
       "      <th></th>\n",
       "      <th>Unemployment_rate</th>\n",
       "      <th>GDP</th>\n",
       "      <th>CPI</th>\n",
       "      <th>Median_household_income</th>\n",
       "      <th>Mortgage_rate</th>\n",
       "      <th>Consumer_sentiment</th>\n",
       "      <th>Intrest_rates</th>\n",
       "      <th>Homeownership_rate</th>\n",
       "    </tr>\n",
       "  </thead>\n",
       "  <tbody>\n",
       "    <tr>\n",
       "      <th>0</th>\n",
       "      <td>-0.282389</td>\n",
       "      <td>-1.444684</td>\n",
       "      <td>-0.233365</td>\n",
       "      <td>-0.402198</td>\n",
       "      <td>0.938690</td>\n",
       "      <td>1.147372</td>\n",
       "      <td>0.492273</td>\n",
       "      <td>1.945066</td>\n",
       "    </tr>\n",
       "    <tr>\n",
       "      <th>1</th>\n",
       "      <td>-0.235935</td>\n",
       "      <td>-1.444684</td>\n",
       "      <td>-0.256558</td>\n",
       "      <td>-0.391448</td>\n",
       "      <td>0.865974</td>\n",
       "      <td>1.041733</td>\n",
       "      <td>0.620518</td>\n",
       "      <td>1.945066</td>\n",
       "    </tr>\n",
       "    <tr>\n",
       "      <th>2</th>\n",
       "      <td>-0.328842</td>\n",
       "      <td>-1.444684</td>\n",
       "      <td>-0.287923</td>\n",
       "      <td>-0.380697</td>\n",
       "      <td>1.130836</td>\n",
       "      <td>0.928548</td>\n",
       "      <td>0.696300</td>\n",
       "      <td>1.945066</td>\n",
       "    </tr>\n",
       "    <tr>\n",
       "      <th>...</th>\n",
       "      <td>...</td>\n",
       "      <td>...</td>\n",
       "      <td>...</td>\n",
       "      <td>...</td>\n",
       "      <td>...</td>\n",
       "      <td>...</td>\n",
       "      <td>...</td>\n",
       "      <td>...</td>\n",
       "    </tr>\n",
       "    <tr>\n",
       "      <th>225</th>\n",
       "      <td>-1.165007</td>\n",
       "      <td>1.788009</td>\n",
       "      <td>3.082592</td>\n",
       "      <td>1.228199</td>\n",
       "      <td>1.434480</td>\n",
       "      <td>-1.161603</td>\n",
       "      <td>1.687288</td>\n",
       "      <td>0.043780</td>\n",
       "    </tr>\n",
       "    <tr>\n",
       "      <th>226</th>\n",
       "      <td>-1.072100</td>\n",
       "      <td>1.788009</td>\n",
       "      <td>3.113304</td>\n",
       "      <td>1.228199</td>\n",
       "      <td>1.421259</td>\n",
       "      <td>-1.003144</td>\n",
       "      <td>1.827192</td>\n",
       "      <td>0.043780</td>\n",
       "    </tr>\n",
       "    <tr>\n",
       "      <th>227</th>\n",
       "      <td>-1.118553</td>\n",
       "      <td>1.788009</td>\n",
       "      <td>3.002181</td>\n",
       "      <td>1.228199</td>\n",
       "      <td>1.673782</td>\n",
       "      <td>-1.380427</td>\n",
       "      <td>1.873827</td>\n",
       "      <td>0.043780</td>\n",
       "    </tr>\n",
       "  </tbody>\n",
       "</table>\n",
       "<p>228 rows × 8 columns</p>\n",
       "</div>"
      ],
      "text/plain": [
       "     Unemployment_rate       GDP       CPI  Median_household_income  \\\n",
       "0            -0.282389 -1.444684 -0.233365                -0.402198   \n",
       "1            -0.235935 -1.444684 -0.256558                -0.391448   \n",
       "2            -0.328842 -1.444684 -0.287923                -0.380697   \n",
       "..                 ...       ...       ...                      ...   \n",
       "225          -1.165007  1.788009  3.082592                 1.228199   \n",
       "226          -1.072100  1.788009  3.113304                 1.228199   \n",
       "227          -1.118553  1.788009  3.002181                 1.228199   \n",
       "\n",
       "     Mortgage_rate  Consumer_sentiment  Intrest_rates  Homeownership_rate   \n",
       "0         0.938690            1.147372       0.492273             1.945066  \n",
       "1         0.865974            1.041733       0.620518             1.945066  \n",
       "2         1.130836            0.928548       0.696300             1.945066  \n",
       "..             ...                 ...            ...                  ...  \n",
       "225       1.434480           -1.161603       1.687288             0.043780  \n",
       "226       1.421259           -1.003144       1.827192             0.043780  \n",
       "227       1.673782           -1.380427       1.873827             0.043780  \n",
       "\n",
       "[228 rows x 8 columns]"
      ]
     },
     "execution_count": 80,
     "metadata": {},
     "output_type": "execute_result"
    }
   ],
   "source": [
    "scaled_features"
   ]
  },
  {
   "cell_type": "markdown",
   "id": "6ecccccb",
   "metadata": {},
   "source": [
    "scaler = MinMaxScaler()\n",
    "columns_to_scale = ['Unemployment_rate', 'GDP', 'CPI', 'Median_household_income', 'Mortgage_rate',\n",
    "                    'Consumer_sentiment', 'Intrest_rates', 'Homeownership_rate ']\n",
    "\n",
    "df1[columns_to_scale] = scaler.fit_transform(df1[columns_to_scale])\n"
   ]
  },
  {
   "cell_type": "markdown",
   "id": "b2ef2f52",
   "metadata": {},
   "source": [
    "# Section 5 - Model Building"
   ]
  },
  {
   "cell_type": "markdown",
   "id": "cb55fe52",
   "metadata": {},
   "source": [
    "* Lets go with linear regression since problem statement is regression "
   ]
  },
  {
   "cell_type": "code",
   "execution_count": 81,
   "id": "061872ea",
   "metadata": {},
   "outputs": [
    {
     "name": "stdout",
     "output_type": "stream",
     "text": [
      "Mean Squared Error: 75.9609409138579\n",
      "R2-squared: 0.9653610235590028\n",
      "Adjusted R2-squared: 0.9578715151393277\n"
     ]
    }
   ],
   "source": [
    "X = scaled_features\n",
    "y = df1['Housing_price'] \n",
    "\n",
    "\n",
    "X_train, X_test, y_train, y_test = train_test_split(X, y, test_size=0.2, random_state=42)\n",
    "\n",
    "model = LinearRegression()\n",
    "model.fit(X_train, y_train)\n",
    "\n",
    "\n",
    "y_pred = model.predict(X_test)\n",
    "mse = mean_squared_error(y_test, y_pred)\n",
    "r2 = r2_score(y_test, y_pred)\n",
    "\n",
    "n = X_test.shape[1]\n",
    "N = len(X_test)\n",
    "adj_r2 = 1 - (1 - r2) * (N - 1) / (N - n - 1)\n",
    "\n",
    "\n",
    "print('Mean Squared Error:', mse)\n",
    "print('R2-squared:', r2)\n",
    "print('Adjusted R2-squared:', adj_r2)"
   ]
  },
  {
   "cell_type": "markdown",
   "id": "5bbbeaa5",
   "metadata": {},
   "source": [
    "MODEL RESULT : The adjusted R2-squared value of 0.9578 indicates that approximately 95.78% of the variability in the house prices can be explained by the independent variables included in the linear regression model. This implies that the chosen independent variables have a strong influence on the predicted house prices."
   ]
  },
  {
   "cell_type": "code",
   "execution_count": 82,
   "id": "86b37ece",
   "metadata": {},
   "outputs": [],
   "source": [
    "residuals = y_test - y_pred"
   ]
  },
  {
   "cell_type": "code",
   "execution_count": 83,
   "id": "93945f3f",
   "metadata": {},
   "outputs": [
    {
     "name": "stdout",
     "output_type": "stream",
     "text": [
      "training_r2_score : 0.9634679969835231\n"
     ]
    }
   ],
   "source": [
    "training_r2_score = model.score(X_train, y_train)\n",
    "\n",
    "print('training_r2_score :',training_r2_score )"
   ]
  },
  {
   "cell_type": "markdown",
   "id": "d0f95603",
   "metadata": {},
   "source": [
    "* our traing score is perfect, it clearly states, there is no over fitting "
   ]
  },
  {
   "cell_type": "code",
   "execution_count": 84,
   "id": "40668154",
   "metadata": {},
   "outputs": [
    {
     "name": "stdout",
     "output_type": "stream",
     "text": [
      "                            OLS Regression Results                            \n",
      "==============================================================================\n",
      "Dep. Variable:          Housing_price   R-squared:                       0.964\n",
      "Model:                            OLS   Adj. R-squared:                  0.963\n",
      "Method:                 Least Squares   F-statistic:                     734.2\n",
      "Date:                Tue, 04 Jul 2023   Prob (F-statistic):          1.43e-153\n",
      "Time:                        11:45:29   Log-Likelihood:                -823.96\n",
      "No. Observations:                 228   AIC:                             1666.\n",
      "Df Residuals:                     219   BIC:                             1697.\n",
      "Df Model:                           8                                         \n",
      "Covariance Type:            nonrobust                                         \n",
      "===========================================================================================\n",
      "                              coef    std err          t      P>|t|      [0.025      0.975]\n",
      "-------------------------------------------------------------------------------------------\n",
      "const                     190.9177      0.607    314.655      0.000     189.722     192.114\n",
      "Unemployment_rate          -6.4528      1.300     -4.962      0.000      -9.016      -3.890\n",
      "GDP                        40.2118      2.620     15.348      0.000      35.048      45.375\n",
      "CPI                        10.1535      1.608      6.315      0.000       6.985      13.322\n",
      "Median_household_income     4.1644      2.015      2.067      0.040       0.193       8.136\n",
      "Mortgage_rate               1.5816      1.649      0.959      0.339      -1.669       4.832\n",
      "Consumer_sentiment         -0.6698      1.458     -0.459      0.646      -3.544       2.204\n",
      "Intrest_rates              -6.2990      1.788     -3.523      0.001      -9.823      -2.775\n",
      "Homeownership_rate         21.9068      1.687     12.987      0.000      18.582      25.231\n",
      "==============================================================================\n",
      "Omnibus:                       17.259   Durbin-Watson:                   0.216\n",
      "Prob(Omnibus):                  0.000   Jarque-Bera (JB):               19.546\n",
      "Skew:                          -0.717   Prob(JB):                     5.70e-05\n",
      "Kurtosis:                       3.024   Cond. No.                         10.4\n",
      "==============================================================================\n",
      "\n",
      "Notes:\n",
      "[1] Standard Errors assume that the covariance matrix of the errors is correctly specified.\n"
     ]
    }
   ],
   "source": [
    "X = scaled_features\n",
    "y = df1['Housing_price']\n",
    "\n",
    "X.reset_index(drop=True, inplace=True)\n",
    "y.reset_index(drop=True, inplace=True)\n",
    "\n",
    "# Add a constant column to X\n",
    "X = sm.add_constant(X)\n",
    "\n",
    "# Fit the linear regression model\n",
    "model = sm.OLS(y, X)\n",
    "results = model.fit()\n",
    "\n",
    "# Get the model summary\n",
    "summary = results.summary()\n",
    "print(summary)"
   ]
  },
  {
   "cell_type": "markdown",
   "id": "e0f62695",
   "metadata": {},
   "source": [
    "### Homoscedasticity"
   ]
  },
  {
   "cell_type": "code",
   "execution_count": 85,
   "id": "3021427c",
   "metadata": {},
   "outputs": [
    {
     "data": {
      "image/png": "[encoded data removed]",
      "text/plain": [
       "<Figure size 640x480 with 1 Axes>"
      ]
     },
     "metadata": {},
     "output_type": "display_data"
    }
   ],
   "source": [
    "plt.scatter(y_test, residuals)\n",
    "plt.xlabel(\"Fitted values\")\n",
    "plt.ylabel(\"Residuals\")\n",
    "plt.title(\"Residual plot\")\n",
    "plt.show()"
   ]
  },
  {
   "cell_type": "markdown",
   "id": "447b2e87",
   "metadata": {},
   "source": [
    "* we can clearly oberserve that, our data follows homoscedasticity"
   ]
  },
  {
   "cell_type": "markdown",
   "id": "da09b120",
   "metadata": {},
   "source": [
    "### Multicollinearity"
   ]
  },
  {
   "cell_type": "code",
   "execution_count": 86,
   "id": "b94b4816",
   "metadata": {},
   "outputs": [
    {
     "name": "stdout",
     "output_type": "stream",
     "text": [
      "               Variable        VIF\n",
      "0                 const   1.000000\n",
      "1     Unemployment_rate   4.593590\n",
      "2                   GDP  18.644914\n",
      "..                  ...        ...\n",
      "6    Consumer_sentiment   5.775270\n",
      "7         Intrest_rates   8.682140\n",
      "8   Homeownership_rate    7.728857\n",
      "\n",
      "[9 rows x 2 columns]\n"
     ]
    }
   ],
   "source": [
    "vif = pd.DataFrame()\n",
    "vif[\"Variable\"] = X.columns\n",
    "vif[\"VIF\"] = [variance_inflation_factor(X.values, i) for i in range(X.shape[1])]\n",
    "\n",
    "print(vif)"
   ]
  },
  {
   "cell_type": "markdown",
   "id": "c10c2601",
   "metadata": {},
   "source": [
    "* Haha, unfortunately, our data as multicollinearity, this is very much common while dealing with home price predictions, This can be solved easily by dropping high VIF score featues, it was just human tendancy for me to have as many features as possible thinking if i have more data, i can build a good model, We can easily deal with multicollinearity, while we solving the problem at micro level( individual analysis for each state or city) "
   ]
  },
  {
   "cell_type": "markdown",
   "id": "56099548",
   "metadata": {},
   "source": [
    "### Normality "
   ]
  },
  {
   "cell_type": "code",
   "execution_count": 87,
   "id": "4868e4ce",
   "metadata": {},
   "outputs": [
    {
     "data": {
      "text/plain": [
       "<seaborn.axisgrid.FacetGrid at 0x1903e7be2e0>"
      ]
     },
     "execution_count": 87,
     "metadata": {},
     "output_type": "execute_result"
    },
    {
     "data": {
      "image/png": "[encoded data removed]",
      "text/plain": [
       "<Figure size 500x500 with 1 Axes>"
      ]
     },
     "metadata": {},
     "output_type": "display_data"
    }
   ],
   "source": [
    "sns.displot(residuals,kind='kde')"
   ]
  },
  {
   "cell_type": "markdown",
   "id": "389fc82a",
   "metadata": {},
   "source": [
    "* There is bit bump at begining, its fine, overall our data had normal distribution"
   ]
  },
  {
   "cell_type": "markdown",
   "id": "52c67f81",
   "metadata": {},
   "source": [
    "### Summary"
   ]
  },
  {
   "cell_type": "markdown",
   "id": "217b6c3b",
   "metadata": {},
   "source": [
    "*F-statistic: The F-statistic is 734.2, and the associated p-value is very close to zero (1.43e-153). This indicates that there is strong evidence to reject the null hypothesis that all the coefficients in the model are zero, suggesting that the overall model is statistically significant.\n",
    "\n",
    "*Coefficients: The coefficients represent the estimated effect of each independent variable on the dependent variable (Housing_price). For example:\n",
    "\n",
    "The coefficient for the variable 'GDP' is 0.0237. Holding all other variables constant, a one-unit increase in GDP is associated with an average increase of 0.0237 units in Housing_price.\n",
    "The coefficient for the variable 'Unemployment_rate' is -2.9976. Holding all other variables constant, a one-unit increase in the unemployment rate is associated with an average decrease of 2.9976 units in Housing_price.\n",
    "Similarly, you can interpret the coefficients for the other variables.\n",
    "\n",
    "*Standard Errors and p-values: The standard errors estimate the variability of the coefficient estimates. The p-values associated with each coefficient test the null hypothesis that the corresponding coefficient is zero. A p-value less than the significance level (usually 0.05) suggests that the coefficient is statistically significant."
   ]
  },
  {
   "cell_type": "markdown",
   "id": "e637d2d1",
   "metadata": {},
   "source": [
    "### Influence of factors"
   ]
  },
  {
   "cell_type": "markdown",
   "id": "3aecfc5c",
   "metadata": {},
   "source": [
    "1 - Unemployment Rate vs. Housing Price: There is a moderately strong negative correlation (-0.591) between the unemployment rate and housing prices. This suggests that as the unemployment rate increases, housing prices tend to decrease.\n",
    "\n",
    "2 - GDP vs. Housing Price: There is a strong positive correlation (0.859) between GDP and housing prices. This implies that as the GDP increases, housing prices also tend to increase.\n",
    "\n",
    "3 - CPI vs. Housing Price: There is a strong positive correlation (0.806) between the Consumer Price Index (CPI) and housing prices. This indicates that as the CPI rises, housing prices generally increase as well.\n",
    "\n",
    "4 - Median Household Income vs. Housing Price: There is a strong positive correlation (0.841) between median household income and housing prices. This suggests that as median household income rises, housing prices also tend to increase.\n",
    "\n",
    "5 - Mortgage Rate vs. Housing Price: There is a weak positive correlation (0.093) between mortgage rates and housing prices. This indicates that there is a slight positive relationship between mortgage rates and housing prices, but it is not significant.\n",
    "\n",
    "6 - Consumer Sentiment vs. Housing Price: There is a weak negative correlation (-0.198) between consumer sentiment and housing prices. This suggests that as consumer sentiment decreases, housing prices may slightly decrease as well.\n",
    "\n",
    "7 - Interest Rates vs. Housing Price: There is a weak positive correlation (0.288) between interest rates and housing prices. This implies that as interest rates increase, housing prices may slightly increase as well.\n",
    "\n",
    "8 - Homeownership Rate vs. Housing Price: There is a weak negative correlation (-0.097) between homeownership rate and housing prices. This suggests that as the homeownership rate decreases, housing prices may slightly decrease as well."
   ]
  },
  {
   "cell_type": "markdown",
   "id": "ae576520",
   "metadata": {},
   "source": [
    "# Thank You"
   ]
  },
  {
   "cell_type": "code",
   "execution_count": null,
   "id": "02360db5",
   "metadata": {},
   "outputs": [],
   "source": []
  }
 ],
 "metadata": {
  "kernelspec": {
   "display_name": "Python 3 (ipykernel)",
   "language": "python",
   "name": "python3"
  },
  "language_info": {
   "codemirror_mode": {
    "name": "ipython",
    "version": 3
   },
   "file_extension": ".py",
   "mimetype": "text/x-python",
   "name": "python",
   "nbconvert_exporter": "python",
   "pygments_lexer": "ipython3",
   "version": "3.9.16"
  }
 },
 "nbformat": 4,
 "nbformat_minor": 5
}
