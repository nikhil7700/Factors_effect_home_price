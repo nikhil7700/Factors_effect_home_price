{
 "cells": [
  {
   "cell_type": "markdown",
   "id": "88ad67bf",
   "metadata": {},
   "source": [
    "# Factors influence residential home prices across the USA - Supply"
   ]
  },
  {
   "cell_type": "markdown",
   "id": "36690ad4",
   "metadata": {},
   "source": [
    "* importing the basic libraries required in this notebook"
   ]
  },
  {
   "cell_type": "code",
   "execution_count": 58,
   "id": "5969f328",
   "metadata": {},
   "outputs": [],
   "source": [
    "import pandas as pd\n",
    "import numpy as np\n",
    "import seaborn as sns\n",
    "import matplotlib.pyplot as plt\n",
    "from scipy import stats\n",
    "from scipy.stats import zscore\n",
    "import missingno as msno\n",
    "import plotly.express as px\n",
    "from sklearn.linear_model import LinearRegression\n",
    "from sklearn.model_selection import train_test_split\n",
    "from sklearn.metrics import mean_squared_error, r2_score \n",
    "import statsmodels.api as sm\n",
    "from statsmodels.stats.outliers_influence import variance_inflation_factor\n"
   ]
  },
  {
   "cell_type": "markdown",
   "id": "31538f72",
   "metadata": {},
   "source": [
    "# Section 1 - View of data"
   ]
  },
  {
   "cell_type": "code",
   "execution_count": 30,
   "id": "3234efb4",
   "metadata": {},
   "outputs": [],
   "source": [
    "# Import the data\n",
    "df = pd.read_excel(\"Supply.xlsx\")"
   ]
  },
  {
   "cell_type": "code",
   "execution_count": 31,
   "id": "138a9d69",
   "metadata": {},
   "outputs": [
    {
     "data": {
      "text/html": [
       "<div>\n",
       "<style scoped>\n",
       "    .dataframe tbody tr th:only-of-type {\n",
       "        vertical-align: middle;\n",
       "    }\n",
       "\n",
       "    .dataframe tbody tr th {\n",
       "        vertical-align: top;\n",
       "    }\n",
       "\n",
       "    .dataframe thead th {\n",
       "        text-align: right;\n",
       "    }\n",
       "</style>\n",
       "<table border=\"1\" class=\"dataframe\">\n",
       "  <thead>\n",
       "    <tr style=\"text-align: right;\">\n",
       "      <th></th>\n",
       "      <th>Date</th>\n",
       "      <th>Unemployment_construction</th>\n",
       "      <th>Hosuing_inventory_units</th>\n",
       "      <th>Saleprice_of_housesold</th>\n",
       "      <th>Construction_spending</th>\n",
       "      <th>Home_vacancy_rate</th>\n",
       "      <th>Housing_price</th>\n",
       "    </tr>\n",
       "  </thead>\n",
       "  <tbody>\n",
       "    <tr>\n",
       "      <th>0</th>\n",
       "      <td>2003-04-01</td>\n",
       "      <td>9.3</td>\n",
       "      <td>121233</td>\n",
       "      <td>189500</td>\n",
       "      <td>425493</td>\n",
       "      <td></td>\n",
       "      <td>130.884</td>\n",
       "    </tr>\n",
       "    <tr>\n",
       "      <th>1</th>\n",
       "      <td>2003-05-01</td>\n",
       "      <td>8.4</td>\n",
       "      <td></td>\n",
       "      <td>195500</td>\n",
       "      <td>426270</td>\n",
       "      <td></td>\n",
       "      <td>131.735</td>\n",
       "    </tr>\n",
       "    <tr>\n",
       "      <th>2</th>\n",
       "      <td>2003-06-01</td>\n",
       "      <td>7.9</td>\n",
       "      <td></td>\n",
       "      <td>187900</td>\n",
       "      <td>436163</td>\n",
       "      <td></td>\n",
       "      <td>132.649</td>\n",
       "    </tr>\n",
       "    <tr>\n",
       "      <th>...</th>\n",
       "      <td>...</td>\n",
       "      <td>...</td>\n",
       "      <td>...</td>\n",
       "      <td>...</td>\n",
       "      <td>...</td>\n",
       "      <td>...</td>\n",
       "      <td>...</td>\n",
       "    </tr>\n",
       "    <tr>\n",
       "      <th>237</th>\n",
       "      <td>2023-01-01</td>\n",
       "      <td>6.9</td>\n",
       "      <td>144287</td>\n",
       "      <td>432100</td>\n",
       "      <td>851235</td>\n",
       "      <td></td>\n",
       "      <td>296.064</td>\n",
       "    </tr>\n",
       "    <tr>\n",
       "      <th>238</th>\n",
       "      <td>2023-02-01</td>\n",
       "      <td>6.6</td>\n",
       "      <td></td>\n",
       "      <td>445700</td>\n",
       "      <td>851533</td>\n",
       "      <td></td>\n",
       "      <td>296.926</td>\n",
       "    </tr>\n",
       "    <tr>\n",
       "      <th>239</th>\n",
       "      <td>2023-03-01</td>\n",
       "      <td>5.6</td>\n",
       "      <td></td>\n",
       "      <td>455800</td>\n",
       "      <td>851460</td>\n",
       "      <td></td>\n",
       "      <td>298.166</td>\n",
       "    </tr>\n",
       "  </tbody>\n",
       "</table>\n",
       "<p>240 rows × 7 columns</p>\n",
       "</div>"
      ],
      "text/plain": [
       "          Date  Unemployment_construction Hosuing_inventory_units  \\\n",
       "0   2003-04-01                        9.3                  121233   \n",
       "1   2003-05-01                        8.4                           \n",
       "2   2003-06-01                        7.9                           \n",
       "..         ...                        ...                     ...   \n",
       "237 2023-01-01                        6.9                  144287   \n",
       "238 2023-02-01                        6.6                           \n",
       "239 2023-03-01                        5.6                           \n",
       "\n",
       "     Saleprice_of_housesold  Construction_spending Home_vacancy_rate  \\\n",
       "0                    189500                 425493                     \n",
       "1                    195500                 426270                     \n",
       "2                    187900                 436163                     \n",
       "..                      ...                    ...               ...   \n",
       "237                  432100                 851235                     \n",
       "238                  445700                 851533                     \n",
       "239                  455800                 851460                     \n",
       "\n",
       "     Housing_price  \n",
       "0          130.884  \n",
       "1          131.735  \n",
       "2          132.649  \n",
       "..             ...  \n",
       "237        296.064  \n",
       "238        296.926  \n",
       "239        298.166  \n",
       "\n",
       "[240 rows x 7 columns]"
      ]
     },
     "execution_count": 31,
     "metadata": {},
     "output_type": "execute_result"
    }
   ],
   "source": [
    "df"
   ]
  },
  {
   "cell_type": "markdown",
   "id": "abbb7702",
   "metadata": {},
   "source": [
    "### * Lets, understand each column in the dataset"
   ]
  },
  {
   "cell_type": "markdown",
   "id": "7561e6f8",
   "metadata": {},
   "source": [
    "*Unemployment_construction: This column represents the unemployment rate specifically in the construction industry. It measures  the percentage of unemployed individuals among the total labor force in the construction sector. (Unit: Percentage)\n",
    "\n",
    "*Housing_inventory_units: This column represents the number of housing inventory units. It indicates the quantity of available housing units in a particular market or area. (Unit: Count)\n",
    "\n",
    "*Saleprice_of_housesold: This column represents the sale price of houses sold. It indicates the price at which residential properties are sold. (Unit: Currency - thousands of dollors)\n",
    "\n",
    "*Construction_spending: This column represents the amount of spending on construction activities, specifically related to residential projects. It measures the total expenditure invested in constructing new residential properties or renovating existing ones. (Unit: Currency - millions of dollors)\n",
    "\n",
    "*Home_vacancy_rate: This column represents the home vacancy rate. It measures the percentage of vacant homes in a particular area or market. (Unit: Percentage)\n",
    "\n",
    "*Housing_price: This column represents the housing price. It indicates the average price of residential properties. (Unit: Index value)"
   ]
  },
  {
   "cell_type": "code",
   "execution_count": 32,
   "id": "ea34e413",
   "metadata": {},
   "outputs": [
    {
     "data": {
      "text/plain": [
       "(240, 7)"
      ]
     },
     "execution_count": 32,
     "metadata": {},
     "output_type": "execute_result"
    }
   ],
   "source": [
    "df.shape"
   ]
  },
  {
   "cell_type": "code",
   "execution_count": 33,
   "id": "ac5bd8cb",
   "metadata": {},
   "outputs": [
    {
     "name": "stdout",
     "output_type": "stream",
     "text": [
      "<class 'pandas.core.frame.DataFrame'>\n",
      "RangeIndex: 240 entries, 0 to 239\n",
      "Data columns (total 7 columns):\n",
      " #   Column                     Non-Null Count  Dtype         \n",
      "---  ------                     --------------  -----         \n",
      " 0   Date                       240 non-null    datetime64[ns]\n",
      " 1   Unemployment_construction  240 non-null    float64       \n",
      " 2   Hosuing_inventory_units    240 non-null    object        \n",
      " 3   Saleprice_of_housesold     240 non-null    int64         \n",
      " 4   Construction_spending      240 non-null    int64         \n",
      " 5   Home_vacancy_rate          240 non-null    object        \n",
      " 6   Housing_price              240 non-null    float64       \n",
      "dtypes: datetime64[ns](1), float64(2), int64(2), object(2)\n",
      "memory usage: 13.2+ KB\n"
     ]
    }
   ],
   "source": [
    "df.info()"
   ]
  },
  {
   "cell_type": "markdown",
   "id": "ac2d7c2d",
   "metadata": {},
   "source": [
    "* We cant find null values, But there were null values in excel sheet"
   ]
  },
  {
   "cell_type": "code",
   "execution_count": 34,
   "id": "232f892c",
   "metadata": {},
   "outputs": [],
   "source": [
    "df1 = df.replace(' ', np.nan)"
   ]
  },
  {
   "cell_type": "code",
   "execution_count": 35,
   "id": "72d229e2",
   "metadata": {},
   "outputs": [
    {
     "data": {
      "text/html": [
       "<div>\n",
       "<style scoped>\n",
       "    .dataframe tbody tr th:only-of-type {\n",
       "        vertical-align: middle;\n",
       "    }\n",
       "\n",
       "    .dataframe tbody tr th {\n",
       "        vertical-align: top;\n",
       "    }\n",
       "\n",
       "    .dataframe thead th {\n",
       "        text-align: right;\n",
       "    }\n",
       "</style>\n",
       "<table border=\"1\" class=\"dataframe\">\n",
       "  <thead>\n",
       "    <tr style=\"text-align: right;\">\n",
       "      <th></th>\n",
       "      <th>Date</th>\n",
       "      <th>Unemployment_construction</th>\n",
       "      <th>Hosuing_inventory_units</th>\n",
       "      <th>Saleprice_of_housesold</th>\n",
       "      <th>Construction_spending</th>\n",
       "      <th>Home_vacancy_rate</th>\n",
       "      <th>Housing_price</th>\n",
       "    </tr>\n",
       "  </thead>\n",
       "  <tbody>\n",
       "    <tr>\n",
       "      <th>0</th>\n",
       "      <td>2003-04-01</td>\n",
       "      <td>9.3</td>\n",
       "      <td>121233.0</td>\n",
       "      <td>189500</td>\n",
       "      <td>425493</td>\n",
       "      <td>NaN</td>\n",
       "      <td>130.884</td>\n",
       "    </tr>\n",
       "    <tr>\n",
       "      <th>1</th>\n",
       "      <td>2003-05-01</td>\n",
       "      <td>8.4</td>\n",
       "      <td>NaN</td>\n",
       "      <td>195500</td>\n",
       "      <td>426270</td>\n",
       "      <td>NaN</td>\n",
       "      <td>131.735</td>\n",
       "    </tr>\n",
       "    <tr>\n",
       "      <th>2</th>\n",
       "      <td>2003-06-01</td>\n",
       "      <td>7.9</td>\n",
       "      <td>NaN</td>\n",
       "      <td>187900</td>\n",
       "      <td>436163</td>\n",
       "      <td>NaN</td>\n",
       "      <td>132.649</td>\n",
       "    </tr>\n",
       "    <tr>\n",
       "      <th>...</th>\n",
       "      <td>...</td>\n",
       "      <td>...</td>\n",
       "      <td>...</td>\n",
       "      <td>...</td>\n",
       "      <td>...</td>\n",
       "      <td>...</td>\n",
       "      <td>...</td>\n",
       "    </tr>\n",
       "    <tr>\n",
       "      <th>237</th>\n",
       "      <td>2023-01-01</td>\n",
       "      <td>6.9</td>\n",
       "      <td>144287.0</td>\n",
       "      <td>432100</td>\n",
       "      <td>851235</td>\n",
       "      <td>NaN</td>\n",
       "      <td>296.064</td>\n",
       "    </tr>\n",
       "    <tr>\n",
       "      <th>238</th>\n",
       "      <td>2023-02-01</td>\n",
       "      <td>6.6</td>\n",
       "      <td>NaN</td>\n",
       "      <td>445700</td>\n",
       "      <td>851533</td>\n",
       "      <td>NaN</td>\n",
       "      <td>296.926</td>\n",
       "    </tr>\n",
       "    <tr>\n",
       "      <th>239</th>\n",
       "      <td>2023-03-01</td>\n",
       "      <td>5.6</td>\n",
       "      <td>NaN</td>\n",
       "      <td>455800</td>\n",
       "      <td>851460</td>\n",
       "      <td>NaN</td>\n",
       "      <td>298.166</td>\n",
       "    </tr>\n",
       "  </tbody>\n",
       "</table>\n",
       "<p>240 rows × 7 columns</p>\n",
       "</div>"
      ],
      "text/plain": [
       "          Date  Unemployment_construction  Hosuing_inventory_units  \\\n",
       "0   2003-04-01                        9.3                 121233.0   \n",
       "1   2003-05-01                        8.4                      NaN   \n",
       "2   2003-06-01                        7.9                      NaN   \n",
       "..         ...                        ...                      ...   \n",
       "237 2023-01-01                        6.9                 144287.0   \n",
       "238 2023-02-01                        6.6                      NaN   \n",
       "239 2023-03-01                        5.6                      NaN   \n",
       "\n",
       "     Saleprice_of_housesold  Construction_spending  Home_vacancy_rate  \\\n",
       "0                    189500                 425493                NaN   \n",
       "1                    195500                 426270                NaN   \n",
       "2                    187900                 436163                NaN   \n",
       "..                      ...                    ...                ...   \n",
       "237                  432100                 851235                NaN   \n",
       "238                  445700                 851533                NaN   \n",
       "239                  455800                 851460                NaN   \n",
       "\n",
       "     Housing_price  \n",
       "0          130.884  \n",
       "1          131.735  \n",
       "2          132.649  \n",
       "..             ...  \n",
       "237        296.064  \n",
       "238        296.926  \n",
       "239        298.166  \n",
       "\n",
       "[240 rows x 7 columns]"
      ]
     },
     "execution_count": 35,
     "metadata": {},
     "output_type": "execute_result"
    }
   ],
   "source": [
    "df1"
   ]
  },
  {
   "cell_type": "markdown",
   "id": "549e8206",
   "metadata": {},
   "source": [
    "* Lets visualize the null values "
   ]
  },
  {
   "cell_type": "code",
   "execution_count": 36,
   "id": "c1b93cb6",
   "metadata": {},
   "outputs": [
    {
     "data": {
      "text/plain": [
       "<AxesSubplot: >"
      ]
     },
     "execution_count": 36,
     "metadata": {},
     "output_type": "execute_result"
    },
    {
     "data": {
      "image/png": "[encoded data removed]",
      "text/plain": [
       "<Figure size 2500x1000 with 2 Axes>"
      ]
     },
     "metadata": {},
     "output_type": "display_data"
    }
   ],
   "source": [
    "msno.matrix(df1)"
   ]
  },
  {
   "cell_type": "markdown",
   "id": "8e5ab892",
   "metadata": {},
   "source": [
    "# Section 2 - stat description"
   ]
  },
  {
   "cell_type": "code",
   "execution_count": 37,
   "id": "e74878e1",
   "metadata": {},
   "outputs": [
    {
     "data": {
      "text/html": [
       "<div>\n",
       "<style scoped>\n",
       "    .dataframe tbody tr th:only-of-type {\n",
       "        vertical-align: middle;\n",
       "    }\n",
       "\n",
       "    .dataframe tbody tr th {\n",
       "        vertical-align: top;\n",
       "    }\n",
       "\n",
       "    .dataframe thead th {\n",
       "        text-align: right;\n",
       "    }\n",
       "</style>\n",
       "<table border=\"1\" class=\"dataframe\">\n",
       "  <thead>\n",
       "    <tr style=\"text-align: right;\">\n",
       "      <th></th>\n",
       "      <th>Unemployment_construction</th>\n",
       "      <th>Hosuing_inventory_units</th>\n",
       "      <th>Saleprice_of_housesold</th>\n",
       "      <th>Construction_spending</th>\n",
       "      <th>Home_vacancy_rate</th>\n",
       "      <th>Housing_price</th>\n",
       "    </tr>\n",
       "  </thead>\n",
       "  <tbody>\n",
       "    <tr>\n",
       "      <th>count</th>\n",
       "      <td>240.000000</td>\n",
       "      <td>80.000000</td>\n",
       "      <td>240.000000</td>\n",
       "      <td>240.000000</td>\n",
       "      <td>19.000000</td>\n",
       "      <td>240.000000</td>\n",
       "    </tr>\n",
       "    <tr>\n",
       "      <th>mean</th>\n",
       "      <td>9.367083</td>\n",
       "      <td>133581.412500</td>\n",
       "      <td>281255.000000</td>\n",
       "      <td>495842.941667</td>\n",
       "      <td>1.884211</td>\n",
       "      <td>182.755325</td>\n",
       "    </tr>\n",
       "    <tr>\n",
       "      <th>std</th>\n",
       "      <td>5.009610</td>\n",
       "      <td>5919.740686</td>\n",
       "      <td>67786.830345</td>\n",
       "      <td>181021.579559</td>\n",
       "      <td>0.608517</td>\n",
       "      <td>42.833500</td>\n",
       "    </tr>\n",
       "    <tr>\n",
       "      <th>...</th>\n",
       "      <td>...</td>\n",
       "      <td>...</td>\n",
       "      <td>...</td>\n",
       "      <td>...</td>\n",
       "      <td>...</td>\n",
       "      <td>...</td>\n",
       "    </tr>\n",
       "    <tr>\n",
       "      <th>50%</th>\n",
       "      <td>7.700000</td>\n",
       "      <td>133321.000000</td>\n",
       "      <td>260650.000000</td>\n",
       "      <td>503623.500000</td>\n",
       "      <td>1.900000</td>\n",
       "      <td>173.481000</td>\n",
       "    </tr>\n",
       "    <tr>\n",
       "      <th>75%</th>\n",
       "      <td>11.450000</td>\n",
       "      <td>137990.750000</td>\n",
       "      <td>317400.000000</td>\n",
       "      <td>585371.750000</td>\n",
       "      <td>2.450000</td>\n",
       "      <td>200.137750</td>\n",
       "    </tr>\n",
       "    <tr>\n",
       "      <th>max</th>\n",
       "      <td>27.100000</td>\n",
       "      <td>144287.000000</td>\n",
       "      <td>496800.000000</td>\n",
       "      <td>954475.000000</td>\n",
       "      <td>2.800000</td>\n",
       "      <td>305.163000</td>\n",
       "    </tr>\n",
       "  </tbody>\n",
       "</table>\n",
       "<p>8 rows × 6 columns</p>\n",
       "</div>"
      ],
      "text/plain": [
       "       Unemployment_construction  Hosuing_inventory_units  \\\n",
       "count                 240.000000                80.000000   \n",
       "mean                    9.367083            133581.412500   \n",
       "std                     5.009610              5919.740686   \n",
       "...                          ...                      ...   \n",
       "50%                     7.700000            133321.000000   \n",
       "75%                    11.450000            137990.750000   \n",
       "max                    27.100000            144287.000000   \n",
       "\n",
       "       Saleprice_of_housesold  Construction_spending  Home_vacancy_rate  \\\n",
       "count              240.000000             240.000000          19.000000   \n",
       "mean            281255.000000          495842.941667           1.884211   \n",
       "std              67786.830345          181021.579559           0.608517   \n",
       "...                       ...                    ...                ...   \n",
       "50%             260650.000000          503623.500000           1.900000   \n",
       "75%             317400.000000          585371.750000           2.450000   \n",
       "max             496800.000000          954475.000000           2.800000   \n",
       "\n",
       "       Housing_price  \n",
       "count     240.000000  \n",
       "mean      182.755325  \n",
       "std        42.833500  \n",
       "...              ...  \n",
       "50%       173.481000  \n",
       "75%       200.137750  \n",
       "max       305.163000  \n",
       "\n",
       "[8 rows x 6 columns]"
      ]
     },
     "execution_count": 37,
     "metadata": {},
     "output_type": "execute_result"
    }
   ],
   "source": [
    "df1.describe()\n"
   ]
  },
  {
   "cell_type": "markdown",
   "id": "4f4854fa",
   "metadata": {},
   "source": [
    "KEY INFERENCE\n",
    "\n",
    "*Home Vacancy Rate: The average home vacancy rate is 1.88%, with a minimum of 0.8% and a maximum of 2.8%. This indicates that     the housing market generally has a relatively low vacancy rate, suggesting a higher demand for housing units compared to the     available supply.\n",
    "\n",
    "*Construction Spending: The average construction spending is $495,842.94, with a standard deviation of $181,021.58. This           indicates that there is a significant variation in the amount spent on construction projects, reflecting fluctuations in the     level of investment in residential real estate development.\n",
    "\n",
    "*Housing Price: The average housing price is $182.76, with a minimum of $130.88 and a maximum of $305.16. This range shows that   there is variability in housing prices, with some properties priced relatively lower and others priced higher. It suggests  that  factors such as location, property type, and market conditions influence the pricing of houses sold."
   ]
  },
  {
   "cell_type": "markdown",
   "id": "5d3155f3",
   "metadata": {},
   "source": [
    "# Section 3 - Pre Processing"
   ]
  },
  {
   "cell_type": "code",
   "execution_count": 38,
   "id": "d80c9106",
   "metadata": {},
   "outputs": [
    {
     "data": {
      "text/html": [
       "<div>\n",
       "<style scoped>\n",
       "    .dataframe tbody tr th:only-of-type {\n",
       "        vertical-align: middle;\n",
       "    }\n",
       "\n",
       "    .dataframe tbody tr th {\n",
       "        vertical-align: top;\n",
       "    }\n",
       "\n",
       "    .dataframe thead th {\n",
       "        text-align: right;\n",
       "    }\n",
       "</style>\n",
       "<table border=\"1\" class=\"dataframe\">\n",
       "  <thead>\n",
       "    <tr style=\"text-align: right;\">\n",
       "      <th></th>\n",
       "      <th>Date</th>\n",
       "      <th>Unemployment_construction</th>\n",
       "      <th>Hosuing_inventory_units</th>\n",
       "      <th>Saleprice_of_housesold</th>\n",
       "      <th>Construction_spending</th>\n",
       "      <th>Home_vacancy_rate</th>\n",
       "      <th>Housing_price</th>\n",
       "    </tr>\n",
       "  </thead>\n",
       "  <tbody>\n",
       "    <tr>\n",
       "      <th>0</th>\n",
       "      <td>2003-04-01</td>\n",
       "      <td>9.3</td>\n",
       "      <td>121233.0</td>\n",
       "      <td>189500</td>\n",
       "      <td>425493</td>\n",
       "      <td>NaN</td>\n",
       "      <td>130.884</td>\n",
       "    </tr>\n",
       "    <tr>\n",
       "      <th>1</th>\n",
       "      <td>2003-05-01</td>\n",
       "      <td>8.4</td>\n",
       "      <td>NaN</td>\n",
       "      <td>195500</td>\n",
       "      <td>426270</td>\n",
       "      <td>NaN</td>\n",
       "      <td>131.735</td>\n",
       "    </tr>\n",
       "    <tr>\n",
       "      <th>2</th>\n",
       "      <td>2003-06-01</td>\n",
       "      <td>7.9</td>\n",
       "      <td>NaN</td>\n",
       "      <td>187900</td>\n",
       "      <td>436163</td>\n",
       "      <td>NaN</td>\n",
       "      <td>132.649</td>\n",
       "    </tr>\n",
       "    <tr>\n",
       "      <th>...</th>\n",
       "      <td>...</td>\n",
       "      <td>...</td>\n",
       "      <td>...</td>\n",
       "      <td>...</td>\n",
       "      <td>...</td>\n",
       "      <td>...</td>\n",
       "      <td>...</td>\n",
       "    </tr>\n",
       "    <tr>\n",
       "      <th>237</th>\n",
       "      <td>2023-01-01</td>\n",
       "      <td>6.9</td>\n",
       "      <td>144287.0</td>\n",
       "      <td>432100</td>\n",
       "      <td>851235</td>\n",
       "      <td>NaN</td>\n",
       "      <td>296.064</td>\n",
       "    </tr>\n",
       "    <tr>\n",
       "      <th>238</th>\n",
       "      <td>2023-02-01</td>\n",
       "      <td>6.6</td>\n",
       "      <td>NaN</td>\n",
       "      <td>445700</td>\n",
       "      <td>851533</td>\n",
       "      <td>NaN</td>\n",
       "      <td>296.926</td>\n",
       "    </tr>\n",
       "    <tr>\n",
       "      <th>239</th>\n",
       "      <td>2023-03-01</td>\n",
       "      <td>5.6</td>\n",
       "      <td>NaN</td>\n",
       "      <td>455800</td>\n",
       "      <td>851460</td>\n",
       "      <td>NaN</td>\n",
       "      <td>298.166</td>\n",
       "    </tr>\n",
       "  </tbody>\n",
       "</table>\n",
       "<p>240 rows × 7 columns</p>\n",
       "</div>"
      ],
      "text/plain": [
       "          Date  Unemployment_construction  Hosuing_inventory_units  \\\n",
       "0   2003-04-01                        9.3                 121233.0   \n",
       "1   2003-05-01                        8.4                      NaN   \n",
       "2   2003-06-01                        7.9                      NaN   \n",
       "..         ...                        ...                      ...   \n",
       "237 2023-01-01                        6.9                 144287.0   \n",
       "238 2023-02-01                        6.6                      NaN   \n",
       "239 2023-03-01                        5.6                      NaN   \n",
       "\n",
       "     Saleprice_of_housesold  Construction_spending  Home_vacancy_rate  \\\n",
       "0                    189500                 425493                NaN   \n",
       "1                    195500                 426270                NaN   \n",
       "2                    187900                 436163                NaN   \n",
       "..                      ...                    ...                ...   \n",
       "237                  432100                 851235                NaN   \n",
       "238                  445700                 851533                NaN   \n",
       "239                  455800                 851460                NaN   \n",
       "\n",
       "     Housing_price  \n",
       "0          130.884  \n",
       "1          131.735  \n",
       "2          132.649  \n",
       "..             ...  \n",
       "237        296.064  \n",
       "238        296.926  \n",
       "239        298.166  \n",
       "\n",
       "[240 rows x 7 columns]"
      ]
     },
     "execution_count": 38,
     "metadata": {},
     "output_type": "execute_result"
    }
   ],
   "source": [
    "pd.set_option(\"display.max_rows\",6)\n",
    "df1"
   ]
  },
  {
   "cell_type": "markdown",
   "id": "83ca786a",
   "metadata": {},
   "source": [
    "### 3.a. Null value treatment"
   ]
  },
  {
   "cell_type": "markdown",
   "id": "3ce670c0",
   "metadata": {},
   "source": [
    "* Fix null values, in three columns - Hosuing_inventory_units, Home_vacancy_rate"
   ]
  },
  {
   "cell_type": "code",
   "execution_count": 39,
   "id": "0fe57a38",
   "metadata": {},
   "outputs": [],
   "source": [
    "df1['Hosuing_inventory_units'] = df1['Hosuing_inventory_units'].fillna(method='ffill').fillna(method='bfill')"
   ]
  },
  {
   "cell_type": "code",
   "execution_count": 40,
   "id": "25ceb770",
   "metadata": {},
   "outputs": [
    {
     "data": {
      "text/html": [
       "<div>\n",
       "<style scoped>\n",
       "    .dataframe tbody tr th:only-of-type {\n",
       "        vertical-align: middle;\n",
       "    }\n",
       "\n",
       "    .dataframe tbody tr th {\n",
       "        vertical-align: top;\n",
       "    }\n",
       "\n",
       "    .dataframe thead th {\n",
       "        text-align: right;\n",
       "    }\n",
       "</style>\n",
       "<table border=\"1\" class=\"dataframe\">\n",
       "  <thead>\n",
       "    <tr style=\"text-align: right;\">\n",
       "      <th></th>\n",
       "      <th>Date</th>\n",
       "      <th>Unemployment_construction</th>\n",
       "      <th>Hosuing_inventory_units</th>\n",
       "      <th>Saleprice_of_housesold</th>\n",
       "      <th>Construction_spending</th>\n",
       "      <th>Home_vacancy_rate</th>\n",
       "      <th>Housing_price</th>\n",
       "    </tr>\n",
       "  </thead>\n",
       "  <tbody>\n",
       "    <tr>\n",
       "      <th>0</th>\n",
       "      <td>2003-04-01</td>\n",
       "      <td>9.3</td>\n",
       "      <td>121233.0</td>\n",
       "      <td>189500</td>\n",
       "      <td>425493</td>\n",
       "      <td>NaN</td>\n",
       "      <td>130.884</td>\n",
       "    </tr>\n",
       "    <tr>\n",
       "      <th>1</th>\n",
       "      <td>2003-05-01</td>\n",
       "      <td>8.4</td>\n",
       "      <td>121233.0</td>\n",
       "      <td>195500</td>\n",
       "      <td>426270</td>\n",
       "      <td>NaN</td>\n",
       "      <td>131.735</td>\n",
       "    </tr>\n",
       "    <tr>\n",
       "      <th>2</th>\n",
       "      <td>2003-06-01</td>\n",
       "      <td>7.9</td>\n",
       "      <td>121233.0</td>\n",
       "      <td>187900</td>\n",
       "      <td>436163</td>\n",
       "      <td>NaN</td>\n",
       "      <td>132.649</td>\n",
       "    </tr>\n",
       "    <tr>\n",
       "      <th>...</th>\n",
       "      <td>...</td>\n",
       "      <td>...</td>\n",
       "      <td>...</td>\n",
       "      <td>...</td>\n",
       "      <td>...</td>\n",
       "      <td>...</td>\n",
       "      <td>...</td>\n",
       "    </tr>\n",
       "    <tr>\n",
       "      <th>237</th>\n",
       "      <td>2023-01-01</td>\n",
       "      <td>6.9</td>\n",
       "      <td>144287.0</td>\n",
       "      <td>432100</td>\n",
       "      <td>851235</td>\n",
       "      <td>NaN</td>\n",
       "      <td>296.064</td>\n",
       "    </tr>\n",
       "    <tr>\n",
       "      <th>238</th>\n",
       "      <td>2023-02-01</td>\n",
       "      <td>6.6</td>\n",
       "      <td>144287.0</td>\n",
       "      <td>445700</td>\n",
       "      <td>851533</td>\n",
       "      <td>NaN</td>\n",
       "      <td>296.926</td>\n",
       "    </tr>\n",
       "    <tr>\n",
       "      <th>239</th>\n",
       "      <td>2023-03-01</td>\n",
       "      <td>5.6</td>\n",
       "      <td>144287.0</td>\n",
       "      <td>455800</td>\n",
       "      <td>851460</td>\n",
       "      <td>NaN</td>\n",
       "      <td>298.166</td>\n",
       "    </tr>\n",
       "  </tbody>\n",
       "</table>\n",
       "<p>240 rows × 7 columns</p>\n",
       "</div>"
      ],
      "text/plain": [
       "          Date  Unemployment_construction  Hosuing_inventory_units  \\\n",
       "0   2003-04-01                        9.3                 121233.0   \n",
       "1   2003-05-01                        8.4                 121233.0   \n",
       "2   2003-06-01                        7.9                 121233.0   \n",
       "..         ...                        ...                      ...   \n",
       "237 2023-01-01                        6.9                 144287.0   \n",
       "238 2023-02-01                        6.6                 144287.0   \n",
       "239 2023-03-01                        5.6                 144287.0   \n",
       "\n",
       "     Saleprice_of_housesold  Construction_spending  Home_vacancy_rate  \\\n",
       "0                    189500                 425493                NaN   \n",
       "1                    195500                 426270                NaN   \n",
       "2                    187900                 436163                NaN   \n",
       "..                      ...                    ...                ...   \n",
       "237                  432100                 851235                NaN   \n",
       "238                  445700                 851533                NaN   \n",
       "239                  455800                 851460                NaN   \n",
       "\n",
       "     Housing_price  \n",
       "0          130.884  \n",
       "1          131.735  \n",
       "2          132.649  \n",
       "..             ...  \n",
       "237        296.064  \n",
       "238        296.926  \n",
       "239        298.166  \n",
       "\n",
       "[240 rows x 7 columns]"
      ]
     },
     "execution_count": 40,
     "metadata": {},
     "output_type": "execute_result"
    }
   ],
   "source": [
    "df1"
   ]
  },
  {
   "cell_type": "code",
   "execution_count": 41,
   "id": "d2105a52",
   "metadata": {},
   "outputs": [
    {
     "data": {
      "text/html": [
       "<div>\n",
       "<style scoped>\n",
       "    .dataframe tbody tr th:only-of-type {\n",
       "        vertical-align: middle;\n",
       "    }\n",
       "\n",
       "    .dataframe tbody tr th {\n",
       "        vertical-align: top;\n",
       "    }\n",
       "\n",
       "    .dataframe thead th {\n",
       "        text-align: right;\n",
       "    }\n",
       "</style>\n",
       "<table border=\"1\" class=\"dataframe\">\n",
       "  <thead>\n",
       "    <tr style=\"text-align: right;\">\n",
       "      <th></th>\n",
       "      <th>Date</th>\n",
       "      <th>Unemployment_construction</th>\n",
       "      <th>Hosuing_inventory_units</th>\n",
       "      <th>Saleprice_of_housesold</th>\n",
       "      <th>Construction_spending</th>\n",
       "      <th>Home_vacancy_rate</th>\n",
       "      <th>Housing_price</th>\n",
       "    </tr>\n",
       "  </thead>\n",
       "  <tbody>\n",
       "    <tr>\n",
       "      <th>0</th>\n",
       "      <td>2003-04-01</td>\n",
       "      <td>9.3</td>\n",
       "      <td>121233.0</td>\n",
       "      <td>189500</td>\n",
       "      <td>425493</td>\n",
       "      <td>NaN</td>\n",
       "      <td>130.884</td>\n",
       "    </tr>\n",
       "    <tr>\n",
       "      <th>1</th>\n",
       "      <td>2003-05-01</td>\n",
       "      <td>8.4</td>\n",
       "      <td>121233.0</td>\n",
       "      <td>195500</td>\n",
       "      <td>426270</td>\n",
       "      <td>NaN</td>\n",
       "      <td>131.735</td>\n",
       "    </tr>\n",
       "    <tr>\n",
       "      <th>2</th>\n",
       "      <td>2003-06-01</td>\n",
       "      <td>7.9</td>\n",
       "      <td>121233.0</td>\n",
       "      <td>187900</td>\n",
       "      <td>436163</td>\n",
       "      <td>NaN</td>\n",
       "      <td>132.649</td>\n",
       "    </tr>\n",
       "    <tr>\n",
       "      <th>...</th>\n",
       "      <td>...</td>\n",
       "      <td>...</td>\n",
       "      <td>...</td>\n",
       "      <td>...</td>\n",
       "      <td>...</td>\n",
       "      <td>...</td>\n",
       "      <td>...</td>\n",
       "    </tr>\n",
       "    <tr>\n",
       "      <th>237</th>\n",
       "      <td>2023-01-01</td>\n",
       "      <td>6.9</td>\n",
       "      <td>144287.0</td>\n",
       "      <td>432100</td>\n",
       "      <td>851235</td>\n",
       "      <td>0.8</td>\n",
       "      <td>296.064</td>\n",
       "    </tr>\n",
       "    <tr>\n",
       "      <th>238</th>\n",
       "      <td>2023-02-01</td>\n",
       "      <td>6.6</td>\n",
       "      <td>144287.0</td>\n",
       "      <td>445700</td>\n",
       "      <td>851533</td>\n",
       "      <td>0.8</td>\n",
       "      <td>296.926</td>\n",
       "    </tr>\n",
       "    <tr>\n",
       "      <th>239</th>\n",
       "      <td>2023-03-01</td>\n",
       "      <td>5.6</td>\n",
       "      <td>144287.0</td>\n",
       "      <td>455800</td>\n",
       "      <td>851460</td>\n",
       "      <td>0.8</td>\n",
       "      <td>298.166</td>\n",
       "    </tr>\n",
       "  </tbody>\n",
       "</table>\n",
       "<p>240 rows × 7 columns</p>\n",
       "</div>"
      ],
      "text/plain": [
       "          Date  Unemployment_construction  Hosuing_inventory_units  \\\n",
       "0   2003-04-01                        9.3                 121233.0   \n",
       "1   2003-05-01                        8.4                 121233.0   \n",
       "2   2003-06-01                        7.9                 121233.0   \n",
       "..         ...                        ...                      ...   \n",
       "237 2023-01-01                        6.9                 144287.0   \n",
       "238 2023-02-01                        6.6                 144287.0   \n",
       "239 2023-03-01                        5.6                 144287.0   \n",
       "\n",
       "     Saleprice_of_housesold  Construction_spending  Home_vacancy_rate  \\\n",
       "0                    189500                 425493                NaN   \n",
       "1                    195500                 426270                NaN   \n",
       "2                    187900                 436163                NaN   \n",
       "..                      ...                    ...                ...   \n",
       "237                  432100                 851235                0.8   \n",
       "238                  445700                 851533                0.8   \n",
       "239                  455800                 851460                0.8   \n",
       "\n",
       "     Housing_price  \n",
       "0          130.884  \n",
       "1          131.735  \n",
       "2          132.649  \n",
       "..             ...  \n",
       "237        296.064  \n",
       "238        296.926  \n",
       "239        298.166  \n",
       "\n",
       "[240 rows x 7 columns]"
      ]
     },
     "execution_count": 41,
     "metadata": {},
     "output_type": "execute_result"
    }
   ],
   "source": [
    "df1['Home_vacancy_rate'].interpolate(method='linear', inplace=True)\n",
    "df1['Home_vacancy_rate'].ffill(inplace=True)\n",
    "\n",
    "df1\n"
   ]
  },
  {
   "cell_type": "code",
   "execution_count": 42,
   "id": "7c067809",
   "metadata": {},
   "outputs": [],
   "source": [
    "df1 = df1.drop(df.index[:9])"
   ]
  },
  {
   "cell_type": "code",
   "execution_count": 43,
   "id": "99870a06",
   "metadata": {},
   "outputs": [
    {
     "data": {
      "text/html": [
       "<div>\n",
       "<style scoped>\n",
       "    .dataframe tbody tr th:only-of-type {\n",
       "        vertical-align: middle;\n",
       "    }\n",
       "\n",
       "    .dataframe tbody tr th {\n",
       "        vertical-align: top;\n",
       "    }\n",
       "\n",
       "    .dataframe thead th {\n",
       "        text-align: right;\n",
       "    }\n",
       "</style>\n",
       "<table border=\"1\" class=\"dataframe\">\n",
       "  <thead>\n",
       "    <tr style=\"text-align: right;\">\n",
       "      <th></th>\n",
       "      <th>Date</th>\n",
       "      <th>Unemployment_construction</th>\n",
       "      <th>Hosuing_inventory_units</th>\n",
       "      <th>Saleprice_of_housesold</th>\n",
       "      <th>Construction_spending</th>\n",
       "      <th>Home_vacancy_rate</th>\n",
       "      <th>Housing_price</th>\n",
       "    </tr>\n",
       "  </thead>\n",
       "  <tbody>\n",
       "    <tr>\n",
       "      <th>9</th>\n",
       "      <td>2004-01-01</td>\n",
       "      <td>11.3</td>\n",
       "      <td>122632.0</td>\n",
       "      <td>209500</td>\n",
       "      <td>503659</td>\n",
       "      <td>1.700000</td>\n",
       "      <td>141.646</td>\n",
       "    </tr>\n",
       "    <tr>\n",
       "      <th>10</th>\n",
       "      <td>2004-02-01</td>\n",
       "      <td>11.6</td>\n",
       "      <td>122632.0</td>\n",
       "      <td>219600</td>\n",
       "      <td>505081</td>\n",
       "      <td>1.716667</td>\n",
       "      <td>143.192</td>\n",
       "    </tr>\n",
       "    <tr>\n",
       "      <th>11</th>\n",
       "      <td>2004-03-01</td>\n",
       "      <td>11.3</td>\n",
       "      <td>122632.0</td>\n",
       "      <td>209600</td>\n",
       "      <td>511829</td>\n",
       "      <td>1.733333</td>\n",
       "      <td>145.058</td>\n",
       "    </tr>\n",
       "    <tr>\n",
       "      <th>...</th>\n",
       "      <td>...</td>\n",
       "      <td>...</td>\n",
       "      <td>...</td>\n",
       "      <td>...</td>\n",
       "      <td>...</td>\n",
       "      <td>...</td>\n",
       "      <td>...</td>\n",
       "    </tr>\n",
       "    <tr>\n",
       "      <th>237</th>\n",
       "      <td>2023-01-01</td>\n",
       "      <td>6.9</td>\n",
       "      <td>144287.0</td>\n",
       "      <td>432100</td>\n",
       "      <td>851235</td>\n",
       "      <td>0.800000</td>\n",
       "      <td>296.064</td>\n",
       "    </tr>\n",
       "    <tr>\n",
       "      <th>238</th>\n",
       "      <td>2023-02-01</td>\n",
       "      <td>6.6</td>\n",
       "      <td>144287.0</td>\n",
       "      <td>445700</td>\n",
       "      <td>851533</td>\n",
       "      <td>0.800000</td>\n",
       "      <td>296.926</td>\n",
       "    </tr>\n",
       "    <tr>\n",
       "      <th>239</th>\n",
       "      <td>2023-03-01</td>\n",
       "      <td>5.6</td>\n",
       "      <td>144287.0</td>\n",
       "      <td>455800</td>\n",
       "      <td>851460</td>\n",
       "      <td>0.800000</td>\n",
       "      <td>298.166</td>\n",
       "    </tr>\n",
       "  </tbody>\n",
       "</table>\n",
       "<p>231 rows × 7 columns</p>\n",
       "</div>"
      ],
      "text/plain": [
       "          Date  Unemployment_construction  Hosuing_inventory_units  \\\n",
       "9   2004-01-01                       11.3                 122632.0   \n",
       "10  2004-02-01                       11.6                 122632.0   \n",
       "11  2004-03-01                       11.3                 122632.0   \n",
       "..         ...                        ...                      ...   \n",
       "237 2023-01-01                        6.9                 144287.0   \n",
       "238 2023-02-01                        6.6                 144287.0   \n",
       "239 2023-03-01                        5.6                 144287.0   \n",
       "\n",
       "     Saleprice_of_housesold  Construction_spending  Home_vacancy_rate  \\\n",
       "9                    209500                 503659           1.700000   \n",
       "10                   219600                 505081           1.716667   \n",
       "11                   209600                 511829           1.733333   \n",
       "..                      ...                    ...                ...   \n",
       "237                  432100                 851235           0.800000   \n",
       "238                  445700                 851533           0.800000   \n",
       "239                  455800                 851460           0.800000   \n",
       "\n",
       "     Housing_price  \n",
       "9          141.646  \n",
       "10         143.192  \n",
       "11         145.058  \n",
       "..             ...  \n",
       "237        296.064  \n",
       "238        296.926  \n",
       "239        298.166  \n",
       "\n",
       "[231 rows x 7 columns]"
      ]
     },
     "execution_count": 43,
     "metadata": {},
     "output_type": "execute_result"
    }
   ],
   "source": [
    "df1"
   ]
  },
  {
   "cell_type": "markdown",
   "id": "e836411f",
   "metadata": {},
   "source": [
    "### 3.b. Outlier treatment"
   ]
  },
  {
   "cell_type": "code",
   "execution_count": 44,
   "id": "8b1058ef",
   "metadata": {},
   "outputs": [
    {
     "name": "stdout",
     "output_type": "stream",
     "text": [
      "          Date  Unemployment_construction  Hosuing_inventory_units  \\\n",
      "81  2010-01-01                       24.7                 131626.0   \n",
      "82  2010-02-01                       27.1                 131626.0   \n",
      "83  2010-03-01                       24.9                 131626.0   \n",
      "234 2022-10-01                        4.1                 143950.0   \n",
      "\n",
      "     Saleprice_of_housesold  Construction_spending  Home_vacancy_rate  \\\n",
      "81                   218200                 263680           2.600000   \n",
      "82                   221900                 263649           2.591667   \n",
      "83                   224800                 263220           2.583333   \n",
      "234                  496800                 874105           0.800000   \n",
      "\n",
      "     Housing_price  \n",
      "81         147.395  \n",
      "82         145.631  \n",
      "83         145.859  \n",
      "234        298.793  \n"
     ]
    }
   ],
   "source": [
    "columns_to_check = ['Unemployment_construction','Hosuing_inventory_units','Saleprice_of_housesold','Construction_spending','Home_vacancy_rate']\n",
    "df1[columns_to_check] = df1[columns_to_check].apply(pd.to_numeric, errors='coerce')\n",
    "z_scores = np.abs(zscore(df1[columns_to_check]))\n",
    "outlier_threshold = 3\n",
    "outlier_rows = np.any(z_scores > outlier_threshold, axis=1)\n",
    "outliers = df1[outlier_rows]\n",
    "\n",
    "print(outliers)\n"
   ]
  },
  {
   "cell_type": "markdown",
   "id": "546cbd40",
   "metadata": {},
   "source": [
    "# Section 4 - Exploratory data analysis"
   ]
  },
  {
   "cell_type": "markdown",
   "id": "df201f5e",
   "metadata": {},
   "source": [
    "* Lets Answer the important question how Hosuing price index gets effected by other supply factors out there, For this we need to see the correlation"
   ]
  },
  {
   "cell_type": "code",
   "execution_count": 45,
   "id": "a1e95403",
   "metadata": {},
   "outputs": [],
   "source": [
    "df1.drop('Date', axis=1, inplace=True)\n",
    "\n"
   ]
  },
  {
   "cell_type": "code",
   "execution_count": 46,
   "id": "73d5947f",
   "metadata": {
    "scrolled": true
   },
   "outputs": [
    {
     "name": "stdout",
     "output_type": "stream",
     "text": [
      "Correlation coefficient (Unemployment_construction vs. Housing_price): -0.5877800199765547\n",
      "Correlation coefficient (Hosuing_inventory_units vs. Housing_price): 0.7472598266956366\n",
      "Correlation coefficient (Saleprice_of_housesold vs. Housing_price): 0.9341343904989842\n",
      "Correlation coefficient (Construction_spending vs. Housing_price): 0.904220984581984\n",
      "Correlation coefficient (Home_vacancy_rate vs. Housing_price): -0.7712716840699162\n"
     ]
    }
   ],
   "source": [
    "for column in df1.columns:\n",
    "    if column != 'Housing_price':\n",
    "        # Calculate the correlation coefficient between the current column and Housing_price\n",
    "        corr = df1[column].corr(df['Housing_price'])\n",
    "        \n",
    "        print(f\"Correlation coefficient ({column} vs. Housing_price): {corr}\")\n"
   ]
  },
  {
   "cell_type": "code",
   "execution_count": 47,
   "id": "0dc64bdf",
   "metadata": {},
   "outputs": [
    {
     "data": {
      "application/vnd.plotly.v1+json": {
       "config": {
        "plotlyServerURL": "https://plot.ly"
       },
       "data": [
        {
         "hovertemplate": "Unemployment_construction=%{x}<br>Housing_price=%{y}<extra></extra>",
         "legendgroup": "",
         "marker": {
          "color": "#636efa",
          "symbol": "circle"
         },
         "mode": "markers",
         "name": "",
         "orientation": "v",
         "showlegend": false,
         "type": "scatter",
         "x": [
          11.3,
          11.6,
          11.3,
          9.5,
          7.4,
          7,
          6.4,
          6,
          6.8,
          6.9,
          7.4,
          9.5,
          11.8,
          12.3,
          10.3,
          7.4,
          6.1,
          5.7,
          5.2,
          5.7,
          5.7,
          5.3,
          5.7,
          8.2,
          9,
          8.6,
          8.5,
          6.9,
          6.6,
          5.6,
          6.1,
          5.9,
          5.6,
          4.5,
          6,
          6.9,
          8.9,
          10.5,
          9,
          8.6,
          6.9,
          5.9,
          5.9,
          5.3,
          5.8,
          6.1,
          6.2,
          9.4,
          11,
          11.4,
          12,
          11.1,
          8.6,
          8.2,
          8,
          8.2,
          9.9,
          10.8,
          12.7,
          15.3,
          18.2,
          21.4,
          21.1,
          18.7,
          19.2,
          17.4,
          18.2,
          16.5,
          17.1,
          18.7,
          19.4,
          22.7,
          24.7,
          27.1,
          24.9,
          21.8,
          20.1,
          20.1,
          17.3,
          17,
          17.2,
          17.3,
          18.8,
          20.7,
          22.5,
          21.8,
          20,
          17.8,
          16.3,
          15.6,
          13.6,
          13.5,
          13.3,
          13.7,
          13.1,
          16,
          17.7,
          17.1,
          17.2,
          14.5,
          14.2,
          12.8,
          12.3,
          11.3,
          11.9,
          11.4,
          12.2,
          13.5,
          16.1,
          15.7,
          14.7,
          13.2,
          10.8,
          9.8,
          9.1,
          9.1,
          8.5,
          9,
          8.6,
          11.4,
          12.3,
          12.8,
          11.3,
          9.4,
          8.6,
          8.2,
          7.5,
          7.7,
          7,
          6.4,
          7.5,
          8.3,
          9.8,
          10.6,
          9.5,
          7.5,
          6.7,
          6.3,
          5.5,
          6.1,
          5.5,
          6.2,
          6.2,
          7.5,
          8.5,
          8.7,
          8.7,
          6,
          5.2,
          4.6,
          4.5,
          5.1,
          5.2,
          5.7,
          5.7,
          7.4,
          9.4,
          8.8,
          8.4,
          6.3,
          5.3,
          4.5,
          4.9,
          4.7,
          4.7,
          4.5,
          5,
          5.9,
          7.3,
          7.8,
          7.4,
          6.5,
          4.4,
          4.7,
          3.4,
          3.4,
          4.1,
          3.6,
          3.9,
          5.1,
          6.4,
          6.2,
          5.2,
          4.7,
          3.2,
          4,
          3.8,
          3.6,
          3.2,
          4,
          4.4,
          5,
          5.4,
          5.5,
          6.9,
          16.6,
          12.7,
          10.1,
          8.9,
          7.6,
          7.1,
          6.8,
          7.3,
          9.6,
          9.4,
          9.6,
          8.6,
          7.7,
          6.7,
          7.5,
          6.1,
          4.6,
          4.5,
          4,
          4.7,
          5,
          7.1,
          6.7,
          6,
          4.6,
          3.8,
          3.7,
          3.5,
          3.9,
          3.4,
          4.1,
          3.9,
          4.4,
          6.9,
          6.6,
          5.6
         ],
         "xaxis": "x",
         "y": [
          141.64600000000002,
          143.192,
          145.058,
          146.592,
          148.185,
          149.85,
          151.338,
          152.63299999999998,
          154.179,
          155.75,
          157.52700000000002,
          159.329,
          161.28799999999998,
          163.344,
          165.812,
          167.50099999999998,
          169.351,
          171.19,
          172.86,
          174.442,
          176.438,
          178.02700000000002,
          179.68099999999998,
          180.91,
          182.321,
          183.287,
          184.365,
          184.329,
          184.15599999999998,
          183.507,
          183.067,
          182.593,
          182.798,
          183.199,
          183.61,
          184.139,
          184.517,
          184.59900000000002,
          184.15,
          183.01,
          181.6,
          180.25400000000002,
          179.111,
          178.11599999999999,
          177.55700000000002,
          176.623,
          175.146,
          174.34099999999998,
          173.132,
          171.541,
          170.054,
          168.33900000000003,
          166.66,
          165.018,
          163.567,
          161.988,
          160.308,
          158.327,
          156.141,
          153.618,
          151.506,
          150.014,
          148.66,
          147.94899999999998,
          147.695,
          148.09,
          148.41,
          148.27700000000002,
          148.024,
          147.849,
          148.13299999999998,
          147.928,
          147.395,
          145.631,
          145.859,
          146.40200000000002,
          146.393,
          145.719,
          144.989,
          143.91299999999998,
          143.017,
          142.53,
          142.173,
          142.059,
          141.52200000000002,
          140.35,
          139.982,
          140.009,
          139.904,
          139.86,
          139.72899999999998,
          139.30700000000002,
          138.668,
          137.952,
          137.15200000000002,
          136.675,
          136.607,
          136.532,
          137.904,
          139.155,
          140.155,
          141.03,
          141.67,
          142.28,
          142.909,
          143.601,
          144.585,
          145.502,
          146.827,
          147.783,
          149.963,
          151.518,
          152.849,
          154.197,
          155.602,
          156.965,
          158.227,
          159.241,
          160.07299999999998,
          160.993,
          161.928,
          162.52700000000002,
          163.088,
          163.39600000000002,
          163.66299999999998,
          164.05599999999998,
          164.574,
          165.218,
          165.907,
          166.644,
          167.33700000000002,
          168.053,
          168.637,
          169.132,
          169.80200000000002,
          170.301,
          170.88400000000001,
          171.457,
          172.125,
          172.938,
          173.83,
          174.794,
          175.74200000000002,
          176.548,
          177.27700000000002,
          177.65400000000002,
          178.168,
          178.77,
          179.43200000000002,
          180.065,
          180.826,
          181.854,
          182.827,
          183.75400000000002,
          184.762,
          185.72299999999998,
          186.80200000000002,
          187.31599999999997,
          187.997,
          188.733,
          189.62900000000002,
          190.50400000000002,
          191.452,
          192.683,
          193.775,
          194.81400000000002,
          195.953,
          197.15900000000002,
          198.291,
          199.21400000000003,
          199.96099999999998,
          200.668,
          201.447,
          202.245,
          202.929,
          203.734,
          204.39,
          205.13299999999998,
          205.666,
          206.114,
          206.479,
          206.803,
          207.043,
          207.53799999999998,
          208.19400000000002,
          208.701,
          209.31799999999998,
          210.183,
          210.972,
          211.81599999999997,
          212.762,
          213.843,
          214.84599999999998,
          215.722,
          216.345,
          216.87,
          217.11900000000003,
          217.739,
          219.437,
          222.537,
          225.933,
          229.782,
          233.162,
          236.345,
          239.3,
          242.111,
          245.364,
          249.18400000000003,
          253.68200000000002,
          258.592,
          262.907,
          267.069,
          270.498,
          273.748,
          277.122,
          281.127,
          285.493,
          290.736,
          296.296,
          300.829,
          304.29400000000004,
          305.163,
          304.04400000000004,
          301.712,
          299.41200000000003,
          298.793,
          297.985,
          296.952,
          296.064,
          296.926,
          298.166
         ],
         "yaxis": "y"
        }
       ],
       "layout": {
        "legend": {
         "tracegroupgap": 0
        },
        "template": {
         "data": {
          "bar": [
           {
            "error_x": {
             "color": "#2a3f5f"
            },
            "error_y": {
             "color": "#2a3f5f"
            },
            "marker": {
             "line": {
              "color": "#E5ECF6",
              "width": 0.5
             },
             "pattern": {
              "fillmode": "overlay",
              "size": 10,
              "solidity": 0.2
             }
            },
            "type": "bar"
           }
          ],
          "barpolar": [
           {
            "marker": {
             "line": {
              "color": "#E5ECF6",
              "width": 0.5
             },
             "pattern": {
              "fillmode": "overlay",
              "size": 10,
              "solidity": 0.2
             }
            },
            "type": "barpolar"
           }
          ],
          "carpet": [
           {
            "aaxis": {
             "endlinecolor": "#2a3f5f",
             "gridcolor": "white",
             "linecolor": "white",
             "minorgridcolor": "white",
             "startlinecolor": "#2a3f5f"
            },
            "baxis": {
             "endlinecolor": "#2a3f5f",
             "gridcolor": "white",
             "linecolor": "white",
             "minorgridcolor": "white",
             "startlinecolor": "#2a3f5f"
            },
            "type": "carpet"
           }
          ],
          "choropleth": [
           {
            "colorbar": {
             "outlinewidth": 0,
             "ticks": ""
            },
            "type": "choropleth"
           }
          ],
          "contour": [
           {
            "colorbar": {
             "outlinewidth": 0,
             "ticks": ""
            },
            "colorscale": [
             [
              0,
              "#0d0887"
             ],
             [
              0.1111111111111111,
              "#46039f"
             ],
             [
              0.2222222222222222,
              "#7201a8"
             ],
             [
              0.3333333333333333,
              "#9c179e"
             ],
             [
              0.4444444444444444,
              "#bd3786"
             ],
             [
              0.5555555555555556,
              "#d8576b"
             ],
             [
              0.6666666666666666,
              "#ed7953"
             ],
             [
              0.7777777777777778,
              "#fb9f3a"
             ],
             [
              0.8888888888888888,
              "#fdca26"
             ],
             [
              1,
              "#f0f921"
             ]
            ],
            "type": "contour"
           }
          ],
          "contourcarpet": [
           {
            "colorbar": {
             "outlinewidth": 0,
             "ticks": ""
            },
            "type": "contourcarpet"
           }
          ],
          "heatmap": [
           {
            "colorbar": {
             "outlinewidth": 0,
             "ticks": ""
            },
            "colorscale": [
             [
              0,
              "#0d0887"
             ],
             [
              0.1111111111111111,
              "#46039f"
             ],
             [
              0.2222222222222222,
              "#7201a8"
             ],
             [
              0.3333333333333333,
              "#9c179e"
             ],
             [
              0.4444444444444444,
              "#bd3786"
             ],
             [
              0.5555555555555556,
              "#d8576b"
             ],
             [
              0.6666666666666666,
              "#ed7953"
             ],
             [
              0.7777777777777778,
              "#fb9f3a"
             ],
             [
              0.8888888888888888,
              "#fdca26"
             ],
             [
              1,
              "#f0f921"
             ]
            ],
            "type": "heatmap"
           }
          ],
          "heatmapgl": [
           {
            "colorbar": {
             "outlinewidth": 0,
             "ticks": ""
            },
            "colorscale": [
             [
              0,
              "#0d0887"
             ],
             [
              0.1111111111111111,
              "#46039f"
             ],
             [
              0.2222222222222222,
              "#7201a8"
             ],
             [
              0.3333333333333333,
              "#9c179e"
             ],
             [
              0.4444444444444444,
              "#bd3786"
             ],
             [
              0.5555555555555556,
              "#d8576b"
             ],
             [
              0.6666666666666666,
              "#ed7953"
             ],
             [
              0.7777777777777778,
              "#fb9f3a"
             ],
             [
              0.8888888888888888,
              "#fdca26"
             ],
             [
              1,
              "#f0f921"
             ]
            ],
            "type": "heatmapgl"
           }
          ],
          "histogram": [
           {
            "marker": {
             "pattern": {
              "fillmode": "overlay",
              "size": 10,
              "solidity": 0.2
             }
            },
            "type": "histogram"
           }
          ],
          "histogram2d": [
           {
            "colorbar": {
             "outlinewidth": 0,
             "ticks": ""
            },
            "colorscale": [
             [
              0,
              "#0d0887"
             ],
             [
              0.1111111111111111,
              "#46039f"
             ],
             [
              0.2222222222222222,
              "#7201a8"
             ],
             [
              0.3333333333333333,
              "#9c179e"
             ],
             [
              0.4444444444444444,
              "#bd3786"
             ],
             [
              0.5555555555555556,
              "#d8576b"
             ],
             [
              0.6666666666666666,
              "#ed7953"
             ],
             [
              0.7777777777777778,
              "#fb9f3a"
             ],
             [
              0.8888888888888888,
              "#fdca26"
             ],
             [
              1,
              "#f0f921"
             ]
            ],
            "type": "histogram2d"
           }
          ],
          "histogram2dcontour": [
           {
            "colorbar": {
             "outlinewidth": 0,
             "ticks": ""
            },
            "colorscale": [
             [
              0,
              "#0d0887"
             ],
             [
              0.1111111111111111,
              "#46039f"
             ],
             [
              0.2222222222222222,
              "#7201a8"
             ],
             [
              0.3333333333333333,
              "#9c179e"
             ],
             [
              0.4444444444444444,
              "#bd3786"
             ],
             [
              0.5555555555555556,
              "#d8576b"
             ],
             [
              0.6666666666666666,
              "#ed7953"
             ],
             [
              0.7777777777777778,
              "#fb9f3a"
             ],
             [
              0.8888888888888888,
              "#fdca26"
             ],
             [
              1,
              "#f0f921"
             ]
            ],
            "type": "histogram2dcontour"
           }
          ],
          "mesh3d": [
           {
            "colorbar": {
             "outlinewidth": 0,
             "ticks": ""
            },
            "type": "mesh3d"
           }
          ],
          "parcoords": [
           {
            "line": {
             "colorbar": {
              "outlinewidth": 0,
              "ticks": ""
             }
            },
            "type": "parcoords"
           }
          ],
          "pie": [
           {
            "automargin": true,
            "type": "pie"
           }
          ],
          "scatter": [
           {
            "fillpattern": {
             "fillmode": "overlay",
             "size": 10,
             "solidity": 0.2
            },
            "type": "scatter"
           }
          ],
          "scatter3d": [
           {
            "line": {
             "colorbar": {
              "outlinewidth": 0,
              "ticks": ""
             }
            },
            "marker": {
             "colorbar": {
              "outlinewidth": 0,
              "ticks": ""
             }
            },
            "type": "scatter3d"
           }
          ],
          "scattercarpet": [
           {
            "marker": {
             "colorbar": {
              "outlinewidth": 0,
              "ticks": ""
             }
            },
            "type": "scattercarpet"
           }
          ],
          "scattergeo": [
           {
            "marker": {
             "colorbar": {
              "outlinewidth": 0,
              "ticks": ""
             }
            },
            "type": "scattergeo"
           }
          ],
          "scattergl": [
           {
            "marker": {
             "colorbar": {
              "outlinewidth": 0,
              "ticks": ""
             }
            },
            "type": "scattergl"
           }
          ],
          "scattermapbox": [
           {
            "marker": {
             "colorbar": {
              "outlinewidth": 0,
              "ticks": ""
             }
            },
            "type": "scattermapbox"
           }
          ],
          "scatterpolar": [
           {
            "marker": {
             "colorbar": {
              "outlinewidth": 0,
              "ticks": ""
             }
            },
            "type": "scatterpolar"
           }
          ],
          "scatterpolargl": [
           {
            "marker": {
             "colorbar": {
              "outlinewidth": 0,
              "ticks": ""
             }
            },
            "type": "scatterpolargl"
           }
          ],
          "scatterternary": [
           {
            "marker": {
             "colorbar": {
              "outlinewidth": 0,
              "ticks": ""
             }
            },
            "type": "scatterternary"
           }
          ],
          "surface": [
           {
            "colorbar": {
             "outlinewidth": 0,
             "ticks": ""
            },
            "colorscale": [
             [
              0,
              "#0d0887"
             ],
             [
              0.1111111111111111,
              "#46039f"
             ],
             [
              0.2222222222222222,
              "#7201a8"
             ],
             [
              0.3333333333333333,
              "#9c179e"
             ],
             [
              0.4444444444444444,
              "#bd3786"
             ],
             [
              0.5555555555555556,
              "#d8576b"
             ],
             [
              0.6666666666666666,
              "#ed7953"
             ],
             [
              0.7777777777777778,
              "#fb9f3a"
             ],
             [
              0.8888888888888888,
              "#fdca26"
             ],
             [
              1,
              "#f0f921"
             ]
            ],
            "type": "surface"
           }
          ],
          "table": [
           {
            "cells": {
             "fill": {
              "color": "#EBF0F8"
             },
             "line": {
              "color": "white"
             }
            },
            "header": {
             "fill": {
              "color": "#C8D4E3"
             },
             "line": {
              "color": "white"
             }
            },
            "type": "table"
           }
          ]
         },
         "layout": {
          "annotationdefaults": {
           "arrowcolor": "#2a3f5f",
           "arrowhead": 0,
           "arrowwidth": 1
          },
          "autotypenumbers": "strict",
          "coloraxis": {
           "colorbar": {
            "outlinewidth": 0,
            "ticks": ""
           }
          },
          "colorscale": {
           "diverging": [
            [
             0,
             "#8e0152"
            ],
            [
             0.1,
             "#c51b7d"
            ],
            [
             0.2,
             "#de77ae"
            ],
            [
             0.3,
             "#f1b6da"
            ],
            [
             0.4,
             "#fde0ef"
            ],
            [
             0.5,
             "#f7f7f7"
            ],
            [
             0.6,
             "#e6f5d0"
            ],
            [
             0.7,
             "#b8e186"
            ],
            [
             0.8,
             "#7fbc41"
            ],
            [
             0.9,
             "#4d9221"
            ],
            [
             1,
             "#276419"
            ]
           ],
           "sequential": [
            [
             0,
             "#0d0887"
            ],
            [
             0.1111111111111111,
             "#46039f"
            ],
            [
             0.2222222222222222,
             "#7201a8"
            ],
            [
             0.3333333333333333,
             "#9c179e"
            ],
            [
             0.4444444444444444,
             "#bd3786"
            ],
            [
             0.5555555555555556,
             "#d8576b"
            ],
            [
             0.6666666666666666,
             "#ed7953"
            ],
            [
             0.7777777777777778,
             "#fb9f3a"
            ],
            [
             0.8888888888888888,
             "#fdca26"
            ],
            [
             1,
             "#f0f921"
            ]
           ],
           "sequentialminus": [
            [
             0,
             "#0d0887"
            ],
            [
             0.1111111111111111,
             "#46039f"
            ],
            [
             0.2222222222222222,
             "#7201a8"
            ],
            [
             0.3333333333333333,
             "#9c179e"
            ],
            [
             0.4444444444444444,
             "#bd3786"
            ],
            [
             0.5555555555555556,
             "#d8576b"
            ],
            [
             0.6666666666666666,
             "#ed7953"
            ],
            [
             0.7777777777777778,
             "#fb9f3a"
            ],
            [
             0.8888888888888888,
             "#fdca26"
            ],
            [
             1,
             "#f0f921"
            ]
           ]
          },
          "colorway": [
           "#636efa",
           "#EF553B",
           "#00cc96",
           "#ab63fa",
           "#FFA15A",
           "#19d3f3",
           "#FF6692",
           "#B6E880",
           "#FF97FF",
           "#FECB52"
          ],
          "font": {
           "color": "#2a3f5f"
          },
          "geo": {
           "bgcolor": "white",
           "lakecolor": "white",
           "landcolor": "#E5ECF6",
           "showlakes": true,
           "showland": true,
           "subunitcolor": "white"
          },
          "hoverlabel": {
           "align": "left"
          },
          "hovermode": "closest",
          "mapbox": {
           "style": "light"
          },
          "paper_bgcolor": "white",
          "plot_bgcolor": "#E5ECF6",
          "polar": {
           "angularaxis": {
            "gridcolor": "white",
            "linecolor": "white",
            "ticks": ""
           },
           "bgcolor": "#E5ECF6",
           "radialaxis": {
            "gridcolor": "white",
            "linecolor": "white",
            "ticks": ""
           }
          },
          "scene": {
           "xaxis": {
            "backgroundcolor": "#E5ECF6",
            "gridcolor": "white",
            "gridwidth": 2,
            "linecolor": "white",
            "showbackground": true,
            "ticks": "",
            "zerolinecolor": "white"
           },
           "yaxis": {
            "backgroundcolor": "#E5ECF6",
            "gridcolor": "white",
            "gridwidth": 2,
            "linecolor": "white",
            "showbackground": true,
            "ticks": "",
            "zerolinecolor": "white"
           },
           "zaxis": {
            "backgroundcolor": "#E5ECF6",
            "gridcolor": "white",
            "gridwidth": 2,
            "linecolor": "white",
            "showbackground": true,
            "ticks": "",
            "zerolinecolor": "white"
           }
          },
          "shapedefaults": {
           "line": {
            "color": "#2a3f5f"
           }
          },
          "ternary": {
           "aaxis": {
            "gridcolor": "white",
            "linecolor": "white",
            "ticks": ""
           },
           "baxis": {
            "gridcolor": "white",
            "linecolor": "white",
            "ticks": ""
           },
           "bgcolor": "#E5ECF6",
           "caxis": {
            "gridcolor": "white",
            "linecolor": "white",
            "ticks": ""
           }
          },
          "title": {
           "x": 0.05
          },
          "xaxis": {
           "automargin": true,
           "gridcolor": "white",
           "linecolor": "white",
           "ticks": "",
           "title": {
            "standoff": 15
           },
           "zerolinecolor": "white",
           "zerolinewidth": 2
          },
          "yaxis": {
           "automargin": true,
           "gridcolor": "white",
           "linecolor": "white",
           "ticks": "",
           "title": {
            "standoff": 15
           },
           "zerolinecolor": "white",
           "zerolinewidth": 2
          }
         }
        },
        "title": {
         "text": "<b>Unemployment_construction vs. Housing Price</b>"
        },
        "xaxis": {
         "anchor": "y",
         "domain": [
          0,
          1
         ],
         "title": {
          "text": "Unemployment_construction"
         }
        },
        "yaxis": {
         "anchor": "x",
         "domain": [
          0,
          1
         ],
         "title": {
          "text": "Housing_price"
         }
        }
       }
      },
      "text/html": [
       "<div>                            <div id=\"addf0698-24b7-4fdb-a15d-e858b5fa2139\" class=\"plotly-graph-div\" style=\"height:525px; width:100%;\"></div>            <script type=\"text/javascript\">                require([\"plotly\"], function(Plotly) {                    window.PLOTLYENV=window.PLOTLYENV || {};                                    if (document.getElementById(\"addf0698-24b7-4fdb-a15d-e858b5fa2139\")) {                    Plotly.newPlot(                        \"addf0698-24b7-4fdb-a15d-e858b5fa2139\",                        [{\"hovertemplate\":\"Unemployment_construction=%{x}<br>Housing_price=%{y}<extra></extra>\",\"legendgroup\":\"\",\"marker\":{\"color\":\"#636efa\",\"symbol\":\"circle\"},\"mode\":\"markers\",\"name\":\"\",\"orientation\":\"v\",\"showlegend\":false,\"x\":[11.3,11.6,11.3,9.5,7.4,7.0,6.4,6.0,6.8,6.9,7.4,9.5,11.8,12.3,10.3,7.4,6.1,5.7,5.2,5.7,5.7,5.3,5.7,8.2,9.0,8.6,8.5,6.9,6.6,5.6,6.1,5.9,5.6,4.5,6.0,6.9,8.9,10.5,9.0,8.6,6.9,5.9,5.9,5.3,5.8,6.1,6.2,9.4,11.0,11.4,12.0,11.1,8.6,8.2,8.0,8.2,9.9,10.8,12.7,15.3,18.2,21.4,21.1,18.7,19.2,17.4,18.2,16.5,17.1,18.7,19.4,22.7,24.7,27.1,24.9,21.8,20.1,20.1,17.3,17.0,17.2,17.3,18.8,20.7,22.5,21.8,20.0,17.8,16.3,15.6,13.6,13.5,13.3,13.7,13.1,16.0,17.7,17.1,17.2,14.5,14.2,12.8,12.3,11.3,11.9,11.4,12.2,13.5,16.1,15.7,14.7,13.2,10.8,9.8,9.1,9.1,8.5,9.0,8.6,11.4,12.3,12.8,11.3,9.4,8.6,8.2,7.5,7.7,7.0,6.4,7.5,8.3,9.8,10.6,9.5,7.5,6.7,6.3,5.5,6.1,5.5,6.2,6.2,7.5,8.5,8.7,8.7,6.0,5.2,4.6,4.5,5.1,5.2,5.7,5.7,7.4,9.4,8.8,8.4,6.3,5.3,4.5,4.9,4.7,4.7,4.5,5.0,5.9,7.3,7.8,7.4,6.5,4.4,4.7,3.4,3.4,4.1,3.6,3.9,5.1,6.4,6.2,5.2,4.7,3.2,4.0,3.8,3.6,3.2,4.0,4.4,5.0,5.4,5.5,6.9,16.6,12.7,10.1,8.9,7.6,7.1,6.8,7.3,9.6,9.4,9.6,8.6,7.7,6.7,7.5,6.1,4.6,4.5,4.0,4.7,5.0,7.1,6.7,6.0,4.6,3.8,3.7,3.5,3.9,3.4,4.1,3.9,4.4,6.9,6.6,5.6],\"xaxis\":\"x\",\"y\":[141.64600000000002,143.192,145.058,146.592,148.185,149.85,151.338,152.63299999999998,154.179,155.75,157.52700000000002,159.329,161.28799999999998,163.344,165.812,167.50099999999998,169.351,171.19,172.86,174.442,176.438,178.02700000000002,179.68099999999998,180.91,182.321,183.287,184.365,184.329,184.15599999999998,183.507,183.067,182.593,182.798,183.199,183.61,184.139,184.517,184.59900000000002,184.15,183.01,181.6,180.25400000000002,179.111,178.11599999999999,177.55700000000002,176.623,175.146,174.34099999999998,173.132,171.541,170.054,168.33900000000003,166.66,165.018,163.567,161.988,160.308,158.327,156.141,153.618,151.506,150.014,148.66,147.94899999999998,147.695,148.09,148.41,148.27700000000002,148.024,147.849,148.13299999999998,147.928,147.395,145.631,145.859,146.40200000000002,146.393,145.719,144.989,143.91299999999998,143.017,142.53,142.173,142.059,141.52200000000002,140.35,139.982,140.009,139.904,139.86,139.72899999999998,139.30700000000002,138.668,137.952,137.15200000000002,136.675,136.607,136.532,137.904,139.155,140.155,141.03,141.67,142.28,142.909,143.601,144.585,145.502,146.827,147.783,149.963,151.518,152.849,154.197,155.602,156.965,158.227,159.241,160.07299999999998,160.993,161.928,162.52700000000002,163.088,163.39600000000002,163.66299999999998,164.05599999999998,164.574,165.218,165.907,166.644,167.33700000000002,168.053,168.637,169.132,169.80200000000002,170.301,170.88400000000001,171.457,172.125,172.938,173.83,174.794,175.74200000000002,176.548,177.27700000000002,177.65400000000002,178.168,178.77,179.43200000000002,180.065,180.826,181.854,182.827,183.75400000000002,184.762,185.72299999999998,186.80200000000002,187.31599999999997,187.997,188.733,189.62900000000002,190.50400000000002,191.452,192.683,193.775,194.81400000000002,195.953,197.15900000000002,198.291,199.21400000000003,199.96099999999998,200.668,201.447,202.245,202.929,203.734,204.39,205.13299999999998,205.666,206.114,206.479,206.803,207.043,207.53799999999998,208.19400000000002,208.701,209.31799999999998,210.183,210.972,211.81599999999997,212.762,213.843,214.84599999999998,215.722,216.345,216.87,217.11900000000003,217.739,219.437,222.537,225.933,229.782,233.162,236.345,239.3,242.111,245.364,249.18400000000003,253.68200000000002,258.592,262.907,267.069,270.498,273.748,277.122,281.127,285.493,290.736,296.296,300.829,304.29400000000004,305.163,304.04400000000004,301.712,299.41200000000003,298.793,297.985,296.952,296.064,296.926,298.166],\"yaxis\":\"y\",\"type\":\"scatter\"}],                        {\"template\":{\"data\":{\"histogram2dcontour\":[{\"type\":\"histogram2dcontour\",\"colorbar\":{\"outlinewidth\":0,\"ticks\":\"\"},\"colorscale\":[[0.0,\"#0d0887\"],[0.1111111111111111,\"#46039f\"],[0.2222222222222222,\"#7201a8\"],[0.3333333333333333,\"#9c179e\"],[0.4444444444444444,\"#bd3786\"],[0.5555555555555556,\"#d8576b\"],[0.6666666666666666,\"#ed7953\"],[0.7777777777777778,\"#fb9f3a\"],[0.8888888888888888,\"#fdca26\"],[1.0,\"#f0f921\"]]}],\"choropleth\":[{\"type\":\"choropleth\",\"colorbar\":{\"outlinewidth\":0,\"ticks\":\"\"}}],\"histogram2d\":[{\"type\":\"histogram2d\",\"colorbar\":{\"outlinewidth\":0,\"ticks\":\"\"},\"colorscale\":[[0.0,\"#0d0887\"],[0.1111111111111111,\"#46039f\"],[0.2222222222222222,\"#7201a8\"],[0.3333333333333333,\"#9c179e\"],[0.4444444444444444,\"#bd3786\"],[0.5555555555555556,\"#d8576b\"],[0.6666666666666666,\"#ed7953\"],[0.7777777777777778,\"#fb9f3a\"],[0.8888888888888888,\"#fdca26\"],[1.0,\"#f0f921\"]]}],\"heatmap\":[{\"type\":\"heatmap\",\"colorbar\":{\"outlinewidth\":0,\"ticks\":\"\"},\"colorscale\":[[0.0,\"#0d0887\"],[0.1111111111111111,\"#46039f\"],[0.2222222222222222,\"#7201a8\"],[0.3333333333333333,\"#9c179e\"],[0.4444444444444444,\"#bd3786\"],[0.5555555555555556,\"#d8576b\"],[0.6666666666666666,\"#ed7953\"],[0.7777777777777778,\"#fb9f3a\"],[0.8888888888888888,\"#fdca26\"],[1.0,\"#f0f921\"]]}],\"heatmapgl\":[{\"type\":\"heatmapgl\",\"colorbar\":{\"outlinewidth\":0,\"ticks\":\"\"},\"colorscale\":[[0.0,\"#0d0887\"],[0.1111111111111111,\"#46039f\"],[0.2222222222222222,\"#7201a8\"],[0.3333333333333333,\"#9c179e\"],[0.4444444444444444,\"#bd3786\"],[0.5555555555555556,\"#d8576b\"],[0.6666666666666666,\"#ed7953\"],[0.7777777777777778,\"#fb9f3a\"],[0.8888888888888888,\"#fdca26\"],[1.0,\"#f0f921\"]]}],\"contourcarpet\":[{\"type\":\"contourcarpet\",\"colorbar\":{\"outlinewidth\":0,\"ticks\":\"\"}}],\"contour\":[{\"type\":\"contour\",\"colorbar\":{\"outlinewidth\":0,\"ticks\":\"\"},\"colorscale\":[[0.0,\"#0d0887\"],[0.1111111111111111,\"#46039f\"],[0.2222222222222222,\"#7201a8\"],[0.3333333333333333,\"#9c179e\"],[0.4444444444444444,\"#bd3786\"],[0.5555555555555556,\"#d8576b\"],[0.6666666666666666,\"#ed7953\"],[0.7777777777777778,\"#fb9f3a\"],[0.8888888888888888,\"#fdca26\"],[1.0,\"#f0f921\"]]}],\"surface\":[{\"type\":\"surface\",\"colorbar\":{\"outlinewidth\":0,\"ticks\":\"\"},\"colorscale\":[[0.0,\"#0d0887\"],[0.1111111111111111,\"#46039f\"],[0.2222222222222222,\"#7201a8\"],[0.3333333333333333,\"#9c179e\"],[0.4444444444444444,\"#bd3786\"],[0.5555555555555556,\"#d8576b\"],[0.6666666666666666,\"#ed7953\"],[0.7777777777777778,\"#fb9f3a\"],[0.8888888888888888,\"#fdca26\"],[1.0,\"#f0f921\"]]}],\"mesh3d\":[{\"type\":\"mesh3d\",\"colorbar\":{\"outlinewidth\":0,\"ticks\":\"\"}}],\"scatter\":[{\"fillpattern\":{\"fillmode\":\"overlay\",\"size\":10,\"solidity\":0.2},\"type\":\"scatter\"}],\"parcoords\":[{\"type\":\"parcoords\",\"line\":{\"colorbar\":{\"outlinewidth\":0,\"ticks\":\"\"}}}],\"scatterpolargl\":[{\"type\":\"scatterpolargl\",\"marker\":{\"colorbar\":{\"outlinewidth\":0,\"ticks\":\"\"}}}],\"bar\":[{\"error_x\":{\"color\":\"#2a3f5f\"},\"error_y\":{\"color\":\"#2a3f5f\"},\"marker\":{\"line\":{\"color\":\"#E5ECF6\",\"width\":0.5},\"pattern\":{\"fillmode\":\"overlay\",\"size\":10,\"solidity\":0.2}},\"type\":\"bar\"}],\"scattergeo\":[{\"type\":\"scattergeo\",\"marker\":{\"colorbar\":{\"outlinewidth\":0,\"ticks\":\"\"}}}],\"scatterpolar\":[{\"type\":\"scatterpolar\",\"marker\":{\"colorbar\":{\"outlinewidth\":0,\"ticks\":\"\"}}}],\"histogram\":[{\"marker\":{\"pattern\":{\"fillmode\":\"overlay\",\"size\":10,\"solidity\":0.2}},\"type\":\"histogram\"}],\"scattergl\":[{\"type\":\"scattergl\",\"marker\":{\"colorbar\":{\"outlinewidth\":0,\"ticks\":\"\"}}}],\"scatter3d\":[{\"type\":\"scatter3d\",\"line\":{\"colorbar\":{\"outlinewidth\":0,\"ticks\":\"\"}},\"marker\":{\"colorbar\":{\"outlinewidth\":0,\"ticks\":\"\"}}}],\"scattermapbox\":[{\"type\":\"scattermapbox\",\"marker\":{\"colorbar\":{\"outlinewidth\":0,\"ticks\":\"\"}}}],\"scatterternary\":[{\"type\":\"scatterternary\",\"marker\":{\"colorbar\":{\"outlinewidth\":0,\"ticks\":\"\"}}}],\"scattercarpet\":[{\"type\":\"scattercarpet\",\"marker\":{\"colorbar\":{\"outlinewidth\":0,\"ticks\":\"\"}}}],\"carpet\":[{\"aaxis\":{\"endlinecolor\":\"#2a3f5f\",\"gridcolor\":\"white\",\"linecolor\":\"white\",\"minorgridcolor\":\"white\",\"startlinecolor\":\"#2a3f5f\"},\"baxis\":{\"endlinecolor\":\"#2a3f5f\",\"gridcolor\":\"white\",\"linecolor\":\"white\",\"minorgridcolor\":\"white\",\"startlinecolor\":\"#2a3f5f\"},\"type\":\"carpet\"}],\"table\":[{\"cells\":{\"fill\":{\"color\":\"#EBF0F8\"},\"line\":{\"color\":\"white\"}},\"header\":{\"fill\":{\"color\":\"#C8D4E3\"},\"line\":{\"color\":\"white\"}},\"type\":\"table\"}],\"barpolar\":[{\"marker\":{\"line\":{\"color\":\"#E5ECF6\",\"width\":0.5},\"pattern\":{\"fillmode\":\"overlay\",\"size\":10,\"solidity\":0.2}},\"type\":\"barpolar\"}],\"pie\":[{\"automargin\":true,\"type\":\"pie\"}]},\"layout\":{\"autotypenumbers\":\"strict\",\"colorway\":[\"#636efa\",\"#EF553B\",\"#00cc96\",\"#ab63fa\",\"#FFA15A\",\"#19d3f3\",\"#FF6692\",\"#B6E880\",\"#FF97FF\",\"#FECB52\"],\"font\":{\"color\":\"#2a3f5f\"},\"hovermode\":\"closest\",\"hoverlabel\":{\"align\":\"left\"},\"paper_bgcolor\":\"white\",\"plot_bgcolor\":\"#E5ECF6\",\"polar\":{\"bgcolor\":\"#E5ECF6\",\"angularaxis\":{\"gridcolor\":\"white\",\"linecolor\":\"white\",\"ticks\":\"\"},\"radialaxis\":{\"gridcolor\":\"white\",\"linecolor\":\"white\",\"ticks\":\"\"}},\"ternary\":{\"bgcolor\":\"#E5ECF6\",\"aaxis\":{\"gridcolor\":\"white\",\"linecolor\":\"white\",\"ticks\":\"\"},\"baxis\":{\"gridcolor\":\"white\",\"linecolor\":\"white\",\"ticks\":\"\"},\"caxis\":{\"gridcolor\":\"white\",\"linecolor\":\"white\",\"ticks\":\"\"}},\"coloraxis\":{\"colorbar\":{\"outlinewidth\":0,\"ticks\":\"\"}},\"colorscale\":{\"sequential\":[[0.0,\"#0d0887\"],[0.1111111111111111,\"#46039f\"],[0.2222222222222222,\"#7201a8\"],[0.3333333333333333,\"#9c179e\"],[0.4444444444444444,\"#bd3786\"],[0.5555555555555556,\"#d8576b\"],[0.6666666666666666,\"#ed7953\"],[0.7777777777777778,\"#fb9f3a\"],[0.8888888888888888,\"#fdca26\"],[1.0,\"#f0f921\"]],\"sequentialminus\":[[0.0,\"#0d0887\"],[0.1111111111111111,\"#46039f\"],[0.2222222222222222,\"#7201a8\"],[0.3333333333333333,\"#9c179e\"],[0.4444444444444444,\"#bd3786\"],[0.5555555555555556,\"#d8576b\"],[0.6666666666666666,\"#ed7953\"],[0.7777777777777778,\"#fb9f3a\"],[0.8888888888888888,\"#fdca26\"],[1.0,\"#f0f921\"]],\"diverging\":[[0,\"#8e0152\"],[0.1,\"#c51b7d\"],[0.2,\"#de77ae\"],[0.3,\"#f1b6da\"],[0.4,\"#fde0ef\"],[0.5,\"#f7f7f7\"],[0.6,\"#e6f5d0\"],[0.7,\"#b8e186\"],[0.8,\"#7fbc41\"],[0.9,\"#4d9221\"],[1,\"#276419\"]]},\"xaxis\":{\"gridcolor\":\"white\",\"linecolor\":\"white\",\"ticks\":\"\",\"title\":{\"standoff\":15},\"zerolinecolor\":\"white\",\"automargin\":true,\"zerolinewidth\":2},\"yaxis\":{\"gridcolor\":\"white\",\"linecolor\":\"white\",\"ticks\":\"\",\"title\":{\"standoff\":15},\"zerolinecolor\":\"white\",\"automargin\":true,\"zerolinewidth\":2},\"scene\":{\"xaxis\":{\"backgroundcolor\":\"#E5ECF6\",\"gridcolor\":\"white\",\"linecolor\":\"white\",\"showbackground\":true,\"ticks\":\"\",\"zerolinecolor\":\"white\",\"gridwidth\":2},\"yaxis\":{\"backgroundcolor\":\"#E5ECF6\",\"gridcolor\":\"white\",\"linecolor\":\"white\",\"showbackground\":true,\"ticks\":\"\",\"zerolinecolor\":\"white\",\"gridwidth\":2},\"zaxis\":{\"backgroundcolor\":\"#E5ECF6\",\"gridcolor\":\"white\",\"linecolor\":\"white\",\"showbackground\":true,\"ticks\":\"\",\"zerolinecolor\":\"white\",\"gridwidth\":2}},\"shapedefaults\":{\"line\":{\"color\":\"#2a3f5f\"}},\"annotationdefaults\":{\"arrowcolor\":\"#2a3f5f\",\"arrowhead\":0,\"arrowwidth\":1},\"geo\":{\"bgcolor\":\"white\",\"landcolor\":\"#E5ECF6\",\"subunitcolor\":\"white\",\"showland\":true,\"showlakes\":true,\"lakecolor\":\"white\"},\"title\":{\"x\":0.05},\"mapbox\":{\"style\":\"light\"}}},\"xaxis\":{\"anchor\":\"y\",\"domain\":[0.0,1.0],\"title\":{\"text\":\"Unemployment_construction\"}},\"yaxis\":{\"anchor\":\"x\",\"domain\":[0.0,1.0],\"title\":{\"text\":\"Housing_price\"}},\"legend\":{\"tracegroupgap\":0},\"title\":{\"text\":\"<b>Unemployment_construction vs. Housing Price</b>\"}},                        {\"responsive\": true}                    ).then(function(){\n",
       "                            \n",
       "var gd = document.getElementById('addf0698-24b7-4fdb-a15d-e858b5fa2139');\n",
       "var x = new MutationObserver(function (mutations, observer) {{\n",
       "        var display = window.getComputedStyle(gd).display;\n",
       "        if (!display || display === 'none') {{\n",
       "            console.log([gd, 'removed!']);\n",
       "            Plotly.purge(gd);\n",
       "            observer.disconnect();\n",
       "        }}\n",
       "}});\n",
       "\n",
       "// Listen for the removal of the full notebook cells\n",
       "var notebookContainer = gd.closest('#notebook-container');\n",
       "if (notebookContainer) {{\n",
       "    x.observe(notebookContainer, {childList: true});\n",
       "}}\n",
       "\n",
       "// Listen for the clearing of the current output cell\n",
       "var outputEl = gd.closest('.output');\n",
       "if (outputEl) {{\n",
       "    x.observe(outputEl, {childList: true});\n",
       "}}\n",
       "\n",
       "                        })                };                });            </script>        </div>"
      ]
     },
     "metadata": {},
     "output_type": "display_data"
    },
    {
     "data": {
      "application/vnd.plotly.v1+json": {
       "config": {
        "plotlyServerURL": "https://plot.ly"
       },
       "data": [
        {
         "hovertemplate": "Hosuing_inventory_units=%{x}<br>Housing_price=%{y}<extra></extra>",
         "legendgroup": "",
         "marker": {
          "color": "#636efa",
          "symbol": "circle"
         },
         "mode": "markers",
         "name": "",
         "orientation": "v",
         "showlegend": false,
         "type": "scatter",
         "x": [
          122632,
          122632,
          122632,
          123099,
          123099,
          123099,
          123587,
          123587,
          123587,
          124096,
          124096,
          124096,
          124611,
          124611,
          124611,
          125118,
          125118,
          125118,
          125619,
          125619,
          125619,
          126104,
          126104,
          126104,
          126584,
          126584,
          126584,
          127072,
          127072,
          127072,
          127548,
          127548,
          127548,
          127991,
          127991,
          127991,
          128439,
          128439,
          128439,
          128888,
          128888,
          128888,
          129300,
          129300,
          129300,
          129634,
          129634,
          129634,
          129968,
          129968,
          129968,
          130303,
          130303,
          130303,
          130590,
          130590,
          130590,
          130797,
          130797,
          130797,
          131001,
          131001,
          131001,
          131207,
          131207,
          131207,
          131375,
          131375,
          131375,
          131490,
          131490,
          131490,
          131626,
          131626,
          131626,
          131749,
          131749,
          131749,
          131874,
          131874,
          131874,
          131995,
          131995,
          131995,
          132117,
          132117,
          132117,
          132239,
          132239,
          132239,
          132362,
          132362,
          132362,
          132491,
          132491,
          132491,
          132619,
          132619,
          132619,
          132748,
          132748,
          132748,
          132890,
          132890,
          132890,
          133062,
          133062,
          133062,
          133234,
          133234,
          133234,
          133408,
          133408,
          133408,
          133593,
          133593,
          133593,
          133799,
          133799,
          133799,
          134005,
          134005,
          134005,
          134212,
          134212,
          134212,
          134423,
          134423,
          134423,
          134642,
          134642,
          134642,
          134862,
          134862,
          134862,
          135081,
          135081,
          135081,
          135309,
          135309,
          135309,
          135552,
          135552,
          135552,
          135795,
          135795,
          135795,
          136039,
          136039,
          136039,
          136289,
          136289,
          136289,
          136554,
          136554,
          136554,
          136818,
          136818,
          136818,
          137083,
          137083,
          137083,
          137354,
          137354,
          137354,
          137637,
          137637,
          137637,
          137920,
          137920,
          137920,
          138203,
          138203,
          138203,
          138488,
          138488,
          138488,
          138778,
          138778,
          138778,
          139069,
          139069,
          139069,
          139360,
          139360,
          139360,
          139655,
          139655,
          139655,
          139961,
          139961,
          139961,
          140266,
          140266,
          140266,
          140601,
          140601,
          140601,
          140918,
          140918,
          140918,
          141255,
          141255,
          141255,
          141591,
          141591,
          141591,
          141928,
          141928,
          141928,
          142265,
          142265,
          142265,
          142602,
          142602,
          142602,
          142939,
          142939,
          142939,
          143276,
          143276,
          143276,
          143613,
          143613,
          143613,
          143950,
          143950,
          143950,
          144287,
          144287,
          144287
         ],
         "xaxis": "x",
         "y": [
          141.64600000000002,
          143.192,
          145.058,
          146.592,
          148.185,
          149.85,
          151.338,
          152.63299999999998,
          154.179,
          155.75,
          157.52700000000002,
          159.329,
          161.28799999999998,
          163.344,
          165.812,
          167.50099999999998,
          169.351,
          171.19,
          172.86,
          174.442,
          176.438,
          178.02700000000002,
          179.68099999999998,
          180.91,
          182.321,
          183.287,
          184.365,
          184.329,
          184.15599999999998,
          183.507,
          183.067,
          182.593,
          182.798,
          183.199,
          183.61,
          184.139,
          184.517,
          184.59900000000002,
          184.15,
          183.01,
          181.6,
          180.25400000000002,
          179.111,
          178.11599999999999,
          177.55700000000002,
          176.623,
          175.146,
          174.34099999999998,
          173.132,
          171.541,
          170.054,
          168.33900000000003,
          166.66,
          165.018,
          163.567,
          161.988,
          160.308,
          158.327,
          156.141,
          153.618,
          151.506,
          150.014,
          148.66,
          147.94899999999998,
          147.695,
          148.09,
          148.41,
          148.27700000000002,
          148.024,
          147.849,
          148.13299999999998,
          147.928,
          147.395,
          145.631,
          145.859,
          146.40200000000002,
          146.393,
          145.719,
          144.989,
          143.91299999999998,
          143.017,
          142.53,
          142.173,
          142.059,
          141.52200000000002,
          140.35,
          139.982,
          140.009,
          139.904,
          139.86,
          139.72899999999998,
          139.30700000000002,
          138.668,
          137.952,
          137.15200000000002,
          136.675,
          136.607,
          136.532,
          137.904,
          139.155,
          140.155,
          141.03,
          141.67,
          142.28,
          142.909,
          143.601,
          144.585,
          145.502,
          146.827,
          147.783,
          149.963,
          151.518,
          152.849,
          154.197,
          155.602,
          156.965,
          158.227,
          159.241,
          160.07299999999998,
          160.993,
          161.928,
          162.52700000000002,
          163.088,
          163.39600000000002,
          163.66299999999998,
          164.05599999999998,
          164.574,
          165.218,
          165.907,
          166.644,
          167.33700000000002,
          168.053,
          168.637,
          169.132,
          169.80200000000002,
          170.301,
          170.88400000000001,
          171.457,
          172.125,
          172.938,
          173.83,
          174.794,
          175.74200000000002,
          176.548,
          177.27700000000002,
          177.65400000000002,
          178.168,
          178.77,
          179.43200000000002,
          180.065,
          180.826,
          181.854,
          182.827,
          183.75400000000002,
          184.762,
          185.72299999999998,
          186.80200000000002,
          187.31599999999997,
          187.997,
          188.733,
          189.62900000000002,
          190.50400000000002,
          191.452,
          192.683,
          193.775,
          194.81400000000002,
          195.953,
          197.15900000000002,
          198.291,
          199.21400000000003,
          199.96099999999998,
          200.668,
          201.447,
          202.245,
          202.929,
          203.734,
          204.39,
          205.13299999999998,
          205.666,
          206.114,
          206.479,
          206.803,
          207.043,
          207.53799999999998,
          208.19400000000002,
          208.701,
          209.31799999999998,
          210.183,
          210.972,
          211.81599999999997,
          212.762,
          213.843,
          214.84599999999998,
          215.722,
          216.345,
          216.87,
          217.11900000000003,
          217.739,
          219.437,
          222.537,
          225.933,
          229.782,
          233.162,
          236.345,
          239.3,
          242.111,
          245.364,
          249.18400000000003,
          253.68200000000002,
          258.592,
          262.907,
          267.069,
          270.498,
          273.748,
          277.122,
          281.127,
          285.493,
          290.736,
          296.296,
          300.829,
          304.29400000000004,
          305.163,
          304.04400000000004,
          301.712,
          299.41200000000003,
          298.793,
          297.985,
          296.952,
          296.064,
          296.926,
          298.166
         ],
         "yaxis": "y"
        }
       ],
       "layout": {
        "legend": {
         "tracegroupgap": 0
        },
        "template": {
         "data": {
          "bar": [
           {
            "error_x": {
             "color": "#2a3f5f"
            },
            "error_y": {
             "color": "#2a3f5f"
            },
            "marker": {
             "line": {
              "color": "#E5ECF6",
              "width": 0.5
             },
             "pattern": {
              "fillmode": "overlay",
              "size": 10,
              "solidity": 0.2
             }
            },
            "type": "bar"
           }
          ],
          "barpolar": [
           {
            "marker": {
             "line": {
              "color": "#E5ECF6",
              "width": 0.5
             },
             "pattern": {
              "fillmode": "overlay",
              "size": 10,
              "solidity": 0.2
             }
            },
            "type": "barpolar"
           }
          ],
          "carpet": [
           {
            "aaxis": {
             "endlinecolor": "#2a3f5f",
             "gridcolor": "white",
             "linecolor": "white",
             "minorgridcolor": "white",
             "startlinecolor": "#2a3f5f"
            },
            "baxis": {
             "endlinecolor": "#2a3f5f",
             "gridcolor": "white",
             "linecolor": "white",
             "minorgridcolor": "white",
             "startlinecolor": "#2a3f5f"
            },
            "type": "carpet"
           }
          ],
          "choropleth": [
           {
            "colorbar": {
             "outlinewidth": 0,
             "ticks": ""
            },
            "type": "choropleth"
           }
          ],
          "contour": [
           {
            "colorbar": {
             "outlinewidth": 0,
             "ticks": ""
            },
            "colorscale": [
             [
              0,
              "#0d0887"
             ],
             [
              0.1111111111111111,
              "#46039f"
             ],
             [
              0.2222222222222222,
              "#7201a8"
             ],
             [
              0.3333333333333333,
              "#9c179e"
             ],
             [
              0.4444444444444444,
              "#bd3786"
             ],
             [
              0.5555555555555556,
              "#d8576b"
             ],
             [
              0.6666666666666666,
              "#ed7953"
             ],
             [
              0.7777777777777778,
              "#fb9f3a"
             ],
             [
              0.8888888888888888,
              "#fdca26"
             ],
             [
              1,
              "#f0f921"
             ]
            ],
            "type": "contour"
           }
          ],
          "contourcarpet": [
           {
            "colorbar": {
             "outlinewidth": 0,
             "ticks": ""
            },
            "type": "contourcarpet"
           }
          ],
          "heatmap": [
           {
            "colorbar": {
             "outlinewidth": 0,
             "ticks": ""
            },
            "colorscale": [
             [
              0,
              "#0d0887"
             ],
             [
              0.1111111111111111,
              "#46039f"
             ],
             [
              0.2222222222222222,
              "#7201a8"
             ],
             [
              0.3333333333333333,
              "#9c179e"
             ],
             [
              0.4444444444444444,
              "#bd3786"
             ],
             [
              0.5555555555555556,
              "#d8576b"
             ],
             [
              0.6666666666666666,
              "#ed7953"
             ],
             [
              0.7777777777777778,
              "#fb9f3a"
             ],
             [
              0.8888888888888888,
              "#fdca26"
             ],
             [
              1,
              "#f0f921"
             ]
            ],
            "type": "heatmap"
           }
          ],
          "heatmapgl": [
           {
            "colorbar": {
             "outlinewidth": 0,
             "ticks": ""
            },
            "colorscale": [
             [
              0,
              "#0d0887"
             ],
             [
              0.1111111111111111,
              "#46039f"
             ],
             [
              0.2222222222222222,
              "#7201a8"
             ],
             [
              0.3333333333333333,
              "#9c179e"
             ],
             [
              0.4444444444444444,
              "#bd3786"
             ],
             [
              0.5555555555555556,
              "#d8576b"
             ],
             [
              0.6666666666666666,
              "#ed7953"
             ],
             [
              0.7777777777777778,
              "#fb9f3a"
             ],
             [
              0.8888888888888888,
              "#fdca26"
             ],
             [
              1,
              "#f0f921"
             ]
            ],
            "type": "heatmapgl"
           }
          ],
          "histogram": [
           {
            "marker": {
             "pattern": {
              "fillmode": "overlay",
              "size": 10,
              "solidity": 0.2
             }
            },
            "type": "histogram"
           }
          ],
          "histogram2d": [
           {
            "colorbar": {
             "outlinewidth": 0,
             "ticks": ""
            },
            "colorscale": [
             [
              0,
              "#0d0887"
             ],
             [
              0.1111111111111111,
              "#46039f"
             ],
             [
              0.2222222222222222,
              "#7201a8"
             ],
             [
              0.3333333333333333,
              "#9c179e"
             ],
             [
              0.4444444444444444,
              "#bd3786"
             ],
             [
              0.5555555555555556,
              "#d8576b"
             ],
             [
              0.6666666666666666,
              "#ed7953"
             ],
             [
              0.7777777777777778,
              "#fb9f3a"
             ],
             [
              0.8888888888888888,
              "#fdca26"
             ],
             [
              1,
              "#f0f921"
             ]
            ],
            "type": "histogram2d"
           }
          ],
          "histogram2dcontour": [
           {
            "colorbar": {
             "outlinewidth": 0,
             "ticks": ""
            },
            "colorscale": [
             [
              0,
              "#0d0887"
             ],
             [
              0.1111111111111111,
              "#46039f"
             ],
             [
              0.2222222222222222,
              "#7201a8"
             ],
             [
              0.3333333333333333,
              "#9c179e"
             ],
             [
              0.4444444444444444,
              "#bd3786"
             ],
             [
              0.5555555555555556,
              "#d8576b"
             ],
             [
              0.6666666666666666,
              "#ed7953"
             ],
             [
              0.7777777777777778,
              "#fb9f3a"
             ],
             [
              0.8888888888888888,
              "#fdca26"
             ],
             [
              1,
              "#f0f921"
             ]
            ],
            "type": "histogram2dcontour"
           }
          ],
          "mesh3d": [
           {
            "colorbar": {
             "outlinewidth": 0,
             "ticks": ""
            },
            "type": "mesh3d"
           }
          ],
          "parcoords": [
           {
            "line": {
             "colorbar": {
              "outlinewidth": 0,
              "ticks": ""
             }
            },
            "type": "parcoords"
           }
          ],
          "pie": [
           {
            "automargin": true,
            "type": "pie"
           }
          ],
          "scatter": [
           {
            "fillpattern": {
             "fillmode": "overlay",
             "size": 10,
             "solidity": 0.2
            },
            "type": "scatter"
           }
          ],
          "scatter3d": [
           {
            "line": {
             "colorbar": {
              "outlinewidth": 0,
              "ticks": ""
             }
            },
            "marker": {
             "colorbar": {
              "outlinewidth": 0,
              "ticks": ""
             }
            },
            "type": "scatter3d"
           }
          ],
          "scattercarpet": [
           {
            "marker": {
             "colorbar": {
              "outlinewidth": 0,
              "ticks": ""
             }
            },
            "type": "scattercarpet"
           }
          ],
          "scattergeo": [
           {
            "marker": {
             "colorbar": {
              "outlinewidth": 0,
              "ticks": ""
             }
            },
            "type": "scattergeo"
           }
          ],
          "scattergl": [
           {
            "marker": {
             "colorbar": {
              "outlinewidth": 0,
              "ticks": ""
             }
            },
            "type": "scattergl"
           }
          ],
          "scattermapbox": [
           {
            "marker": {
             "colorbar": {
              "outlinewidth": 0,
              "ticks": ""
             }
            },
            "type": "scattermapbox"
           }
          ],
          "scatterpolar": [
           {
            "marker": {
             "colorbar": {
              "outlinewidth": 0,
              "ticks": ""
             }
            },
            "type": "scatterpolar"
           }
          ],
          "scatterpolargl": [
           {
            "marker": {
             "colorbar": {
              "outlinewidth": 0,
              "ticks": ""
             }
            },
            "type": "scatterpolargl"
           }
          ],
          "scatterternary": [
           {
            "marker": {
             "colorbar": {
              "outlinewidth": 0,
              "ticks": ""
             }
            },
            "type": "scatterternary"
           }
          ],
          "surface": [
           {
            "colorbar": {
             "outlinewidth": 0,
             "ticks": ""
            },
            "colorscale": [
             [
              0,
              "#0d0887"
             ],
             [
              0.1111111111111111,
              "#46039f"
             ],
             [
              0.2222222222222222,
              "#7201a8"
             ],
             [
              0.3333333333333333,
              "#9c179e"
             ],
             [
              0.4444444444444444,
              "#bd3786"
             ],
             [
              0.5555555555555556,
              "#d8576b"
             ],
             [
              0.6666666666666666,
              "#ed7953"
             ],
             [
              0.7777777777777778,
              "#fb9f3a"
             ],
             [
              0.8888888888888888,
              "#fdca26"
             ],
             [
              1,
              "#f0f921"
             ]
            ],
            "type": "surface"
           }
          ],
          "table": [
           {
            "cells": {
             "fill": {
              "color": "#EBF0F8"
             },
             "line": {
              "color": "white"
             }
            },
            "header": {
             "fill": {
              "color": "#C8D4E3"
             },
             "line": {
              "color": "white"
             }
            },
            "type": "table"
           }
          ]
         },
         "layout": {
          "annotationdefaults": {
           "arrowcolor": "#2a3f5f",
           "arrowhead": 0,
           "arrowwidth": 1
          },
          "autotypenumbers": "strict",
          "coloraxis": {
           "colorbar": {
            "outlinewidth": 0,
            "ticks": ""
           }
          },
          "colorscale": {
           "diverging": [
            [
             0,
             "#8e0152"
            ],
            [
             0.1,
             "#c51b7d"
            ],
            [
             0.2,
             "#de77ae"
            ],
            [
             0.3,
             "#f1b6da"
            ],
            [
             0.4,
             "#fde0ef"
            ],
            [
             0.5,
             "#f7f7f7"
            ],
            [
             0.6,
             "#e6f5d0"
            ],
            [
             0.7,
             "#b8e186"
            ],
            [
             0.8,
             "#7fbc41"
            ],
            [
             0.9,
             "#4d9221"
            ],
            [
             1,
             "#276419"
            ]
           ],
           "sequential": [
            [
             0,
             "#0d0887"
            ],
            [
             0.1111111111111111,
             "#46039f"
            ],
            [
             0.2222222222222222,
             "#7201a8"
            ],
            [
             0.3333333333333333,
             "#9c179e"
            ],
            [
             0.4444444444444444,
             "#bd3786"
            ],
            [
             0.5555555555555556,
             "#d8576b"
            ],
            [
             0.6666666666666666,
             "#ed7953"
            ],
            [
             0.7777777777777778,
             "#fb9f3a"
            ],
            [
             0.8888888888888888,
             "#fdca26"
            ],
            [
             1,
             "#f0f921"
            ]
           ],
           "sequentialminus": [
            [
             0,
             "#0d0887"
            ],
            [
             0.1111111111111111,
             "#46039f"
            ],
            [
             0.2222222222222222,
             "#7201a8"
            ],
            [
             0.3333333333333333,
             "#9c179e"
            ],
            [
             0.4444444444444444,
             "#bd3786"
            ],
            [
             0.5555555555555556,
             "#d8576b"
            ],
            [
             0.6666666666666666,
             "#ed7953"
            ],
            [
             0.7777777777777778,
             "#fb9f3a"
            ],
            [
             0.8888888888888888,
             "#fdca26"
            ],
            [
             1,
             "#f0f921"
            ]
           ]
          },
          "colorway": [
           "#636efa",
           "#EF553B",
           "#00cc96",
           "#ab63fa",
           "#FFA15A",
           "#19d3f3",
           "#FF6692",
           "#B6E880",
           "#FF97FF",
           "#FECB52"
          ],
          "font": {
           "color": "#2a3f5f"
          },
          "geo": {
           "bgcolor": "white",
           "lakecolor": "white",
           "landcolor": "#E5ECF6",
           "showlakes": true,
           "showland": true,
           "subunitcolor": "white"
          },
          "hoverlabel": {
           "align": "left"
          },
          "hovermode": "closest",
          "mapbox": {
           "style": "light"
          },
          "paper_bgcolor": "white",
          "plot_bgcolor": "#E5ECF6",
          "polar": {
           "angularaxis": {
            "gridcolor": "white",
            "linecolor": "white",
            "ticks": ""
           },
           "bgcolor": "#E5ECF6",
           "radialaxis": {
            "gridcolor": "white",
            "linecolor": "white",
            "ticks": ""
           }
          },
          "scene": {
           "xaxis": {
            "backgroundcolor": "#E5ECF6",
            "gridcolor": "white",
            "gridwidth": 2,
            "linecolor": "white",
            "showbackground": true,
            "ticks": "",
            "zerolinecolor": "white"
           },
           "yaxis": {
            "backgroundcolor": "#E5ECF6",
            "gridcolor": "white",
            "gridwidth": 2,
            "linecolor": "white",
            "showbackground": true,
            "ticks": "",
            "zerolinecolor": "white"
           },
           "zaxis": {
            "backgroundcolor": "#E5ECF6",
            "gridcolor": "white",
            "gridwidth": 2,
            "linecolor": "white",
            "showbackground": true,
            "ticks": "",
            "zerolinecolor": "white"
           }
          },
          "shapedefaults": {
           "line": {
            "color": "#2a3f5f"
           }
          },
          "ternary": {
           "aaxis": {
            "gridcolor": "white",
            "linecolor": "white",
            "ticks": ""
           },
           "baxis": {
            "gridcolor": "white",
            "linecolor": "white",
            "ticks": ""
           },
           "bgcolor": "#E5ECF6",
           "caxis": {
            "gridcolor": "white",
            "linecolor": "white",
            "ticks": ""
           }
          },
          "title": {
           "x": 0.05
          },
          "xaxis": {
           "automargin": true,
           "gridcolor": "white",
           "linecolor": "white",
           "ticks": "",
           "title": {
            "standoff": 15
           },
           "zerolinecolor": "white",
           "zerolinewidth": 2
          },
          "yaxis": {
           "automargin": true,
           "gridcolor": "white",
           "linecolor": "white",
           "ticks": "",
           "title": {
            "standoff": 15
           },
           "zerolinecolor": "white",
           "zerolinewidth": 2
          }
         }
        },
        "title": {
         "text": "<b>Hosuing_inventory_units vs. Housing Price</b>"
        },
        "xaxis": {
         "anchor": "y",
         "domain": [
          0,
          1
         ],
         "title": {
          "text": "Hosuing_inventory_units"
         }
        },
        "yaxis": {
         "anchor": "x",
         "domain": [
          0,
          1
         ],
         "title": {
          "text": "Housing_price"
         }
        }
       }
      },
      "text/html": [
       "<div>                            <div id=\"9ea1a96d-7e37-4256-8cc6-532e645d06d5\" class=\"plotly-graph-div\" style=\"height:525px; width:100%;\"></div>            <script type=\"text/javascript\">                require([\"plotly\"], function(Plotly) {                    window.PLOTLYENV=window.PLOTLYENV || {};                                    if (document.getElementById(\"9ea1a96d-7e37-4256-8cc6-532e645d06d5\")) {                    Plotly.newPlot(                        \"9ea1a96d-7e37-4256-8cc6-532e645d06d5\",                        [{\"hovertemplate\":\"Hosuing_inventory_units=%{x}<br>Housing_price=%{y}<extra></extra>\",\"legendgroup\":\"\",\"marker\":{\"color\":\"#636efa\",\"symbol\":\"circle\"},\"mode\":\"markers\",\"name\":\"\",\"orientation\":\"v\",\"showlegend\":false,\"x\":[122632.0,122632.0,122632.0,123099.0,123099.0,123099.0,123587.0,123587.0,123587.0,124096.0,124096.0,124096.0,124611.0,124611.0,124611.0,125118.0,125118.0,125118.0,125619.0,125619.0,125619.0,126104.0,126104.0,126104.0,126584.0,126584.0,126584.0,127072.0,127072.0,127072.0,127548.0,127548.0,127548.0,127991.0,127991.0,127991.0,128439.0,128439.0,128439.0,128888.0,128888.0,128888.0,129300.0,129300.0,129300.0,129634.0,129634.0,129634.0,129968.0,129968.0,129968.0,130303.0,130303.0,130303.0,130590.0,130590.0,130590.0,130797.0,130797.0,130797.0,131001.0,131001.0,131001.0,131207.0,131207.0,131207.0,131375.0,131375.0,131375.0,131490.0,131490.0,131490.0,131626.0,131626.0,131626.0,131749.0,131749.0,131749.0,131874.0,131874.0,131874.0,131995.0,131995.0,131995.0,132117.0,132117.0,132117.0,132239.0,132239.0,132239.0,132362.0,132362.0,132362.0,132491.0,132491.0,132491.0,132619.0,132619.0,132619.0,132748.0,132748.0,132748.0,132890.0,132890.0,132890.0,133062.0,133062.0,133062.0,133234.0,133234.0,133234.0,133408.0,133408.0,133408.0,133593.0,133593.0,133593.0,133799.0,133799.0,133799.0,134005.0,134005.0,134005.0,134212.0,134212.0,134212.0,134423.0,134423.0,134423.0,134642.0,134642.0,134642.0,134862.0,134862.0,134862.0,135081.0,135081.0,135081.0,135309.0,135309.0,135309.0,135552.0,135552.0,135552.0,135795.0,135795.0,135795.0,136039.0,136039.0,136039.0,136289.0,136289.0,136289.0,136554.0,136554.0,136554.0,136818.0,136818.0,136818.0,137083.0,137083.0,137083.0,137354.0,137354.0,137354.0,137637.0,137637.0,137637.0,137920.0,137920.0,137920.0,138203.0,138203.0,138203.0,138488.0,138488.0,138488.0,138778.0,138778.0,138778.0,139069.0,139069.0,139069.0,139360.0,139360.0,139360.0,139655.0,139655.0,139655.0,139961.0,139961.0,139961.0,140266.0,140266.0,140266.0,140601.0,140601.0,140601.0,140918.0,140918.0,140918.0,141255.0,141255.0,141255.0,141591.0,141591.0,141591.0,141928.0,141928.0,141928.0,142265.0,142265.0,142265.0,142602.0,142602.0,142602.0,142939.0,142939.0,142939.0,143276.0,143276.0,143276.0,143613.0,143613.0,143613.0,143950.0,143950.0,143950.0,144287.0,144287.0,144287.0],\"xaxis\":\"x\",\"y\":[141.64600000000002,143.192,145.058,146.592,148.185,149.85,151.338,152.63299999999998,154.179,155.75,157.52700000000002,159.329,161.28799999999998,163.344,165.812,167.50099999999998,169.351,171.19,172.86,174.442,176.438,178.02700000000002,179.68099999999998,180.91,182.321,183.287,184.365,184.329,184.15599999999998,183.507,183.067,182.593,182.798,183.199,183.61,184.139,184.517,184.59900000000002,184.15,183.01,181.6,180.25400000000002,179.111,178.11599999999999,177.55700000000002,176.623,175.146,174.34099999999998,173.132,171.541,170.054,168.33900000000003,166.66,165.018,163.567,161.988,160.308,158.327,156.141,153.618,151.506,150.014,148.66,147.94899999999998,147.695,148.09,148.41,148.27700000000002,148.024,147.849,148.13299999999998,147.928,147.395,145.631,145.859,146.40200000000002,146.393,145.719,144.989,143.91299999999998,143.017,142.53,142.173,142.059,141.52200000000002,140.35,139.982,140.009,139.904,139.86,139.72899999999998,139.30700000000002,138.668,137.952,137.15200000000002,136.675,136.607,136.532,137.904,139.155,140.155,141.03,141.67,142.28,142.909,143.601,144.585,145.502,146.827,147.783,149.963,151.518,152.849,154.197,155.602,156.965,158.227,159.241,160.07299999999998,160.993,161.928,162.52700000000002,163.088,163.39600000000002,163.66299999999998,164.05599999999998,164.574,165.218,165.907,166.644,167.33700000000002,168.053,168.637,169.132,169.80200000000002,170.301,170.88400000000001,171.457,172.125,172.938,173.83,174.794,175.74200000000002,176.548,177.27700000000002,177.65400000000002,178.168,178.77,179.43200000000002,180.065,180.826,181.854,182.827,183.75400000000002,184.762,185.72299999999998,186.80200000000002,187.31599999999997,187.997,188.733,189.62900000000002,190.50400000000002,191.452,192.683,193.775,194.81400000000002,195.953,197.15900000000002,198.291,199.21400000000003,199.96099999999998,200.668,201.447,202.245,202.929,203.734,204.39,205.13299999999998,205.666,206.114,206.479,206.803,207.043,207.53799999999998,208.19400000000002,208.701,209.31799999999998,210.183,210.972,211.81599999999997,212.762,213.843,214.84599999999998,215.722,216.345,216.87,217.11900000000003,217.739,219.437,222.537,225.933,229.782,233.162,236.345,239.3,242.111,245.364,249.18400000000003,253.68200000000002,258.592,262.907,267.069,270.498,273.748,277.122,281.127,285.493,290.736,296.296,300.829,304.29400000000004,305.163,304.04400000000004,301.712,299.41200000000003,298.793,297.985,296.952,296.064,296.926,298.166],\"yaxis\":\"y\",\"type\":\"scatter\"}],                        {\"template\":{\"data\":{\"histogram2dcontour\":[{\"type\":\"histogram2dcontour\",\"colorbar\":{\"outlinewidth\":0,\"ticks\":\"\"},\"colorscale\":[[0.0,\"#0d0887\"],[0.1111111111111111,\"#46039f\"],[0.2222222222222222,\"#7201a8\"],[0.3333333333333333,\"#9c179e\"],[0.4444444444444444,\"#bd3786\"],[0.5555555555555556,\"#d8576b\"],[0.6666666666666666,\"#ed7953\"],[0.7777777777777778,\"#fb9f3a\"],[0.8888888888888888,\"#fdca26\"],[1.0,\"#f0f921\"]]}],\"choropleth\":[{\"type\":\"choropleth\",\"colorbar\":{\"outlinewidth\":0,\"ticks\":\"\"}}],\"histogram2d\":[{\"type\":\"histogram2d\",\"colorbar\":{\"outlinewidth\":0,\"ticks\":\"\"},\"colorscale\":[[0.0,\"#0d0887\"],[0.1111111111111111,\"#46039f\"],[0.2222222222222222,\"#7201a8\"],[0.3333333333333333,\"#9c179e\"],[0.4444444444444444,\"#bd3786\"],[0.5555555555555556,\"#d8576b\"],[0.6666666666666666,\"#ed7953\"],[0.7777777777777778,\"#fb9f3a\"],[0.8888888888888888,\"#fdca26\"],[1.0,\"#f0f921\"]]}],\"heatmap\":[{\"type\":\"heatmap\",\"colorbar\":{\"outlinewidth\":0,\"ticks\":\"\"},\"colorscale\":[[0.0,\"#0d0887\"],[0.1111111111111111,\"#46039f\"],[0.2222222222222222,\"#7201a8\"],[0.3333333333333333,\"#9c179e\"],[0.4444444444444444,\"#bd3786\"],[0.5555555555555556,\"#d8576b\"],[0.6666666666666666,\"#ed7953\"],[0.7777777777777778,\"#fb9f3a\"],[0.8888888888888888,\"#fdca26\"],[1.0,\"#f0f921\"]]}],\"heatmapgl\":[{\"type\":\"heatmapgl\",\"colorbar\":{\"outlinewidth\":0,\"ticks\":\"\"},\"colorscale\":[[0.0,\"#0d0887\"],[0.1111111111111111,\"#46039f\"],[0.2222222222222222,\"#7201a8\"],[0.3333333333333333,\"#9c179e\"],[0.4444444444444444,\"#bd3786\"],[0.5555555555555556,\"#d8576b\"],[0.6666666666666666,\"#ed7953\"],[0.7777777777777778,\"#fb9f3a\"],[0.8888888888888888,\"#fdca26\"],[1.0,\"#f0f921\"]]}],\"contourcarpet\":[{\"type\":\"contourcarpet\",\"colorbar\":{\"outlinewidth\":0,\"ticks\":\"\"}}],\"contour\":[{\"type\":\"contour\",\"colorbar\":{\"outlinewidth\":0,\"ticks\":\"\"},\"colorscale\":[[0.0,\"#0d0887\"],[0.1111111111111111,\"#46039f\"],[0.2222222222222222,\"#7201a8\"],[0.3333333333333333,\"#9c179e\"],[0.4444444444444444,\"#bd3786\"],[0.5555555555555556,\"#d8576b\"],[0.6666666666666666,\"#ed7953\"],[0.7777777777777778,\"#fb9f3a\"],[0.8888888888888888,\"#fdca26\"],[1.0,\"#f0f921\"]]}],\"surface\":[{\"type\":\"surface\",\"colorbar\":{\"outlinewidth\":0,\"ticks\":\"\"},\"colorscale\":[[0.0,\"#0d0887\"],[0.1111111111111111,\"#46039f\"],[0.2222222222222222,\"#7201a8\"],[0.3333333333333333,\"#9c179e\"],[0.4444444444444444,\"#bd3786\"],[0.5555555555555556,\"#d8576b\"],[0.6666666666666666,\"#ed7953\"],[0.7777777777777778,\"#fb9f3a\"],[0.8888888888888888,\"#fdca26\"],[1.0,\"#f0f921\"]]}],\"mesh3d\":[{\"type\":\"mesh3d\",\"colorbar\":{\"outlinewidth\":0,\"ticks\":\"\"}}],\"scatter\":[{\"fillpattern\":{\"fillmode\":\"overlay\",\"size\":10,\"solidity\":0.2},\"type\":\"scatter\"}],\"parcoords\":[{\"type\":\"parcoords\",\"line\":{\"colorbar\":{\"outlinewidth\":0,\"ticks\":\"\"}}}],\"scatterpolargl\":[{\"type\":\"scatterpolargl\",\"marker\":{\"colorbar\":{\"outlinewidth\":0,\"ticks\":\"\"}}}],\"bar\":[{\"error_x\":{\"color\":\"#2a3f5f\"},\"error_y\":{\"color\":\"#2a3f5f\"},\"marker\":{\"line\":{\"color\":\"#E5ECF6\",\"width\":0.5},\"pattern\":{\"fillmode\":\"overlay\",\"size\":10,\"solidity\":0.2}},\"type\":\"bar\"}],\"scattergeo\":[{\"type\":\"scattergeo\",\"marker\":{\"colorbar\":{\"outlinewidth\":0,\"ticks\":\"\"}}}],\"scatterpolar\":[{\"type\":\"scatterpolar\",\"marker\":{\"colorbar\":{\"outlinewidth\":0,\"ticks\":\"\"}}}],\"histogram\":[{\"marker\":{\"pattern\":{\"fillmode\":\"overlay\",\"size\":10,\"solidity\":0.2}},\"type\":\"histogram\"}],\"scattergl\":[{\"type\":\"scattergl\",\"marker\":{\"colorbar\":{\"outlinewidth\":0,\"ticks\":\"\"}}}],\"scatter3d\":[{\"type\":\"scatter3d\",\"line\":{\"colorbar\":{\"outlinewidth\":0,\"ticks\":\"\"}},\"marker\":{\"colorbar\":{\"outlinewidth\":0,\"ticks\":\"\"}}}],\"scattermapbox\":[{\"type\":\"scattermapbox\",\"marker\":{\"colorbar\":{\"outlinewidth\":0,\"ticks\":\"\"}}}],\"scatterternary\":[{\"type\":\"scatterternary\",\"marker\":{\"colorbar\":{\"outlinewidth\":0,\"ticks\":\"\"}}}],\"scattercarpet\":[{\"type\":\"scattercarpet\",\"marker\":{\"colorbar\":{\"outlinewidth\":0,\"ticks\":\"\"}}}],\"carpet\":[{\"aaxis\":{\"endlinecolor\":\"#2a3f5f\",\"gridcolor\":\"white\",\"linecolor\":\"white\",\"minorgridcolor\":\"white\",\"startlinecolor\":\"#2a3f5f\"},\"baxis\":{\"endlinecolor\":\"#2a3f5f\",\"gridcolor\":\"white\",\"linecolor\":\"white\",\"minorgridcolor\":\"white\",\"startlinecolor\":\"#2a3f5f\"},\"type\":\"carpet\"}],\"table\":[{\"cells\":{\"fill\":{\"color\":\"#EBF0F8\"},\"line\":{\"color\":\"white\"}},\"header\":{\"fill\":{\"color\":\"#C8D4E3\"},\"line\":{\"color\":\"white\"}},\"type\":\"table\"}],\"barpolar\":[{\"marker\":{\"line\":{\"color\":\"#E5ECF6\",\"width\":0.5},\"pattern\":{\"fillmode\":\"overlay\",\"size\":10,\"solidity\":0.2}},\"type\":\"barpolar\"}],\"pie\":[{\"automargin\":true,\"type\":\"pie\"}]},\"layout\":{\"autotypenumbers\":\"strict\",\"colorway\":[\"#636efa\",\"#EF553B\",\"#00cc96\",\"#ab63fa\",\"#FFA15A\",\"#19d3f3\",\"#FF6692\",\"#B6E880\",\"#FF97FF\",\"#FECB52\"],\"font\":{\"color\":\"#2a3f5f\"},\"hovermode\":\"closest\",\"hoverlabel\":{\"align\":\"left\"},\"paper_bgcolor\":\"white\",\"plot_bgcolor\":\"#E5ECF6\",\"polar\":{\"bgcolor\":\"#E5ECF6\",\"angularaxis\":{\"gridcolor\":\"white\",\"linecolor\":\"white\",\"ticks\":\"\"},\"radialaxis\":{\"gridcolor\":\"white\",\"linecolor\":\"white\",\"ticks\":\"\"}},\"ternary\":{\"bgcolor\":\"#E5ECF6\",\"aaxis\":{\"gridcolor\":\"white\",\"linecolor\":\"white\",\"ticks\":\"\"},\"baxis\":{\"gridcolor\":\"white\",\"linecolor\":\"white\",\"ticks\":\"\"},\"caxis\":{\"gridcolor\":\"white\",\"linecolor\":\"white\",\"ticks\":\"\"}},\"coloraxis\":{\"colorbar\":{\"outlinewidth\":0,\"ticks\":\"\"}},\"colorscale\":{\"sequential\":[[0.0,\"#0d0887\"],[0.1111111111111111,\"#46039f\"],[0.2222222222222222,\"#7201a8\"],[0.3333333333333333,\"#9c179e\"],[0.4444444444444444,\"#bd3786\"],[0.5555555555555556,\"#d8576b\"],[0.6666666666666666,\"#ed7953\"],[0.7777777777777778,\"#fb9f3a\"],[0.8888888888888888,\"#fdca26\"],[1.0,\"#f0f921\"]],\"sequentialminus\":[[0.0,\"#0d0887\"],[0.1111111111111111,\"#46039f\"],[0.2222222222222222,\"#7201a8\"],[0.3333333333333333,\"#9c179e\"],[0.4444444444444444,\"#bd3786\"],[0.5555555555555556,\"#d8576b\"],[0.6666666666666666,\"#ed7953\"],[0.7777777777777778,\"#fb9f3a\"],[0.8888888888888888,\"#fdca26\"],[1.0,\"#f0f921\"]],\"diverging\":[[0,\"#8e0152\"],[0.1,\"#c51b7d\"],[0.2,\"#de77ae\"],[0.3,\"#f1b6da\"],[0.4,\"#fde0ef\"],[0.5,\"#f7f7f7\"],[0.6,\"#e6f5d0\"],[0.7,\"#b8e186\"],[0.8,\"#7fbc41\"],[0.9,\"#4d9221\"],[1,\"#276419\"]]},\"xaxis\":{\"gridcolor\":\"white\",\"linecolor\":\"white\",\"ticks\":\"\",\"title\":{\"standoff\":15},\"zerolinecolor\":\"white\",\"automargin\":true,\"zerolinewidth\":2},\"yaxis\":{\"gridcolor\":\"white\",\"linecolor\":\"white\",\"ticks\":\"\",\"title\":{\"standoff\":15},\"zerolinecolor\":\"white\",\"automargin\":true,\"zerolinewidth\":2},\"scene\":{\"xaxis\":{\"backgroundcolor\":\"#E5ECF6\",\"gridcolor\":\"white\",\"linecolor\":\"white\",\"showbackground\":true,\"ticks\":\"\",\"zerolinecolor\":\"white\",\"gridwidth\":2},\"yaxis\":{\"backgroundcolor\":\"#E5ECF6\",\"gridcolor\":\"white\",\"linecolor\":\"white\",\"showbackground\":true,\"ticks\":\"\",\"zerolinecolor\":\"white\",\"gridwidth\":2},\"zaxis\":{\"backgroundcolor\":\"#E5ECF6\",\"gridcolor\":\"white\",\"linecolor\":\"white\",\"showbackground\":true,\"ticks\":\"\",\"zerolinecolor\":\"white\",\"gridwidth\":2}},\"shapedefaults\":{\"line\":{\"color\":\"#2a3f5f\"}},\"annotationdefaults\":{\"arrowcolor\":\"#2a3f5f\",\"arrowhead\":0,\"arrowwidth\":1},\"geo\":{\"bgcolor\":\"white\",\"landcolor\":\"#E5ECF6\",\"subunitcolor\":\"white\",\"showland\":true,\"showlakes\":true,\"lakecolor\":\"white\"},\"title\":{\"x\":0.05},\"mapbox\":{\"style\":\"light\"}}},\"xaxis\":{\"anchor\":\"y\",\"domain\":[0.0,1.0],\"title\":{\"text\":\"Hosuing_inventory_units\"}},\"yaxis\":{\"anchor\":\"x\",\"domain\":[0.0,1.0],\"title\":{\"text\":\"Housing_price\"}},\"legend\":{\"tracegroupgap\":0},\"title\":{\"text\":\"<b>Hosuing_inventory_units vs. Housing Price</b>\"}},                        {\"responsive\": true}                    ).then(function(){\n",
       "                            \n",
       "var gd = document.getElementById('9ea1a96d-7e37-4256-8cc6-532e645d06d5');\n",
       "var x = new MutationObserver(function (mutations, observer) {{\n",
       "        var display = window.getComputedStyle(gd).display;\n",
       "        if (!display || display === 'none') {{\n",
       "            console.log([gd, 'removed!']);\n",
       "            Plotly.purge(gd);\n",
       "            observer.disconnect();\n",
       "        }}\n",
       "}});\n",
       "\n",
       "// Listen for the removal of the full notebook cells\n",
       "var notebookContainer = gd.closest('#notebook-container');\n",
       "if (notebookContainer) {{\n",
       "    x.observe(notebookContainer, {childList: true});\n",
       "}}\n",
       "\n",
       "// Listen for the clearing of the current output cell\n",
       "var outputEl = gd.closest('.output');\n",
       "if (outputEl) {{\n",
       "    x.observe(outputEl, {childList: true});\n",
       "}}\n",
       "\n",
       "                        })                };                });            </script>        </div>"
      ]
     },
     "metadata": {},
     "output_type": "display_data"
    },
    {
     "data": {
      "application/vnd.plotly.v1+json": {
       "config": {
        "plotlyServerURL": "https://plot.ly"
       },
       "data": [
        {
         "hovertemplate": "Saleprice_of_housesold=%{x}<br>Housing_price=%{y}<extra></extra>",
         "legendgroup": "",
         "marker": {
          "color": "#636efa",
          "symbol": "circle"
         },
         "mode": "markers",
         "name": "",
         "orientation": "v",
         "showlegend": false,
         "type": "scatter",
         "x": [
          209500,
          219600,
          209600,
          222300,
          211700,
          215700,
          212400,
          218100,
          211600,
          229200,
          224500,
          229600,
          223100,
          237300,
          229300,
          236300,
          228300,
          226100,
          229200,
          240100,
          240400,
          243900,
          237900,
          238600,
          244900,
          250800,
          238800,
          257000,
          238200,
          243200,
          238100,
          243900,
          226700,
          250400,
          240100,
          244700,
          254400,
          250800,
          262600,
          242500,
          245000,
          235500,
          246200,
          236500,
          240300,
          234300,
          249100,
          227700,
          232400,
          245300,
          229300,
          246400,
          229300,
          234300,
          237300,
          221000,
          225200,
          213200,
          221600,
          229600,
          208600,
          209700,
          205100,
          219200,
          222300,
          214700,
          214200,
          207100,
          216600,
          215100,
          218800,
          222600,
          218200,
          221900,
          224800,
          208300,
          230500,
          219500,
          212100,
          226600,
          228000,
          204200,
          219600,
          241200,
          240100,
          220100,
          220500,
          224700,
          222000,
          240200,
          229900,
          219600,
          217000,
          224800,
          214300,
          218600,
          221700,
          239900,
          239800,
          236400,
          239200,
          232600,
          237400,
          253200,
          254600,
          247200,
          245000,
          258300,
          251500,
          265100,
          257500,
          279300,
          263700,
          259800,
          262200,
          255300,
          269800,
          264300,
          277100,
          275500,
          269800,
          268400,
          282300,
          274500,
          285600,
          287000,
          280400,
          291700,
          261500,
          297000,
          298300,
          301500,
          292000,
          286600,
          286600,
          294500,
          287500,
          285100,
          292300,
          293000,
          299500,
          298000,
          312600,
          297100,
          288400,
          305800,
          303200,
          318300,
          295200,
          311200,
          297400,
          298900,
          314800,
          302800,
          315000,
          327000,
          315200,
          298000,
          321700,
          311100,
          323600,
          315200,
          322900,
          314200,
          331500,
          319500,
          343400,
          343300,
          329600,
          327200,
          335400,
          314400,
          316700,
          310500,
          327500,
          321400,
          328300,
          328300,
          308500,
          329700,
          305400,
          320800,
          310600,
          339000,
          312700,
          311800,
          308300,
          327000,
          315700,
          322400,
          328000,
          329500,
          328900,
          331800,
          328200,
          310100,
          317100,
          341100,
          329800,
          325500,
          344400,
          346900,
          350800,
          365300,
          373200,
          362000,
          359600,
          376600,
          390400,
          374700,
          406000,
          404300,
          413200,
          427300,
          430300,
          410000,
          430500,
          427400,
          435900,
          458200,
          450700,
          432700,
          478200,
          440300,
          477700,
          496800,
          462300,
          479500,
          432100,
          445700,
          455800
         ],
         "xaxis": "x",
         "y": [
          141.64600000000002,
          143.192,
          145.058,
          146.592,
          148.185,
          149.85,
          151.338,
          152.63299999999998,
          154.179,
          155.75,
          157.52700000000002,
          159.329,
          161.28799999999998,
          163.344,
          165.812,
          167.50099999999998,
          169.351,
          171.19,
          172.86,
          174.442,
          176.438,
          178.02700000000002,
          179.68099999999998,
          180.91,
          182.321,
          183.287,
          184.365,
          184.329,
          184.15599999999998,
          183.507,
          183.067,
          182.593,
          182.798,
          183.199,
          183.61,
          184.139,
          184.517,
          184.59900000000002,
          184.15,
          183.01,
          181.6,
          180.25400000000002,
          179.111,
          178.11599999999999,
          177.55700000000002,
          176.623,
          175.146,
          174.34099999999998,
          173.132,
          171.541,
          170.054,
          168.33900000000003,
          166.66,
          165.018,
          163.567,
          161.988,
          160.308,
          158.327,
          156.141,
          153.618,
          151.506,
          150.014,
          148.66,
          147.94899999999998,
          147.695,
          148.09,
          148.41,
          148.27700000000002,
          148.024,
          147.849,
          148.13299999999998,
          147.928,
          147.395,
          145.631,
          145.859,
          146.40200000000002,
          146.393,
          145.719,
          144.989,
          143.91299999999998,
          143.017,
          142.53,
          142.173,
          142.059,
          141.52200000000002,
          140.35,
          139.982,
          140.009,
          139.904,
          139.86,
          139.72899999999998,
          139.30700000000002,
          138.668,
          137.952,
          137.15200000000002,
          136.675,
          136.607,
          136.532,
          137.904,
          139.155,
          140.155,
          141.03,
          141.67,
          142.28,
          142.909,
          143.601,
          144.585,
          145.502,
          146.827,
          147.783,
          149.963,
          151.518,
          152.849,
          154.197,
          155.602,
          156.965,
          158.227,
          159.241,
          160.07299999999998,
          160.993,
          161.928,
          162.52700000000002,
          163.088,
          163.39600000000002,
          163.66299999999998,
          164.05599999999998,
          164.574,
          165.218,
          165.907,
          166.644,
          167.33700000000002,
          168.053,
          168.637,
          169.132,
          169.80200000000002,
          170.301,
          170.88400000000001,
          171.457,
          172.125,
          172.938,
          173.83,
          174.794,
          175.74200000000002,
          176.548,
          177.27700000000002,
          177.65400000000002,
          178.168,
          178.77,
          179.43200000000002,
          180.065,
          180.826,
          181.854,
          182.827,
          183.75400000000002,
          184.762,
          185.72299999999998,
          186.80200000000002,
          187.31599999999997,
          187.997,
          188.733,
          189.62900000000002,
          190.50400000000002,
          191.452,
          192.683,
          193.775,
          194.81400000000002,
          195.953,
          197.15900000000002,
          198.291,
          199.21400000000003,
          199.96099999999998,
          200.668,
          201.447,
          202.245,
          202.929,
          203.734,
          204.39,
          205.13299999999998,
          205.666,
          206.114,
          206.479,
          206.803,
          207.043,
          207.53799999999998,
          208.19400000000002,
          208.701,
          209.31799999999998,
          210.183,
          210.972,
          211.81599999999997,
          212.762,
          213.843,
          214.84599999999998,
          215.722,
          216.345,
          216.87,
          217.11900000000003,
          217.739,
          219.437,
          222.537,
          225.933,
          229.782,
          233.162,
          236.345,
          239.3,
          242.111,
          245.364,
          249.18400000000003,
          253.68200000000002,
          258.592,
          262.907,
          267.069,
          270.498,
          273.748,
          277.122,
          281.127,
          285.493,
          290.736,
          296.296,
          300.829,
          304.29400000000004,
          305.163,
          304.04400000000004,
          301.712,
          299.41200000000003,
          298.793,
          297.985,
          296.952,
          296.064,
          296.926,
          298.166
         ],
         "yaxis": "y"
        }
       ],
       "layout": {
        "legend": {
         "tracegroupgap": 0
        },
        "template": {
         "data": {
          "bar": [
           {
            "error_x": {
             "color": "#2a3f5f"
            },
            "error_y": {
             "color": "#2a3f5f"
            },
            "marker": {
             "line": {
              "color": "#E5ECF6",
              "width": 0.5
             },
             "pattern": {
              "fillmode": "overlay",
              "size": 10,
              "solidity": 0.2
             }
            },
            "type": "bar"
           }
          ],
          "barpolar": [
           {
            "marker": {
             "line": {
              "color": "#E5ECF6",
              "width": 0.5
             },
             "pattern": {
              "fillmode": "overlay",
              "size": 10,
              "solidity": 0.2
             }
            },
            "type": "barpolar"
           }
          ],
          "carpet": [
           {
            "aaxis": {
             "endlinecolor": "#2a3f5f",
             "gridcolor": "white",
             "linecolor": "white",
             "minorgridcolor": "white",
             "startlinecolor": "#2a3f5f"
            },
            "baxis": {
             "endlinecolor": "#2a3f5f",
             "gridcolor": "white",
             "linecolor": "white",
             "minorgridcolor": "white",
             "startlinecolor": "#2a3f5f"
            },
            "type": "carpet"
           }
          ],
          "choropleth": [
           {
            "colorbar": {
             "outlinewidth": 0,
             "ticks": ""
            },
            "type": "choropleth"
           }
          ],
          "contour": [
           {
            "colorbar": {
             "outlinewidth": 0,
             "ticks": ""
            },
            "colorscale": [
             [
              0,
              "#0d0887"
             ],
             [
              0.1111111111111111,
              "#46039f"
             ],
             [
              0.2222222222222222,
              "#7201a8"
             ],
             [
              0.3333333333333333,
              "#9c179e"
             ],
             [
              0.4444444444444444,
              "#bd3786"
             ],
             [
              0.5555555555555556,
              "#d8576b"
             ],
             [
              0.6666666666666666,
              "#ed7953"
             ],
             [
              0.7777777777777778,
              "#fb9f3a"
             ],
             [
              0.8888888888888888,
              "#fdca26"
             ],
             [
              1,
              "#f0f921"
             ]
            ],
            "type": "contour"
           }
          ],
          "contourcarpet": [
           {
            "colorbar": {
             "outlinewidth": 0,
             "ticks": ""
            },
            "type": "contourcarpet"
           }
          ],
          "heatmap": [
           {
            "colorbar": {
             "outlinewidth": 0,
             "ticks": ""
            },
            "colorscale": [
             [
              0,
              "#0d0887"
             ],
             [
              0.1111111111111111,
              "#46039f"
             ],
             [
              0.2222222222222222,
              "#7201a8"
             ],
             [
              0.3333333333333333,
              "#9c179e"
             ],
             [
              0.4444444444444444,
              "#bd3786"
             ],
             [
              0.5555555555555556,
              "#d8576b"
             ],
             [
              0.6666666666666666,
              "#ed7953"
             ],
             [
              0.7777777777777778,
              "#fb9f3a"
             ],
             [
              0.8888888888888888,
              "#fdca26"
             ],
             [
              1,
              "#f0f921"
             ]
            ],
            "type": "heatmap"
           }
          ],
          "heatmapgl": [
           {
            "colorbar": {
             "outlinewidth": 0,
             "ticks": ""
            },
            "colorscale": [
             [
              0,
              "#0d0887"
             ],
             [
              0.1111111111111111,
              "#46039f"
             ],
             [
              0.2222222222222222,
              "#7201a8"
             ],
             [
              0.3333333333333333,
              "#9c179e"
             ],
             [
              0.4444444444444444,
              "#bd3786"
             ],
             [
              0.5555555555555556,
              "#d8576b"
             ],
             [
              0.6666666666666666,
              "#ed7953"
             ],
             [
              0.7777777777777778,
              "#fb9f3a"
             ],
             [
              0.8888888888888888,
              "#fdca26"
             ],
             [
              1,
              "#f0f921"
             ]
            ],
            "type": "heatmapgl"
           }
          ],
          "histogram": [
           {
            "marker": {
             "pattern": {
              "fillmode": "overlay",
              "size": 10,
              "solidity": 0.2
             }
            },
            "type": "histogram"
           }
          ],
          "histogram2d": [
           {
            "colorbar": {
             "outlinewidth": 0,
             "ticks": ""
            },
            "colorscale": [
             [
              0,
              "#0d0887"
             ],
             [
              0.1111111111111111,
              "#46039f"
             ],
             [
              0.2222222222222222,
              "#7201a8"
             ],
             [
              0.3333333333333333,
              "#9c179e"
             ],
             [
              0.4444444444444444,
              "#bd3786"
             ],
             [
              0.5555555555555556,
              "#d8576b"
             ],
             [
              0.6666666666666666,
              "#ed7953"
             ],
             [
              0.7777777777777778,
              "#fb9f3a"
             ],
             [
              0.8888888888888888,
              "#fdca26"
             ],
             [
              1,
              "#f0f921"
             ]
            ],
            "type": "histogram2d"
           }
          ],
          "histogram2dcontour": [
           {
            "colorbar": {
             "outlinewidth": 0,
             "ticks": ""
            },
            "colorscale": [
             [
              0,
              "#0d0887"
             ],
             [
              0.1111111111111111,
              "#46039f"
             ],
             [
              0.2222222222222222,
              "#7201a8"
             ],
             [
              0.3333333333333333,
              "#9c179e"
             ],
             [
              0.4444444444444444,
              "#bd3786"
             ],
             [
              0.5555555555555556,
              "#d8576b"
             ],
             [
              0.6666666666666666,
              "#ed7953"
             ],
             [
              0.7777777777777778,
              "#fb9f3a"
             ],
             [
              0.8888888888888888,
              "#fdca26"
             ],
             [
              1,
              "#f0f921"
             ]
            ],
            "type": "histogram2dcontour"
           }
          ],
          "mesh3d": [
           {
            "colorbar": {
             "outlinewidth": 0,
             "ticks": ""
            },
            "type": "mesh3d"
           }
          ],
          "parcoords": [
           {
            "line": {
             "colorbar": {
              "outlinewidth": 0,
              "ticks": ""
             }
            },
            "type": "parcoords"
           }
          ],
          "pie": [
           {
            "automargin": true,
            "type": "pie"
           }
          ],
          "scatter": [
           {
            "fillpattern": {
             "fillmode": "overlay",
             "size": 10,
             "solidity": 0.2
            },
            "type": "scatter"
           }
          ],
          "scatter3d": [
           {
            "line": {
             "colorbar": {
              "outlinewidth": 0,
              "ticks": ""
             }
            },
            "marker": {
             "colorbar": {
              "outlinewidth": 0,
              "ticks": ""
             }
            },
            "type": "scatter3d"
           }
          ],
          "scattercarpet": [
           {
            "marker": {
             "colorbar": {
              "outlinewidth": 0,
              "ticks": ""
             }
            },
            "type": "scattercarpet"
           }
          ],
          "scattergeo": [
           {
            "marker": {
             "colorbar": {
              "outlinewidth": 0,
              "ticks": ""
             }
            },
            "type": "scattergeo"
           }
          ],
          "scattergl": [
           {
            "marker": {
             "colorbar": {
              "outlinewidth": 0,
              "ticks": ""
             }
            },
            "type": "scattergl"
           }
          ],
          "scattermapbox": [
           {
            "marker": {
             "colorbar": {
              "outlinewidth": 0,
              "ticks": ""
             }
            },
            "type": "scattermapbox"
           }
          ],
          "scatterpolar": [
           {
            "marker": {
             "colorbar": {
              "outlinewidth": 0,
              "ticks": ""
             }
            },
            "type": "scatterpolar"
           }
          ],
          "scatterpolargl": [
           {
            "marker": {
             "colorbar": {
              "outlinewidth": 0,
              "ticks": ""
             }
            },
            "type": "scatterpolargl"
           }
          ],
          "scatterternary": [
           {
            "marker": {
             "colorbar": {
              "outlinewidth": 0,
              "ticks": ""
             }
            },
            "type": "scatterternary"
           }
          ],
          "surface": [
           {
            "colorbar": {
             "outlinewidth": 0,
             "ticks": ""
            },
            "colorscale": [
             [
              0,
              "#0d0887"
             ],
             [
              0.1111111111111111,
              "#46039f"
             ],
             [
              0.2222222222222222,
              "#7201a8"
             ],
             [
              0.3333333333333333,
              "#9c179e"
             ],
             [
              0.4444444444444444,
              "#bd3786"
             ],
             [
              0.5555555555555556,
              "#d8576b"
             ],
             [
              0.6666666666666666,
              "#ed7953"
             ],
             [
              0.7777777777777778,
              "#fb9f3a"
             ],
             [
              0.8888888888888888,
              "#fdca26"
             ],
             [
              1,
              "#f0f921"
             ]
            ],
            "type": "surface"
           }
          ],
          "table": [
           {
            "cells": {
             "fill": {
              "color": "#EBF0F8"
             },
             "line": {
              "color": "white"
             }
            },
            "header": {
             "fill": {
              "color": "#C8D4E3"
             },
             "line": {
              "color": "white"
             }
            },
            "type": "table"
           }
          ]
         },
         "layout": {
          "annotationdefaults": {
           "arrowcolor": "#2a3f5f",
           "arrowhead": 0,
           "arrowwidth": 1
          },
          "autotypenumbers": "strict",
          "coloraxis": {
           "colorbar": {
            "outlinewidth": 0,
            "ticks": ""
           }
          },
          "colorscale": {
           "diverging": [
            [
             0,
             "#8e0152"
            ],
            [
             0.1,
             "#c51b7d"
            ],
            [
             0.2,
             "#de77ae"
            ],
            [
             0.3,
             "#f1b6da"
            ],
            [
             0.4,
             "#fde0ef"
            ],
            [
             0.5,
             "#f7f7f7"
            ],
            [
             0.6,
             "#e6f5d0"
            ],
            [
             0.7,
             "#b8e186"
            ],
            [
             0.8,
             "#7fbc41"
            ],
            [
             0.9,
             "#4d9221"
            ],
            [
             1,
             "#276419"
            ]
           ],
           "sequential": [
            [
             0,
             "#0d0887"
            ],
            [
             0.1111111111111111,
             "#46039f"
            ],
            [
             0.2222222222222222,
             "#7201a8"
            ],
            [
             0.3333333333333333,
             "#9c179e"
            ],
            [
             0.4444444444444444,
             "#bd3786"
            ],
            [
             0.5555555555555556,
             "#d8576b"
            ],
            [
             0.6666666666666666,
             "#ed7953"
            ],
            [
             0.7777777777777778,
             "#fb9f3a"
            ],
            [
             0.8888888888888888,
             "#fdca26"
            ],
            [
             1,
             "#f0f921"
            ]
           ],
           "sequentialminus": [
            [
             0,
             "#0d0887"
            ],
            [
             0.1111111111111111,
             "#46039f"
            ],
            [
             0.2222222222222222,
             "#7201a8"
            ],
            [
             0.3333333333333333,
             "#9c179e"
            ],
            [
             0.4444444444444444,
             "#bd3786"
            ],
            [
             0.5555555555555556,
             "#d8576b"
            ],
            [
             0.6666666666666666,
             "#ed7953"
            ],
            [
             0.7777777777777778,
             "#fb9f3a"
            ],
            [
             0.8888888888888888,
             "#fdca26"
            ],
            [
             1,
             "#f0f921"
            ]
           ]
          },
          "colorway": [
           "#636efa",
           "#EF553B",
           "#00cc96",
           "#ab63fa",
           "#FFA15A",
           "#19d3f3",
           "#FF6692",
           "#B6E880",
           "#FF97FF",
           "#FECB52"
          ],
          "font": {
           "color": "#2a3f5f"
          },
          "geo": {
           "bgcolor": "white",
           "lakecolor": "white",
           "landcolor": "#E5ECF6",
           "showlakes": true,
           "showland": true,
           "subunitcolor": "white"
          },
          "hoverlabel": {
           "align": "left"
          },
          "hovermode": "closest",
          "mapbox": {
           "style": "light"
          },
          "paper_bgcolor": "white",
          "plot_bgcolor": "#E5ECF6",
          "polar": {
           "angularaxis": {
            "gridcolor": "white",
            "linecolor": "white",
            "ticks": ""
           },
           "bgcolor": "#E5ECF6",
           "radialaxis": {
            "gridcolor": "white",
            "linecolor": "white",
            "ticks": ""
           }
          },
          "scene": {
           "xaxis": {
            "backgroundcolor": "#E5ECF6",
            "gridcolor": "white",
            "gridwidth": 2,
            "linecolor": "white",
            "showbackground": true,
            "ticks": "",
            "zerolinecolor": "white"
           },
           "yaxis": {
            "backgroundcolor": "#E5ECF6",
            "gridcolor": "white",
            "gridwidth": 2,
            "linecolor": "white",
            "showbackground": true,
            "ticks": "",
            "zerolinecolor": "white"
           },
           "zaxis": {
            "backgroundcolor": "#E5ECF6",
            "gridcolor": "white",
            "gridwidth": 2,
            "linecolor": "white",
            "showbackground": true,
            "ticks": "",
            "zerolinecolor": "white"
           }
          },
          "shapedefaults": {
           "line": {
            "color": "#2a3f5f"
           }
          },
          "ternary": {
           "aaxis": {
            "gridcolor": "white",
            "linecolor": "white",
            "ticks": ""
           },
           "baxis": {
            "gridcolor": "white",
            "linecolor": "white",
            "ticks": ""
           },
           "bgcolor": "#E5ECF6",
           "caxis": {
            "gridcolor": "white",
            "linecolor": "white",
            "ticks": ""
           }
          },
          "title": {
           "x": 0.05
          },
          "xaxis": {
           "automargin": true,
           "gridcolor": "white",
           "linecolor": "white",
           "ticks": "",
           "title": {
            "standoff": 15
           },
           "zerolinecolor": "white",
           "zerolinewidth": 2
          },
          "yaxis": {
           "automargin": true,
           "gridcolor": "white",
           "linecolor": "white",
           "ticks": "",
           "title": {
            "standoff": 15
           },
           "zerolinecolor": "white",
           "zerolinewidth": 2
          }
         }
        },
        "title": {
         "text": "<b>Saleprice_of_housesold vs. Housing Price</b>"
        },
        "xaxis": {
         "anchor": "y",
         "domain": [
          0,
          1
         ],
         "title": {
          "text": "Saleprice_of_housesold"
         }
        },
        "yaxis": {
         "anchor": "x",
         "domain": [
          0,
          1
         ],
         "title": {
          "text": "Housing_price"
         }
        }
       }
      },
      "text/html": [
       "<div>                            <div id=\"abefdc77-69e3-40aa-95a0-3cc17e2ddb5f\" class=\"plotly-graph-div\" style=\"height:525px; width:100%;\"></div>            <script type=\"text/javascript\">                require([\"plotly\"], function(Plotly) {                    window.PLOTLYENV=window.PLOTLYENV || {};                                    if (document.getElementById(\"abefdc77-69e3-40aa-95a0-3cc17e2ddb5f\")) {                    Plotly.newPlot(                        \"abefdc77-69e3-40aa-95a0-3cc17e2ddb5f\",                        [{\"hovertemplate\":\"Saleprice_of_housesold=%{x}<br>Housing_price=%{y}<extra></extra>\",\"legendgroup\":\"\",\"marker\":{\"color\":\"#636efa\",\"symbol\":\"circle\"},\"mode\":\"markers\",\"name\":\"\",\"orientation\":\"v\",\"showlegend\":false,\"x\":[209500,219600,209600,222300,211700,215700,212400,218100,211600,229200,224500,229600,223100,237300,229300,236300,228300,226100,229200,240100,240400,243900,237900,238600,244900,250800,238800,257000,238200,243200,238100,243900,226700,250400,240100,244700,254400,250800,262600,242500,245000,235500,246200,236500,240300,234300,249100,227700,232400,245300,229300,246400,229300,234300,237300,221000,225200,213200,221600,229600,208600,209700,205100,219200,222300,214700,214200,207100,216600,215100,218800,222600,218200,221900,224800,208300,230500,219500,212100,226600,228000,204200,219600,241200,240100,220100,220500,224700,222000,240200,229900,219600,217000,224800,214300,218600,221700,239900,239800,236400,239200,232600,237400,253200,254600,247200,245000,258300,251500,265100,257500,279300,263700,259800,262200,255300,269800,264300,277100,275500,269800,268400,282300,274500,285600,287000,280400,291700,261500,297000,298300,301500,292000,286600,286600,294500,287500,285100,292300,293000,299500,298000,312600,297100,288400,305800,303200,318300,295200,311200,297400,298900,314800,302800,315000,327000,315200,298000,321700,311100,323600,315200,322900,314200,331500,319500,343400,343300,329600,327200,335400,314400,316700,310500,327500,321400,328300,328300,308500,329700,305400,320800,310600,339000,312700,311800,308300,327000,315700,322400,328000,329500,328900,331800,328200,310100,317100,341100,329800,325500,344400,346900,350800,365300,373200,362000,359600,376600,390400,374700,406000,404300,413200,427300,430300,410000,430500,427400,435900,458200,450700,432700,478200,440300,477700,496800,462300,479500,432100,445700,455800],\"xaxis\":\"x\",\"y\":[141.64600000000002,143.192,145.058,146.592,148.185,149.85,151.338,152.63299999999998,154.179,155.75,157.52700000000002,159.329,161.28799999999998,163.344,165.812,167.50099999999998,169.351,171.19,172.86,174.442,176.438,178.02700000000002,179.68099999999998,180.91,182.321,183.287,184.365,184.329,184.15599999999998,183.507,183.067,182.593,182.798,183.199,183.61,184.139,184.517,184.59900000000002,184.15,183.01,181.6,180.25400000000002,179.111,178.11599999999999,177.55700000000002,176.623,175.146,174.34099999999998,173.132,171.541,170.054,168.33900000000003,166.66,165.018,163.567,161.988,160.308,158.327,156.141,153.618,151.506,150.014,148.66,147.94899999999998,147.695,148.09,148.41,148.27700000000002,148.024,147.849,148.13299999999998,147.928,147.395,145.631,145.859,146.40200000000002,146.393,145.719,144.989,143.91299999999998,143.017,142.53,142.173,142.059,141.52200000000002,140.35,139.982,140.009,139.904,139.86,139.72899999999998,139.30700000000002,138.668,137.952,137.15200000000002,136.675,136.607,136.532,137.904,139.155,140.155,141.03,141.67,142.28,142.909,143.601,144.585,145.502,146.827,147.783,149.963,151.518,152.849,154.197,155.602,156.965,158.227,159.241,160.07299999999998,160.993,161.928,162.52700000000002,163.088,163.39600000000002,163.66299999999998,164.05599999999998,164.574,165.218,165.907,166.644,167.33700000000002,168.053,168.637,169.132,169.80200000000002,170.301,170.88400000000001,171.457,172.125,172.938,173.83,174.794,175.74200000000002,176.548,177.27700000000002,177.65400000000002,178.168,178.77,179.43200000000002,180.065,180.826,181.854,182.827,183.75400000000002,184.762,185.72299999999998,186.80200000000002,187.31599999999997,187.997,188.733,189.62900000000002,190.50400000000002,191.452,192.683,193.775,194.81400000000002,195.953,197.15900000000002,198.291,199.21400000000003,199.96099999999998,200.668,201.447,202.245,202.929,203.734,204.39,205.13299999999998,205.666,206.114,206.479,206.803,207.043,207.53799999999998,208.19400000000002,208.701,209.31799999999998,210.183,210.972,211.81599999999997,212.762,213.843,214.84599999999998,215.722,216.345,216.87,217.11900000000003,217.739,219.437,222.537,225.933,229.782,233.162,236.345,239.3,242.111,245.364,249.18400000000003,253.68200000000002,258.592,262.907,267.069,270.498,273.748,277.122,281.127,285.493,290.736,296.296,300.829,304.29400000000004,305.163,304.04400000000004,301.712,299.41200000000003,298.793,297.985,296.952,296.064,296.926,298.166],\"yaxis\":\"y\",\"type\":\"scatter\"}],                        {\"template\":{\"data\":{\"histogram2dcontour\":[{\"type\":\"histogram2dcontour\",\"colorbar\":{\"outlinewidth\":0,\"ticks\":\"\"},\"colorscale\":[[0.0,\"#0d0887\"],[0.1111111111111111,\"#46039f\"],[0.2222222222222222,\"#7201a8\"],[0.3333333333333333,\"#9c179e\"],[0.4444444444444444,\"#bd3786\"],[0.5555555555555556,\"#d8576b\"],[0.6666666666666666,\"#ed7953\"],[0.7777777777777778,\"#fb9f3a\"],[0.8888888888888888,\"#fdca26\"],[1.0,\"#f0f921\"]]}],\"choropleth\":[{\"type\":\"choropleth\",\"colorbar\":{\"outlinewidth\":0,\"ticks\":\"\"}}],\"histogram2d\":[{\"type\":\"histogram2d\",\"colorbar\":{\"outlinewidth\":0,\"ticks\":\"\"},\"colorscale\":[[0.0,\"#0d0887\"],[0.1111111111111111,\"#46039f\"],[0.2222222222222222,\"#7201a8\"],[0.3333333333333333,\"#9c179e\"],[0.4444444444444444,\"#bd3786\"],[0.5555555555555556,\"#d8576b\"],[0.6666666666666666,\"#ed7953\"],[0.7777777777777778,\"#fb9f3a\"],[0.8888888888888888,\"#fdca26\"],[1.0,\"#f0f921\"]]}],\"heatmap\":[{\"type\":\"heatmap\",\"colorbar\":{\"outlinewidth\":0,\"ticks\":\"\"},\"colorscale\":[[0.0,\"#0d0887\"],[0.1111111111111111,\"#46039f\"],[0.2222222222222222,\"#7201a8\"],[0.3333333333333333,\"#9c179e\"],[0.4444444444444444,\"#bd3786\"],[0.5555555555555556,\"#d8576b\"],[0.6666666666666666,\"#ed7953\"],[0.7777777777777778,\"#fb9f3a\"],[0.8888888888888888,\"#fdca26\"],[1.0,\"#f0f921\"]]}],\"heatmapgl\":[{\"type\":\"heatmapgl\",\"colorbar\":{\"outlinewidth\":0,\"ticks\":\"\"},\"colorscale\":[[0.0,\"#0d0887\"],[0.1111111111111111,\"#46039f\"],[0.2222222222222222,\"#7201a8\"],[0.3333333333333333,\"#9c179e\"],[0.4444444444444444,\"#bd3786\"],[0.5555555555555556,\"#d8576b\"],[0.6666666666666666,\"#ed7953\"],[0.7777777777777778,\"#fb9f3a\"],[0.8888888888888888,\"#fdca26\"],[1.0,\"#f0f921\"]]}],\"contourcarpet\":[{\"type\":\"contourcarpet\",\"colorbar\":{\"outlinewidth\":0,\"ticks\":\"\"}}],\"contour\":[{\"type\":\"contour\",\"colorbar\":{\"outlinewidth\":0,\"ticks\":\"\"},\"colorscale\":[[0.0,\"#0d0887\"],[0.1111111111111111,\"#46039f\"],[0.2222222222222222,\"#7201a8\"],[0.3333333333333333,\"#9c179e\"],[0.4444444444444444,\"#bd3786\"],[0.5555555555555556,\"#d8576b\"],[0.6666666666666666,\"#ed7953\"],[0.7777777777777778,\"#fb9f3a\"],[0.8888888888888888,\"#fdca26\"],[1.0,\"#f0f921\"]]}],\"surface\":[{\"type\":\"surface\",\"colorbar\":{\"outlinewidth\":0,\"ticks\":\"\"},\"colorscale\":[[0.0,\"#0d0887\"],[0.1111111111111111,\"#46039f\"],[0.2222222222222222,\"#7201a8\"],[0.3333333333333333,\"#9c179e\"],[0.4444444444444444,\"#bd3786\"],[0.5555555555555556,\"#d8576b\"],[0.6666666666666666,\"#ed7953\"],[0.7777777777777778,\"#fb9f3a\"],[0.8888888888888888,\"#fdca26\"],[1.0,\"#f0f921\"]]}],\"mesh3d\":[{\"type\":\"mesh3d\",\"colorbar\":{\"outlinewidth\":0,\"ticks\":\"\"}}],\"scatter\":[{\"fillpattern\":{\"fillmode\":\"overlay\",\"size\":10,\"solidity\":0.2},\"type\":\"scatter\"}],\"parcoords\":[{\"type\":\"parcoords\",\"line\":{\"colorbar\":{\"outlinewidth\":0,\"ticks\":\"\"}}}],\"scatterpolargl\":[{\"type\":\"scatterpolargl\",\"marker\":{\"colorbar\":{\"outlinewidth\":0,\"ticks\":\"\"}}}],\"bar\":[{\"error_x\":{\"color\":\"#2a3f5f\"},\"error_y\":{\"color\":\"#2a3f5f\"},\"marker\":{\"line\":{\"color\":\"#E5ECF6\",\"width\":0.5},\"pattern\":{\"fillmode\":\"overlay\",\"size\":10,\"solidity\":0.2}},\"type\":\"bar\"}],\"scattergeo\":[{\"type\":\"scattergeo\",\"marker\":{\"colorbar\":{\"outlinewidth\":0,\"ticks\":\"\"}}}],\"scatterpolar\":[{\"type\":\"scatterpolar\",\"marker\":{\"colorbar\":{\"outlinewidth\":0,\"ticks\":\"\"}}}],\"histogram\":[{\"marker\":{\"pattern\":{\"fillmode\":\"overlay\",\"size\":10,\"solidity\":0.2}},\"type\":\"histogram\"}],\"scattergl\":[{\"type\":\"scattergl\",\"marker\":{\"colorbar\":{\"outlinewidth\":0,\"ticks\":\"\"}}}],\"scatter3d\":[{\"type\":\"scatter3d\",\"line\":{\"colorbar\":{\"outlinewidth\":0,\"ticks\":\"\"}},\"marker\":{\"colorbar\":{\"outlinewidth\":0,\"ticks\":\"\"}}}],\"scattermapbox\":[{\"type\":\"scattermapbox\",\"marker\":{\"colorbar\":{\"outlinewidth\":0,\"ticks\":\"\"}}}],\"scatterternary\":[{\"type\":\"scatterternary\",\"marker\":{\"colorbar\":{\"outlinewidth\":0,\"ticks\":\"\"}}}],\"scattercarpet\":[{\"type\":\"scattercarpet\",\"marker\":{\"colorbar\":{\"outlinewidth\":0,\"ticks\":\"\"}}}],\"carpet\":[{\"aaxis\":{\"endlinecolor\":\"#2a3f5f\",\"gridcolor\":\"white\",\"linecolor\":\"white\",\"minorgridcolor\":\"white\",\"startlinecolor\":\"#2a3f5f\"},\"baxis\":{\"endlinecolor\":\"#2a3f5f\",\"gridcolor\":\"white\",\"linecolor\":\"white\",\"minorgridcolor\":\"white\",\"startlinecolor\":\"#2a3f5f\"},\"type\":\"carpet\"}],\"table\":[{\"cells\":{\"fill\":{\"color\":\"#EBF0F8\"},\"line\":{\"color\":\"white\"}},\"header\":{\"fill\":{\"color\":\"#C8D4E3\"},\"line\":{\"color\":\"white\"}},\"type\":\"table\"}],\"barpolar\":[{\"marker\":{\"line\":{\"color\":\"#E5ECF6\",\"width\":0.5},\"pattern\":{\"fillmode\":\"overlay\",\"size\":10,\"solidity\":0.2}},\"type\":\"barpolar\"}],\"pie\":[{\"automargin\":true,\"type\":\"pie\"}]},\"layout\":{\"autotypenumbers\":\"strict\",\"colorway\":[\"#636efa\",\"#EF553B\",\"#00cc96\",\"#ab63fa\",\"#FFA15A\",\"#19d3f3\",\"#FF6692\",\"#B6E880\",\"#FF97FF\",\"#FECB52\"],\"font\":{\"color\":\"#2a3f5f\"},\"hovermode\":\"closest\",\"hoverlabel\":{\"align\":\"left\"},\"paper_bgcolor\":\"white\",\"plot_bgcolor\":\"#E5ECF6\",\"polar\":{\"bgcolor\":\"#E5ECF6\",\"angularaxis\":{\"gridcolor\":\"white\",\"linecolor\":\"white\",\"ticks\":\"\"},\"radialaxis\":{\"gridcolor\":\"white\",\"linecolor\":\"white\",\"ticks\":\"\"}},\"ternary\":{\"bgcolor\":\"#E5ECF6\",\"aaxis\":{\"gridcolor\":\"white\",\"linecolor\":\"white\",\"ticks\":\"\"},\"baxis\":{\"gridcolor\":\"white\",\"linecolor\":\"white\",\"ticks\":\"\"},\"caxis\":{\"gridcolor\":\"white\",\"linecolor\":\"white\",\"ticks\":\"\"}},\"coloraxis\":{\"colorbar\":{\"outlinewidth\":0,\"ticks\":\"\"}},\"colorscale\":{\"sequential\":[[0.0,\"#0d0887\"],[0.1111111111111111,\"#46039f\"],[0.2222222222222222,\"#7201a8\"],[0.3333333333333333,\"#9c179e\"],[0.4444444444444444,\"#bd3786\"],[0.5555555555555556,\"#d8576b\"],[0.6666666666666666,\"#ed7953\"],[0.7777777777777778,\"#fb9f3a\"],[0.8888888888888888,\"#fdca26\"],[1.0,\"#f0f921\"]],\"sequentialminus\":[[0.0,\"#0d0887\"],[0.1111111111111111,\"#46039f\"],[0.2222222222222222,\"#7201a8\"],[0.3333333333333333,\"#9c179e\"],[0.4444444444444444,\"#bd3786\"],[0.5555555555555556,\"#d8576b\"],[0.6666666666666666,\"#ed7953\"],[0.7777777777777778,\"#fb9f3a\"],[0.8888888888888888,\"#fdca26\"],[1.0,\"#f0f921\"]],\"diverging\":[[0,\"#8e0152\"],[0.1,\"#c51b7d\"],[0.2,\"#de77ae\"],[0.3,\"#f1b6da\"],[0.4,\"#fde0ef\"],[0.5,\"#f7f7f7\"],[0.6,\"#e6f5d0\"],[0.7,\"#b8e186\"],[0.8,\"#7fbc41\"],[0.9,\"#4d9221\"],[1,\"#276419\"]]},\"xaxis\":{\"gridcolor\":\"white\",\"linecolor\":\"white\",\"ticks\":\"\",\"title\":{\"standoff\":15},\"zerolinecolor\":\"white\",\"automargin\":true,\"zerolinewidth\":2},\"yaxis\":{\"gridcolor\":\"white\",\"linecolor\":\"white\",\"ticks\":\"\",\"title\":{\"standoff\":15},\"zerolinecolor\":\"white\",\"automargin\":true,\"zerolinewidth\":2},\"scene\":{\"xaxis\":{\"backgroundcolor\":\"#E5ECF6\",\"gridcolor\":\"white\",\"linecolor\":\"white\",\"showbackground\":true,\"ticks\":\"\",\"zerolinecolor\":\"white\",\"gridwidth\":2},\"yaxis\":{\"backgroundcolor\":\"#E5ECF6\",\"gridcolor\":\"white\",\"linecolor\":\"white\",\"showbackground\":true,\"ticks\":\"\",\"zerolinecolor\":\"white\",\"gridwidth\":2},\"zaxis\":{\"backgroundcolor\":\"#E5ECF6\",\"gridcolor\":\"white\",\"linecolor\":\"white\",\"showbackground\":true,\"ticks\":\"\",\"zerolinecolor\":\"white\",\"gridwidth\":2}},\"shapedefaults\":{\"line\":{\"color\":\"#2a3f5f\"}},\"annotationdefaults\":{\"arrowcolor\":\"#2a3f5f\",\"arrowhead\":0,\"arrowwidth\":1},\"geo\":{\"bgcolor\":\"white\",\"landcolor\":\"#E5ECF6\",\"subunitcolor\":\"white\",\"showland\":true,\"showlakes\":true,\"lakecolor\":\"white\"},\"title\":{\"x\":0.05},\"mapbox\":{\"style\":\"light\"}}},\"xaxis\":{\"anchor\":\"y\",\"domain\":[0.0,1.0],\"title\":{\"text\":\"Saleprice_of_housesold\"}},\"yaxis\":{\"anchor\":\"x\",\"domain\":[0.0,1.0],\"title\":{\"text\":\"Housing_price\"}},\"legend\":{\"tracegroupgap\":0},\"title\":{\"text\":\"<b>Saleprice_of_housesold vs. Housing Price</b>\"}},                        {\"responsive\": true}                    ).then(function(){\n",
       "                            \n",
       "var gd = document.getElementById('abefdc77-69e3-40aa-95a0-3cc17e2ddb5f');\n",
       "var x = new MutationObserver(function (mutations, observer) {{\n",
       "        var display = window.getComputedStyle(gd).display;\n",
       "        if (!display || display === 'none') {{\n",
       "            console.log([gd, 'removed!']);\n",
       "            Plotly.purge(gd);\n",
       "            observer.disconnect();\n",
       "        }}\n",
       "}});\n",
       "\n",
       "// Listen for the removal of the full notebook cells\n",
       "var notebookContainer = gd.closest('#notebook-container');\n",
       "if (notebookContainer) {{\n",
       "    x.observe(notebookContainer, {childList: true});\n",
       "}}\n",
       "\n",
       "// Listen for the clearing of the current output cell\n",
       "var outputEl = gd.closest('.output');\n",
       "if (outputEl) {{\n",
       "    x.observe(outputEl, {childList: true});\n",
       "}}\n",
       "\n",
       "                        })                };                });            </script>        </div>"
      ]
     },
     "metadata": {},
     "output_type": "display_data"
    },
    {
     "data": {
      "application/vnd.plotly.v1+json": {
       "config": {
        "plotlyServerURL": "https://plot.ly"
       },
       "data": [
        {
         "hovertemplate": "Construction_spending=%{x}<br>Housing_price=%{y}<extra></extra>",
         "legendgroup": "",
         "marker": {
          "color": "#636efa",
          "symbol": "circle"
         },
         "mode": "markers",
         "name": "",
         "orientation": "v",
         "showlegend": false,
         "type": "scatter",
         "x": [
          503659,
          505081,
          511829,
          517912,
          528180,
          533358,
          549031,
          557411,
          552375,
          556425,
          555944,
          571871,
          581168,
          594003,
          597200,
          603975,
          609170,
          622726,
          634572,
          639501,
          652748,
          664407,
          670757,
          676135,
          681263,
          684482,
          674457,
          656899,
          640049,
          621219,
          604020,
          590189,
          579753,
          567752,
          555299,
          551740,
          544096,
          538260,
          534655,
          530749,
          521499,
          513524,
          503486,
          488816,
          472995,
          455045,
          439144,
          423699,
          409420,
          393193,
          397469,
          392801,
          389335,
          382000,
          372755,
          360382,
          348206,
          336824,
          320284,
          301332,
          291523,
          276113,
          262528,
          251235,
          244399,
          245226,
          252642,
          258774,
          262509,
          263232,
          263973,
          264592,
          263680,
          263649,
          263220,
          264593,
          263020,
          261202,
          254964,
          249367,
          249015,
          247981,
          248808,
          248929,
          250965,
          249760,
          251180,
          253897,
          254629,
          256286,
          257737,
          259960,
          258293,
          260305,
          254401,
          255090,
          259223,
          254120,
          258662,
          265032,
          269833,
          275699,
          279707,
          285467,
          292076,
          300200,
          302823,
          305105,
          309893,
          314633,
          318708,
          322768,
          327919,
          330608,
          334273,
          341543,
          345327,
          351749,
          358973,
          366094,
          373352,
          368792,
          374228,
          380061,
          381415,
          377648,
          377696,
          377992,
          387364,
          391415,
          396871,
          406913,
          412410,
          417214,
          417610,
          423031,
          430946,
          439934,
          446395,
          446045,
          454657,
          454849,
          453590,
          459296,
          462729,
          468615,
          475857,
          474859,
          475471,
          481016,
          483448,
          487803,
          489278,
          503588,
          511331,
          518926,
          517415,
          538210,
          533989,
          539763,
          543896,
          543889,
          548874,
          548690,
          551001,
          544317,
          568426,
          571214,
          577316,
          583280,
          578684,
          581271,
          585431,
          576776,
          567115,
          556811,
          556403,
          541318,
          543360,
          523119,
          522830,
          522444,
          523776,
          530488,
          538194,
          549077,
          560959,
          566061,
          569395,
          572486,
          585352,
          591208,
          605832,
          617004,
          627211,
          607913,
          600302,
          603019,
          624276,
          648039,
          667490,
          687334,
          707819,
          728680,
          744622,
          747851,
          768074,
          780114,
          797728,
          808662,
          815483,
          820597,
          823155,
          825903,
          832997,
          852307,
          890763,
          912047,
          929023,
          940598,
          954475,
          946828,
          936964,
          905056,
          889018,
          874105,
          869322,
          868435,
          851235,
          851533,
          851460
         ],
         "xaxis": "x",
         "y": [
          141.64600000000002,
          143.192,
          145.058,
          146.592,
          148.185,
          149.85,
          151.338,
          152.63299999999998,
          154.179,
          155.75,
          157.52700000000002,
          159.329,
          161.28799999999998,
          163.344,
          165.812,
          167.50099999999998,
          169.351,
          171.19,
          172.86,
          174.442,
          176.438,
          178.02700000000002,
          179.68099999999998,
          180.91,
          182.321,
          183.287,
          184.365,
          184.329,
          184.15599999999998,
          183.507,
          183.067,
          182.593,
          182.798,
          183.199,
          183.61,
          184.139,
          184.517,
          184.59900000000002,
          184.15,
          183.01,
          181.6,
          180.25400000000002,
          179.111,
          178.11599999999999,
          177.55700000000002,
          176.623,
          175.146,
          174.34099999999998,
          173.132,
          171.541,
          170.054,
          168.33900000000003,
          166.66,
          165.018,
          163.567,
          161.988,
          160.308,
          158.327,
          156.141,
          153.618,
          151.506,
          150.014,
          148.66,
          147.94899999999998,
          147.695,
          148.09,
          148.41,
          148.27700000000002,
          148.024,
          147.849,
          148.13299999999998,
          147.928,
          147.395,
          145.631,
          145.859,
          146.40200000000002,
          146.393,
          145.719,
          144.989,
          143.91299999999998,
          143.017,
          142.53,
          142.173,
          142.059,
          141.52200000000002,
          140.35,
          139.982,
          140.009,
          139.904,
          139.86,
          139.72899999999998,
          139.30700000000002,
          138.668,
          137.952,
          137.15200000000002,
          136.675,
          136.607,
          136.532,
          137.904,
          139.155,
          140.155,
          141.03,
          141.67,
          142.28,
          142.909,
          143.601,
          144.585,
          145.502,
          146.827,
          147.783,
          149.963,
          151.518,
          152.849,
          154.197,
          155.602,
          156.965,
          158.227,
          159.241,
          160.07299999999998,
          160.993,
          161.928,
          162.52700000000002,
          163.088,
          163.39600000000002,
          163.66299999999998,
          164.05599999999998,
          164.574,
          165.218,
          165.907,
          166.644,
          167.33700000000002,
          168.053,
          168.637,
          169.132,
          169.80200000000002,
          170.301,
          170.88400000000001,
          171.457,
          172.125,
          172.938,
          173.83,
          174.794,
          175.74200000000002,
          176.548,
          177.27700000000002,
          177.65400000000002,
          178.168,
          178.77,
          179.43200000000002,
          180.065,
          180.826,
          181.854,
          182.827,
          183.75400000000002,
          184.762,
          185.72299999999998,
          186.80200000000002,
          187.31599999999997,
          187.997,
          188.733,
          189.62900000000002,
          190.50400000000002,
          191.452,
          192.683,
          193.775,
          194.81400000000002,
          195.953,
          197.15900000000002,
          198.291,
          199.21400000000003,
          199.96099999999998,
          200.668,
          201.447,
          202.245,
          202.929,
          203.734,
          204.39,
          205.13299999999998,
          205.666,
          206.114,
          206.479,
          206.803,
          207.043,
          207.53799999999998,
          208.19400000000002,
          208.701,
          209.31799999999998,
          210.183,
          210.972,
          211.81599999999997,
          212.762,
          213.843,
          214.84599999999998,
          215.722,
          216.345,
          216.87,
          217.11900000000003,
          217.739,
          219.437,
          222.537,
          225.933,
          229.782,
          233.162,
          236.345,
          239.3,
          242.111,
          245.364,
          249.18400000000003,
          253.68200000000002,
          258.592,
          262.907,
          267.069,
          270.498,
          273.748,
          277.122,
          281.127,
          285.493,
          290.736,
          296.296,
          300.829,
          304.29400000000004,
          305.163,
          304.04400000000004,
          301.712,
          299.41200000000003,
          298.793,
          297.985,
          296.952,
          296.064,
          296.926,
          298.166
         ],
         "yaxis": "y"
        }
       ],
       "layout": {
        "legend": {
         "tracegroupgap": 0
        },
        "template": {
         "data": {
          "bar": [
           {
            "error_x": {
             "color": "#2a3f5f"
            },
            "error_y": {
             "color": "#2a3f5f"
            },
            "marker": {
             "line": {
              "color": "#E5ECF6",
              "width": 0.5
             },
             "pattern": {
              "fillmode": "overlay",
              "size": 10,
              "solidity": 0.2
             }
            },
            "type": "bar"
           }
          ],
          "barpolar": [
           {
            "marker": {
             "line": {
              "color": "#E5ECF6",
              "width": 0.5
             },
             "pattern": {
              "fillmode": "overlay",
              "size": 10,
              "solidity": 0.2
             }
            },
            "type": "barpolar"
           }
          ],
          "carpet": [
           {
            "aaxis": {
             "endlinecolor": "#2a3f5f",
             "gridcolor": "white",
             "linecolor": "white",
             "minorgridcolor": "white",
             "startlinecolor": "#2a3f5f"
            },
            "baxis": {
             "endlinecolor": "#2a3f5f",
             "gridcolor": "white",
             "linecolor": "white",
             "minorgridcolor": "white",
             "startlinecolor": "#2a3f5f"
            },
            "type": "carpet"
           }
          ],
          "choropleth": [
           {
            "colorbar": {
             "outlinewidth": 0,
             "ticks": ""
            },
            "type": "choropleth"
           }
          ],
          "contour": [
           {
            "colorbar": {
             "outlinewidth": 0,
             "ticks": ""
            },
            "colorscale": [
             [
              0,
              "#0d0887"
             ],
             [
              0.1111111111111111,
              "#46039f"
             ],
             [
              0.2222222222222222,
              "#7201a8"
             ],
             [
              0.3333333333333333,
              "#9c179e"
             ],
             [
              0.4444444444444444,
              "#bd3786"
             ],
             [
              0.5555555555555556,
              "#d8576b"
             ],
             [
              0.6666666666666666,
              "#ed7953"
             ],
             [
              0.7777777777777778,
              "#fb9f3a"
             ],
             [
              0.8888888888888888,
              "#fdca26"
             ],
             [
              1,
              "#f0f921"
             ]
            ],
            "type": "contour"
           }
          ],
          "contourcarpet": [
           {
            "colorbar": {
             "outlinewidth": 0,
             "ticks": ""
            },
            "type": "contourcarpet"
           }
          ],
          "heatmap": [
           {
            "colorbar": {
             "outlinewidth": 0,
             "ticks": ""
            },
            "colorscale": [
             [
              0,
              "#0d0887"
             ],
             [
              0.1111111111111111,
              "#46039f"
             ],
             [
              0.2222222222222222,
              "#7201a8"
             ],
             [
              0.3333333333333333,
              "#9c179e"
             ],
             [
              0.4444444444444444,
              "#bd3786"
             ],
             [
              0.5555555555555556,
              "#d8576b"
             ],
             [
              0.6666666666666666,
              "#ed7953"
             ],
             [
              0.7777777777777778,
              "#fb9f3a"
             ],
             [
              0.8888888888888888,
              "#fdca26"
             ],
             [
              1,
              "#f0f921"
             ]
            ],
            "type": "heatmap"
           }
          ],
          "heatmapgl": [
           {
            "colorbar": {
             "outlinewidth": 0,
             "ticks": ""
            },
            "colorscale": [
             [
              0,
              "#0d0887"
             ],
             [
              0.1111111111111111,
              "#46039f"
             ],
             [
              0.2222222222222222,
              "#7201a8"
             ],
             [
              0.3333333333333333,
              "#9c179e"
             ],
             [
              0.4444444444444444,
              "#bd3786"
             ],
             [
              0.5555555555555556,
              "#d8576b"
             ],
             [
              0.6666666666666666,
              "#ed7953"
             ],
             [
              0.7777777777777778,
              "#fb9f3a"
             ],
             [
              0.8888888888888888,
              "#fdca26"
             ],
             [
              1,
              "#f0f921"
             ]
            ],
            "type": "heatmapgl"
           }
          ],
          "histogram": [
           {
            "marker": {
             "pattern": {
              "fillmode": "overlay",
              "size": 10,
              "solidity": 0.2
             }
            },
            "type": "histogram"
           }
          ],
          "histogram2d": [
           {
            "colorbar": {
             "outlinewidth": 0,
             "ticks": ""
            },
            "colorscale": [
             [
              0,
              "#0d0887"
             ],
             [
              0.1111111111111111,
              "#46039f"
             ],
             [
              0.2222222222222222,
              "#7201a8"
             ],
             [
              0.3333333333333333,
              "#9c179e"
             ],
             [
              0.4444444444444444,
              "#bd3786"
             ],
             [
              0.5555555555555556,
              "#d8576b"
             ],
             [
              0.6666666666666666,
              "#ed7953"
             ],
             [
              0.7777777777777778,
              "#fb9f3a"
             ],
             [
              0.8888888888888888,
              "#fdca26"
             ],
             [
              1,
              "#f0f921"
             ]
            ],
            "type": "histogram2d"
           }
          ],
          "histogram2dcontour": [
           {
            "colorbar": {
             "outlinewidth": 0,
             "ticks": ""
            },
            "colorscale": [
             [
              0,
              "#0d0887"
             ],
             [
              0.1111111111111111,
              "#46039f"
             ],
             [
              0.2222222222222222,
              "#7201a8"
             ],
             [
              0.3333333333333333,
              "#9c179e"
             ],
             [
              0.4444444444444444,
              "#bd3786"
             ],
             [
              0.5555555555555556,
              "#d8576b"
             ],
             [
              0.6666666666666666,
              "#ed7953"
             ],
             [
              0.7777777777777778,
              "#fb9f3a"
             ],
             [
              0.8888888888888888,
              "#fdca26"
             ],
             [
              1,
              "#f0f921"
             ]
            ],
            "type": "histogram2dcontour"
           }
          ],
          "mesh3d": [
           {
            "colorbar": {
             "outlinewidth": 0,
             "ticks": ""
            },
            "type": "mesh3d"
           }
          ],
          "parcoords": [
           {
            "line": {
             "colorbar": {
              "outlinewidth": 0,
              "ticks": ""
             }
            },
            "type": "parcoords"
           }
          ],
          "pie": [
           {
            "automargin": true,
            "type": "pie"
           }
          ],
          "scatter": [
           {
            "fillpattern": {
             "fillmode": "overlay",
             "size": 10,
             "solidity": 0.2
            },
            "type": "scatter"
           }
          ],
          "scatter3d": [
           {
            "line": {
             "colorbar": {
              "outlinewidth": 0,
              "ticks": ""
             }
            },
            "marker": {
             "colorbar": {
              "outlinewidth": 0,
              "ticks": ""
             }
            },
            "type": "scatter3d"
           }
          ],
          "scattercarpet": [
           {
            "marker": {
             "colorbar": {
              "outlinewidth": 0,
              "ticks": ""
             }
            },
            "type": "scattercarpet"
           }
          ],
          "scattergeo": [
           {
            "marker": {
             "colorbar": {
              "outlinewidth": 0,
              "ticks": ""
             }
            },
            "type": "scattergeo"
           }
          ],
          "scattergl": [
           {
            "marker": {
             "colorbar": {
              "outlinewidth": 0,
              "ticks": ""
             }
            },
            "type": "scattergl"
           }
          ],
          "scattermapbox": [
           {
            "marker": {
             "colorbar": {
              "outlinewidth": 0,
              "ticks": ""
             }
            },
            "type": "scattermapbox"
           }
          ],
          "scatterpolar": [
           {
            "marker": {
             "colorbar": {
              "outlinewidth": 0,
              "ticks": ""
             }
            },
            "type": "scatterpolar"
           }
          ],
          "scatterpolargl": [
           {
            "marker": {
             "colorbar": {
              "outlinewidth": 0,
              "ticks": ""
             }
            },
            "type": "scatterpolargl"
           }
          ],
          "scatterternary": [
           {
            "marker": {
             "colorbar": {
              "outlinewidth": 0,
              "ticks": ""
             }
            },
            "type": "scatterternary"
           }
          ],
          "surface": [
           {
            "colorbar": {
             "outlinewidth": 0,
             "ticks": ""
            },
            "colorscale": [
             [
              0,
              "#0d0887"
             ],
             [
              0.1111111111111111,
              "#46039f"
             ],
             [
              0.2222222222222222,
              "#7201a8"
             ],
             [
              0.3333333333333333,
              "#9c179e"
             ],
             [
              0.4444444444444444,
              "#bd3786"
             ],
             [
              0.5555555555555556,
              "#d8576b"
             ],
             [
              0.6666666666666666,
              "#ed7953"
             ],
             [
              0.7777777777777778,
              "#fb9f3a"
             ],
             [
              0.8888888888888888,
              "#fdca26"
             ],
             [
              1,
              "#f0f921"
             ]
            ],
            "type": "surface"
           }
          ],
          "table": [
           {
            "cells": {
             "fill": {
              "color": "#EBF0F8"
             },
             "line": {
              "color": "white"
             }
            },
            "header": {
             "fill": {
              "color": "#C8D4E3"
             },
             "line": {
              "color": "white"
             }
            },
            "type": "table"
           }
          ]
         },
         "layout": {
          "annotationdefaults": {
           "arrowcolor": "#2a3f5f",
           "arrowhead": 0,
           "arrowwidth": 1
          },
          "autotypenumbers": "strict",
          "coloraxis": {
           "colorbar": {
            "outlinewidth": 0,
            "ticks": ""
           }
          },
          "colorscale": {
           "diverging": [
            [
             0,
             "#8e0152"
            ],
            [
             0.1,
             "#c51b7d"
            ],
            [
             0.2,
             "#de77ae"
            ],
            [
             0.3,
             "#f1b6da"
            ],
            [
             0.4,
             "#fde0ef"
            ],
            [
             0.5,
             "#f7f7f7"
            ],
            [
             0.6,
             "#e6f5d0"
            ],
            [
             0.7,
             "#b8e186"
            ],
            [
             0.8,
             "#7fbc41"
            ],
            [
             0.9,
             "#4d9221"
            ],
            [
             1,
             "#276419"
            ]
           ],
           "sequential": [
            [
             0,
             "#0d0887"
            ],
            [
             0.1111111111111111,
             "#46039f"
            ],
            [
             0.2222222222222222,
             "#7201a8"
            ],
            [
             0.3333333333333333,
             "#9c179e"
            ],
            [
             0.4444444444444444,
             "#bd3786"
            ],
            [
             0.5555555555555556,
             "#d8576b"
            ],
            [
             0.6666666666666666,
             "#ed7953"
            ],
            [
             0.7777777777777778,
             "#fb9f3a"
            ],
            [
             0.8888888888888888,
             "#fdca26"
            ],
            [
             1,
             "#f0f921"
            ]
           ],
           "sequentialminus": [
            [
             0,
             "#0d0887"
            ],
            [
             0.1111111111111111,
             "#46039f"
            ],
            [
             0.2222222222222222,
             "#7201a8"
            ],
            [
             0.3333333333333333,
             "#9c179e"
            ],
            [
             0.4444444444444444,
             "#bd3786"
            ],
            [
             0.5555555555555556,
             "#d8576b"
            ],
            [
             0.6666666666666666,
             "#ed7953"
            ],
            [
             0.7777777777777778,
             "#fb9f3a"
            ],
            [
             0.8888888888888888,
             "#fdca26"
            ],
            [
             1,
             "#f0f921"
            ]
           ]
          },
          "colorway": [
           "#636efa",
           "#EF553B",
           "#00cc96",
           "#ab63fa",
           "#FFA15A",
           "#19d3f3",
           "#FF6692",
           "#B6E880",
           "#FF97FF",
           "#FECB52"
          ],
          "font": {
           "color": "#2a3f5f"
          },
          "geo": {
           "bgcolor": "white",
           "lakecolor": "white",
           "landcolor": "#E5ECF6",
           "showlakes": true,
           "showland": true,
           "subunitcolor": "white"
          },
          "hoverlabel": {
           "align": "left"
          },
          "hovermode": "closest",
          "mapbox": {
           "style": "light"
          },
          "paper_bgcolor": "white",
          "plot_bgcolor": "#E5ECF6",
          "polar": {
           "angularaxis": {
            "gridcolor": "white",
            "linecolor": "white",
            "ticks": ""
           },
           "bgcolor": "#E5ECF6",
           "radialaxis": {
            "gridcolor": "white",
            "linecolor": "white",
            "ticks": ""
           }
          },
          "scene": {
           "xaxis": {
            "backgroundcolor": "#E5ECF6",
            "gridcolor": "white",
            "gridwidth": 2,
            "linecolor": "white",
            "showbackground": true,
            "ticks": "",
            "zerolinecolor": "white"
           },
           "yaxis": {
            "backgroundcolor": "#E5ECF6",
            "gridcolor": "white",
            "gridwidth": 2,
            "linecolor": "white",
            "showbackground": true,
            "ticks": "",
            "zerolinecolor": "white"
           },
           "zaxis": {
            "backgroundcolor": "#E5ECF6",
            "gridcolor": "white",
            "gridwidth": 2,
            "linecolor": "white",
            "showbackground": true,
            "ticks": "",
            "zerolinecolor": "white"
           }
          },
          "shapedefaults": {
           "line": {
            "color": "#2a3f5f"
           }
          },
          "ternary": {
           "aaxis": {
            "gridcolor": "white",
            "linecolor": "white",
            "ticks": ""
           },
           "baxis": {
            "gridcolor": "white",
            "linecolor": "white",
            "ticks": ""
           },
           "bgcolor": "#E5ECF6",
           "caxis": {
            "gridcolor": "white",
            "linecolor": "white",
            "ticks": ""
           }
          },
          "title": {
           "x": 0.05
          },
          "xaxis": {
           "automargin": true,
           "gridcolor": "white",
           "linecolor": "white",
           "ticks": "",
           "title": {
            "standoff": 15
           },
           "zerolinecolor": "white",
           "zerolinewidth": 2
          },
          "yaxis": {
           "automargin": true,
           "gridcolor": "white",
           "linecolor": "white",
           "ticks": "",
           "title": {
            "standoff": 15
           },
           "zerolinecolor": "white",
           "zerolinewidth": 2
          }
         }
        },
        "title": {
         "text": "<b>Construction_spending vs. Housing Price</b>"
        },
        "xaxis": {
         "anchor": "y",
         "domain": [
          0,
          1
         ],
         "title": {
          "text": "Construction_spending"
         }
        },
        "yaxis": {
         "anchor": "x",
         "domain": [
          0,
          1
         ],
         "title": {
          "text": "Housing_price"
         }
        }
       }
      },
      "text/html": [
       "<div>                            <div id=\"fe210c2f-5aa3-44c8-ac9e-e2f61a1cc81f\" class=\"plotly-graph-div\" style=\"height:525px; width:100%;\"></div>            <script type=\"text/javascript\">                require([\"plotly\"], function(Plotly) {                    window.PLOTLYENV=window.PLOTLYENV || {};                                    if (document.getElementById(\"fe210c2f-5aa3-44c8-ac9e-e2f61a1cc81f\")) {                    Plotly.newPlot(                        \"fe210c2f-5aa3-44c8-ac9e-e2f61a1cc81f\",                        [{\"hovertemplate\":\"Construction_spending=%{x}<br>Housing_price=%{y}<extra></extra>\",\"legendgroup\":\"\",\"marker\":{\"color\":\"#636efa\",\"symbol\":\"circle\"},\"mode\":\"markers\",\"name\":\"\",\"orientation\":\"v\",\"showlegend\":false,\"x\":[503659,505081,511829,517912,528180,533358,549031,557411,552375,556425,555944,571871,581168,594003,597200,603975,609170,622726,634572,639501,652748,664407,670757,676135,681263,684482,674457,656899,640049,621219,604020,590189,579753,567752,555299,551740,544096,538260,534655,530749,521499,513524,503486,488816,472995,455045,439144,423699,409420,393193,397469,392801,389335,382000,372755,360382,348206,336824,320284,301332,291523,276113,262528,251235,244399,245226,252642,258774,262509,263232,263973,264592,263680,263649,263220,264593,263020,261202,254964,249367,249015,247981,248808,248929,250965,249760,251180,253897,254629,256286,257737,259960,258293,260305,254401,255090,259223,254120,258662,265032,269833,275699,279707,285467,292076,300200,302823,305105,309893,314633,318708,322768,327919,330608,334273,341543,345327,351749,358973,366094,373352,368792,374228,380061,381415,377648,377696,377992,387364,391415,396871,406913,412410,417214,417610,423031,430946,439934,446395,446045,454657,454849,453590,459296,462729,468615,475857,474859,475471,481016,483448,487803,489278,503588,511331,518926,517415,538210,533989,539763,543896,543889,548874,548690,551001,544317,568426,571214,577316,583280,578684,581271,585431,576776,567115,556811,556403,541318,543360,523119,522830,522444,523776,530488,538194,549077,560959,566061,569395,572486,585352,591208,605832,617004,627211,607913,600302,603019,624276,648039,667490,687334,707819,728680,744622,747851,768074,780114,797728,808662,815483,820597,823155,825903,832997,852307,890763,912047,929023,940598,954475,946828,936964,905056,889018,874105,869322,868435,851235,851533,851460],\"xaxis\":\"x\",\"y\":[141.64600000000002,143.192,145.058,146.592,148.185,149.85,151.338,152.63299999999998,154.179,155.75,157.52700000000002,159.329,161.28799999999998,163.344,165.812,167.50099999999998,169.351,171.19,172.86,174.442,176.438,178.02700000000002,179.68099999999998,180.91,182.321,183.287,184.365,184.329,184.15599999999998,183.507,183.067,182.593,182.798,183.199,183.61,184.139,184.517,184.59900000000002,184.15,183.01,181.6,180.25400000000002,179.111,178.11599999999999,177.55700000000002,176.623,175.146,174.34099999999998,173.132,171.541,170.054,168.33900000000003,166.66,165.018,163.567,161.988,160.308,158.327,156.141,153.618,151.506,150.014,148.66,147.94899999999998,147.695,148.09,148.41,148.27700000000002,148.024,147.849,148.13299999999998,147.928,147.395,145.631,145.859,146.40200000000002,146.393,145.719,144.989,143.91299999999998,143.017,142.53,142.173,142.059,141.52200000000002,140.35,139.982,140.009,139.904,139.86,139.72899999999998,139.30700000000002,138.668,137.952,137.15200000000002,136.675,136.607,136.532,137.904,139.155,140.155,141.03,141.67,142.28,142.909,143.601,144.585,145.502,146.827,147.783,149.963,151.518,152.849,154.197,155.602,156.965,158.227,159.241,160.07299999999998,160.993,161.928,162.52700000000002,163.088,163.39600000000002,163.66299999999998,164.05599999999998,164.574,165.218,165.907,166.644,167.33700000000002,168.053,168.637,169.132,169.80200000000002,170.301,170.88400000000001,171.457,172.125,172.938,173.83,174.794,175.74200000000002,176.548,177.27700000000002,177.65400000000002,178.168,178.77,179.43200000000002,180.065,180.826,181.854,182.827,183.75400000000002,184.762,185.72299999999998,186.80200000000002,187.31599999999997,187.997,188.733,189.62900000000002,190.50400000000002,191.452,192.683,193.775,194.81400000000002,195.953,197.15900000000002,198.291,199.21400000000003,199.96099999999998,200.668,201.447,202.245,202.929,203.734,204.39,205.13299999999998,205.666,206.114,206.479,206.803,207.043,207.53799999999998,208.19400000000002,208.701,209.31799999999998,210.183,210.972,211.81599999999997,212.762,213.843,214.84599999999998,215.722,216.345,216.87,217.11900000000003,217.739,219.437,222.537,225.933,229.782,233.162,236.345,239.3,242.111,245.364,249.18400000000003,253.68200000000002,258.592,262.907,267.069,270.498,273.748,277.122,281.127,285.493,290.736,296.296,300.829,304.29400000000004,305.163,304.04400000000004,301.712,299.41200000000003,298.793,297.985,296.952,296.064,296.926,298.166],\"yaxis\":\"y\",\"type\":\"scatter\"}],                        {\"template\":{\"data\":{\"histogram2dcontour\":[{\"type\":\"histogram2dcontour\",\"colorbar\":{\"outlinewidth\":0,\"ticks\":\"\"},\"colorscale\":[[0.0,\"#0d0887\"],[0.1111111111111111,\"#46039f\"],[0.2222222222222222,\"#7201a8\"],[0.3333333333333333,\"#9c179e\"],[0.4444444444444444,\"#bd3786\"],[0.5555555555555556,\"#d8576b\"],[0.6666666666666666,\"#ed7953\"],[0.7777777777777778,\"#fb9f3a\"],[0.8888888888888888,\"#fdca26\"],[1.0,\"#f0f921\"]]}],\"choropleth\":[{\"type\":\"choropleth\",\"colorbar\":{\"outlinewidth\":0,\"ticks\":\"\"}}],\"histogram2d\":[{\"type\":\"histogram2d\",\"colorbar\":{\"outlinewidth\":0,\"ticks\":\"\"},\"colorscale\":[[0.0,\"#0d0887\"],[0.1111111111111111,\"#46039f\"],[0.2222222222222222,\"#7201a8\"],[0.3333333333333333,\"#9c179e\"],[0.4444444444444444,\"#bd3786\"],[0.5555555555555556,\"#d8576b\"],[0.6666666666666666,\"#ed7953\"],[0.7777777777777778,\"#fb9f3a\"],[0.8888888888888888,\"#fdca26\"],[1.0,\"#f0f921\"]]}],\"heatmap\":[{\"type\":\"heatmap\",\"colorbar\":{\"outlinewidth\":0,\"ticks\":\"\"},\"colorscale\":[[0.0,\"#0d0887\"],[0.1111111111111111,\"#46039f\"],[0.2222222222222222,\"#7201a8\"],[0.3333333333333333,\"#9c179e\"],[0.4444444444444444,\"#bd3786\"],[0.5555555555555556,\"#d8576b\"],[0.6666666666666666,\"#ed7953\"],[0.7777777777777778,\"#fb9f3a\"],[0.8888888888888888,\"#fdca26\"],[1.0,\"#f0f921\"]]}],\"heatmapgl\":[{\"type\":\"heatmapgl\",\"colorbar\":{\"outlinewidth\":0,\"ticks\":\"\"},\"colorscale\":[[0.0,\"#0d0887\"],[0.1111111111111111,\"#46039f\"],[0.2222222222222222,\"#7201a8\"],[0.3333333333333333,\"#9c179e\"],[0.4444444444444444,\"#bd3786\"],[0.5555555555555556,\"#d8576b\"],[0.6666666666666666,\"#ed7953\"],[0.7777777777777778,\"#fb9f3a\"],[0.8888888888888888,\"#fdca26\"],[1.0,\"#f0f921\"]]}],\"contourcarpet\":[{\"type\":\"contourcarpet\",\"colorbar\":{\"outlinewidth\":0,\"ticks\":\"\"}}],\"contour\":[{\"type\":\"contour\",\"colorbar\":{\"outlinewidth\":0,\"ticks\":\"\"},\"colorscale\":[[0.0,\"#0d0887\"],[0.1111111111111111,\"#46039f\"],[0.2222222222222222,\"#7201a8\"],[0.3333333333333333,\"#9c179e\"],[0.4444444444444444,\"#bd3786\"],[0.5555555555555556,\"#d8576b\"],[0.6666666666666666,\"#ed7953\"],[0.7777777777777778,\"#fb9f3a\"],[0.8888888888888888,\"#fdca26\"],[1.0,\"#f0f921\"]]}],\"surface\":[{\"type\":\"surface\",\"colorbar\":{\"outlinewidth\":0,\"ticks\":\"\"},\"colorscale\":[[0.0,\"#0d0887\"],[0.1111111111111111,\"#46039f\"],[0.2222222222222222,\"#7201a8\"],[0.3333333333333333,\"#9c179e\"],[0.4444444444444444,\"#bd3786\"],[0.5555555555555556,\"#d8576b\"],[0.6666666666666666,\"#ed7953\"],[0.7777777777777778,\"#fb9f3a\"],[0.8888888888888888,\"#fdca26\"],[1.0,\"#f0f921\"]]}],\"mesh3d\":[{\"type\":\"mesh3d\",\"colorbar\":{\"outlinewidth\":0,\"ticks\":\"\"}}],\"scatter\":[{\"fillpattern\":{\"fillmode\":\"overlay\",\"size\":10,\"solidity\":0.2},\"type\":\"scatter\"}],\"parcoords\":[{\"type\":\"parcoords\",\"line\":{\"colorbar\":{\"outlinewidth\":0,\"ticks\":\"\"}}}],\"scatterpolargl\":[{\"type\":\"scatterpolargl\",\"marker\":{\"colorbar\":{\"outlinewidth\":0,\"ticks\":\"\"}}}],\"bar\":[{\"error_x\":{\"color\":\"#2a3f5f\"},\"error_y\":{\"color\":\"#2a3f5f\"},\"marker\":{\"line\":{\"color\":\"#E5ECF6\",\"width\":0.5},\"pattern\":{\"fillmode\":\"overlay\",\"size\":10,\"solidity\":0.2}},\"type\":\"bar\"}],\"scattergeo\":[{\"type\":\"scattergeo\",\"marker\":{\"colorbar\":{\"outlinewidth\":0,\"ticks\":\"\"}}}],\"scatterpolar\":[{\"type\":\"scatterpolar\",\"marker\":{\"colorbar\":{\"outlinewidth\":0,\"ticks\":\"\"}}}],\"histogram\":[{\"marker\":{\"pattern\":{\"fillmode\":\"overlay\",\"size\":10,\"solidity\":0.2}},\"type\":\"histogram\"}],\"scattergl\":[{\"type\":\"scattergl\",\"marker\":{\"colorbar\":{\"outlinewidth\":0,\"ticks\":\"\"}}}],\"scatter3d\":[{\"type\":\"scatter3d\",\"line\":{\"colorbar\":{\"outlinewidth\":0,\"ticks\":\"\"}},\"marker\":{\"colorbar\":{\"outlinewidth\":0,\"ticks\":\"\"}}}],\"scattermapbox\":[{\"type\":\"scattermapbox\",\"marker\":{\"colorbar\":{\"outlinewidth\":0,\"ticks\":\"\"}}}],\"scatterternary\":[{\"type\":\"scatterternary\",\"marker\":{\"colorbar\":{\"outlinewidth\":0,\"ticks\":\"\"}}}],\"scattercarpet\":[{\"type\":\"scattercarpet\",\"marker\":{\"colorbar\":{\"outlinewidth\":0,\"ticks\":\"\"}}}],\"carpet\":[{\"aaxis\":{\"endlinecolor\":\"#2a3f5f\",\"gridcolor\":\"white\",\"linecolor\":\"white\",\"minorgridcolor\":\"white\",\"startlinecolor\":\"#2a3f5f\"},\"baxis\":{\"endlinecolor\":\"#2a3f5f\",\"gridcolor\":\"white\",\"linecolor\":\"white\",\"minorgridcolor\":\"white\",\"startlinecolor\":\"#2a3f5f\"},\"type\":\"carpet\"}],\"table\":[{\"cells\":{\"fill\":{\"color\":\"#EBF0F8\"},\"line\":{\"color\":\"white\"}},\"header\":{\"fill\":{\"color\":\"#C8D4E3\"},\"line\":{\"color\":\"white\"}},\"type\":\"table\"}],\"barpolar\":[{\"marker\":{\"line\":{\"color\":\"#E5ECF6\",\"width\":0.5},\"pattern\":{\"fillmode\":\"overlay\",\"size\":10,\"solidity\":0.2}},\"type\":\"barpolar\"}],\"pie\":[{\"automargin\":true,\"type\":\"pie\"}]},\"layout\":{\"autotypenumbers\":\"strict\",\"colorway\":[\"#636efa\",\"#EF553B\",\"#00cc96\",\"#ab63fa\",\"#FFA15A\",\"#19d3f3\",\"#FF6692\",\"#B6E880\",\"#FF97FF\",\"#FECB52\"],\"font\":{\"color\":\"#2a3f5f\"},\"hovermode\":\"closest\",\"hoverlabel\":{\"align\":\"left\"},\"paper_bgcolor\":\"white\",\"plot_bgcolor\":\"#E5ECF6\",\"polar\":{\"bgcolor\":\"#E5ECF6\",\"angularaxis\":{\"gridcolor\":\"white\",\"linecolor\":\"white\",\"ticks\":\"\"},\"radialaxis\":{\"gridcolor\":\"white\",\"linecolor\":\"white\",\"ticks\":\"\"}},\"ternary\":{\"bgcolor\":\"#E5ECF6\",\"aaxis\":{\"gridcolor\":\"white\",\"linecolor\":\"white\",\"ticks\":\"\"},\"baxis\":{\"gridcolor\":\"white\",\"linecolor\":\"white\",\"ticks\":\"\"},\"caxis\":{\"gridcolor\":\"white\",\"linecolor\":\"white\",\"ticks\":\"\"}},\"coloraxis\":{\"colorbar\":{\"outlinewidth\":0,\"ticks\":\"\"}},\"colorscale\":{\"sequential\":[[0.0,\"#0d0887\"],[0.1111111111111111,\"#46039f\"],[0.2222222222222222,\"#7201a8\"],[0.3333333333333333,\"#9c179e\"],[0.4444444444444444,\"#bd3786\"],[0.5555555555555556,\"#d8576b\"],[0.6666666666666666,\"#ed7953\"],[0.7777777777777778,\"#fb9f3a\"],[0.8888888888888888,\"#fdca26\"],[1.0,\"#f0f921\"]],\"sequentialminus\":[[0.0,\"#0d0887\"],[0.1111111111111111,\"#46039f\"],[0.2222222222222222,\"#7201a8\"],[0.3333333333333333,\"#9c179e\"],[0.4444444444444444,\"#bd3786\"],[0.5555555555555556,\"#d8576b\"],[0.6666666666666666,\"#ed7953\"],[0.7777777777777778,\"#fb9f3a\"],[0.8888888888888888,\"#fdca26\"],[1.0,\"#f0f921\"]],\"diverging\":[[0,\"#8e0152\"],[0.1,\"#c51b7d\"],[0.2,\"#de77ae\"],[0.3,\"#f1b6da\"],[0.4,\"#fde0ef\"],[0.5,\"#f7f7f7\"],[0.6,\"#e6f5d0\"],[0.7,\"#b8e186\"],[0.8,\"#7fbc41\"],[0.9,\"#4d9221\"],[1,\"#276419\"]]},\"xaxis\":{\"gridcolor\":\"white\",\"linecolor\":\"white\",\"ticks\":\"\",\"title\":{\"standoff\":15},\"zerolinecolor\":\"white\",\"automargin\":true,\"zerolinewidth\":2},\"yaxis\":{\"gridcolor\":\"white\",\"linecolor\":\"white\",\"ticks\":\"\",\"title\":{\"standoff\":15},\"zerolinecolor\":\"white\",\"automargin\":true,\"zerolinewidth\":2},\"scene\":{\"xaxis\":{\"backgroundcolor\":\"#E5ECF6\",\"gridcolor\":\"white\",\"linecolor\":\"white\",\"showbackground\":true,\"ticks\":\"\",\"zerolinecolor\":\"white\",\"gridwidth\":2},\"yaxis\":{\"backgroundcolor\":\"#E5ECF6\",\"gridcolor\":\"white\",\"linecolor\":\"white\",\"showbackground\":true,\"ticks\":\"\",\"zerolinecolor\":\"white\",\"gridwidth\":2},\"zaxis\":{\"backgroundcolor\":\"#E5ECF6\",\"gridcolor\":\"white\",\"linecolor\":\"white\",\"showbackground\":true,\"ticks\":\"\",\"zerolinecolor\":\"white\",\"gridwidth\":2}},\"shapedefaults\":{\"line\":{\"color\":\"#2a3f5f\"}},\"annotationdefaults\":{\"arrowcolor\":\"#2a3f5f\",\"arrowhead\":0,\"arrowwidth\":1},\"geo\":{\"bgcolor\":\"white\",\"landcolor\":\"#E5ECF6\",\"subunitcolor\":\"white\",\"showland\":true,\"showlakes\":true,\"lakecolor\":\"white\"},\"title\":{\"x\":0.05},\"mapbox\":{\"style\":\"light\"}}},\"xaxis\":{\"anchor\":\"y\",\"domain\":[0.0,1.0],\"title\":{\"text\":\"Construction_spending\"}},\"yaxis\":{\"anchor\":\"x\",\"domain\":[0.0,1.0],\"title\":{\"text\":\"Housing_price\"}},\"legend\":{\"tracegroupgap\":0},\"title\":{\"text\":\"<b>Construction_spending vs. Housing Price</b>\"}},                        {\"responsive\": true}                    ).then(function(){\n",
       "                            \n",
       "var gd = document.getElementById('fe210c2f-5aa3-44c8-ac9e-e2f61a1cc81f');\n",
       "var x = new MutationObserver(function (mutations, observer) {{\n",
       "        var display = window.getComputedStyle(gd).display;\n",
       "        if (!display || display === 'none') {{\n",
       "            console.log([gd, 'removed!']);\n",
       "            Plotly.purge(gd);\n",
       "            observer.disconnect();\n",
       "        }}\n",
       "}});\n",
       "\n",
       "// Listen for the removal of the full notebook cells\n",
       "var notebookContainer = gd.closest('#notebook-container');\n",
       "if (notebookContainer) {{\n",
       "    x.observe(notebookContainer, {childList: true});\n",
       "}}\n",
       "\n",
       "// Listen for the clearing of the current output cell\n",
       "var outputEl = gd.closest('.output');\n",
       "if (outputEl) {{\n",
       "    x.observe(outputEl, {childList: true});\n",
       "}}\n",
       "\n",
       "                        })                };                });            </script>        </div>"
      ]
     },
     "metadata": {},
     "output_type": "display_data"
    },
    {
     "data": {
      "application/vnd.plotly.v1+json": {
       "config": {
        "plotlyServerURL": "https://plot.ly"
       },
       "data": [
        {
         "hovertemplate": "Home_vacancy_rate=%{x}<br>Housing_price=%{y}<extra></extra>",
         "legendgroup": "",
         "marker": {
          "color": "#636efa",
          "symbol": "circle"
         },
         "mode": "markers",
         "name": "",
         "orientation": "v",
         "showlegend": false,
         "type": "scatter",
         "x": [
          1.7,
          1.7166666666666666,
          1.7333333333333334,
          1.75,
          1.7666666666666666,
          1.7833333333333332,
          1.7999999999999998,
          1.8166666666666667,
          1.8333333333333333,
          1.8499999999999999,
          1.8666666666666667,
          1.8833333333333333,
          1.9,
          1.9416666666666667,
          1.9833333333333332,
          2.025,
          2.0666666666666664,
          2.1083333333333334,
          2.15,
          2.1916666666666664,
          2.2333333333333334,
          2.275,
          2.3166666666666664,
          2.3583333333333334,
          2.4,
          2.425,
          2.45,
          2.475,
          2.5,
          2.525,
          2.55,
          2.575,
          2.6,
          2.625,
          2.6500000000000004,
          2.6750000000000003,
          2.7,
          2.7083333333333335,
          2.716666666666667,
          2.725,
          2.7333333333333334,
          2.7416666666666667,
          2.75,
          2.7583333333333333,
          2.7666666666666666,
          2.775,
          2.783333333333333,
          2.7916666666666665,
          2.8,
          2.783333333333333,
          2.7666666666666666,
          2.75,
          2.7333333333333334,
          2.716666666666667,
          2.7,
          2.683333333333333,
          2.6666666666666665,
          2.65,
          2.6333333333333333,
          2.6166666666666667,
          2.6,
          2.6,
          2.6,
          2.6,
          2.6,
          2.6,
          2.6,
          2.6,
          2.6,
          2.6,
          2.6,
          2.6,
          2.6,
          2.591666666666667,
          2.5833333333333335,
          2.575,
          2.566666666666667,
          2.5583333333333336,
          2.55,
          2.5416666666666665,
          2.533333333333333,
          2.525,
          2.5166666666666666,
          2.5083333333333333,
          2.5,
          2.4583333333333335,
          2.4166666666666665,
          2.375,
          2.3333333333333335,
          2.2916666666666665,
          2.25,
          2.2083333333333335,
          2.1666666666666665,
          2.125,
          2.0833333333333335,
          2.0416666666666665,
          2,
          2,
          2,
          2,
          2,
          2,
          2,
          2,
          2,
          2,
          2,
          2,
          2,
          1.9916666666666667,
          1.9833333333333334,
          1.975,
          1.9666666666666666,
          1.9583333333333333,
          1.95,
          1.9416666666666667,
          1.9333333333333333,
          1.9249999999999998,
          1.9166666666666665,
          1.9083333333333332,
          1.9,
          1.8916666666666666,
          1.8833333333333333,
          1.875,
          1.8666666666666667,
          1.8583333333333334,
          1.85,
          1.8416666666666666,
          1.8333333333333333,
          1.825,
          1.8166666666666667,
          1.8083333333333333,
          1.8,
          1.7916666666666667,
          1.7833333333333334,
          1.775,
          1.7666666666666666,
          1.7583333333333333,
          1.75,
          1.7416666666666667,
          1.7333333333333334,
          1.725,
          1.7166666666666666,
          1.7083333333333333,
          1.7,
          1.6916666666666667,
          1.6833333333333333,
          1.675,
          1.6666666666666667,
          1.6583333333333334,
          1.65,
          1.6416666666666666,
          1.6333333333333333,
          1.625,
          1.6166666666666667,
          1.6083333333333334,
          1.6,
          1.5916666666666668,
          1.5833333333333335,
          1.5750000000000002,
          1.5666666666666667,
          1.5583333333333333,
          1.55,
          1.5416666666666667,
          1.5333333333333334,
          1.525,
          1.5166666666666666,
          1.5083333333333333,
          1.5,
          1.4916666666666667,
          1.4833333333333334,
          1.475,
          1.4666666666666666,
          1.4583333333333333,
          1.45,
          1.4416666666666667,
          1.4333333333333333,
          1.4249999999999998,
          1.4166666666666665,
          1.4083333333333332,
          1.4,
          1.3666666666666667,
          1.3333333333333333,
          1.2999999999999998,
          1.2666666666666666,
          1.2333333333333334,
          1.2,
          1.1666666666666665,
          1.1333333333333333,
          1.1,
          1.0666666666666667,
          1.0333333333333332,
          1,
          0.9916666666666667,
          0.9833333333333334,
          0.975,
          0.9666666666666667,
          0.9583333333333334,
          0.95,
          0.9416666666666667,
          0.9333333333333333,
          0.925,
          0.9166666666666667,
          0.9083333333333333,
          0.9,
          0.8916666666666667,
          0.8833333333333333,
          0.875,
          0.8666666666666667,
          0.8583333333333334,
          0.8500000000000001,
          0.8416666666666667,
          0.8333333333333334,
          0.8250000000000001,
          0.8166666666666667,
          0.8083333333333333,
          0.8,
          0.8,
          0.8,
          0.8,
          0.8,
          0.8,
          0.8,
          0.8,
          0.8,
          0.8,
          0.8,
          0.8,
          0.8,
          0.8,
          0.8
         ],
         "xaxis": "x",
         "y": [
          141.64600000000002,
          143.192,
          145.058,
          146.592,
          148.185,
          149.85,
          151.338,
          152.63299999999998,
          154.179,
          155.75,
          157.52700000000002,
          159.329,
          161.28799999999998,
          163.344,
          165.812,
          167.50099999999998,
          169.351,
          171.19,
          172.86,
          174.442,
          176.438,
          178.02700000000002,
          179.68099999999998,
          180.91,
          182.321,
          183.287,
          184.365,
          184.329,
          184.15599999999998,
          183.507,
          183.067,
          182.593,
          182.798,
          183.199,
          183.61,
          184.139,
          184.517,
          184.59900000000002,
          184.15,
          183.01,
          181.6,
          180.25400000000002,
          179.111,
          178.11599999999999,
          177.55700000000002,
          176.623,
          175.146,
          174.34099999999998,
          173.132,
          171.541,
          170.054,
          168.33900000000003,
          166.66,
          165.018,
          163.567,
          161.988,
          160.308,
          158.327,
          156.141,
          153.618,
          151.506,
          150.014,
          148.66,
          147.94899999999998,
          147.695,
          148.09,
          148.41,
          148.27700000000002,
          148.024,
          147.849,
          148.13299999999998,
          147.928,
          147.395,
          145.631,
          145.859,
          146.40200000000002,
          146.393,
          145.719,
          144.989,
          143.91299999999998,
          143.017,
          142.53,
          142.173,
          142.059,
          141.52200000000002,
          140.35,
          139.982,
          140.009,
          139.904,
          139.86,
          139.72899999999998,
          139.30700000000002,
          138.668,
          137.952,
          137.15200000000002,
          136.675,
          136.607,
          136.532,
          137.904,
          139.155,
          140.155,
          141.03,
          141.67,
          142.28,
          142.909,
          143.601,
          144.585,
          145.502,
          146.827,
          147.783,
          149.963,
          151.518,
          152.849,
          154.197,
          155.602,
          156.965,
          158.227,
          159.241,
          160.07299999999998,
          160.993,
          161.928,
          162.52700000000002,
          163.088,
          163.39600000000002,
          163.66299999999998,
          164.05599999999998,
          164.574,
          165.218,
          165.907,
          166.644,
          167.33700000000002,
          168.053,
          168.637,
          169.132,
          169.80200000000002,
          170.301,
          170.88400000000001,
          171.457,
          172.125,
          172.938,
          173.83,
          174.794,
          175.74200000000002,
          176.548,
          177.27700000000002,
          177.65400000000002,
          178.168,
          178.77,
          179.43200000000002,
          180.065,
          180.826,
          181.854,
          182.827,
          183.75400000000002,
          184.762,
          185.72299999999998,
          186.80200000000002,
          187.31599999999997,
          187.997,
          188.733,
          189.62900000000002,
          190.50400000000002,
          191.452,
          192.683,
          193.775,
          194.81400000000002,
          195.953,
          197.15900000000002,
          198.291,
          199.21400000000003,
          199.96099999999998,
          200.668,
          201.447,
          202.245,
          202.929,
          203.734,
          204.39,
          205.13299999999998,
          205.666,
          206.114,
          206.479,
          206.803,
          207.043,
          207.53799999999998,
          208.19400000000002,
          208.701,
          209.31799999999998,
          210.183,
          210.972,
          211.81599999999997,
          212.762,
          213.843,
          214.84599999999998,
          215.722,
          216.345,
          216.87,
          217.11900000000003,
          217.739,
          219.437,
          222.537,
          225.933,
          229.782,
          233.162,
          236.345,
          239.3,
          242.111,
          245.364,
          249.18400000000003,
          253.68200000000002,
          258.592,
          262.907,
          267.069,
          270.498,
          273.748,
          277.122,
          281.127,
          285.493,
          290.736,
          296.296,
          300.829,
          304.29400000000004,
          305.163,
          304.04400000000004,
          301.712,
          299.41200000000003,
          298.793,
          297.985,
          296.952,
          296.064,
          296.926,
          298.166
         ],
         "yaxis": "y"
        }
       ],
       "layout": {
        "legend": {
         "tracegroupgap": 0
        },
        "template": {
         "data": {
          "bar": [
           {
            "error_x": {
             "color": "#2a3f5f"
            },
            "error_y": {
             "color": "#2a3f5f"
            },
            "marker": {
             "line": {
              "color": "#E5ECF6",
              "width": 0.5
             },
             "pattern": {
              "fillmode": "overlay",
              "size": 10,
              "solidity": 0.2
             }
            },
            "type": "bar"
           }
          ],
          "barpolar": [
           {
            "marker": {
             "line": {
              "color": "#E5ECF6",
              "width": 0.5
             },
             "pattern": {
              "fillmode": "overlay",
              "size": 10,
              "solidity": 0.2
             }
            },
            "type": "barpolar"
           }
          ],
          "carpet": [
           {
            "aaxis": {
             "endlinecolor": "#2a3f5f",
             "gridcolor": "white",
             "linecolor": "white",
             "minorgridcolor": "white",
             "startlinecolor": "#2a3f5f"
            },
            "baxis": {
             "endlinecolor": "#2a3f5f",
             "gridcolor": "white",
             "linecolor": "white",
             "minorgridcolor": "white",
             "startlinecolor": "#2a3f5f"
            },
            "type": "carpet"
           }
          ],
          "choropleth": [
           {
            "colorbar": {
             "outlinewidth": 0,
             "ticks": ""
            },
            "type": "choropleth"
           }
          ],
          "contour": [
           {
            "colorbar": {
             "outlinewidth": 0,
             "ticks": ""
            },
            "colorscale": [
             [
              0,
              "#0d0887"
             ],
             [
              0.1111111111111111,
              "#46039f"
             ],
             [
              0.2222222222222222,
              "#7201a8"
             ],
             [
              0.3333333333333333,
              "#9c179e"
             ],
             [
              0.4444444444444444,
              "#bd3786"
             ],
             [
              0.5555555555555556,
              "#d8576b"
             ],
             [
              0.6666666666666666,
              "#ed7953"
             ],
             [
              0.7777777777777778,
              "#fb9f3a"
             ],
             [
              0.8888888888888888,
              "#fdca26"
             ],
             [
              1,
              "#f0f921"
             ]
            ],
            "type": "contour"
           }
          ],
          "contourcarpet": [
           {
            "colorbar": {
             "outlinewidth": 0,
             "ticks": ""
            },
            "type": "contourcarpet"
           }
          ],
          "heatmap": [
           {
            "colorbar": {
             "outlinewidth": 0,
             "ticks": ""
            },
            "colorscale": [
             [
              0,
              "#0d0887"
             ],
             [
              0.1111111111111111,
              "#46039f"
             ],
             [
              0.2222222222222222,
              "#7201a8"
             ],
             [
              0.3333333333333333,
              "#9c179e"
             ],
             [
              0.4444444444444444,
              "#bd3786"
             ],
             [
              0.5555555555555556,
              "#d8576b"
             ],
             [
              0.6666666666666666,
              "#ed7953"
             ],
             [
              0.7777777777777778,
              "#fb9f3a"
             ],
             [
              0.8888888888888888,
              "#fdca26"
             ],
             [
              1,
              "#f0f921"
             ]
            ],
            "type": "heatmap"
           }
          ],
          "heatmapgl": [
           {
            "colorbar": {
             "outlinewidth": 0,
             "ticks": ""
            },
            "colorscale": [
             [
              0,
              "#0d0887"
             ],
             [
              0.1111111111111111,
              "#46039f"
             ],
             [
              0.2222222222222222,
              "#7201a8"
             ],
             [
              0.3333333333333333,
              "#9c179e"
             ],
             [
              0.4444444444444444,
              "#bd3786"
             ],
             [
              0.5555555555555556,
              "#d8576b"
             ],
             [
              0.6666666666666666,
              "#ed7953"
             ],
             [
              0.7777777777777778,
              "#fb9f3a"
             ],
             [
              0.8888888888888888,
              "#fdca26"
             ],
             [
              1,
              "#f0f921"
             ]
            ],
            "type": "heatmapgl"
           }
          ],
          "histogram": [
           {
            "marker": {
             "pattern": {
              "fillmode": "overlay",
              "size": 10,
              "solidity": 0.2
             }
            },
            "type": "histogram"
           }
          ],
          "histogram2d": [
           {
            "colorbar": {
             "outlinewidth": 0,
             "ticks": ""
            },
            "colorscale": [
             [
              0,
              "#0d0887"
             ],
             [
              0.1111111111111111,
              "#46039f"
             ],
             [
              0.2222222222222222,
              "#7201a8"
             ],
             [
              0.3333333333333333,
              "#9c179e"
             ],
             [
              0.4444444444444444,
              "#bd3786"
             ],
             [
              0.5555555555555556,
              "#d8576b"
             ],
             [
              0.6666666666666666,
              "#ed7953"
             ],
             [
              0.7777777777777778,
              "#fb9f3a"
             ],
             [
              0.8888888888888888,
              "#fdca26"
             ],
             [
              1,
              "#f0f921"
             ]
            ],
            "type": "histogram2d"
           }
          ],
          "histogram2dcontour": [
           {
            "colorbar": {
             "outlinewidth": 0,
             "ticks": ""
            },
            "colorscale": [
             [
              0,
              "#0d0887"
             ],
             [
              0.1111111111111111,
              "#46039f"
             ],
             [
              0.2222222222222222,
              "#7201a8"
             ],
             [
              0.3333333333333333,
              "#9c179e"
             ],
             [
              0.4444444444444444,
              "#bd3786"
             ],
             [
              0.5555555555555556,
              "#d8576b"
             ],
             [
              0.6666666666666666,
              "#ed7953"
             ],
             [
              0.7777777777777778,
              "#fb9f3a"
             ],
             [
              0.8888888888888888,
              "#fdca26"
             ],
             [
              1,
              "#f0f921"
             ]
            ],
            "type": "histogram2dcontour"
           }
          ],
          "mesh3d": [
           {
            "colorbar": {
             "outlinewidth": 0,
             "ticks": ""
            },
            "type": "mesh3d"
           }
          ],
          "parcoords": [
           {
            "line": {
             "colorbar": {
              "outlinewidth": 0,
              "ticks": ""
             }
            },
            "type": "parcoords"
           }
          ],
          "pie": [
           {
            "automargin": true,
            "type": "pie"
           }
          ],
          "scatter": [
           {
            "fillpattern": {
             "fillmode": "overlay",
             "size": 10,
             "solidity": 0.2
            },
            "type": "scatter"
           }
          ],
          "scatter3d": [
           {
            "line": {
             "colorbar": {
              "outlinewidth": 0,
              "ticks": ""
             }
            },
            "marker": {
             "colorbar": {
              "outlinewidth": 0,
              "ticks": ""
             }
            },
            "type": "scatter3d"
           }
          ],
          "scattercarpet": [
           {
            "marker": {
             "colorbar": {
              "outlinewidth": 0,
              "ticks": ""
             }
            },
            "type": "scattercarpet"
           }
          ],
          "scattergeo": [
           {
            "marker": {
             "colorbar": {
              "outlinewidth": 0,
              "ticks": ""
             }
            },
            "type": "scattergeo"
           }
          ],
          "scattergl": [
           {
            "marker": {
             "colorbar": {
              "outlinewidth": 0,
              "ticks": ""
             }
            },
            "type": "scattergl"
           }
          ],
          "scattermapbox": [
           {
            "marker": {
             "colorbar": {
              "outlinewidth": 0,
              "ticks": ""
             }
            },
            "type": "scattermapbox"
           }
          ],
          "scatterpolar": [
           {
            "marker": {
             "colorbar": {
              "outlinewidth": 0,
              "ticks": ""
             }
            },
            "type": "scatterpolar"
           }
          ],
          "scatterpolargl": [
           {
            "marker": {
             "colorbar": {
              "outlinewidth": 0,
              "ticks": ""
             }
            },
            "type": "scatterpolargl"
           }
          ],
          "scatterternary": [
           {
            "marker": {
             "colorbar": {
              "outlinewidth": 0,
              "ticks": ""
             }
            },
            "type": "scatterternary"
           }
          ],
          "surface": [
           {
            "colorbar": {
             "outlinewidth": 0,
             "ticks": ""
            },
            "colorscale": [
             [
              0,
              "#0d0887"
             ],
             [
              0.1111111111111111,
              "#46039f"
             ],
             [
              0.2222222222222222,
              "#7201a8"
             ],
             [
              0.3333333333333333,
              "#9c179e"
             ],
             [
              0.4444444444444444,
              "#bd3786"
             ],
             [
              0.5555555555555556,
              "#d8576b"
             ],
             [
              0.6666666666666666,
              "#ed7953"
             ],
             [
              0.7777777777777778,
              "#fb9f3a"
             ],
             [
              0.8888888888888888,
              "#fdca26"
             ],
             [
              1,
              "#f0f921"
             ]
            ],
            "type": "surface"
           }
          ],
          "table": [
           {
            "cells": {
             "fill": {
              "color": "#EBF0F8"
             },
             "line": {
              "color": "white"
             }
            },
            "header": {
             "fill": {
              "color": "#C8D4E3"
             },
             "line": {
              "color": "white"
             }
            },
            "type": "table"
           }
          ]
         },
         "layout": {
          "annotationdefaults": {
           "arrowcolor": "#2a3f5f",
           "arrowhead": 0,
           "arrowwidth": 1
          },
          "autotypenumbers": "strict",
          "coloraxis": {
           "colorbar": {
            "outlinewidth": 0,
            "ticks": ""
           }
          },
          "colorscale": {
           "diverging": [
            [
             0,
             "#8e0152"
            ],
            [
             0.1,
             "#c51b7d"
            ],
            [
             0.2,
             "#de77ae"
            ],
            [
             0.3,
             "#f1b6da"
            ],
            [
             0.4,
             "#fde0ef"
            ],
            [
             0.5,
             "#f7f7f7"
            ],
            [
             0.6,
             "#e6f5d0"
            ],
            [
             0.7,
             "#b8e186"
            ],
            [
             0.8,
             "#7fbc41"
            ],
            [
             0.9,
             "#4d9221"
            ],
            [
             1,
             "#276419"
            ]
           ],
           "sequential": [
            [
             0,
             "#0d0887"
            ],
            [
             0.1111111111111111,
             "#46039f"
            ],
            [
             0.2222222222222222,
             "#7201a8"
            ],
            [
             0.3333333333333333,
             "#9c179e"
            ],
            [
             0.4444444444444444,
             "#bd3786"
            ],
            [
             0.5555555555555556,
             "#d8576b"
            ],
            [
             0.6666666666666666,
             "#ed7953"
            ],
            [
             0.7777777777777778,
             "#fb9f3a"
            ],
            [
             0.8888888888888888,
             "#fdca26"
            ],
            [
             1,
             "#f0f921"
            ]
           ],
           "sequentialminus": [
            [
             0,
             "#0d0887"
            ],
            [
             0.1111111111111111,
             "#46039f"
            ],
            [
             0.2222222222222222,
             "#7201a8"
            ],
            [
             0.3333333333333333,
             "#9c179e"
            ],
            [
             0.4444444444444444,
             "#bd3786"
            ],
            [
             0.5555555555555556,
             "#d8576b"
            ],
            [
             0.6666666666666666,
             "#ed7953"
            ],
            [
             0.7777777777777778,
             "#fb9f3a"
            ],
            [
             0.8888888888888888,
             "#fdca26"
            ],
            [
             1,
             "#f0f921"
            ]
           ]
          },
          "colorway": [
           "#636efa",
           "#EF553B",
           "#00cc96",
           "#ab63fa",
           "#FFA15A",
           "#19d3f3",
           "#FF6692",
           "#B6E880",
           "#FF97FF",
           "#FECB52"
          ],
          "font": {
           "color": "#2a3f5f"
          },
          "geo": {
           "bgcolor": "white",
           "lakecolor": "white",
           "landcolor": "#E5ECF6",
           "showlakes": true,
           "showland": true,
           "subunitcolor": "white"
          },
          "hoverlabel": {
           "align": "left"
          },
          "hovermode": "closest",
          "mapbox": {
           "style": "light"
          },
          "paper_bgcolor": "white",
          "plot_bgcolor": "#E5ECF6",
          "polar": {
           "angularaxis": {
            "gridcolor": "white",
            "linecolor": "white",
            "ticks": ""
           },
           "bgcolor": "#E5ECF6",
           "radialaxis": {
            "gridcolor": "white",
            "linecolor": "white",
            "ticks": ""
           }
          },
          "scene": {
           "xaxis": {
            "backgroundcolor": "#E5ECF6",
            "gridcolor": "white",
            "gridwidth": 2,
            "linecolor": "white",
            "showbackground": true,
            "ticks": "",
            "zerolinecolor": "white"
           },
           "yaxis": {
            "backgroundcolor": "#E5ECF6",
            "gridcolor": "white",
            "gridwidth": 2,
            "linecolor": "white",
            "showbackground": true,
            "ticks": "",
            "zerolinecolor": "white"
           },
           "zaxis": {
            "backgroundcolor": "#E5ECF6",
            "gridcolor": "white",
            "gridwidth": 2,
            "linecolor": "white",
            "showbackground": true,
            "ticks": "",
            "zerolinecolor": "white"
           }
          },
          "shapedefaults": {
           "line": {
            "color": "#2a3f5f"
           }
          },
          "ternary": {
           "aaxis": {
            "gridcolor": "white",
            "linecolor": "white",
            "ticks": ""
           },
           "baxis": {
            "gridcolor": "white",
            "linecolor": "white",
            "ticks": ""
           },
           "bgcolor": "#E5ECF6",
           "caxis": {
            "gridcolor": "white",
            "linecolor": "white",
            "ticks": ""
           }
          },
          "title": {
           "x": 0.05
          },
          "xaxis": {
           "automargin": true,
           "gridcolor": "white",
           "linecolor": "white",
           "ticks": "",
           "title": {
            "standoff": 15
           },
           "zerolinecolor": "white",
           "zerolinewidth": 2
          },
          "yaxis": {
           "automargin": true,
           "gridcolor": "white",
           "linecolor": "white",
           "ticks": "",
           "title": {
            "standoff": 15
           },
           "zerolinecolor": "white",
           "zerolinewidth": 2
          }
         }
        },
        "title": {
         "text": "<b>Home_vacancy_rate vs. Housing Price</b>"
        },
        "xaxis": {
         "anchor": "y",
         "domain": [
          0,
          1
         ],
         "title": {
          "text": "Home_vacancy_rate"
         }
        },
        "yaxis": {
         "anchor": "x",
         "domain": [
          0,
          1
         ],
         "title": {
          "text": "Housing_price"
         }
        }
       }
      },
      "text/html": [
       "<div>                            <div id=\"8c90648c-191c-44f0-b895-f1b668798c9e\" class=\"plotly-graph-div\" style=\"height:525px; width:100%;\"></div>            <script type=\"text/javascript\">                require([\"plotly\"], function(Plotly) {                    window.PLOTLYENV=window.PLOTLYENV || {};                                    if (document.getElementById(\"8c90648c-191c-44f0-b895-f1b668798c9e\")) {                    Plotly.newPlot(                        \"8c90648c-191c-44f0-b895-f1b668798c9e\",                        [{\"hovertemplate\":\"Home_vacancy_rate=%{x}<br>Housing_price=%{y}<extra></extra>\",\"legendgroup\":\"\",\"marker\":{\"color\":\"#636efa\",\"symbol\":\"circle\"},\"mode\":\"markers\",\"name\":\"\",\"orientation\":\"v\",\"showlegend\":false,\"x\":[1.7,1.7166666666666666,1.7333333333333334,1.75,1.7666666666666666,1.7833333333333332,1.7999999999999998,1.8166666666666667,1.8333333333333333,1.8499999999999999,1.8666666666666667,1.8833333333333333,1.9,1.9416666666666667,1.9833333333333332,2.025,2.0666666666666664,2.1083333333333334,2.15,2.1916666666666664,2.2333333333333334,2.275,2.3166666666666664,2.3583333333333334,2.4,2.425,2.45,2.475,2.5,2.525,2.55,2.575,2.6,2.625,2.6500000000000004,2.6750000000000003,2.7,2.7083333333333335,2.716666666666667,2.725,2.7333333333333334,2.7416666666666667,2.75,2.7583333333333333,2.7666666666666666,2.775,2.783333333333333,2.7916666666666665,2.8,2.783333333333333,2.7666666666666666,2.75,2.7333333333333334,2.716666666666667,2.7,2.683333333333333,2.6666666666666665,2.65,2.6333333333333333,2.6166666666666667,2.6,2.6,2.6,2.6,2.6,2.6,2.6,2.6,2.6,2.6,2.6,2.6,2.6,2.591666666666667,2.5833333333333335,2.575,2.566666666666667,2.5583333333333336,2.55,2.5416666666666665,2.533333333333333,2.525,2.5166666666666666,2.5083333333333333,2.5,2.4583333333333335,2.4166666666666665,2.375,2.3333333333333335,2.2916666666666665,2.25,2.2083333333333335,2.1666666666666665,2.125,2.0833333333333335,2.0416666666666665,2.0,2.0,2.0,2.0,2.0,2.0,2.0,2.0,2.0,2.0,2.0,2.0,2.0,1.9916666666666667,1.9833333333333334,1.975,1.9666666666666666,1.9583333333333333,1.95,1.9416666666666667,1.9333333333333333,1.9249999999999998,1.9166666666666665,1.9083333333333332,1.9,1.8916666666666666,1.8833333333333333,1.875,1.8666666666666667,1.8583333333333334,1.85,1.8416666666666666,1.8333333333333333,1.825,1.8166666666666667,1.8083333333333333,1.8,1.7916666666666667,1.7833333333333334,1.775,1.7666666666666666,1.7583333333333333,1.75,1.7416666666666667,1.7333333333333334,1.725,1.7166666666666666,1.7083333333333333,1.7,1.6916666666666667,1.6833333333333333,1.675,1.6666666666666667,1.6583333333333334,1.65,1.6416666666666666,1.6333333333333333,1.625,1.6166666666666667,1.6083333333333334,1.6,1.5916666666666668,1.5833333333333335,1.5750000000000002,1.5666666666666667,1.5583333333333333,1.55,1.5416666666666667,1.5333333333333334,1.525,1.5166666666666666,1.5083333333333333,1.5,1.4916666666666667,1.4833333333333334,1.475,1.4666666666666666,1.4583333333333333,1.45,1.4416666666666667,1.4333333333333333,1.4249999999999998,1.4166666666666665,1.4083333333333332,1.4,1.3666666666666667,1.3333333333333333,1.2999999999999998,1.2666666666666666,1.2333333333333334,1.2,1.1666666666666665,1.1333333333333333,1.1,1.0666666666666667,1.0333333333333332,1.0,0.9916666666666667,0.9833333333333334,0.975,0.9666666666666667,0.9583333333333334,0.95,0.9416666666666667,0.9333333333333333,0.925,0.9166666666666667,0.9083333333333333,0.9,0.8916666666666667,0.8833333333333333,0.875,0.8666666666666667,0.8583333333333334,0.8500000000000001,0.8416666666666667,0.8333333333333334,0.8250000000000001,0.8166666666666667,0.8083333333333333,0.8,0.8,0.8,0.8,0.8,0.8,0.8,0.8,0.8,0.8,0.8,0.8,0.8,0.8,0.8],\"xaxis\":\"x\",\"y\":[141.64600000000002,143.192,145.058,146.592,148.185,149.85,151.338,152.63299999999998,154.179,155.75,157.52700000000002,159.329,161.28799999999998,163.344,165.812,167.50099999999998,169.351,171.19,172.86,174.442,176.438,178.02700000000002,179.68099999999998,180.91,182.321,183.287,184.365,184.329,184.15599999999998,183.507,183.067,182.593,182.798,183.199,183.61,184.139,184.517,184.59900000000002,184.15,183.01,181.6,180.25400000000002,179.111,178.11599999999999,177.55700000000002,176.623,175.146,174.34099999999998,173.132,171.541,170.054,168.33900000000003,166.66,165.018,163.567,161.988,160.308,158.327,156.141,153.618,151.506,150.014,148.66,147.94899999999998,147.695,148.09,148.41,148.27700000000002,148.024,147.849,148.13299999999998,147.928,147.395,145.631,145.859,146.40200000000002,146.393,145.719,144.989,143.91299999999998,143.017,142.53,142.173,142.059,141.52200000000002,140.35,139.982,140.009,139.904,139.86,139.72899999999998,139.30700000000002,138.668,137.952,137.15200000000002,136.675,136.607,136.532,137.904,139.155,140.155,141.03,141.67,142.28,142.909,143.601,144.585,145.502,146.827,147.783,149.963,151.518,152.849,154.197,155.602,156.965,158.227,159.241,160.07299999999998,160.993,161.928,162.52700000000002,163.088,163.39600000000002,163.66299999999998,164.05599999999998,164.574,165.218,165.907,166.644,167.33700000000002,168.053,168.637,169.132,169.80200000000002,170.301,170.88400000000001,171.457,172.125,172.938,173.83,174.794,175.74200000000002,176.548,177.27700000000002,177.65400000000002,178.168,178.77,179.43200000000002,180.065,180.826,181.854,182.827,183.75400000000002,184.762,185.72299999999998,186.80200000000002,187.31599999999997,187.997,188.733,189.62900000000002,190.50400000000002,191.452,192.683,193.775,194.81400000000002,195.953,197.15900000000002,198.291,199.21400000000003,199.96099999999998,200.668,201.447,202.245,202.929,203.734,204.39,205.13299999999998,205.666,206.114,206.479,206.803,207.043,207.53799999999998,208.19400000000002,208.701,209.31799999999998,210.183,210.972,211.81599999999997,212.762,213.843,214.84599999999998,215.722,216.345,216.87,217.11900000000003,217.739,219.437,222.537,225.933,229.782,233.162,236.345,239.3,242.111,245.364,249.18400000000003,253.68200000000002,258.592,262.907,267.069,270.498,273.748,277.122,281.127,285.493,290.736,296.296,300.829,304.29400000000004,305.163,304.04400000000004,301.712,299.41200000000003,298.793,297.985,296.952,296.064,296.926,298.166],\"yaxis\":\"y\",\"type\":\"scatter\"}],                        {\"template\":{\"data\":{\"histogram2dcontour\":[{\"type\":\"histogram2dcontour\",\"colorbar\":{\"outlinewidth\":0,\"ticks\":\"\"},\"colorscale\":[[0.0,\"#0d0887\"],[0.1111111111111111,\"#46039f\"],[0.2222222222222222,\"#7201a8\"],[0.3333333333333333,\"#9c179e\"],[0.4444444444444444,\"#bd3786\"],[0.5555555555555556,\"#d8576b\"],[0.6666666666666666,\"#ed7953\"],[0.7777777777777778,\"#fb9f3a\"],[0.8888888888888888,\"#fdca26\"],[1.0,\"#f0f921\"]]}],\"choropleth\":[{\"type\":\"choropleth\",\"colorbar\":{\"outlinewidth\":0,\"ticks\":\"\"}}],\"histogram2d\":[{\"type\":\"histogram2d\",\"colorbar\":{\"outlinewidth\":0,\"ticks\":\"\"},\"colorscale\":[[0.0,\"#0d0887\"],[0.1111111111111111,\"#46039f\"],[0.2222222222222222,\"#7201a8\"],[0.3333333333333333,\"#9c179e\"],[0.4444444444444444,\"#bd3786\"],[0.5555555555555556,\"#d8576b\"],[0.6666666666666666,\"#ed7953\"],[0.7777777777777778,\"#fb9f3a\"],[0.8888888888888888,\"#fdca26\"],[1.0,\"#f0f921\"]]}],\"heatmap\":[{\"type\":\"heatmap\",\"colorbar\":{\"outlinewidth\":0,\"ticks\":\"\"},\"colorscale\":[[0.0,\"#0d0887\"],[0.1111111111111111,\"#46039f\"],[0.2222222222222222,\"#7201a8\"],[0.3333333333333333,\"#9c179e\"],[0.4444444444444444,\"#bd3786\"],[0.5555555555555556,\"#d8576b\"],[0.6666666666666666,\"#ed7953\"],[0.7777777777777778,\"#fb9f3a\"],[0.8888888888888888,\"#fdca26\"],[1.0,\"#f0f921\"]]}],\"heatmapgl\":[{\"type\":\"heatmapgl\",\"colorbar\":{\"outlinewidth\":0,\"ticks\":\"\"},\"colorscale\":[[0.0,\"#0d0887\"],[0.1111111111111111,\"#46039f\"],[0.2222222222222222,\"#7201a8\"],[0.3333333333333333,\"#9c179e\"],[0.4444444444444444,\"#bd3786\"],[0.5555555555555556,\"#d8576b\"],[0.6666666666666666,\"#ed7953\"],[0.7777777777777778,\"#fb9f3a\"],[0.8888888888888888,\"#fdca26\"],[1.0,\"#f0f921\"]]}],\"contourcarpet\":[{\"type\":\"contourcarpet\",\"colorbar\":{\"outlinewidth\":0,\"ticks\":\"\"}}],\"contour\":[{\"type\":\"contour\",\"colorbar\":{\"outlinewidth\":0,\"ticks\":\"\"},\"colorscale\":[[0.0,\"#0d0887\"],[0.1111111111111111,\"#46039f\"],[0.2222222222222222,\"#7201a8\"],[0.3333333333333333,\"#9c179e\"],[0.4444444444444444,\"#bd3786\"],[0.5555555555555556,\"#d8576b\"],[0.6666666666666666,\"#ed7953\"],[0.7777777777777778,\"#fb9f3a\"],[0.8888888888888888,\"#fdca26\"],[1.0,\"#f0f921\"]]}],\"surface\":[{\"type\":\"surface\",\"colorbar\":{\"outlinewidth\":0,\"ticks\":\"\"},\"colorscale\":[[0.0,\"#0d0887\"],[0.1111111111111111,\"#46039f\"],[0.2222222222222222,\"#7201a8\"],[0.3333333333333333,\"#9c179e\"],[0.4444444444444444,\"#bd3786\"],[0.5555555555555556,\"#d8576b\"],[0.6666666666666666,\"#ed7953\"],[0.7777777777777778,\"#fb9f3a\"],[0.8888888888888888,\"#fdca26\"],[1.0,\"#f0f921\"]]}],\"mesh3d\":[{\"type\":\"mesh3d\",\"colorbar\":{\"outlinewidth\":0,\"ticks\":\"\"}}],\"scatter\":[{\"fillpattern\":{\"fillmode\":\"overlay\",\"size\":10,\"solidity\":0.2},\"type\":\"scatter\"}],\"parcoords\":[{\"type\":\"parcoords\",\"line\":{\"colorbar\":{\"outlinewidth\":0,\"ticks\":\"\"}}}],\"scatterpolargl\":[{\"type\":\"scatterpolargl\",\"marker\":{\"colorbar\":{\"outlinewidth\":0,\"ticks\":\"\"}}}],\"bar\":[{\"error_x\":{\"color\":\"#2a3f5f\"},\"error_y\":{\"color\":\"#2a3f5f\"},\"marker\":{\"line\":{\"color\":\"#E5ECF6\",\"width\":0.5},\"pattern\":{\"fillmode\":\"overlay\",\"size\":10,\"solidity\":0.2}},\"type\":\"bar\"}],\"scattergeo\":[{\"type\":\"scattergeo\",\"marker\":{\"colorbar\":{\"outlinewidth\":0,\"ticks\":\"\"}}}],\"scatterpolar\":[{\"type\":\"scatterpolar\",\"marker\":{\"colorbar\":{\"outlinewidth\":0,\"ticks\":\"\"}}}],\"histogram\":[{\"marker\":{\"pattern\":{\"fillmode\":\"overlay\",\"size\":10,\"solidity\":0.2}},\"type\":\"histogram\"}],\"scattergl\":[{\"type\":\"scattergl\",\"marker\":{\"colorbar\":{\"outlinewidth\":0,\"ticks\":\"\"}}}],\"scatter3d\":[{\"type\":\"scatter3d\",\"line\":{\"colorbar\":{\"outlinewidth\":0,\"ticks\":\"\"}},\"marker\":{\"colorbar\":{\"outlinewidth\":0,\"ticks\":\"\"}}}],\"scattermapbox\":[{\"type\":\"scattermapbox\",\"marker\":{\"colorbar\":{\"outlinewidth\":0,\"ticks\":\"\"}}}],\"scatterternary\":[{\"type\":\"scatterternary\",\"marker\":{\"colorbar\":{\"outlinewidth\":0,\"ticks\":\"\"}}}],\"scattercarpet\":[{\"type\":\"scattercarpet\",\"marker\":{\"colorbar\":{\"outlinewidth\":0,\"ticks\":\"\"}}}],\"carpet\":[{\"aaxis\":{\"endlinecolor\":\"#2a3f5f\",\"gridcolor\":\"white\",\"linecolor\":\"white\",\"minorgridcolor\":\"white\",\"startlinecolor\":\"#2a3f5f\"},\"baxis\":{\"endlinecolor\":\"#2a3f5f\",\"gridcolor\":\"white\",\"linecolor\":\"white\",\"minorgridcolor\":\"white\",\"startlinecolor\":\"#2a3f5f\"},\"type\":\"carpet\"}],\"table\":[{\"cells\":{\"fill\":{\"color\":\"#EBF0F8\"},\"line\":{\"color\":\"white\"}},\"header\":{\"fill\":{\"color\":\"#C8D4E3\"},\"line\":{\"color\":\"white\"}},\"type\":\"table\"}],\"barpolar\":[{\"marker\":{\"line\":{\"color\":\"#E5ECF6\",\"width\":0.5},\"pattern\":{\"fillmode\":\"overlay\",\"size\":10,\"solidity\":0.2}},\"type\":\"barpolar\"}],\"pie\":[{\"automargin\":true,\"type\":\"pie\"}]},\"layout\":{\"autotypenumbers\":\"strict\",\"colorway\":[\"#636efa\",\"#EF553B\",\"#00cc96\",\"#ab63fa\",\"#FFA15A\",\"#19d3f3\",\"#FF6692\",\"#B6E880\",\"#FF97FF\",\"#FECB52\"],\"font\":{\"color\":\"#2a3f5f\"},\"hovermode\":\"closest\",\"hoverlabel\":{\"align\":\"left\"},\"paper_bgcolor\":\"white\",\"plot_bgcolor\":\"#E5ECF6\",\"polar\":{\"bgcolor\":\"#E5ECF6\",\"angularaxis\":{\"gridcolor\":\"white\",\"linecolor\":\"white\",\"ticks\":\"\"},\"radialaxis\":{\"gridcolor\":\"white\",\"linecolor\":\"white\",\"ticks\":\"\"}},\"ternary\":{\"bgcolor\":\"#E5ECF6\",\"aaxis\":{\"gridcolor\":\"white\",\"linecolor\":\"white\",\"ticks\":\"\"},\"baxis\":{\"gridcolor\":\"white\",\"linecolor\":\"white\",\"ticks\":\"\"},\"caxis\":{\"gridcolor\":\"white\",\"linecolor\":\"white\",\"ticks\":\"\"}},\"coloraxis\":{\"colorbar\":{\"outlinewidth\":0,\"ticks\":\"\"}},\"colorscale\":{\"sequential\":[[0.0,\"#0d0887\"],[0.1111111111111111,\"#46039f\"],[0.2222222222222222,\"#7201a8\"],[0.3333333333333333,\"#9c179e\"],[0.4444444444444444,\"#bd3786\"],[0.5555555555555556,\"#d8576b\"],[0.6666666666666666,\"#ed7953\"],[0.7777777777777778,\"#fb9f3a\"],[0.8888888888888888,\"#fdca26\"],[1.0,\"#f0f921\"]],\"sequentialminus\":[[0.0,\"#0d0887\"],[0.1111111111111111,\"#46039f\"],[0.2222222222222222,\"#7201a8\"],[0.3333333333333333,\"#9c179e\"],[0.4444444444444444,\"#bd3786\"],[0.5555555555555556,\"#d8576b\"],[0.6666666666666666,\"#ed7953\"],[0.7777777777777778,\"#fb9f3a\"],[0.8888888888888888,\"#fdca26\"],[1.0,\"#f0f921\"]],\"diverging\":[[0,\"#8e0152\"],[0.1,\"#c51b7d\"],[0.2,\"#de77ae\"],[0.3,\"#f1b6da\"],[0.4,\"#fde0ef\"],[0.5,\"#f7f7f7\"],[0.6,\"#e6f5d0\"],[0.7,\"#b8e186\"],[0.8,\"#7fbc41\"],[0.9,\"#4d9221\"],[1,\"#276419\"]]},\"xaxis\":{\"gridcolor\":\"white\",\"linecolor\":\"white\",\"ticks\":\"\",\"title\":{\"standoff\":15},\"zerolinecolor\":\"white\",\"automargin\":true,\"zerolinewidth\":2},\"yaxis\":{\"gridcolor\":\"white\",\"linecolor\":\"white\",\"ticks\":\"\",\"title\":{\"standoff\":15},\"zerolinecolor\":\"white\",\"automargin\":true,\"zerolinewidth\":2},\"scene\":{\"xaxis\":{\"backgroundcolor\":\"#E5ECF6\",\"gridcolor\":\"white\",\"linecolor\":\"white\",\"showbackground\":true,\"ticks\":\"\",\"zerolinecolor\":\"white\",\"gridwidth\":2},\"yaxis\":{\"backgroundcolor\":\"#E5ECF6\",\"gridcolor\":\"white\",\"linecolor\":\"white\",\"showbackground\":true,\"ticks\":\"\",\"zerolinecolor\":\"white\",\"gridwidth\":2},\"zaxis\":{\"backgroundcolor\":\"#E5ECF6\",\"gridcolor\":\"white\",\"linecolor\":\"white\",\"showbackground\":true,\"ticks\":\"\",\"zerolinecolor\":\"white\",\"gridwidth\":2}},\"shapedefaults\":{\"line\":{\"color\":\"#2a3f5f\"}},\"annotationdefaults\":{\"arrowcolor\":\"#2a3f5f\",\"arrowhead\":0,\"arrowwidth\":1},\"geo\":{\"bgcolor\":\"white\",\"landcolor\":\"#E5ECF6\",\"subunitcolor\":\"white\",\"showland\":true,\"showlakes\":true,\"lakecolor\":\"white\"},\"title\":{\"x\":0.05},\"mapbox\":{\"style\":\"light\"}}},\"xaxis\":{\"anchor\":\"y\",\"domain\":[0.0,1.0],\"title\":{\"text\":\"Home_vacancy_rate\"}},\"yaxis\":{\"anchor\":\"x\",\"domain\":[0.0,1.0],\"title\":{\"text\":\"Housing_price\"}},\"legend\":{\"tracegroupgap\":0},\"title\":{\"text\":\"<b>Home_vacancy_rate vs. Housing Price</b>\"}},                        {\"responsive\": true}                    ).then(function(){\n",
       "                            \n",
       "var gd = document.getElementById('8c90648c-191c-44f0-b895-f1b668798c9e');\n",
       "var x = new MutationObserver(function (mutations, observer) {{\n",
       "        var display = window.getComputedStyle(gd).display;\n",
       "        if (!display || display === 'none') {{\n",
       "            console.log([gd, 'removed!']);\n",
       "            Plotly.purge(gd);\n",
       "            observer.disconnect();\n",
       "        }}\n",
       "}});\n",
       "\n",
       "// Listen for the removal of the full notebook cells\n",
       "var notebookContainer = gd.closest('#notebook-container');\n",
       "if (notebookContainer) {{\n",
       "    x.observe(notebookContainer, {childList: true});\n",
       "}}\n",
       "\n",
       "// Listen for the clearing of the current output cell\n",
       "var outputEl = gd.closest('.output');\n",
       "if (outputEl) {{\n",
       "    x.observe(outputEl, {childList: true});\n",
       "}}\n",
       "\n",
       "                        })                };                });            </script>        </div>"
      ]
     },
     "metadata": {},
     "output_type": "display_data"
    }
   ],
   "source": [
    "import plotly.express as px\n",
    "\n",
    "for column in df1.columns:\n",
    "    if column != 'Housing_price':\n",
    "        # Create a scatter plot for the current column vs. Housing_price\n",
    "        fig = px.scatter(df1, x=column, y='Housing_price', title=f\"<b>{column} vs. Housing Price</b>\")\n",
    "        fig.show()\n"
   ]
  },
  {
   "cell_type": "code",
   "execution_count": 48,
   "id": "ce3dd746",
   "metadata": {},
   "outputs": [
    {
     "data": {
      "text/plain": [
       "Index(['Unemployment_construction', 'Hosuing_inventory_units',\n",
       "       'Saleprice_of_housesold', 'Construction_spending', 'Home_vacancy_rate',\n",
       "       'Housing_price'],\n",
       "      dtype='object')"
      ]
     },
     "execution_count": 48,
     "metadata": {},
     "output_type": "execute_result"
    }
   ],
   "source": [
    "df1.columns"
   ]
  },
  {
   "cell_type": "markdown",
   "id": "26b7c2c5",
   "metadata": {},
   "source": [
    "# Section 5 - Scaling"
   ]
  },
  {
   "cell_type": "code",
   "execution_count": 49,
   "id": "98da0be2",
   "metadata": {},
   "outputs": [],
   "source": [
    "from sklearn.preprocessing import StandardScaler\n",
    "\n",
    "features = df1.drop('Housing_price', axis=1)\n",
    "target = df1['Housing_price']  \n",
    "\n",
    "scaler = StandardScaler()\n",
    "\n",
    "scaled_features = scaler.fit_transform(features)"
   ]
  },
  {
   "cell_type": "code",
   "execution_count": 50,
   "id": "9ab199f7",
   "metadata": {},
   "outputs": [
    {
     "data": {
      "text/html": [
       "<div>\n",
       "<style scoped>\n",
       "    .dataframe tbody tr th:only-of-type {\n",
       "        vertical-align: middle;\n",
       "    }\n",
       "\n",
       "    .dataframe tbody tr th {\n",
       "        vertical-align: top;\n",
       "    }\n",
       "\n",
       "    .dataframe thead th {\n",
       "        text-align: right;\n",
       "    }\n",
       "</style>\n",
       "<table border=\"1\" class=\"dataframe\">\n",
       "  <thead>\n",
       "    <tr style=\"text-align: right;\">\n",
       "      <th></th>\n",
       "      <th>Unemployment_construction</th>\n",
       "      <th>Hosuing_inventory_units</th>\n",
       "      <th>Saleprice_of_housesold</th>\n",
       "      <th>Construction_spending</th>\n",
       "      <th>Home_vacancy_rate</th>\n",
       "      <th>Housing_price</th>\n",
       "    </tr>\n",
       "  </thead>\n",
       "  <tbody>\n",
       "    <tr>\n",
       "      <th>9</th>\n",
       "      <td>11.3</td>\n",
       "      <td>122632.0</td>\n",
       "      <td>209500</td>\n",
       "      <td>503659</td>\n",
       "      <td>1.700000</td>\n",
       "      <td>141.646</td>\n",
       "    </tr>\n",
       "    <tr>\n",
       "      <th>10</th>\n",
       "      <td>11.6</td>\n",
       "      <td>122632.0</td>\n",
       "      <td>219600</td>\n",
       "      <td>505081</td>\n",
       "      <td>1.716667</td>\n",
       "      <td>143.192</td>\n",
       "    </tr>\n",
       "    <tr>\n",
       "      <th>11</th>\n",
       "      <td>11.3</td>\n",
       "      <td>122632.0</td>\n",
       "      <td>209600</td>\n",
       "      <td>511829</td>\n",
       "      <td>1.733333</td>\n",
       "      <td>145.058</td>\n",
       "    </tr>\n",
       "    <tr>\n",
       "      <th>...</th>\n",
       "      <td>...</td>\n",
       "      <td>...</td>\n",
       "      <td>...</td>\n",
       "      <td>...</td>\n",
       "      <td>...</td>\n",
       "      <td>...</td>\n",
       "    </tr>\n",
       "    <tr>\n",
       "      <th>237</th>\n",
       "      <td>6.9</td>\n",
       "      <td>144287.0</td>\n",
       "      <td>432100</td>\n",
       "      <td>851235</td>\n",
       "      <td>0.800000</td>\n",
       "      <td>296.064</td>\n",
       "    </tr>\n",
       "    <tr>\n",
       "      <th>238</th>\n",
       "      <td>6.6</td>\n",
       "      <td>144287.0</td>\n",
       "      <td>445700</td>\n",
       "      <td>851533</td>\n",
       "      <td>0.800000</td>\n",
       "      <td>296.926</td>\n",
       "    </tr>\n",
       "    <tr>\n",
       "      <th>239</th>\n",
       "      <td>5.6</td>\n",
       "      <td>144287.0</td>\n",
       "      <td>455800</td>\n",
       "      <td>851460</td>\n",
       "      <td>0.800000</td>\n",
       "      <td>298.166</td>\n",
       "    </tr>\n",
       "  </tbody>\n",
       "</table>\n",
       "<p>231 rows × 6 columns</p>\n",
       "</div>"
      ],
      "text/plain": [
       "     Unemployment_construction  Hosuing_inventory_units  \\\n",
       "9                         11.3                 122632.0   \n",
       "10                        11.6                 122632.0   \n",
       "11                        11.3                 122632.0   \n",
       "..                         ...                      ...   \n",
       "237                        6.9                 144287.0   \n",
       "238                        6.6                 144287.0   \n",
       "239                        5.6                 144287.0   \n",
       "\n",
       "     Saleprice_of_housesold  Construction_spending  Home_vacancy_rate  \\\n",
       "9                    209500                 503659           1.700000   \n",
       "10                   219600                 505081           1.716667   \n",
       "11                   209600                 511829           1.733333   \n",
       "..                      ...                    ...                ...   \n",
       "237                  432100                 851235           0.800000   \n",
       "238                  445700                 851533           0.800000   \n",
       "239                  455800                 851460           0.800000   \n",
       "\n",
       "     Housing_price  \n",
       "9          141.646  \n",
       "10         143.192  \n",
       "11         145.058  \n",
       "..             ...  \n",
       "237        296.064  \n",
       "238        296.926  \n",
       "239        298.166  \n",
       "\n",
       "[231 rows x 6 columns]"
      ]
     },
     "execution_count": 50,
     "metadata": {},
     "output_type": "execute_result"
    }
   ],
   "source": [
    "df1"
   ]
  },
  {
   "cell_type": "markdown",
   "id": "cc90d4eb",
   "metadata": {},
   "source": [
    "# Section 5 - Model Building"
   ]
  },
  {
   "cell_type": "markdown",
   "id": "f2545859",
   "metadata": {},
   "source": [
    "* Lets go with linear regression since problem statement is regression "
   ]
  },
  {
   "cell_type": "code",
   "execution_count": 51,
   "id": "8440f065",
   "metadata": {},
   "outputs": [
    {
     "name": "stdout",
     "output_type": "stream",
     "text": [
      "Mean Squared Error: 33.24295470681893\n",
      "R2-squared: 0.9771655299092303\n",
      "Adjusted R2-squared: 0.9743808384347462\n"
     ]
    }
   ],
   "source": [
    "X = df1.drop('Housing_price',axis=1)  \n",
    "y = df1['Housing_price'] \n",
    "\n",
    "\n",
    "X_train, X_test, y_train, y_test = train_test_split(X, y, test_size=0.2, random_state=42)\n",
    "\n",
    "model = LinearRegression()\n",
    "model.fit(X_train, y_train)\n",
    "\n",
    "y_pred = model.predict(X_test)\n",
    "mse = mean_squared_error(y_test, y_pred)\n",
    "r2 = r2_score(y_test, y_pred)\n",
    "\n",
    "\n",
    "n = X_test.shape[1]\n",
    "N = len(X_test)\n",
    "adj_r2 = 1 - (1 - r2) * (N - 1) / (N - n - 1)\n",
    "\n",
    "\n",
    "print('Mean Squared Error:', mse)\n",
    "print('R2-squared:', r2)\n",
    "print('Adjusted R2-squared:', adj_r2)"
   ]
  },
  {
   "cell_type": "markdown",
   "id": "572a6978",
   "metadata": {},
   "source": [
    "MODEL RESULT : The adjusted R2-squared value of 0.9743 indicates that approximately 97.43% of the variability in the house prices can be explained by the independent variables included in the linear regression model. This implies that the chosen independent variables have a strong influence on the predicted house prices."
   ]
  },
  {
   "cell_type": "code",
   "execution_count": 52,
   "id": "1b4c582f",
   "metadata": {},
   "outputs": [],
   "source": [
    "residuals = y_test - y_pred"
   ]
  },
  {
   "cell_type": "code",
   "execution_count": 53,
   "id": "5ea84377",
   "metadata": {},
   "outputs": [
    {
     "name": "stdout",
     "output_type": "stream",
     "text": [
      "training_r2_score : 0.9816137395507585\n"
     ]
    }
   ],
   "source": [
    "training_r2_score = model.score(X_train, y_train)\n",
    "\n",
    "print('training_r2_score :',training_r2_score )"
   ]
  },
  {
   "cell_type": "markdown",
   "id": "c6932803",
   "metadata": {},
   "source": [
    "* our traing score is perfect, it clearly states, there is no over fitting "
   ]
  },
  {
   "cell_type": "code",
   "execution_count": 54,
   "id": "0ef7dd68",
   "metadata": {},
   "outputs": [
    {
     "name": "stdout",
     "output_type": "stream",
     "text": [
      "                            OLS Regression Results                            \n",
      "==============================================================================\n",
      "Dep. Variable:          Housing_price   R-squared:                       0.975\n",
      "Model:                            OLS   Adj. R-squared:                  0.966\n",
      "Method:                 Least Squares   F-statistic:                     103.4\n",
      "Date:                Tue, 04 Jul 2023   Prob (F-statistic):           5.35e-10\n",
      "Time:                        11:42:44   Log-Likelihood:                -60.201\n",
      "No. Observations:                  19   AIC:                             132.4\n",
      "Df Residuals:                      13   BIC:                             138.1\n",
      "Df Model:                           5                                         \n",
      "Covariance Type:            nonrobust                                         \n",
      "=============================================================================================\n",
      "                                coef    std err          t      P>|t|      [0.025      0.975]\n",
      "---------------------------------------------------------------------------------------------\n",
      "const                      -477.9488    125.067     -3.822      0.002    -748.140    -207.757\n",
      "Unemployment_construction     0.3510      0.483      0.727      0.480      -0.693       1.395\n",
      "Hosuing_inventory_units       0.0040      0.001      3.643      0.003       0.002       0.006\n",
      "Saleprice_of_housesold     1.265e-05      0.000      0.089      0.930      -0.000       0.000\n",
      "Construction_spending         0.0002   2.89e-05      6.327      0.000       0.000       0.000\n",
      "Home_vacancy_rate            15.4032      4.913      3.135      0.008       4.790      26.017\n",
      "==============================================================================\n",
      "Omnibus:                        0.067   Durbin-Watson:                   1.717\n",
      "Prob(Omnibus):                  0.967   Jarque-Bera (JB):                0.237\n",
      "Skew:                          -0.113   Prob(JB):                        0.888\n",
      "Kurtosis:                       2.502   Cond. No.                     4.68e+07\n",
      "==============================================================================\n",
      "\n",
      "Notes:\n",
      "[1] Standard Errors assume that the covariance matrix of the errors is correctly specified.\n",
      "[2] The condition number is large, 4.68e+07. This might indicate that there are\n",
      "strong multicollinearity or other numerical problems.\n"
     ]
    },
    {
     "name": "stderr",
     "output_type": "stream",
     "text": [
      "C:\\Users\\nikhi\\anaconda3\\lib\\site-packages\\scipy\\stats\\_stats_py.py:1772: UserWarning:\n",
      "\n",
      "kurtosistest only valid for n>=20 ... continuing anyway, n=19\n",
      "\n"
     ]
    }
   ],
   "source": [
    "df = df.apply(pd.to_numeric, errors='coerce').dropna()\n",
    "\n",
    "X = sm.add_constant(df[['Unemployment_construction', 'Hosuing_inventory_units','Saleprice_of_housesold', 'Construction_spending', 'Home_vacancy_rate']])\n",
    "y = df['Housing_price']\n",
    "\n",
    "model = sm.OLS(y, X)\n",
    "results = model.fit()\n",
    "\n",
    "summary = results.summary()\n",
    "print(summary)"
   ]
  },
  {
   "cell_type": "markdown",
   "id": "d552a1d7",
   "metadata": {},
   "source": [
    "### Homoscedasticity"
   ]
  },
  {
   "cell_type": "code",
   "execution_count": 55,
   "id": "4cb7441f",
   "metadata": {},
   "outputs": [
    {
     "data": {
      "image/png": "[encoded data removed]",
      "text/plain": [
       "<Figure size 640x480 with 1 Axes>"
      ]
     },
     "metadata": {},
     "output_type": "display_data"
    }
   ],
   "source": [
    "plt.scatter(y_test, residuals)\n",
    "plt.xlabel(\"Fitted values\")\n",
    "plt.ylabel(\"Residuals\")\n",
    "plt.title(\"Residual plot\")\n",
    "plt.show()"
   ]
  },
  {
   "cell_type": "markdown",
   "id": "b545d871",
   "metadata": {},
   "source": [
    "* we can clearly oberserve that, our data follows homoscedasticity"
   ]
  },
  {
   "cell_type": "markdown",
   "id": "d7270e75",
   "metadata": {},
   "source": [
    "### Multicollinearity"
   ]
  },
  {
   "cell_type": "code",
   "execution_count": 59,
   "id": "114e221e",
   "metadata": {},
   "outputs": [
    {
     "name": "stdout",
     "output_type": "stream",
     "text": [
      "                    Variable          VIF\n",
      "0                      const  6146.433658\n",
      "1  Unemployment_construction     2.562970\n",
      "2    Hosuing_inventory_units    13.987227\n",
      "3     Saleprice_of_housesold    27.003559\n",
      "4      Construction_spending     9.583675\n",
      "5          Home_vacancy_rate     3.327159\n"
     ]
    }
   ],
   "source": [
    "vif = pd.DataFrame()\n",
    "vif[\"Variable\"] = X.columns\n",
    "vif[\"VIF\"] = [variance_inflation_factor(X.values, i) for i in range(X.shape[1])]\n",
    "\n",
    "print(vif)"
   ]
  },
  {
   "cell_type": "markdown",
   "id": "5c775e15",
   "metadata": {},
   "source": [
    "* Haha, unfortunately, our data as multicollinearity, this is very much common while dealing with home price predictions, This can be solved easily by dropping high VIF score featues or applying the ridge regression or PCA, it was just human tendancy for me to have as many features as possible thinking if i have more data, i can build a good model, We can easily deal with multicollinearity, while we solving the problem at micro level( individual analysis for each state or city)"
   ]
  },
  {
   "cell_type": "markdown",
   "id": "cb82bd33",
   "metadata": {},
   "source": [
    "### Normality "
   ]
  },
  {
   "cell_type": "code",
   "execution_count": 57,
   "id": "d43dd7cb",
   "metadata": {},
   "outputs": [
    {
     "data": {
      "text/plain": [
       "<seaborn.axisgrid.FacetGrid at 0x1f3ebd10490>"
      ]
     },
     "execution_count": 57,
     "metadata": {},
     "output_type": "execute_result"
    },
    {
     "data": {
      "image/png": "[encoded data removed]",
      "text/plain": [
       "<Figure size 500x500 with 1 Axes>"
      ]
     },
     "metadata": {},
     "output_type": "display_data"
    }
   ],
   "source": [
    "sns.displot(residuals,kind='kde')"
   ]
  },
  {
   "cell_type": "markdown",
   "id": "15cff3f1",
   "metadata": {},
   "source": [
    "* overall our data had normal distribution"
   ]
  },
  {
   "cell_type": "markdown",
   "id": "5538aae3",
   "metadata": {},
   "source": [
    "# Influence of factors"
   ]
  },
  {
   "cell_type": "markdown",
   "id": "bb12664c",
   "metadata": {},
   "source": [
    "1 - Unemployment_construction vs. Housing_price: The correlation coefficient of -0.5878 suggests a moderate negative correlation between unemployment in the construction industry and housing prices. This implies that as the unemployment rate in the construction sector increases, housing prices tend to decrease to some extent.\n",
    "\n",
    "2 - Hosuing_inventory_units vs. Housing_price: The correlation coefficient of 0.7473 indicates a strong positive correlation between housing inventory units and housing prices. This suggests that as the number of housing inventory units increases, housing prices also tend to increase. It implies that limited housing supply can lead to higher prices.\n",
    "\n",
    "3 - Saleprice_of_housesold vs. Housing_price: The correlation coefficient of 0.9341 represents a very strong positive correlation between the sale price of houses sold and housing prices. This suggests that as the sale prices of houses increase, housing prices also tend to increase significantly. It indicates a direct relationship between the sale prices of houses and the overall housing market.\n",
    "\n",
    "4 - Construction_spending vs. Housing_price: The correlation coefficient of 0.9042 indicates a strong positive correlation between construction spending and housing prices. This implies that as construction spending increases, housing prices also tend to increase. It suggests that investment in construction activities contributes to the growth and appreciation of housing prices.\n",
    "\n",
    "5 - Home_vacancy_rate vs. Housing_price: The correlation coefficient of -0.7713 represents a strong negative correlation between the home vacancy rate and housing prices. This implies that as the home vacancy rate increases, housing prices tend to decrease. It suggests that a high number of vacant homes can put downward pressure on housing prices."
   ]
  },
  {
   "cell_type": "markdown",
   "id": "f09597de",
   "metadata": {},
   "source": [
    "# Thank You"
   ]
  },
  {
   "cell_type": "code",
   "execution_count": null,
   "id": "267ddb8f",
   "metadata": {},
   "outputs": [],
   "source": []
  }
 ],
 "metadata": {
  "kernelspec": {
   "display_name": "Python 3 (ipykernel)",
   "language": "python",
   "name": "python3"
  },
  "language_info": {
   "codemirror_mode": {
    "name": "ipython",
    "version": 3
   },
   "file_extension": ".py",
   "mimetype": "text/x-python",
   "name": "python",
   "nbconvert_exporter": "python",
   "pygments_lexer": "ipython3",
   "version": "3.9.16"
  }
 },
 "nbformat": 4,
 "nbformat_minor": 5
}
